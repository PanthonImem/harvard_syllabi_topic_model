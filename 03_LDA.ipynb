{
 "cells": [
  {
   "cell_type": "code",
   "execution_count": 62,
   "id": "ac7e052f-f149-4a22-962a-84d7937afe30",
   "metadata": {},
   "outputs": [
    {
     "name": "stderr",
     "output_type": "stream",
     "text": [
      "[nltk_data] Downloading package stopwords to\n",
      "[nltk_data]     /Users/mafuangimemkamon/nltk_data...\n",
      "[nltk_data]   Package stopwords is already up-to-date!\n",
      "[nltk_data] Downloading package punkt to\n",
      "[nltk_data]     /Users/mafuangimemkamon/nltk_data...\n",
      "[nltk_data]   Package punkt is already up-to-date!\n",
      "[nltk_data] Downloading package wordnet to\n",
      "[nltk_data]     /Users/mafuangimemkamon/nltk_data...\n",
      "[nltk_data]   Package wordnet is already up-to-date!\n"
     ]
    },
    {
     "data": {
      "text/plain": [
       "True"
      ]
     },
     "execution_count": 62,
     "metadata": {},
     "output_type": "execute_result"
    }
   ],
   "source": [
    "from sklearn.feature_extraction.text import CountVectorizer\n",
    "from sklearn.decomposition import LatentDirichletAllocation\n",
    "from nltk.corpus import stopwords\n",
    "from nltk.tokenize import word_tokenize\n",
    "from nltk.stem import WordNetLemmatizer\n",
    "import nltk\n",
    "\n",
    "# Download NLTK resources if not already downloaded\n",
    "nltk.download('stopwords')\n",
    "nltk.download('punkt')\n",
    "nltk.download('wordnet')"
   ]
  },
  {
   "cell_type": "code",
   "execution_count": 63,
   "id": "8f838abd-1b77-4db3-87d2-d230d2eea01f",
   "metadata": {},
   "outputs": [
    {
     "data": {
      "text/html": [
       "<div>\n",
       "<style scoped>\n",
       "    .dataframe tbody tr th:only-of-type {\n",
       "        vertical-align: middle;\n",
       "    }\n",
       "\n",
       "    .dataframe tbody tr th {\n",
       "        vertical-align: top;\n",
       "    }\n",
       "\n",
       "    .dataframe thead th {\n",
       "        text-align: right;\n",
       "    }\n",
       "</style>\n",
       "<table border=\"1\" class=\"dataframe\">\n",
       "  <thead>\n",
       "    <tr style=\"text-align: right;\">\n",
       "      <th></th>\n",
       "      <th>filename</th>\n",
       "      <th>text</th>\n",
       "      <th>cleaned_text</th>\n",
       "    </tr>\n",
       "  </thead>\n",
       "  <tbody>\n",
       "    <tr>\n",
       "      <th>0</th>\n",
       "      <td>IGA 451M - 2020 Spring 1 (170371).pdf</td>\n",
       "      <td>IGA-451M: CONTROVERSIES IN CLIMATE, ENERGY \\n&amp;...</td>\n",
       "      <td>IGA-451M: CONTROVERSIES IN CLIMATE, ENERGY &amp; T...</td>\n",
       "    </tr>\n",
       "    <tr>\n",
       "      <th>1</th>\n",
       "      <td>STAT 123 - 2022 Spring (126048).pdf</td>\n",
       "      <td>Thank\\tyou\\tfor\\ttaking\\tStat\\t123\\t2022,\\tQua...</td>\n",
       "      <td>Thank you for taking Stat 123 2022, Quantitati...</td>\n",
       "    </tr>\n",
       "    <tr>\n",
       "      <th>2</th>\n",
       "      <td>STAT 364 - 2022 Spring (214539).pdf</td>\n",
       "      <td>Stat364 : Scalable Statistical Inference for B...</td>\n",
       "      <td>Stat364 : Scalable Statistical Inference for B...</td>\n",
       "    </tr>\n",
       "    <tr>\n",
       "      <th>3</th>\n",
       "      <td>PSY 2030 - 2021 Fall (160667).pdf</td>\n",
       "      <td>Bayesian Data Analysis\\nPsych 2030 { Fall 2021...</td>\n",
       "      <td>Bayesian Data Analysis Psych 2030 { Fall 2021 ...</td>\n",
       "    </tr>\n",
       "    <tr>\n",
       "      <th>4</th>\n",
       "      <td>EPI 224 - 2024 Fall 2 (190291).pdf</td>\n",
       "      <td>\\nEPI224 Cancer Prevention (2023 Fall 2)  Syl...</td>\n",
       "      <td>EPI224 Cancer Prevention (2023 Fall 2) Syllab...</td>\n",
       "    </tr>\n",
       "    <tr>\n",
       "      <th>...</th>\n",
       "      <td>...</td>\n",
       "      <td>...</td>\n",
       "      <td>...</td>\n",
       "    </tr>\n",
       "    <tr>\n",
       "      <th>242</th>\n",
       "      <td>STAT 171 - 2024 Spring (113721).pdf</td>\n",
       "      <td>Statistics 171: Stochastic Processes, Spring 2...</td>\n",
       "      <td>Statistics 171: Stochastic Processes, Spring 2...</td>\n",
       "    </tr>\n",
       "    <tr>\n",
       "      <th>245</th>\n",
       "      <td>STAT 139 - 2024 Fall (110751).pdf</td>\n",
       "      <td>STAT 139: Introduction to Linear Models\\nFall ...</td>\n",
       "      <td>STAT 139: Introduction to Linear Models Fall 2...</td>\n",
       "    </tr>\n",
       "    <tr>\n",
       "      <th>246</th>\n",
       "      <td>STAT 221 - 2020 Fall (115077).pdf</td>\n",
       "      <td>Fall 2020\\nSTAT 221: Computational Tools for S...</td>\n",
       "      <td>Fall 2020 STAT 221: Computational Tools for St...</td>\n",
       "    </tr>\n",
       "    <tr>\n",
       "      <th>247</th>\n",
       "      <td>BIOSTAT 241_BST 241 - 2024 Spring (190066).pdf</td>\n",
       "      <td>BST 241/ BIOSTAT 241: Inference II\\n Spring 2...</td>\n",
       "      <td>BST 241/ BIOSTAT 241: Inference II Spring 202...</td>\n",
       "    </tr>\n",
       "    <tr>\n",
       "      <th>248</th>\n",
       "      <td>SYSBIO 220QC - 2020 Spring 1 (204480).pdf</td>\n",
       "      <td>SB220/SB221 Syllabus  \\n \\nSB220  \\n12 classes...</td>\n",
       "      <td>SB220/SB221 Syllabus SB220 12 classes Week Dat...</td>\n",
       "    </tr>\n",
       "  </tbody>\n",
       "</table>\n",
       "<p>148 rows × 3 columns</p>\n",
       "</div>"
      ],
      "text/plain": [
       "                                           filename  \\\n",
       "0             IGA 451M - 2020 Spring 1 (170371).pdf   \n",
       "1               STAT 123 - 2022 Spring (126048).pdf   \n",
       "2               STAT 364 - 2022 Spring (214539).pdf   \n",
       "3                 PSY 2030 - 2021 Fall (160667).pdf   \n",
       "4                EPI 224 - 2024 Fall 2 (190291).pdf   \n",
       "..                                              ...   \n",
       "242             STAT 171 - 2024 Spring (113721).pdf   \n",
       "245               STAT 139 - 2024 Fall (110751).pdf   \n",
       "246               STAT 221 - 2020 Fall (115077).pdf   \n",
       "247  BIOSTAT 241_BST 241 - 2024 Spring (190066).pdf   \n",
       "248       SYSBIO 220QC - 2020 Spring 1 (204480).pdf   \n",
       "\n",
       "                                                  text  \\\n",
       "0    IGA-451M: CONTROVERSIES IN CLIMATE, ENERGY \\n&...   \n",
       "1    Thank\\tyou\\tfor\\ttaking\\tStat\\t123\\t2022,\\tQua...   \n",
       "2    Stat364 : Scalable Statistical Inference for B...   \n",
       "3    Bayesian Data Analysis\\nPsych 2030 { Fall 2021...   \n",
       "4     \\nEPI224 Cancer Prevention (2023 Fall 2)  Syl...   \n",
       "..                                                 ...   \n",
       "242  Statistics 171: Stochastic Processes, Spring 2...   \n",
       "245  STAT 139: Introduction to Linear Models\\nFall ...   \n",
       "246  Fall 2020\\nSTAT 221: Computational Tools for S...   \n",
       "247   BST 241/ BIOSTAT 241: Inference II\\n Spring 2...   \n",
       "248  SB220/SB221 Syllabus  \\n \\nSB220  \\n12 classes...   \n",
       "\n",
       "                                          cleaned_text  \n",
       "0    IGA-451M: CONTROVERSIES IN CLIMATE, ENERGY & T...  \n",
       "1    Thank you for taking Stat 123 2022, Quantitati...  \n",
       "2    Stat364 : Scalable Statistical Inference for B...  \n",
       "3    Bayesian Data Analysis Psych 2030 { Fall 2021 ...  \n",
       "4     EPI224 Cancer Prevention (2023 Fall 2) Syllab...  \n",
       "..                                                 ...  \n",
       "242  Statistics 171: Stochastic Processes, Spring 2...  \n",
       "245  STAT 139: Introduction to Linear Models Fall 2...  \n",
       "246  Fall 2020 STAT 221: Computational Tools for St...  \n",
       "247   BST 241/ BIOSTAT 241: Inference II Spring 202...  \n",
       "248  SB220/SB221 Syllabus SB220 12 classes Week Dat...  \n",
       "\n",
       "[148 rows x 3 columns]"
      ]
     },
     "execution_count": 63,
     "metadata": {},
     "output_type": "execute_result"
    }
   ],
   "source": [
    "df = pd.read_csv('processed_data/stat_courses.csv')\n",
    "df = df[df['filename'].str.contains('STAT')|df['text'].str.lower().str.contains('statistics')]\n",
    "df\n"
   ]
  },
  {
   "cell_type": "code",
   "execution_count": 64,
   "id": "8c3f333e-a623-4b3b-8c9c-fd2d0ecdfcd7",
   "metadata": {},
   "outputs": [],
   "source": [
    "documents = df['cleaned_text'].values"
   ]
  },
  {
   "cell_type": "code",
   "execution_count": 71,
   "id": "8a068a4a-39a9-468e-93a1-1091d9ca1e50",
   "metadata": {},
   "outputs": [
    {
     "name": "stdout",
     "output_type": "stream",
     "text": [
      "2399.470018092583\n",
      "Topic 1:  ['change', 'care', 'education', 'public', 'class', 'reading', 'policy', 'climate', 'http', 'health']\n",
      "Topic 2:  ['homework', 'final', 'work', 'lecture', 'problem', 'data', 'assignment', 'class', 'student', 'course']\n",
      "Topic 3:  ['database', 'group', 'question', 'reading', 'analysis', 'data', 'student', 'week', 'project', 'course']\n",
      "Topic 4:  ['meeting', 'paper', 'intervention', 'problem', 'child', 'page', 'economic', 'reading', 'law', 'economics']\n",
      "Topic 5:  ['learning', 'health', 'case', 'lecture', 'assignment', 'reading', 'section', 'text', 'http', 'data']\n",
      "Topic 6:  ['power', 'screening', 'canadian', 'toronto', 'mining', 'prevention', 'university', 'press', 'canada', 'cancer']\n"
     ]
    }
   ],
   "source": [
    "# Preprocess the data\n",
    "stop_words = set(stopwords.words('english'))\n",
    "lemmatizer = WordNetLemmatizer()\n",
    "\n",
    "def preprocess(text):\n",
    "    tokens = word_tokenize(text.lower())  # Tokenize and lowercase\n",
    "    tokens = [lemmatizer.lemmatize(token) for token in tokens if token.isalpha()]  # Lemmatize and remove non-alphabetic tokens\n",
    "    tokens = [token for token in tokens if token not in stop_words]  # Remove stop words\n",
    "    return ' '.join(tokens)  # Join tokens back into a single string\n",
    "\n",
    "# Preprocess each document\n",
    "processed_docs = [preprocess(doc) for doc in documents]\n",
    "\n",
    "# Convert documents to a matrix of token counts\n",
    "vectorizer = CountVectorizer()\n",
    "X = vectorizer.fit_transform(processed_docs)\n",
    "\n",
    "# Train the LDA model\n",
    "num_topics = 6\n",
    "lda_model = LatentDirichletAllocation(n_components=num_topics, random_state=42, max_iter=100)\n",
    "lda_model.fit(X)\n",
    "print(lda_model.perplexity(X))\n",
    "\n",
    "# Display the topics\n",
    "feature_names = vectorizer.get_feature_names_out()\n",
    "for idx, topic in enumerate(lda_model.components_):\n",
    "    print(f\"Topic {idx + 1}: \", [feature_names[i] for i in topic.argsort()[-10:]])"
   ]
  },
  {
   "cell_type": "code",
   "execution_count": 72,
   "id": "38edb32a-706a-4a3e-9c84-9906218a2456",
   "metadata": {},
   "outputs": [],
   "source": [
    "import numpy as np\n",
    "import matplotlib.pyplot as plt\n",
    "from sklearn.decomposition import LatentDirichletAllocation, PCA\n",
    "from sklearn.feature_extraction.text import CountVectorizer\n",
    "from sklearn.preprocessing import StandardScaler\n",
    "# Step 3: Get topic distribution for each document\n",
    "topic_distribution = lda_model.transform(X)\n",
    "\n",
    "# Step 4: Perform PCA to reduce to 2D for visualization\n",
    "pca = PCA(n_components=2)\n",
    "topic_distribution_2d = pca.fit_transform(topic_distribution)"
   ]
  },
  {
   "cell_type": "code",
   "execution_count": 73,
   "id": "342de7a7-048f-4294-b011-84a8a61b2ad9",
   "metadata": {},
   "outputs": [
    {
     "data": {
      "application/vnd.plotly.v1+json": {
       "config": {
        "plotlyServerURL": "https://plot.ly"
       },
       "data": [
        {
         "marker": {
          "color": "blue",
          "size": 10
         },
         "mode": "markers+text",
         "text": [
          "IGA 451M ",
          "STAT 123 ",
          "STAT 364 ",
          "PSY 2030 ",
          "EPI 224 ",
          "STAT 216 ",
          "BIOSTAT 281_BST 281 ",
          "STAT 114 ",
          "PSY 1019 ",
          "SOCIOL 1156 ",
          "BIOSTAT 258_BST 258 ",
          "SUP 578_SUP 578M ",
          "OEB 137 ",
          "STAT 149 ",
          "MATH 19B ",
          "STAT 213 ",
          "API 205 ",
          "GOV 2001 ",
          "PSY 960 ",
          "STAT 104 ",
          "GOV 1005_GOV 50 ",
          "STAT 220 ",
          "STAT 248 ",
          "STAT 141 ",
          "STAT 149 ",
          "COMPSCI 134 ",
          "STAT 236 ",
          "GHP 213 ",
          "APCOMP 209A_COMPSCI 1090A_COMPSCI 109A_STAT 109A_STAT 121A ",
          "STAT 303HFA ",
          "APCOMP 209B_COMPSCI 109B_STAT 109B_STAT 121B ",
          "STAT 364 ",
          "STAT 141 ",
          "COMPSCI 182 ",
          "BST 257 ",
          "API 205 ",
          "APMTH 221 ",
          "ECON 1343 ",
          "PSY 1900 ",
          "STAT 143 ",
          "STAT 161 ",
          "STAT 131 ",
          "GHP 213 ",
          "GOV 2000_GOV 2000E ",
          "STAT 317 ",
          "API 205 ",
          "ADV 9132 ",
          "STAT 160_STAT 260 ",
          "BIOSTAT 249_BST 249 ",
          "STAT 140 ",
          "STAT 293_STAT 393_STAT 397 ",
          "FRSEMR 24N ",
          "DPI 821M ",
          "STAT 102 ",
          "GOV 1000 ",
          "PSY 1901 ",
          "SOCIOL 90EI ",
          "STAT 111 ",
          "ECON 1036 ",
          "BST 256 ",
          "STAT 195 ",
          "BIOSTAT 282_BST 282_STAT 115_STAT 215 ",
          "STAT 234 ",
          "STAT 117 ",
          "EDU A810 ",
          "ECON 2142 ",
          "STAT 317 ",
          "STAT 388R ",
          "EPI 528 ",
          "BIOPHYS 206 ",
          "STAT 211 ",
          "STAT 291 ",
          "STAT 131 ",
          "STAT 303HFB ",
          "STAT 186 ",
          "EPI 945F ",
          "EPI 286 ",
          "APMTH 207 ",
          "STAT 111 ",
          "STAT 212 ",
          "TDM 180B ",
          "EPI 945S ",
          "EPI 945U ",
          "SBS 245 ",
          "STAT 188 ",
          "BST 260 ",
          "EDU S040 ",
          "GHP 244 ",
          "STAT 107 ",
          "APCOMP 295 ",
          "STAT 108 ",
          "LING 105 ",
          "ENG",
          "MATH 18B_19B ",
          "ECON 2142_STAT 242 ",
          "MATH 19A ",
          "STAT 186 ",
          "ECON 2150 ",
          "GHP 512 ",
          "STAT 221 ",
          "PHYSCI 12A ",
          "STAT 98 ",
          "SYSBIO 220_SYSBIO 320_SYSBIO 320QC ",
          "DEV 210_PED 210 ",
          "EPI 945S ",
          "STAT 160 ",
          "BST 208 ",
          "STAT 288 ",
          "STAT 99R ",
          "STAT 221 ",
          "IGA 145M ",
          "IGA 565_IGA 565M ",
          "MPH 100A_MPH 103 ",
          "STAT 286 ",
          "STAT 217 ",
          "STAT 100 ",
          "ECON 1745 ",
          "EDU S022 ",
          "COMPSCI 183 ",
          "OEB 201 ",
          "HPM 543 ",
          "STAT 185 ",
          "HPM 235 ",
          "SBS 246 ",
          "EPI 945AU ",
          "STAT 195 ",
          "STAT 236 ",
          "SOCIOL 90Z ",
          "GOV 1002 ",
          "COMPSCI 282BR ",
          "STAT 123 ",
          "STAT 109 ",
          "GOV 2003 ",
          "STAT 100 ",
          "STAT 139 ",
          "STAT 236 ",
          "PSY 1617 ",
          "EH 241 ",
          "COMPSCI 333_STAT 333 ",
          "STAT 315 ",
          "STAT 139 ",
          "SYSBIO 220 ",
          "STAT 185 ",
          "STAT 171 ",
          "STAT 139 ",
          "STAT 221 ",
          "BIOSTAT 241_BST 241 ",
          "SYSBIO 220QC "
         ],
         "textposition": "top center",
         "type": "scatter",
         "x": [
          0.870923984561698,
          -0.34966334331738985,
          0.008060127375955108,
          -0.11905047539376626,
          0.3269137541013708,
          -0.1989537088658154,
          0.0015795509748613953,
          -0.34483343168322206,
          -0.353828098432658,
          -0.18448793515350254,
          -0.3540963212739919,
          -0.26479043570558636,
          0.1503597004530125,
          -0.34516143054520526,
          -0.154583851158155,
          -0.21709136121625683,
          0.63068446178386,
          -0.35380932197264336,
          -0.0828751611792088,
          -0.34431819941687575,
          -0.353606565041241,
          -0.2443618813643994,
          -0.09981894876883152,
          -0.35319235769408347,
          -0.24156393005263052,
          -0.2359316521579142,
          -0.10373225549113363,
          0.7040990013001686,
          -0.35373195467233237,
          -0.11042504780290238,
          -0.3510869384828291,
          -0.05998605494492732,
          -0.35331811348155867,
          -0.07352496603630557,
          -0.1815841557775653,
          0.6306803426226382,
          -0.18890277586262486,
          0.38716850069029335,
          -0.35404196014518086,
          0.1531985780539181,
          -0.23607201039676864,
          -0.10684483576798207,
          0.7590310702089826,
          -0.20266825420044965,
          -0.1261689322255909,
          0.6306838093270775,
          0.5446063787057253,
          0.12502364154311277,
          -0.22731724466604022,
          -0.05560676145630173,
          0.10836527276130731,
          0.5893641574587835,
          -0.16039378908528104,
          -0.35376074042831646,
          -0.20266825420044965,
          -0.24310780026975698,
          0.14869439555359282,
          -0.2837558574850643,
          0.004991466653700283,
          -0.16441190564045335,
          -0.35278948649728936,
          -0.017856758101316383,
          -0.2003903470614157,
          -0.17284309300359618,
          0.7358297758697454,
          0.2279791045925599,
          0.22970438793550577,
          -0.280084259976797,
          0.5211092313810118,
          -0.28581975096607787,
          -0.35263642643748294,
          -0.07642069901714817,
          -0.149322493283745,
          -0.16246025050108517,
          -0.35267271486493257,
          0.8330386176141165,
          0.5197859716057424,
          -0.15589086698188065,
          -0.20568841877809443,
          -0.1292357996004657,
          0.39562709511013605,
          0.28995865742518395,
          0.8330319660754757,
          0.2773980844967328,
          -0.3533695471119847,
          0.08855866872577989,
          -0.10599983232037144,
          0.40779304743746153,
          -0.1596055164871167,
          -0.3531810186717692,
          -0.1492471779305925,
          -0.35312968950915036,
          -0.05025940044450686,
          -0.23578930831630793,
          -0.11717623467999772,
          -0.11877881034983952,
          -0.2863127146167932,
          0.12661432761104038,
          0.7714896759815291,
          -0.028572049963876692,
          -0.3534730825149954,
          -0.12133278426976336,
          -0.14920534880261455,
          0.8709070615354813,
          0.8330319660754757,
          -0.08803684570919308,
          -0.114652501825521,
          0.2323653753510945,
          -0.025836574241404574,
          -0.2458390465820822,
          0.5154753128949343,
          0.16168322697846227,
          0.3096160058899716,
          0.43652391975747995,
          -0.23478937926456384,
          -0.3330704374348886,
          0.012182249871804933,
          -0.08571138134973977,
          -0.1835127648558344,
          0.10158206277760459,
          0.32359779461093763,
          -0.3530423453962375,
          0.8689361189571919,
          0.42202178874387425,
          0.8330319660754757,
          -0.15969909140776226,
          -0.009211765140341967,
          0.5639108905371981,
          -0.35380932197264336,
          0.17737221560092972,
          -0.15068939626680192,
          -0.2531674533098465,
          -0.09062265728215403,
          -0.3537435852535561,
          -0.32565108878152715,
          -0.06450519636489645,
          0.15825198768885312,
          0.4132467845266831,
          0.28480464180218634,
          -0.341898501652474,
          -0.35268244797359366,
          -0.015624836154536546,
          -0.3532527062355995,
          -0.14083332406529628,
          -0.35330865373866,
          -0.021813704735753676,
          -0.044856157897299125,
          0.01764588919865213
         ],
         "y": [
          -0.6489161562975851,
          -0.04754194000050461,
          -0.11860164912656514,
          0.10354512133851934,
          0.0813182024315535,
          0.04905052255718786,
          0.18226088225327164,
          -0.041709941005597426,
          -0.04737947226695427,
          0.06169475521176241,
          -0.04736906964901109,
          -0.06263685116258226,
          0.27749140877319844,
          -0.047714096388138734,
          0.0811281951307248,
          -0.07424209206506313,
          -0.24312631279462701,
          -0.04738005326174251,
          -0.020676414843575134,
          -0.049055506600289726,
          -0.047387683779330565,
          -0.06196446006092269,
          -0.038959460333602196,
          -0.04740351924300077,
          -0.053328423963385926,
          -0.06312000441297329,
          -0.09682537674445557,
          -0.29521925766022034,
          -0.04738275752616294,
          0.1096788750400276,
          -0.0456413647169841,
          -0.10506430189455505,
          -0.047398798381149104,
          -0.030757780723232177,
          0.06347311476511615,
          -0.243120529458939,
          -0.06939420370446504,
          -0.2646318089297396,
          -0.047371105059161624,
          0.2738167164700197,
          -0.06988767980229324,
          0.11132969817290321,
          -0.26129498343130864,
          -0.07727453196786933,
          0.09924552418701425,
          -0.2431254592573982,
          -0.09603735232746792,
          0.2228779701104525,
          0.030828943772308267,
          0.14450297721404642,
          0.0276795735377962,
          -0.33078319172737336,
          -0.05850137220079457,
          -0.047381945800357185,
          -0.07727453196786933,
          -0.0022057247154490885,
          0.27714314186790767,
          -0.0029201685781550394,
          -0.09544707915890409,
          0.07022335522744716,
          -0.04741858690199014,
          0.1282460940425636,
          -0.11980031542310131,
          0.06911607018702688,
          -0.5825220604231985,
          -0.12534763227573265,
          -0.3073837424983754,
          -0.05689574979548541,
          0.5182508348780128,
          -0.05473330920368525,
          -0.04742540000099915,
          0.12997883352811584,
          0.08417191957043324,
          0.0753627180415897,
          -0.04742380426335291,
          0.7199017048090455,
          0.466576575510956,
          0.07978317453165426,
          0.04789889104957284,
          0.08032354792180585,
          -0.14784494316241714,
          0.3687290854572261,
          0.7198848977839853,
          -0.06315836225983656,
          -0.04739744784744702,
          0.23848880841966708,
          0.11275994865007065,
          -0.3052210335163382,
          -0.05789066696087895,
          -0.04740346697740009,
          0.08322229878835198,
          -0.04740603352339496,
          -0.014556982586197621,
          0.023535457284799163,
          0.08799448197475518,
          -0.07887002509767588,
          -0.05982032155022483,
          -0.14289848611888578,
          -0.5039034838036673,
          0.16164315863866624,
          -0.04739289625310931,
          0.10204116624754465,
          -0.0872680066206836,
          -0.6488891728629758,
          0.7198848977839853,
          0.12128888464134586,
          0.10640769716731097,
          -0.2862645703067827,
          0.15783221376291834,
          -0.01648805914262672,
          -0.09503028303806701,
          0.06409112825757307,
          0.08410133628481381,
          0.46133256648298404,
          0.0272128773388108,
          -0.034111830519798436,
          -0.16722182192417903,
          0.12592631755712522,
          -0.0700805558897612,
          0.15505280312088965,
          -0.10338984862689576,
          -0.0474092724189796,
          -0.5768568156338448,
          -0.11268257516239782,
          0.7198848977839853,
          0.07744734404297779,
          -0.11510866472814907,
          0.5455509268660323,
          -0.04738005326174251,
          0.29465641133112475,
          -0.14293158925295188,
          0.01740590014753024,
          0.1220294792226297,
          -0.04738239818187316,
          -0.030045152446237355,
          -0.10480163308979744,
          0.23638754127400186,
          -0.11987444288009556,
          -0.334749617297645,
          -0.04964653304391435,
          -0.04742319223636467,
          -0.09242340567639468,
          -0.04740088446780532,
          0.0895796034728074,
          -0.0473989197811999,
          0.16607354923549156,
          0.15197348552608358,
          -0.12089004475320506
         ]
        }
       ],
       "layout": {
        "height": 600,
        "showlegend": false,
        "template": {
         "data": {
          "bar": [
           {
            "error_x": {
             "color": "#2a3f5f"
            },
            "error_y": {
             "color": "#2a3f5f"
            },
            "marker": {
             "line": {
              "color": "#E5ECF6",
              "width": 0.5
             },
             "pattern": {
              "fillmode": "overlay",
              "size": 10,
              "solidity": 0.2
             }
            },
            "type": "bar"
           }
          ],
          "barpolar": [
           {
            "marker": {
             "line": {
              "color": "#E5ECF6",
              "width": 0.5
             },
             "pattern": {
              "fillmode": "overlay",
              "size": 10,
              "solidity": 0.2
             }
            },
            "type": "barpolar"
           }
          ],
          "carpet": [
           {
            "aaxis": {
             "endlinecolor": "#2a3f5f",
             "gridcolor": "white",
             "linecolor": "white",
             "minorgridcolor": "white",
             "startlinecolor": "#2a3f5f"
            },
            "baxis": {
             "endlinecolor": "#2a3f5f",
             "gridcolor": "white",
             "linecolor": "white",
             "minorgridcolor": "white",
             "startlinecolor": "#2a3f5f"
            },
            "type": "carpet"
           }
          ],
          "choropleth": [
           {
            "colorbar": {
             "outlinewidth": 0,
             "ticks": ""
            },
            "type": "choropleth"
           }
          ],
          "contour": [
           {
            "colorbar": {
             "outlinewidth": 0,
             "ticks": ""
            },
            "colorscale": [
             [
              0,
              "#0d0887"
             ],
             [
              0.1111111111111111,
              "#46039f"
             ],
             [
              0.2222222222222222,
              "#7201a8"
             ],
             [
              0.3333333333333333,
              "#9c179e"
             ],
             [
              0.4444444444444444,
              "#bd3786"
             ],
             [
              0.5555555555555556,
              "#d8576b"
             ],
             [
              0.6666666666666666,
              "#ed7953"
             ],
             [
              0.7777777777777778,
              "#fb9f3a"
             ],
             [
              0.8888888888888888,
              "#fdca26"
             ],
             [
              1,
              "#f0f921"
             ]
            ],
            "type": "contour"
           }
          ],
          "contourcarpet": [
           {
            "colorbar": {
             "outlinewidth": 0,
             "ticks": ""
            },
            "type": "contourcarpet"
           }
          ],
          "heatmap": [
           {
            "colorbar": {
             "outlinewidth": 0,
             "ticks": ""
            },
            "colorscale": [
             [
              0,
              "#0d0887"
             ],
             [
              0.1111111111111111,
              "#46039f"
             ],
             [
              0.2222222222222222,
              "#7201a8"
             ],
             [
              0.3333333333333333,
              "#9c179e"
             ],
             [
              0.4444444444444444,
              "#bd3786"
             ],
             [
              0.5555555555555556,
              "#d8576b"
             ],
             [
              0.6666666666666666,
              "#ed7953"
             ],
             [
              0.7777777777777778,
              "#fb9f3a"
             ],
             [
              0.8888888888888888,
              "#fdca26"
             ],
             [
              1,
              "#f0f921"
             ]
            ],
            "type": "heatmap"
           }
          ],
          "heatmapgl": [
           {
            "colorbar": {
             "outlinewidth": 0,
             "ticks": ""
            },
            "colorscale": [
             [
              0,
              "#0d0887"
             ],
             [
              0.1111111111111111,
              "#46039f"
             ],
             [
              0.2222222222222222,
              "#7201a8"
             ],
             [
              0.3333333333333333,
              "#9c179e"
             ],
             [
              0.4444444444444444,
              "#bd3786"
             ],
             [
              0.5555555555555556,
              "#d8576b"
             ],
             [
              0.6666666666666666,
              "#ed7953"
             ],
             [
              0.7777777777777778,
              "#fb9f3a"
             ],
             [
              0.8888888888888888,
              "#fdca26"
             ],
             [
              1,
              "#f0f921"
             ]
            ],
            "type": "heatmapgl"
           }
          ],
          "histogram": [
           {
            "marker": {
             "pattern": {
              "fillmode": "overlay",
              "size": 10,
              "solidity": 0.2
             }
            },
            "type": "histogram"
           }
          ],
          "histogram2d": [
           {
            "colorbar": {
             "outlinewidth": 0,
             "ticks": ""
            },
            "colorscale": [
             [
              0,
              "#0d0887"
             ],
             [
              0.1111111111111111,
              "#46039f"
             ],
             [
              0.2222222222222222,
              "#7201a8"
             ],
             [
              0.3333333333333333,
              "#9c179e"
             ],
             [
              0.4444444444444444,
              "#bd3786"
             ],
             [
              0.5555555555555556,
              "#d8576b"
             ],
             [
              0.6666666666666666,
              "#ed7953"
             ],
             [
              0.7777777777777778,
              "#fb9f3a"
             ],
             [
              0.8888888888888888,
              "#fdca26"
             ],
             [
              1,
              "#f0f921"
             ]
            ],
            "type": "histogram2d"
           }
          ],
          "histogram2dcontour": [
           {
            "colorbar": {
             "outlinewidth": 0,
             "ticks": ""
            },
            "colorscale": [
             [
              0,
              "#0d0887"
             ],
             [
              0.1111111111111111,
              "#46039f"
             ],
             [
              0.2222222222222222,
              "#7201a8"
             ],
             [
              0.3333333333333333,
              "#9c179e"
             ],
             [
              0.4444444444444444,
              "#bd3786"
             ],
             [
              0.5555555555555556,
              "#d8576b"
             ],
             [
              0.6666666666666666,
              "#ed7953"
             ],
             [
              0.7777777777777778,
              "#fb9f3a"
             ],
             [
              0.8888888888888888,
              "#fdca26"
             ],
             [
              1,
              "#f0f921"
             ]
            ],
            "type": "histogram2dcontour"
           }
          ],
          "mesh3d": [
           {
            "colorbar": {
             "outlinewidth": 0,
             "ticks": ""
            },
            "type": "mesh3d"
           }
          ],
          "parcoords": [
           {
            "line": {
             "colorbar": {
              "outlinewidth": 0,
              "ticks": ""
             }
            },
            "type": "parcoords"
           }
          ],
          "pie": [
           {
            "automargin": true,
            "type": "pie"
           }
          ],
          "scatter": [
           {
            "fillpattern": {
             "fillmode": "overlay",
             "size": 10,
             "solidity": 0.2
            },
            "type": "scatter"
           }
          ],
          "scatter3d": [
           {
            "line": {
             "colorbar": {
              "outlinewidth": 0,
              "ticks": ""
             }
            },
            "marker": {
             "colorbar": {
              "outlinewidth": 0,
              "ticks": ""
             }
            },
            "type": "scatter3d"
           }
          ],
          "scattercarpet": [
           {
            "marker": {
             "colorbar": {
              "outlinewidth": 0,
              "ticks": ""
             }
            },
            "type": "scattercarpet"
           }
          ],
          "scattergeo": [
           {
            "marker": {
             "colorbar": {
              "outlinewidth": 0,
              "ticks": ""
             }
            },
            "type": "scattergeo"
           }
          ],
          "scattergl": [
           {
            "marker": {
             "colorbar": {
              "outlinewidth": 0,
              "ticks": ""
             }
            },
            "type": "scattergl"
           }
          ],
          "scattermapbox": [
           {
            "marker": {
             "colorbar": {
              "outlinewidth": 0,
              "ticks": ""
             }
            },
            "type": "scattermapbox"
           }
          ],
          "scatterpolar": [
           {
            "marker": {
             "colorbar": {
              "outlinewidth": 0,
              "ticks": ""
             }
            },
            "type": "scatterpolar"
           }
          ],
          "scatterpolargl": [
           {
            "marker": {
             "colorbar": {
              "outlinewidth": 0,
              "ticks": ""
             }
            },
            "type": "scatterpolargl"
           }
          ],
          "scatterternary": [
           {
            "marker": {
             "colorbar": {
              "outlinewidth": 0,
              "ticks": ""
             }
            },
            "type": "scatterternary"
           }
          ],
          "surface": [
           {
            "colorbar": {
             "outlinewidth": 0,
             "ticks": ""
            },
            "colorscale": [
             [
              0,
              "#0d0887"
             ],
             [
              0.1111111111111111,
              "#46039f"
             ],
             [
              0.2222222222222222,
              "#7201a8"
             ],
             [
              0.3333333333333333,
              "#9c179e"
             ],
             [
              0.4444444444444444,
              "#bd3786"
             ],
             [
              0.5555555555555556,
              "#d8576b"
             ],
             [
              0.6666666666666666,
              "#ed7953"
             ],
             [
              0.7777777777777778,
              "#fb9f3a"
             ],
             [
              0.8888888888888888,
              "#fdca26"
             ],
             [
              1,
              "#f0f921"
             ]
            ],
            "type": "surface"
           }
          ],
          "table": [
           {
            "cells": {
             "fill": {
              "color": "#EBF0F8"
             },
             "line": {
              "color": "white"
             }
            },
            "header": {
             "fill": {
              "color": "#C8D4E3"
             },
             "line": {
              "color": "white"
             }
            },
            "type": "table"
           }
          ]
         },
         "layout": {
          "annotationdefaults": {
           "arrowcolor": "#2a3f5f",
           "arrowhead": 0,
           "arrowwidth": 1
          },
          "autotypenumbers": "strict",
          "coloraxis": {
           "colorbar": {
            "outlinewidth": 0,
            "ticks": ""
           }
          },
          "colorscale": {
           "diverging": [
            [
             0,
             "#8e0152"
            ],
            [
             0.1,
             "#c51b7d"
            ],
            [
             0.2,
             "#de77ae"
            ],
            [
             0.3,
             "#f1b6da"
            ],
            [
             0.4,
             "#fde0ef"
            ],
            [
             0.5,
             "#f7f7f7"
            ],
            [
             0.6,
             "#e6f5d0"
            ],
            [
             0.7,
             "#b8e186"
            ],
            [
             0.8,
             "#7fbc41"
            ],
            [
             0.9,
             "#4d9221"
            ],
            [
             1,
             "#276419"
            ]
           ],
           "sequential": [
            [
             0,
             "#0d0887"
            ],
            [
             0.1111111111111111,
             "#46039f"
            ],
            [
             0.2222222222222222,
             "#7201a8"
            ],
            [
             0.3333333333333333,
             "#9c179e"
            ],
            [
             0.4444444444444444,
             "#bd3786"
            ],
            [
             0.5555555555555556,
             "#d8576b"
            ],
            [
             0.6666666666666666,
             "#ed7953"
            ],
            [
             0.7777777777777778,
             "#fb9f3a"
            ],
            [
             0.8888888888888888,
             "#fdca26"
            ],
            [
             1,
             "#f0f921"
            ]
           ],
           "sequentialminus": [
            [
             0,
             "#0d0887"
            ],
            [
             0.1111111111111111,
             "#46039f"
            ],
            [
             0.2222222222222222,
             "#7201a8"
            ],
            [
             0.3333333333333333,
             "#9c179e"
            ],
            [
             0.4444444444444444,
             "#bd3786"
            ],
            [
             0.5555555555555556,
             "#d8576b"
            ],
            [
             0.6666666666666666,
             "#ed7953"
            ],
            [
             0.7777777777777778,
             "#fb9f3a"
            ],
            [
             0.8888888888888888,
             "#fdca26"
            ],
            [
             1,
             "#f0f921"
            ]
           ]
          },
          "colorway": [
           "#636efa",
           "#EF553B",
           "#00cc96",
           "#ab63fa",
           "#FFA15A",
           "#19d3f3",
           "#FF6692",
           "#B6E880",
           "#FF97FF",
           "#FECB52"
          ],
          "font": {
           "color": "#2a3f5f"
          },
          "geo": {
           "bgcolor": "white",
           "lakecolor": "white",
           "landcolor": "#E5ECF6",
           "showlakes": true,
           "showland": true,
           "subunitcolor": "white"
          },
          "hoverlabel": {
           "align": "left"
          },
          "hovermode": "closest",
          "mapbox": {
           "style": "light"
          },
          "paper_bgcolor": "white",
          "plot_bgcolor": "#E5ECF6",
          "polar": {
           "angularaxis": {
            "gridcolor": "white",
            "linecolor": "white",
            "ticks": ""
           },
           "bgcolor": "#E5ECF6",
           "radialaxis": {
            "gridcolor": "white",
            "linecolor": "white",
            "ticks": ""
           }
          },
          "scene": {
           "xaxis": {
            "backgroundcolor": "#E5ECF6",
            "gridcolor": "white",
            "gridwidth": 2,
            "linecolor": "white",
            "showbackground": true,
            "ticks": "",
            "zerolinecolor": "white"
           },
           "yaxis": {
            "backgroundcolor": "#E5ECF6",
            "gridcolor": "white",
            "gridwidth": 2,
            "linecolor": "white",
            "showbackground": true,
            "ticks": "",
            "zerolinecolor": "white"
           },
           "zaxis": {
            "backgroundcolor": "#E5ECF6",
            "gridcolor": "white",
            "gridwidth": 2,
            "linecolor": "white",
            "showbackground": true,
            "ticks": "",
            "zerolinecolor": "white"
           }
          },
          "shapedefaults": {
           "line": {
            "color": "#2a3f5f"
           }
          },
          "ternary": {
           "aaxis": {
            "gridcolor": "white",
            "linecolor": "white",
            "ticks": ""
           },
           "baxis": {
            "gridcolor": "white",
            "linecolor": "white",
            "ticks": ""
           },
           "bgcolor": "#E5ECF6",
           "caxis": {
            "gridcolor": "white",
            "linecolor": "white",
            "ticks": ""
           }
          },
          "title": {
           "x": 0.05
          },
          "xaxis": {
           "automargin": true,
           "gridcolor": "white",
           "linecolor": "white",
           "ticks": "",
           "title": {
            "standoff": 15
           },
           "zerolinecolor": "white",
           "zerolinewidth": 2
          },
          "yaxis": {
           "automargin": true,
           "gridcolor": "white",
           "linecolor": "white",
           "ticks": "",
           "title": {
            "standoff": 15
           },
           "zerolinecolor": "white",
           "zerolinewidth": 2
          }
         }
        },
        "title": {
         "text": "Topic Distribution of Documents (PCA-reduced)"
        },
        "width": 1000,
        "xaxis": {
         "autorange": true,
         "range": [
          -0.4335949490568729,
          0.9504226123445789
         ],
         "title": {
          "text": "Principal Component 1"
         },
         "type": "linear"
        },
        "yaxis": {
         "autorange": true,
         "range": [
          -0.7509689243281068,
          0.8219544728395671
         ],
         "title": {
          "text": "Principal Component 2"
         },
         "type": "linear"
        }
       }
      },
      "image/png": "[encoded data removed]",
      "text/html": [
       "<div>                            <div id=\"5950d6b7-99e6-4355-81e1-0554dfc2c8ed\" class=\"plotly-graph-div\" style=\"height:600px; width:1000px;\"></div>            <script type=\"text/javascript\">                require([\"plotly\"], function(Plotly) {                    window.PLOTLYENV=window.PLOTLYENV || {};                                    if (document.getElementById(\"5950d6b7-99e6-4355-81e1-0554dfc2c8ed\")) {                    Plotly.newPlot(                        \"5950d6b7-99e6-4355-81e1-0554dfc2c8ed\",                        [{\"marker\":{\"color\":\"blue\",\"size\":10},\"mode\":\"markers+text\",\"text\":[\"IGA 451M \",\"STAT 123 \",\"STAT 364 \",\"PSY 2030 \",\"EPI 224 \",\"STAT 216 \",\"BIOSTAT 281_BST 281 \",\"STAT 114 \",\"PSY 1019 \",\"SOCIOL 1156 \",\"BIOSTAT 258_BST 258 \",\"SUP 578_SUP 578M \",\"OEB 137 \",\"STAT 149 \",\"MATH 19B \",\"STAT 213 \",\"API 205 \",\"GOV 2001 \",\"PSY 960 \",\"STAT 104 \",\"GOV 1005_GOV 50 \",\"STAT 220 \",\"STAT 248 \",\"STAT 141 \",\"STAT 149 \",\"COMPSCI 134 \",\"STAT 236 \",\"GHP 213 \",\"APCOMP 209A_COMPSCI 1090A_COMPSCI 109A_STAT 109A_STAT 121A \",\"STAT 303HFA \",\"APCOMP 209B_COMPSCI 109B_STAT 109B_STAT 121B \",\"STAT 364 \",\"STAT 141 \",\"COMPSCI 182 \",\"BST 257 \",\"API 205 \",\"APMTH 221 \",\"ECON 1343 \",\"PSY 1900 \",\"STAT 143 \",\"STAT 161 \",\"STAT 131 \",\"GHP 213 \",\"GOV 2000_GOV 2000E \",\"STAT 317 \",\"API 205 \",\"ADV 9132 \",\"STAT 160_STAT 260 \",\"BIOSTAT 249_BST 249 \",\"STAT 140 \",\"STAT 293_STAT 393_STAT 397 \",\"FRSEMR 24N \",\"DPI 821M \",\"STAT 102 \",\"GOV 1000 \",\"PSY 1901 \",\"SOCIOL 90EI \",\"STAT 111 \",\"ECON 1036 \",\"BST 256 \",\"STAT 195 \",\"BIOSTAT 282_BST 282_STAT 115_STAT 215 \",\"STAT 234 \",\"STAT 117 \",\"EDU A810 \",\"ECON 2142 \",\"STAT 317 \",\"STAT 388R \",\"EPI 528 \",\"BIOPHYS 206 \",\"STAT 211 \",\"STAT 291 \",\"STAT 131 \",\"STAT 303HFB \",\"STAT 186 \",\"EPI 945F \",\"EPI 286 \",\"APMTH 207 \",\"STAT 111 \",\"STAT 212 \",\"TDM 180B \",\"EPI 945S \",\"EPI 945U \",\"SBS 245 \",\"STAT 188 \",\"BST 260 \",\"EDU S040 \",\"GHP 244 \",\"STAT 107 \",\"APCOMP 295 \",\"STAT 108 \",\"LING 105 \",\"ENG\",\"MATH 18B_19B \",\"ECON 2142_STAT 242 \",\"MATH 19A \",\"STAT 186 \",\"ECON 2150 \",\"GHP 512 \",\"STAT 221 \",\"PHYSCI 12A \",\"STAT 98 \",\"SYSBIO 220_SYSBIO 320_SYSBIO 320QC \",\"DEV 210_PED 210 \",\"EPI 945S \",\"STAT 160 \",\"BST 208 \",\"STAT 288 \",\"STAT 99R \",\"STAT 221 \",\"IGA 145M \",\"IGA 565_IGA 565M \",\"MPH 100A_MPH 103 \",\"STAT 286 \",\"STAT 217 \",\"STAT 100 \",\"ECON 1745 \",\"EDU S022 \",\"COMPSCI 183 \",\"OEB 201 \",\"HPM 543 \",\"STAT 185 \",\"HPM 235 \",\"SBS 246 \",\"EPI 945AU \",\"STAT 195 \",\"STAT 236 \",\"SOCIOL 90Z \",\"GOV 1002 \",\"COMPSCI 282BR \",\"STAT 123 \",\"STAT 109 \",\"GOV 2003 \",\"STAT 100 \",\"STAT 139 \",\"STAT 236 \",\"PSY 1617 \",\"EH 241 \",\"COMPSCI 333_STAT 333 \",\"STAT 315 \",\"STAT 139 \",\"SYSBIO 220 \",\"STAT 185 \",\"STAT 171 \",\"STAT 139 \",\"STAT 221 \",\"BIOSTAT 241_BST 241 \",\"SYSBIO 220QC \"],\"textposition\":\"top center\",\"x\":[0.870923984561698,-0.34966334331738985,0.008060127375955108,-0.11905047539376626,0.3269137541013708,-0.1989537088658154,0.0015795509748613953,-0.34483343168322206,-0.353828098432658,-0.18448793515350254,-0.3540963212739919,-0.26479043570558636,0.1503597004530125,-0.34516143054520526,-0.154583851158155,-0.21709136121625683,0.63068446178386,-0.35380932197264336,-0.0828751611792088,-0.34431819941687575,-0.353606565041241,-0.2443618813643994,-0.09981894876883152,-0.35319235769408347,-0.24156393005263052,-0.2359316521579142,-0.10373225549113363,0.7040990013001686,-0.35373195467233237,-0.11042504780290238,-0.3510869384828291,-0.05998605494492732,-0.35331811348155867,-0.07352496603630557,-0.1815841557775653,0.6306803426226382,-0.18890277586262486,0.38716850069029335,-0.35404196014518086,0.1531985780539181,-0.23607201039676864,-0.10684483576798207,0.7590310702089826,-0.20266825420044965,-0.1261689322255909,0.6306838093270775,0.5446063787057253,0.12502364154311277,-0.22731724466604022,-0.05560676145630173,0.10836527276130731,0.5893641574587835,-0.16039378908528104,-0.35376074042831646,-0.20266825420044965,-0.24310780026975698,0.14869439555359282,-0.2837558574850643,0.004991466653700283,-0.16441190564045335,-0.35278948649728936,-0.017856758101316383,-0.2003903470614157,-0.17284309300359618,0.7358297758697454,0.2279791045925599,0.22970438793550577,-0.280084259976797,0.5211092313810118,-0.28581975096607787,-0.35263642643748294,-0.07642069901714817,-0.149322493283745,-0.16246025050108517,-0.35267271486493257,0.8330386176141165,0.5197859716057424,-0.15589086698188065,-0.20568841877809443,-0.1292357996004657,0.39562709511013605,0.28995865742518395,0.8330319660754757,0.2773980844967328,-0.3533695471119847,0.08855866872577989,-0.10599983232037144,0.40779304743746153,-0.1596055164871167,-0.3531810186717692,-0.1492471779305925,-0.35312968950915036,-0.05025940044450686,-0.23578930831630793,-0.11717623467999772,-0.11877881034983952,-0.2863127146167932,0.12661432761104038,0.7714896759815291,-0.028572049963876692,-0.3534730825149954,-0.12133278426976336,-0.14920534880261455,0.8709070615354813,0.8330319660754757,-0.08803684570919308,-0.114652501825521,0.2323653753510945,-0.025836574241404574,-0.2458390465820822,0.5154753128949343,0.16168322697846227,0.3096160058899716,0.43652391975747995,-0.23478937926456384,-0.3330704374348886,0.012182249871804933,-0.08571138134973977,-0.1835127648558344,0.10158206277760459,0.32359779461093763,-0.3530423453962375,0.8689361189571919,0.42202178874387425,0.8330319660754757,-0.15969909140776226,-0.009211765140341967,0.5639108905371981,-0.35380932197264336,0.17737221560092972,-0.15068939626680192,-0.2531674533098465,-0.09062265728215403,-0.3537435852535561,-0.32565108878152715,-0.06450519636489645,0.15825198768885312,0.4132467845266831,0.28480464180218634,-0.341898501652474,-0.35268244797359366,-0.015624836154536546,-0.3532527062355995,-0.14083332406529628,-0.35330865373866,-0.021813704735753676,-0.044856157897299125,0.01764588919865213],\"y\":[-0.6489161562975851,-0.04754194000050461,-0.11860164912656514,0.10354512133851934,0.0813182024315535,0.04905052255718786,0.18226088225327164,-0.041709941005597426,-0.04737947226695427,0.06169475521176241,-0.04736906964901109,-0.06263685116258226,0.27749140877319844,-0.047714096388138734,0.0811281951307248,-0.07424209206506313,-0.24312631279462701,-0.04738005326174251,-0.020676414843575134,-0.049055506600289726,-0.047387683779330565,-0.06196446006092269,-0.038959460333602196,-0.04740351924300077,-0.053328423963385926,-0.06312000441297329,-0.09682537674445557,-0.29521925766022034,-0.04738275752616294,0.1096788750400276,-0.0456413647169841,-0.10506430189455505,-0.047398798381149104,-0.030757780723232177,0.06347311476511615,-0.243120529458939,-0.06939420370446504,-0.2646318089297396,-0.047371105059161624,0.2738167164700197,-0.06988767980229324,0.11132969817290321,-0.26129498343130864,-0.07727453196786933,0.09924552418701425,-0.2431254592573982,-0.09603735232746792,0.2228779701104525,0.030828943772308267,0.14450297721404642,0.0276795735377962,-0.33078319172737336,-0.05850137220079457,-0.047381945800357185,-0.07727453196786933,-0.0022057247154490885,0.27714314186790767,-0.0029201685781550394,-0.09544707915890409,0.07022335522744716,-0.04741858690199014,0.1282460940425636,-0.11980031542310131,0.06911607018702688,-0.5825220604231985,-0.12534763227573265,-0.3073837424983754,-0.05689574979548541,0.5182508348780128,-0.05473330920368525,-0.04742540000099915,0.12997883352811584,0.08417191957043324,0.0753627180415897,-0.04742380426335291,0.7199017048090455,0.466576575510956,0.07978317453165426,0.04789889104957284,0.08032354792180585,-0.14784494316241714,0.3687290854572261,0.7198848977839853,-0.06315836225983656,-0.04739744784744702,0.23848880841966708,0.11275994865007065,-0.3052210335163382,-0.05789066696087895,-0.04740346697740009,0.08322229878835198,-0.04740603352339496,-0.014556982586197621,0.023535457284799163,0.08799448197475518,-0.07887002509767588,-0.05982032155022483,-0.14289848611888578,-0.5039034838036673,0.16164315863866624,-0.04739289625310931,0.10204116624754465,-0.0872680066206836,-0.6488891728629758,0.7198848977839853,0.12128888464134586,0.10640769716731097,-0.2862645703067827,0.15783221376291834,-0.01648805914262672,-0.09503028303806701,0.06409112825757307,0.08410133628481381,0.46133256648298404,0.0272128773388108,-0.034111830519798436,-0.16722182192417903,0.12592631755712522,-0.0700805558897612,0.15505280312088965,-0.10338984862689576,-0.0474092724189796,-0.5768568156338448,-0.11268257516239782,0.7198848977839853,0.07744734404297779,-0.11510866472814907,0.5455509268660323,-0.04738005326174251,0.29465641133112475,-0.14293158925295188,0.01740590014753024,0.1220294792226297,-0.04738239818187316,-0.030045152446237355,-0.10480163308979744,0.23638754127400186,-0.11987444288009556,-0.334749617297645,-0.04964653304391435,-0.04742319223636467,-0.09242340567639468,-0.04740088446780532,0.0895796034728074,-0.0473989197811999,0.16607354923549156,0.15197348552608358,-0.12089004475320506],\"type\":\"scatter\"}],                        {\"template\":{\"data\":{\"histogram2dcontour\":[{\"type\":\"histogram2dcontour\",\"colorbar\":{\"outlinewidth\":0,\"ticks\":\"\"},\"colorscale\":[[0.0,\"#0d0887\"],[0.1111111111111111,\"#46039f\"],[0.2222222222222222,\"#7201a8\"],[0.3333333333333333,\"#9c179e\"],[0.4444444444444444,\"#bd3786\"],[0.5555555555555556,\"#d8576b\"],[0.6666666666666666,\"#ed7953\"],[0.7777777777777778,\"#fb9f3a\"],[0.8888888888888888,\"#fdca26\"],[1.0,\"#f0f921\"]]}],\"choropleth\":[{\"type\":\"choropleth\",\"colorbar\":{\"outlinewidth\":0,\"ticks\":\"\"}}],\"histogram2d\":[{\"type\":\"histogram2d\",\"colorbar\":{\"outlinewidth\":0,\"ticks\":\"\"},\"colorscale\":[[0.0,\"#0d0887\"],[0.1111111111111111,\"#46039f\"],[0.2222222222222222,\"#7201a8\"],[0.3333333333333333,\"#9c179e\"],[0.4444444444444444,\"#bd3786\"],[0.5555555555555556,\"#d8576b\"],[0.6666666666666666,\"#ed7953\"],[0.7777777777777778,\"#fb9f3a\"],[0.8888888888888888,\"#fdca26\"],[1.0,\"#f0f921\"]]}],\"heatmap\":[{\"type\":\"heatmap\",\"colorbar\":{\"outlinewidth\":0,\"ticks\":\"\"},\"colorscale\":[[0.0,\"#0d0887\"],[0.1111111111111111,\"#46039f\"],[0.2222222222222222,\"#7201a8\"],[0.3333333333333333,\"#9c179e\"],[0.4444444444444444,\"#bd3786\"],[0.5555555555555556,\"#d8576b\"],[0.6666666666666666,\"#ed7953\"],[0.7777777777777778,\"#fb9f3a\"],[0.8888888888888888,\"#fdca26\"],[1.0,\"#f0f921\"]]}],\"heatmapgl\":[{\"type\":\"heatmapgl\",\"colorbar\":{\"outlinewidth\":0,\"ticks\":\"\"},\"colorscale\":[[0.0,\"#0d0887\"],[0.1111111111111111,\"#46039f\"],[0.2222222222222222,\"#7201a8\"],[0.3333333333333333,\"#9c179e\"],[0.4444444444444444,\"#bd3786\"],[0.5555555555555556,\"#d8576b\"],[0.6666666666666666,\"#ed7953\"],[0.7777777777777778,\"#fb9f3a\"],[0.8888888888888888,\"#fdca26\"],[1.0,\"#f0f921\"]]}],\"contourcarpet\":[{\"type\":\"contourcarpet\",\"colorbar\":{\"outlinewidth\":0,\"ticks\":\"\"}}],\"contour\":[{\"type\":\"contour\",\"colorbar\":{\"outlinewidth\":0,\"ticks\":\"\"},\"colorscale\":[[0.0,\"#0d0887\"],[0.1111111111111111,\"#46039f\"],[0.2222222222222222,\"#7201a8\"],[0.3333333333333333,\"#9c179e\"],[0.4444444444444444,\"#bd3786\"],[0.5555555555555556,\"#d8576b\"],[0.6666666666666666,\"#ed7953\"],[0.7777777777777778,\"#fb9f3a\"],[0.8888888888888888,\"#fdca26\"],[1.0,\"#f0f921\"]]}],\"surface\":[{\"type\":\"surface\",\"colorbar\":{\"outlinewidth\":0,\"ticks\":\"\"},\"colorscale\":[[0.0,\"#0d0887\"],[0.1111111111111111,\"#46039f\"],[0.2222222222222222,\"#7201a8\"],[0.3333333333333333,\"#9c179e\"],[0.4444444444444444,\"#bd3786\"],[0.5555555555555556,\"#d8576b\"],[0.6666666666666666,\"#ed7953\"],[0.7777777777777778,\"#fb9f3a\"],[0.8888888888888888,\"#fdca26\"],[1.0,\"#f0f921\"]]}],\"mesh3d\":[{\"type\":\"mesh3d\",\"colorbar\":{\"outlinewidth\":0,\"ticks\":\"\"}}],\"scatter\":[{\"fillpattern\":{\"fillmode\":\"overlay\",\"size\":10,\"solidity\":0.2},\"type\":\"scatter\"}],\"parcoords\":[{\"type\":\"parcoords\",\"line\":{\"colorbar\":{\"outlinewidth\":0,\"ticks\":\"\"}}}],\"scatterpolargl\":[{\"type\":\"scatterpolargl\",\"marker\":{\"colorbar\":{\"outlinewidth\":0,\"ticks\":\"\"}}}],\"bar\":[{\"error_x\":{\"color\":\"#2a3f5f\"},\"error_y\":{\"color\":\"#2a3f5f\"},\"marker\":{\"line\":{\"color\":\"#E5ECF6\",\"width\":0.5},\"pattern\":{\"fillmode\":\"overlay\",\"size\":10,\"solidity\":0.2}},\"type\":\"bar\"}],\"scattergeo\":[{\"type\":\"scattergeo\",\"marker\":{\"colorbar\":{\"outlinewidth\":0,\"ticks\":\"\"}}}],\"scatterpolar\":[{\"type\":\"scatterpolar\",\"marker\":{\"colorbar\":{\"outlinewidth\":0,\"ticks\":\"\"}}}],\"histogram\":[{\"marker\":{\"pattern\":{\"fillmode\":\"overlay\",\"size\":10,\"solidity\":0.2}},\"type\":\"histogram\"}],\"scattergl\":[{\"type\":\"scattergl\",\"marker\":{\"colorbar\":{\"outlinewidth\":0,\"ticks\":\"\"}}}],\"scatter3d\":[{\"type\":\"scatter3d\",\"line\":{\"colorbar\":{\"outlinewidth\":0,\"ticks\":\"\"}},\"marker\":{\"colorbar\":{\"outlinewidth\":0,\"ticks\":\"\"}}}],\"scattermapbox\":[{\"type\":\"scattermapbox\",\"marker\":{\"colorbar\":{\"outlinewidth\":0,\"ticks\":\"\"}}}],\"scatterternary\":[{\"type\":\"scatterternary\",\"marker\":{\"colorbar\":{\"outlinewidth\":0,\"ticks\":\"\"}}}],\"scattercarpet\":[{\"type\":\"scattercarpet\",\"marker\":{\"colorbar\":{\"outlinewidth\":0,\"ticks\":\"\"}}}],\"carpet\":[{\"aaxis\":{\"endlinecolor\":\"#2a3f5f\",\"gridcolor\":\"white\",\"linecolor\":\"white\",\"minorgridcolor\":\"white\",\"startlinecolor\":\"#2a3f5f\"},\"baxis\":{\"endlinecolor\":\"#2a3f5f\",\"gridcolor\":\"white\",\"linecolor\":\"white\",\"minorgridcolor\":\"white\",\"startlinecolor\":\"#2a3f5f\"},\"type\":\"carpet\"}],\"table\":[{\"cells\":{\"fill\":{\"color\":\"#EBF0F8\"},\"line\":{\"color\":\"white\"}},\"header\":{\"fill\":{\"color\":\"#C8D4E3\"},\"line\":{\"color\":\"white\"}},\"type\":\"table\"}],\"barpolar\":[{\"marker\":{\"line\":{\"color\":\"#E5ECF6\",\"width\":0.5},\"pattern\":{\"fillmode\":\"overlay\",\"size\":10,\"solidity\":0.2}},\"type\":\"barpolar\"}],\"pie\":[{\"automargin\":true,\"type\":\"pie\"}]},\"layout\":{\"autotypenumbers\":\"strict\",\"colorway\":[\"#636efa\",\"#EF553B\",\"#00cc96\",\"#ab63fa\",\"#FFA15A\",\"#19d3f3\",\"#FF6692\",\"#B6E880\",\"#FF97FF\",\"#FECB52\"],\"font\":{\"color\":\"#2a3f5f\"},\"hovermode\":\"closest\",\"hoverlabel\":{\"align\":\"left\"},\"paper_bgcolor\":\"white\",\"plot_bgcolor\":\"#E5ECF6\",\"polar\":{\"bgcolor\":\"#E5ECF6\",\"angularaxis\":{\"gridcolor\":\"white\",\"linecolor\":\"white\",\"ticks\":\"\"},\"radialaxis\":{\"gridcolor\":\"white\",\"linecolor\":\"white\",\"ticks\":\"\"}},\"ternary\":{\"bgcolor\":\"#E5ECF6\",\"aaxis\":{\"gridcolor\":\"white\",\"linecolor\":\"white\",\"ticks\":\"\"},\"baxis\":{\"gridcolor\":\"white\",\"linecolor\":\"white\",\"ticks\":\"\"},\"caxis\":{\"gridcolor\":\"white\",\"linecolor\":\"white\",\"ticks\":\"\"}},\"coloraxis\":{\"colorbar\":{\"outlinewidth\":0,\"ticks\":\"\"}},\"colorscale\":{\"sequential\":[[0.0,\"#0d0887\"],[0.1111111111111111,\"#46039f\"],[0.2222222222222222,\"#7201a8\"],[0.3333333333333333,\"#9c179e\"],[0.4444444444444444,\"#bd3786\"],[0.5555555555555556,\"#d8576b\"],[0.6666666666666666,\"#ed7953\"],[0.7777777777777778,\"#fb9f3a\"],[0.8888888888888888,\"#fdca26\"],[1.0,\"#f0f921\"]],\"sequentialminus\":[[0.0,\"#0d0887\"],[0.1111111111111111,\"#46039f\"],[0.2222222222222222,\"#7201a8\"],[0.3333333333333333,\"#9c179e\"],[0.4444444444444444,\"#bd3786\"],[0.5555555555555556,\"#d8576b\"],[0.6666666666666666,\"#ed7953\"],[0.7777777777777778,\"#fb9f3a\"],[0.8888888888888888,\"#fdca26\"],[1.0,\"#f0f921\"]],\"diverging\":[[0,\"#8e0152\"],[0.1,\"#c51b7d\"],[0.2,\"#de77ae\"],[0.3,\"#f1b6da\"],[0.4,\"#fde0ef\"],[0.5,\"#f7f7f7\"],[0.6,\"#e6f5d0\"],[0.7,\"#b8e186\"],[0.8,\"#7fbc41\"],[0.9,\"#4d9221\"],[1,\"#276419\"]]},\"xaxis\":{\"gridcolor\":\"white\",\"linecolor\":\"white\",\"ticks\":\"\",\"title\":{\"standoff\":15},\"zerolinecolor\":\"white\",\"automargin\":true,\"zerolinewidth\":2},\"yaxis\":{\"gridcolor\":\"white\",\"linecolor\":\"white\",\"ticks\":\"\",\"title\":{\"standoff\":15},\"zerolinecolor\":\"white\",\"automargin\":true,\"zerolinewidth\":2},\"scene\":{\"xaxis\":{\"backgroundcolor\":\"#E5ECF6\",\"gridcolor\":\"white\",\"linecolor\":\"white\",\"showbackground\":true,\"ticks\":\"\",\"zerolinecolor\":\"white\",\"gridwidth\":2},\"yaxis\":{\"backgroundcolor\":\"#E5ECF6\",\"gridcolor\":\"white\",\"linecolor\":\"white\",\"showbackground\":true,\"ticks\":\"\",\"zerolinecolor\":\"white\",\"gridwidth\":2},\"zaxis\":{\"backgroundcolor\":\"#E5ECF6\",\"gridcolor\":\"white\",\"linecolor\":\"white\",\"showbackground\":true,\"ticks\":\"\",\"zerolinecolor\":\"white\",\"gridwidth\":2}},\"shapedefaults\":{\"line\":{\"color\":\"#2a3f5f\"}},\"annotationdefaults\":{\"arrowcolor\":\"#2a3f5f\",\"arrowhead\":0,\"arrowwidth\":1},\"geo\":{\"bgcolor\":\"white\",\"landcolor\":\"#E5ECF6\",\"subunitcolor\":\"white\",\"showland\":true,\"showlakes\":true,\"lakecolor\":\"white\"},\"title\":{\"x\":0.05},\"mapbox\":{\"style\":\"light\"}}},\"title\":{\"text\":\"Topic Distribution of Documents (PCA-reduced)\"},\"xaxis\":{\"title\":{\"text\":\"Principal Component 1\"}},\"yaxis\":{\"title\":{\"text\":\"Principal Component 2\"}},\"showlegend\":false,\"width\":1000,\"height\":600},                        {\"responsive\": true}                    ).then(function(){\n",
       "                            \n",
       "var gd = document.getElementById('5950d6b7-99e6-4355-81e1-0554dfc2c8ed');\n",
       "var x = new MutationObserver(function (mutations, observer) {{\n",
       "        var display = window.getComputedStyle(gd).display;\n",
       "        if (!display || display === 'none') {{\n",
       "            console.log([gd, 'removed!']);\n",
       "            Plotly.purge(gd);\n",
       "            observer.disconnect();\n",
       "        }}\n",
       "}});\n",
       "\n",
       "// Listen for the removal of the full notebook cells\n",
       "var notebookContainer = gd.closest('#notebook-container');\n",
       "if (notebookContainer) {{\n",
       "    x.observe(notebookContainer, {childList: true});\n",
       "}}\n",
       "\n",
       "// Listen for the clearing of the current output cell\n",
       "var outputEl = gd.closest('.output');\n",
       "if (outputEl) {{\n",
       "    x.observe(outputEl, {childList: true});\n",
       "}}\n",
       "\n",
       "                        })                };                });            </script>        </div>"
      ]
     },
     "metadata": {},
     "output_type": "display_data"
    }
   ],
   "source": [
    "import plotly.graph_objects as go\n",
    "\n",
    "# Step 5: Create interactive scatter plot using Plotly\n",
    "fig = go.Figure()\n",
    "\n",
    "# Add scatter plot\n",
    "fig.add_trace(go.Scatter(\n",
    "    x=topic_distribution_2d[:, 0], \n",
    "    y=topic_distribution_2d[:, 1],\n",
    "    mode='markers+text',\n",
    "    text=df['filename'].str.split('-').str[0],\n",
    "    textposition='top center',\n",
    "    marker=dict(size=10, color='blue')\n",
    "))\n",
    "\n",
    "# Title and labels\n",
    "fig.update_layout(\n",
    "    title=\"Topic Distribution of Documents (PCA-reduced)\",\n",
    "    xaxis_title=\"Principal Component 1\",\n",
    "    yaxis_title=\"Principal Component 2\",\n",
    "    template=\"plotly\",\n",
    "    showlegend=False,\n",
    "    width=1000,  # Width of the plot (in pixels)\n",
    "    height=600   # Height of the plot (in pixels)\n",
    ")\n",
    "\n",
    "# Show plot\n",
    "fig.show()\n"
   ]
  },
  {
   "cell_type": "code",
   "execution_count": null,
   "id": "35ebe253-68b6-4e01-96f3-2fca29c571dd",
   "metadata": {},
   "outputs": [],
   "source": []
  },
  {
   "cell_type": "code",
   "execution_count": null,
   "id": "a26cacf7-542a-4a00-8ba5-a28c4b561b4e",
   "metadata": {},
   "outputs": [],
   "source": []
  }
 ],
 "metadata": {
  "kernelspec": {
   "display_name": "Python 3 (ipykernel)",
   "language": "python",
   "name": "python3"
  },
  "language_info": {
   "codemirror_mode": {
    "name": "ipython",
    "version": 3
   },
   "file_extension": ".py",
   "mimetype": "text/x-python",
   "name": "python",
   "nbconvert_exporter": "python",
   "pygments_lexer": "ipython3",
   "version": "3.12.4"
  }
 },
 "nbformat": 4,
 "nbformat_minor": 5
}
