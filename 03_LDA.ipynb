{
 "cells": [
  {
   "cell_type": "code",
   "execution_count": 1,
   "id": "ac7e052f-f149-4a22-962a-84d7937afe30",
   "metadata": {},
   "outputs": [
    {
     "name": "stderr",
     "output_type": "stream",
     "text": [
      "[nltk_data] Downloading package stopwords to\n",
      "[nltk_data]     /Users/mafuangimemkamon/nltk_data...\n",
      "[nltk_data]   Package stopwords is already up-to-date!\n",
      "[nltk_data] Downloading package punkt to\n",
      "[nltk_data]     /Users/mafuangimemkamon/nltk_data...\n",
      "[nltk_data]   Package punkt is already up-to-date!\n",
      "[nltk_data] Downloading package wordnet to\n",
      "[nltk_data]     /Users/mafuangimemkamon/nltk_data...\n",
      "[nltk_data]   Package wordnet is already up-to-date!\n"
     ]
    },
    {
     "data": {
      "text/plain": [
       "True"
      ]
     },
     "execution_count": 1,
     "metadata": {},
     "output_type": "execute_result"
    }
   ],
   "source": [
    "import pandas as pd\n",
    "import numpy as np\n",
    "import matplotlib.pyplot as plt\n",
    "import nltk\n",
    "from nltk.corpus import stopwords\n",
    "from nltk.tokenize import word_tokenize\n",
    "from nltk.stem import WordNetLemmatizer\n",
    "from sklearn.feature_extraction.text import CountVectorizer\n",
    "from sklearn.decomposition import LatentDirichletAllocation, PCA\n",
    "from sklearn.preprocessing import StandardScaler\n",
    "\n",
    "# Download NLTK resources if not already downloaded\n",
    "nltk.download('stopwords')\n",
    "nltk.download('punkt')\n",
    "nltk.download('wordnet')"
   ]
  },
  {
   "cell_type": "code",
   "execution_count": 4,
   "id": "8f838abd-1b77-4db3-87d2-d230d2eea01f",
   "metadata": {},
   "outputs": [
    {
     "name": "stdout",
     "output_type": "stream",
     "text": [
      "257\n"
     ]
    },
    {
     "data": {
      "text/html": [
       "<div>\n",
       "<style scoped>\n",
       "    .dataframe tbody tr th:only-of-type {\n",
       "        vertical-align: middle;\n",
       "    }\n",
       "\n",
       "    .dataframe tbody tr th {\n",
       "        vertical-align: top;\n",
       "    }\n",
       "\n",
       "    .dataframe thead th {\n",
       "        text-align: right;\n",
       "    }\n",
       "</style>\n",
       "<table border=\"1\" class=\"dataframe\">\n",
       "  <thead>\n",
       "    <tr style=\"text-align: right;\">\n",
       "      <th></th>\n",
       "      <th>filename</th>\n",
       "      <th>course department</th>\n",
       "      <th>course name</th>\n",
       "      <th>Name</th>\n",
       "      <th>text</th>\n",
       "      <th>cleaned_text</th>\n",
       "    </tr>\n",
       "  </thead>\n",
       "  <tbody>\n",
       "    <tr>\n",
       "      <th>66</th>\n",
       "      <td>APCOMP 209A_COMPSCI 1090A_COMPSCI 109A_STAT 10...</td>\n",
       "      <td>APCOMP</td>\n",
       "      <td>APCOMP 209A</td>\n",
       "      <td>APCOMP 209A/COMPSCI 1090A/COMPSCI 109A/STAT 10...</td>\n",
       "      <td>Introduction to Data Science (F all 2024)\\nCS ...</td>\n",
       "      <td>Introduction to Data Science (F all 2024) CS 1...</td>\n",
       "    </tr>\n",
       "    <tr>\n",
       "      <th>37</th>\n",
       "      <td>APCOMP 209B_COMPSCI 109B_STAT 109B_STAT 121B -...</td>\n",
       "      <td>APCOMP</td>\n",
       "      <td>APCOMP 209B</td>\n",
       "      <td>APCOMP 209B/COMPSCI 109B/STAT 109B/STAT 121B: ...</td>\n",
       "      <td>Draft Syllabus Subject to Change\\nAdvanced T o...</td>\n",
       "      <td>Draft Syllabus Subject to Change Advanced T op...</td>\n",
       "    </tr>\n",
       "    <tr>\n",
       "      <th>183</th>\n",
       "      <td>APCOMP 215 - 2024 Fall (215121).pdf</td>\n",
       "      <td>APCOMP</td>\n",
       "      <td>APCOMP 215</td>\n",
       "      <td>APCOMP 215: Advanced Practical Data Science</td>\n",
       "      <td>Official\\tweb\\tpage:\\t\\nhttps://harvard-iacs.g...</td>\n",
       "      <td>Official web page: https://harvard-iacs.github...</td>\n",
       "    </tr>\n",
       "    <tr>\n",
       "      <th>19</th>\n",
       "      <td>APCOMP 221 - 2024 Spring (207093).pdf</td>\n",
       "      <td>APCOMP</td>\n",
       "      <td>APCOMP 221</td>\n",
       "      <td>APCOMP 221: Critical Thinking in Data Science</td>\n",
       "      <td>This\\tcourse\\texamines\\tthe\\twide-ranging\\timp...</td>\n",
       "      <td>This course examines the wide-ranging impact d...</td>\n",
       "    </tr>\n",
       "    <tr>\n",
       "      <th>160</th>\n",
       "      <td>APCOMP 227_APMTH 227 - 2019 Fall (207546).pdf</td>\n",
       "      <td>APCOMP</td>\n",
       "      <td>APCOMP 227</td>\n",
       "      <td>APCOMP 227/APMTH 227: Computational Methods in...</td>\n",
       "      <td>Computational methods for the\\nphysical scienc...</td>\n",
       "      <td>Computational methods for the physical science...</td>\n",
       "    </tr>\n",
       "    <tr>\n",
       "      <th>...</th>\n",
       "      <td>...</td>\n",
       "      <td>...</td>\n",
       "      <td>...</td>\n",
       "      <td>...</td>\n",
       "      <td>...</td>\n",
       "      <td>...</td>\n",
       "    </tr>\n",
       "    <tr>\n",
       "      <th>130</th>\n",
       "      <td>STAT 388R - 2017 Spring (204453).pdf</td>\n",
       "      <td>STAT</td>\n",
       "      <td>STAT 388R</td>\n",
       "      <td>STAT 388R: Design and Analysis of Experiments ...</td>\n",
       "      <td>STAT\\t388R\\nHarvard\\tCollege/Graduate\\tSchool\\...</td>\n",
       "      <td>STAT 388R Harvard College/Graduate School of A...</td>\n",
       "    </tr>\n",
       "    <tr>\n",
       "      <th>165</th>\n",
       "      <td>STAT 98 - 2024 Spring (127768).pdf</td>\n",
       "      <td>STAT</td>\n",
       "      <td>STAT 98</td>\n",
       "      <td>STAT 98: Tutorial - Junior Year</td>\n",
       "      <td>Statistics 98: Junior Tutorial\\nSpring 2024 Sy...</td>\n",
       "      <td>Statistics 98: Junior Tutorial Spring 2024 Syl...</td>\n",
       "    </tr>\n",
       "    <tr>\n",
       "      <th>182</th>\n",
       "      <td>STAT 99R - 2024 Fall (159964).pdf</td>\n",
       "      <td>STAT</td>\n",
       "      <td>STAT 99R</td>\n",
       "      <td>STAT 99R: Tutorial - Senior Year</td>\n",
       "      <td>Full\\tguidance\\ton\\tthe\\tStatistics\\trequireme...</td>\n",
       "      <td>Full guidance on the Statistics requirements f...</td>\n",
       "    </tr>\n",
       "    <tr>\n",
       "      <th>286</th>\n",
       "      <td>SYSBIO 220_SYSBIO 320_SYSBIO 320QC - 2019 Spri...</td>\n",
       "      <td>SYSBIO</td>\n",
       "      <td>SYSBIO 220</td>\n",
       "      <td>SYSBIO 220: Analysis foundations for quantitat...</td>\n",
       "      <td>SB220 Quantitative Measurement and Analysis – ...</td>\n",
       "      <td>SB220 Quantitative Measurement and Analysis – ...</td>\n",
       "    </tr>\n",
       "    <tr>\n",
       "      <th>310</th>\n",
       "      <td>SYSBIO 220QC - 2020 Spring 1 (204480).pdf</td>\n",
       "      <td>SYSBIO</td>\n",
       "      <td>SYSBIO 220QC</td>\n",
       "      <td>SYSBIO 220QC: Analysis foundations for quantit...</td>\n",
       "      <td>SB220/SB221 Syllabus  \\n \\nSB220  \\n12 classes...</td>\n",
       "      <td>SB220/SB221 Syllabus SB220 12 classes Week Dat...</td>\n",
       "    </tr>\n",
       "  </tbody>\n",
       "</table>\n",
       "<p>257 rows × 6 columns</p>\n",
       "</div>"
      ],
      "text/plain": [
       "                                              filename course department  \\\n",
       "66   APCOMP 209A_COMPSCI 1090A_COMPSCI 109A_STAT 10...            APCOMP   \n",
       "37   APCOMP 209B_COMPSCI 109B_STAT 109B_STAT 121B -...            APCOMP   \n",
       "183                APCOMP 215 - 2024 Fall (215121).pdf            APCOMP   \n",
       "19               APCOMP 221 - 2024 Spring (207093).pdf            APCOMP   \n",
       "160      APCOMP 227_APMTH 227 - 2019 Fall (207546).pdf            APCOMP   \n",
       "..                                                 ...               ...   \n",
       "130               STAT 388R - 2017 Spring (204453).pdf              STAT   \n",
       "165                 STAT 98 - 2024 Spring (127768).pdf              STAT   \n",
       "182                  STAT 99R - 2024 Fall (159964).pdf              STAT   \n",
       "286  SYSBIO 220_SYSBIO 320_SYSBIO 320QC - 2019 Spri...            SYSBIO   \n",
       "310          SYSBIO 220QC - 2020 Spring 1 (204480).pdf            SYSBIO   \n",
       "\n",
       "      course name                                               Name  \\\n",
       "66    APCOMP 209A  APCOMP 209A/COMPSCI 1090A/COMPSCI 109A/STAT 10...   \n",
       "37    APCOMP 209B  APCOMP 209B/COMPSCI 109B/STAT 109B/STAT 121B: ...   \n",
       "183    APCOMP 215        APCOMP 215: Advanced Practical Data Science   \n",
       "19     APCOMP 221      APCOMP 221: Critical Thinking in Data Science   \n",
       "160    APCOMP 227  APCOMP 227/APMTH 227: Computational Methods in...   \n",
       "..            ...                                                ...   \n",
       "130     STAT 388R  STAT 388R: Design and Analysis of Experiments ...   \n",
       "165       STAT 98                    STAT 98: Tutorial - Junior Year   \n",
       "182      STAT 99R                   STAT 99R: Tutorial - Senior Year   \n",
       "286    SYSBIO 220  SYSBIO 220: Analysis foundations for quantitat...   \n",
       "310  SYSBIO 220QC  SYSBIO 220QC: Analysis foundations for quantit...   \n",
       "\n",
       "                                                  text  \\\n",
       "66   Introduction to Data Science (F all 2024)\\nCS ...   \n",
       "37   Draft Syllabus Subject to Change\\nAdvanced T o...   \n",
       "183  Official\\tweb\\tpage:\\t\\nhttps://harvard-iacs.g...   \n",
       "19   This\\tcourse\\texamines\\tthe\\twide-ranging\\timp...   \n",
       "160  Computational methods for the\\nphysical scienc...   \n",
       "..                                                 ...   \n",
       "130  STAT\\t388R\\nHarvard\\tCollege/Graduate\\tSchool\\...   \n",
       "165  Statistics 98: Junior Tutorial\\nSpring 2024 Sy...   \n",
       "182  Full\\tguidance\\ton\\tthe\\tStatistics\\trequireme...   \n",
       "286  SB220 Quantitative Measurement and Analysis – ...   \n",
       "310  SB220/SB221 Syllabus  \\n \\nSB220  \\n12 classes...   \n",
       "\n",
       "                                          cleaned_text  \n",
       "66   Introduction to Data Science (F all 2024) CS 1...  \n",
       "37   Draft Syllabus Subject to Change Advanced T op...  \n",
       "183  Official web page: https://harvard-iacs.github...  \n",
       "19   This course examines the wide-ranging impact d...  \n",
       "160  Computational methods for the physical science...  \n",
       "..                                                 ...  \n",
       "130  STAT 388R Harvard College/Graduate School of A...  \n",
       "165  Statistics 98: Junior Tutorial Spring 2024 Syl...  \n",
       "182  Full guidance on the Statistics requirements f...  \n",
       "286  SB220 Quantitative Measurement and Analysis – ...  \n",
       "310  SB220/SB221 Syllabus SB220 12 classes Week Dat...  \n",
       "\n",
       "[257 rows x 6 columns]"
      ]
     },
     "execution_count": 4,
     "metadata": {},
     "output_type": "execute_result"
    }
   ],
   "source": [
    "df = pd.read_csv('processed_data/computation_courses.csv').drop_duplicates('course name').sort_values('course name')\n",
    "\n",
    "#df = df[df['filename'].str.contains('STAT')|df['text'].str.lower().str.contains('statistics')]\n",
    "#df = df[df['course name'].str.contains('STAT')]\n",
    "print(df.shape[0])\n",
    "df\n"
   ]
  },
  {
   "cell_type": "code",
   "execution_count": 5,
   "id": "8c3f333e-a623-4b3b-8c9c-fd2d0ecdfcd7",
   "metadata": {},
   "outputs": [],
   "source": [
    "documents = df['cleaned_text'].values"
   ]
  },
  {
   "cell_type": "code",
   "execution_count": 6,
   "id": "16cc4dee-9b31-4f75-b397-06f99d9db048",
   "metadata": {},
   "outputs": [
    {
     "name": "stdout",
     "output_type": "stream",
     "text": [
      "2 0.485 896.0\n",
      "3 0.473 869.3\n",
      "4 0.439 845.4\n",
      "5 0.489 832.8\n",
      "6 0.484 830.5\n",
      "7 0.483 837.3\n",
      "8 0.474 836.2\n",
      "9 0.484 843.3\n"
     ]
    }
   ],
   "source": [
    "ls = []\n",
    "vectorizer = CountVectorizer(\n",
    "    max_df=0.9,\n",
    "    min_df=10,\n",
    "    stop_words='english',\n",
    "    token_pattern=r'(?u)\\b[A-Za-z]+\\b'  # Only keep words with alphabetic characters\n",
    ")\n",
    "doc_term_matrix = vectorizer.fit_transform(documents)\n",
    "    \n",
    "for num_topics in np.arange(2,10):\n",
    "    N = 10\n",
    "    # Vectorize text\n",
    "    \n",
    "    # Fit LDA\n",
    "    lda = LatentDirichletAllocation(n_components=num_topics, random_state=42)\n",
    "    lda.fit(doc_term_matrix)\n",
    "    \n",
    "    topic_word_distributions = lda.components_ / lda.components_.sum(axis=1)[:, np.newaxis]\n",
    "    \n",
    "    top_words = np.argsort(topic_word_distributions, axis=1)[:, -N:]\n",
    "    vocabulary = np.array(vectorizer.get_feature_names_out())\n",
    "    topic_top_words = vocabulary[top_words]\n",
    "    \n",
    "    from sklearn.metrics.pairwise import cosine_similarity\n",
    "    \n",
    "    # Example: Cosine similarity between word distributions\n",
    "    def coherence_score(topic_words, doc_term_matrix):\n",
    "        scores = []\n",
    "        for words in topic_words:\n",
    "            word_indices = [vectorizer.vocabulary_[w] for w in words if w in vectorizer.vocabulary_]\n",
    "            sub_matrix = doc_term_matrix[:, word_indices].toarray()\n",
    "            similarities = cosine_similarity(sub_matrix.T)\n",
    "            upper_tri_indices = np.triu_indices_from(similarities, k=1)\n",
    "            scores.append(similarities[upper_tri_indices].mean())\n",
    "        return np.mean(scores)\n",
    "    \n",
    "    coherence = coherence_score(topic_top_words, doc_term_matrix)\n",
    "    ls.append(coherence)\n",
    "    print(num_topics, np.round(coherence,3), np.round(lda.perplexity(doc_term_matrix),1))\n"
   ]
  },
  {
   "cell_type": "code",
   "execution_count": 7,
   "id": "294f44c8-f0b5-40f0-af59-7f3f85b7bf77",
   "metadata": {},
   "outputs": [
    {
     "name": "stdout",
     "output_type": "stream",
     "text": [
      "Topic 1:  ['hours', 'final', 'exam', 'week', 'homework', 'notes', 'pm', 'edu', 'harvard', 'lecture']\n",
      "Topic 2:  ['algebraic', 'groups', 'class', 'algebra', 'topics', 'geometry', 'quantum', 's', 'math', 'theory']\n",
      "Topic 3:  ['material', 'students', 'time', 'exam', 'problems', 'work', 'homework', 'problem', 'class', 'math']\n",
      "Topic 4:  ['s', 'learning', 'final', 'project', 'data', 'work', 'assignments', 'harvard', 'class', 'students']\n",
      "Topic 5:  ['analysis', 's', 'learning', 'e', 'statistical', 'et', 'al', 'j', 'inference', 'data']\n"
     ]
    }
   ],
   "source": [
    "lda = LatentDirichletAllocation(n_components=5, random_state=42)\n",
    "lda.fit(doc_term_matrix)\n",
    "\n",
    "# Display the topics\n",
    "feature_names = vectorizer.get_feature_names_out()\n",
    "for idx, topic in enumerate(lda.components_):\n",
    "    print(f\"Topic {idx + 1}: \", [feature_names[i] for i in topic.argsort()[-10:]])"
   ]
  },
  {
   "cell_type": "code",
   "execution_count": 135,
   "id": "256cf277-a499-429b-954b-6c83788cf643",
   "metadata": {},
   "outputs": [
    {
     "name": "stdout",
     "output_type": "stream",
     "text": [
      "Topic 1: Document indices [228, 202, 97, 77, 91]\n",
      "Statistics 171: Stochastic Processes, Spring 2024 Course Description and Goals: Stochastic processes collectively describe various random phenomena arising in nature and our daily life. We will study \n",
      "----\n",
      "Course description: This course is an undergraduate-level course on electromagnetism. Topics include electrostatics, electric currents, magnetic field, electromagnetic induction, Maxwell's equations, \n",
      "----\n",
      "Lecture notes (Updated 12/1) Class time : Tuesday and Thursday 3:00-4:15 pm, EST. Office hours : This week : Friday Dec 11, 1:30-3:00 pm EST, or by appointment. Zoom link (for classes and office hours\n",
      "----\n",
      "CA office hours are 7:30-9:15pm on Tuesday nights and 3:30-5:30pm Wednesday afternoons in the Kirkland house dining hall. Lecture notes on the mathematical happenings in class can be found in the file\n",
      "----\n",
      "Lucy (she/her/hers) - lucyvuong@college.harvard.edu OH: Wednesday 2:45 - 3:45 PM (Math Lounge); Wednesday 8:30 - 9:30 PM (Rothenberg Meeting Room in Stone Hall Basement) David - davidettel@college.har\n",
      "----\n",
      "Topic 2: Document indices [159, 205, 150, 170, 167]\n",
      "SYLLABUS FOR MATH 274Y SPECTRAL THEORY AND QUANTUM SPIN SYSTEMS SPRING 2020 Class: Wednesday and Friday, 10:30 { 11:45 AM, in Science Center 310 Instructor: Marius Lemm Email: mlemm[at]math.harvard.ed\n",
      "----\n",
      "PHYSICS 267: Higher Representation Theory in Math and Physics Logistics: Prof. Adrian Ocneanu Email: adrian_ocneanu@fas.harvard.edu Office hours in Lyman 227 available during working hours, by appt. I\n",
      "----\n",
      "SYLLABUS FOR MATH 266Y MATRIX INEQUALITIES AND QUANTUM ENTROPY SPRING 2019 Class: Tuesday and Thursday, 3:00 { 4:15 PM, in Science Center 310 Instructor: Marius Lemm Email: mlemm[at]math.harvard.edu O\n",
      "----\n",
      "Classes : Wednesdays and Fridays 3-4:15 pm Eastern time. Zoom link: https://harvard.zoom.us/j/91470578955?pwd=TjZkQWZrb2UwRUpqWVpFNVZqNVkrUT09 Office hours : Fridays 4:15-5:15, or by appointment. Some\n",
      "----\n",
      "Math 279Z Cohen-Macaulay Modules and Vector Bundles Tu-Th 9:00-10:15 SC 309 Harvard University, Fall 2022 url: https://canvas.harvard.edu/courses/110729 â—Š Instructor: Yuriy Drozd, SC 340, email: dro\n",
      "----\n",
      "Topic 3: Document indices [193, 192, 120, 112, 27]\n",
      "SyllabusSpring 2024Welcome (back) to Math Mb! In Math M we study functions and their rates of change. In Math Ma, we started discussing the ideas of calculus immediately, weaving in background materia\n",
      "----\n",
      "Math Ma: Introduction to Functions and Calculus I Fall 2024 DRAFT Course Information and Syllabus (Subject to Change) What's in this syllabus Course Goals 1 Course Format: Required Course Meetings 1 C\n",
      "----\n",
      "Math 21b: Linear Algebra and Differential Equations Spring 2024 Course Information and Syllabus Course head Matt Demers SC 420 mdemers@math.harvard.edu Course preceptor Erica Dinkins SC 223 edinkins@m\n",
      "----\n",
      "Math 1a: Introduction to Calculus Fall 2024 Syllabus Course Head: Hannah Constantin hconstantin@math.harvard.edu What is Math 1a all about? Math 1a is an introduction to single-variable calculus, from\n",
      "----\n",
      "AM 21a Syllabus Fall 2018Mathematical Methods (Multivariable Calculus) Updated on September 1, 2018. MWF 10:30-11:45AM, MD G115 Instructor: Sarah Iams O\u000ece: 287 Pierce Hall (in the bridge between Pier\n",
      "----\n",
      "Topic 4: Document indices [0, 2, 5, 253, 248]\n",
      "Introduction to Data Science (F all 2024) CS 1090a, AC 2090a, Stat 109a, or CSCI E-109a Instructors Pavlos Protopapas (SEAS) and Natesh Pillai (Statistics) Preceptor Chris Gumb (SEAS) Meeting Times Le\n",
      "----\n",
      "Official web page: https://harvard-iacs.github.io/2024-AC215/#course-introduction AC215: Productionizing AI (MLOps) IMPORTANTâ​— - Draft more details soon: Version 4/20/2024 â€‹ Course Introduction In\n",
      "----\n",
      " APCOMP 295 Fall 2020, Pavlos Protopapas Harvard John A. Paulson School of Engineering and Applied Sciences Syllabus (Any updates to the syllabus will be available ​ here​ on course site) Welcome to A\n",
      "----\n",
      "Statistics 98: Junior Tutorial Spring 2024 Syllabus Last updated 10-24-2024 Instructors: Kevin Rader, krader@fas.harvard.edu O\u000ece Hours: Wed 10-11am (SC-300D) Bookable (Calendly): in-person and/or via\n",
      "----\n",
      "Statistics 303 The Art of Communicating and Teaching Statistics Department of Statistics and Derek Bok Center for Teaching and Learning Harvard University Spring 2024 Alex Young Office: Science Center\n",
      "----\n",
      "Topic 5: Document indices [47, 249, 246, 62, 251]\n",
      "Biostatistics 258 Spring 2024 Syllabus Causal Inference: Theory and Practice credit hours: 4.0 (via FAS) or 5.0 (via HSPH) lecture meets TuTh 02:00–03:30PM, FXB G12 laboratory meets F 09:45–11:15AM, K\n",
      "----\n",
      "Spring 2018 Syllabus for Stat 315: Modern High-Dimensional Inference Lucas Janson 1 Syllabus Goal of the class: preparation for research in high-dimensional inference by giving a broad overview of the\n",
      "----\n",
      "Tentative Course Syllabus Stat 293/393 - Design of Experimental and Non-experimental Studies Spring 2023 Instructor: Jos\u0013 e Zubizarreta E-mail: zubizarreta@hcp.med.harvard.edu O\u000ece: 307 D, 180 A Longw\n",
      "----\n",
      " 1 14.384. Time Series Analysis Fall, 2021 Anna Mikusheva Instructor: Anna Mikusheva ( amikushe@mit.edu , Office hours: Tuesdays, noon- 1pm, E52-526) Teaching Assistant: Sylvia Klosin (klosins@mit.edu\n",
      "----\n",
      "Stat364 : Scalable Statistical Inference for Big Data with Applications Time: 10 :30am-11:45am, Monday, Spring 2022 Lead Instructor: Xihong Lin Description: Unprecedented advances in digital technolog\n",
      "----\n"
     ]
    }
   ],
   "source": [
    "import numpy as np\n",
    "from sklearn.decomposition import LatentDirichletAllocation\n",
    "\n",
    "# Assuming `doc_term_matrix` is your document-term matrix\n",
    "# Fit the LDA model\n",
    "lda = LatentDirichletAllocation(n_components=5, random_state=42)\n",
    "lda.fit(doc_term_matrix)\n",
    "\n",
    "# Get the topic distribution for each document\n",
    "doc_topic_distribution = lda.transform(doc_term_matrix)  # Shape: [n_docs, n_topics]\n",
    "\n",
    "# Find the most representative document for each topic\n",
    "def find_representative_documents(doc_topic_distribution, top_n=1):\n",
    "    \"\"\"\n",
    "    Find the most representative documents for each topic.\n",
    "\n",
    "    Parameters:\n",
    "        doc_topic_distribution: ndarray\n",
    "            The topic distribution for each document (output of LDA's `transform` method).\n",
    "        top_n: int\n",
    "            Number of top documents to find for each topic.\n",
    "\n",
    "    Returns:\n",
    "        dict: A dictionary where keys are topic IDs and values are lists of document indices.\n",
    "    \"\"\"\n",
    "    n_topics = doc_topic_distribution.shape[1]\n",
    "    representative_docs = {}\n",
    "\n",
    "    for topic_id in range(n_topics):\n",
    "        # Get the indices of the top-n documents for this topic\n",
    "        top_docs = np.argsort(doc_topic_distribution[:, topic_id])[-top_n:][::-1]\n",
    "        representative_docs[topic_id] = top_docs.tolist()\n",
    "\n",
    "    return representative_docs\n",
    "\n",
    "# Find the most representative documents for each topic\n",
    "top_n = 5  # Change to 2, 3, etc., for more representative documents\n",
    "representative_docs = find_representative_documents(doc_topic_distribution, top_n)\n",
    "\n",
    "# Display results\n",
    "for topic, docs in representative_docs.items():\n",
    "    print(f\"Topic {topic+1}: Document indices {docs}\")\n",
    "    for doc in docs:\n",
    "        print(documents[doc][:200])\n",
    "        print('----')"
   ]
  },
  {
   "cell_type": "code",
   "execution_count": 16,
   "id": "4f7efcda-eef8-42c7-8668-f50cb4cbbd51",
   "metadata": {},
   "outputs": [
    {
     "name": "stdout",
     "output_type": "stream",
     "text": [
      "Topic 0: feb, apr, october, january, law, dining, noon, schemes, saturday, bayes, typeset, handwritten\n",
      "Topic 1: quantum, geometry, algebraic, topology, manifolds, spaces, dynamical, representation, computation, analytic, complexity, geometric, theorems, finite, representations, graphs, varieties, curves, spectral, bundles, arithmetic, abelian, inequalities, fourier, symmetry, topological, lie, rings, surfaces, notions, inequality, relations, classification, categories, tensor, maps, projective, derived, rational, sheaves, hilbert, undergraduates, riemann, dimensions, cohomology, construction, category, polynomials, dimension, polynomial\n",
      "Topic 2: ll, solving, solve, don, multivariable, assessments, cas, scheme, extenuating, explaining, fun, welcoming\n",
      "Topic 3: coding, gai, diversity, comments, honor, speak, notebook, campus, gender, plagiarism, anonymous, thoughts, confidential, significant, needing, adhere, dishonesty, pairs, honesty, cheating, scholarly, contribution\n",
      "Topic 4: inference, al, et, causal, journal, estimation, van, ch, treatment, effects, nonparametric, selection, american, unit, neural, multi, experimental, biostatistics, optimal, james, society, hsph, parametric, efficient, robust, bootstrap, estimators, chan, outcomes, methodology, parameter, cation, observations, estimator, selected\n"
     ]
    }
   ],
   "source": [
    "import numpy as np\n",
    "from sklearn.feature_extraction.text import CountVectorizer\n",
    "from sklearn.decomposition import LatentDirichletAllocation\n",
    "\n",
    "# Function to calculate exclusivity of words across topics\n",
    "def get_anchor_words_exclusive(topic_word_matrix, feature_names, top_n=10, exclusivity_threshold=0.8):\n",
    "    n_topics, n_words = topic_word_matrix.shape\n",
    "    anchor_words = {}\n",
    "\n",
    "    # Normalize topic-word probabilities to convert them into probabilities\n",
    "    topic_word_probs = topic_word_matrix / topic_word_matrix.sum(axis=1, keepdims=True)\n",
    "\n",
    "    # For each topic, find anchor words\n",
    "    for topic_idx in range(n_topics):\n",
    "        topic_probs = topic_word_probs[topic_idx]\n",
    "        exclusivity_scores = topic_probs / topic_word_probs.sum(axis=0)  # Score for each word\n",
    "        \n",
    "        # Select words based on exclusivity scores and top probabilities\n",
    "        candidate_indices = topic_probs.argsort()[::-1]  # Sort words by topic probability\n",
    "        exclusive_words = [\n",
    "            feature_names[i]\n",
    "            for i in candidate_indices\n",
    "            if exclusivity_scores[i] >= exclusivity_threshold\n",
    "        ][:top_n]\n",
    "        \n",
    "        anchor_words[f\"Topic {topic_idx}\"] = exclusive_words\n",
    "\n",
    "    return anchor_words\n",
    "\n",
    "# Example usage: Assuming 'lda' is the trained LDA model and 'vectorizer' is the CountVectorizer\n",
    "topic_word_matrix = lda.components_  # Shape: [n_topics, n_words]\n",
    "feature_names = vectorizer.get_feature_names_out()\n",
    "\n",
    "# Parameters\n",
    "top_n = 50\n",
    "exclusivity_threshold = 0.8  # A word must have at least 80% exclusivity for one topic to qualify\n",
    "\n",
    "anchor_words = get_anchor_words_exclusive(topic_word_matrix, feature_names, top_n, exclusivity_threshold)\n",
    "\n",
    "# Display anchor words\n",
    "for topic, words in anchor_words.items():\n",
    "    print(f\"{topic}: {', '.join(words)}\")\n"
   ]
  },
  {
   "cell_type": "code",
   "execution_count": null,
   "id": "84d7fc89-0a10-40e2-92be-0a147dc379b6",
   "metadata": {},
   "outputs": [],
   "source": []
  },
  {
   "cell_type": "code",
   "execution_count": 21,
   "id": "bc7fc7fe-3940-4b6c-9fc5-1b75b3a18ae6",
   "metadata": {},
   "outputs": [
    {
     "data": {
      "application/vnd.plotly.v1+json": {
       "config": {
        "plotlyServerURL": "https://plot.ly"
       },
       "data": [
        {
         "hovertemplate": "<b>Course Name:</b> %{text}<br><b>Topic:</b> %{meta}",
         "marker": {
          "color": "hsl(0.0, 70%, 50%)",
          "line": {
           "color": "black",
           "width": 1
          },
          "size": 10
         },
         "meta": [
          "Topic 0",
          "Topic 0",
          "Topic 0",
          "Topic 0",
          "Topic 0",
          "Topic 0",
          "Topic 0",
          "Topic 0",
          "Topic 0",
          "Topic 0",
          "Topic 0",
          "Topic 0",
          "Topic 0",
          "Topic 0",
          "Topic 0",
          "Topic 0",
          "Topic 0",
          "Topic 0",
          "Topic 0",
          "Topic 0",
          "Topic 0",
          "Topic 0",
          "Topic 0",
          "Topic 0",
          "Topic 0",
          "Topic 0",
          "Topic 0",
          "Topic 0",
          "Topic 0",
          "Topic 0",
          "Topic 0",
          "Topic 0",
          "Topic 0",
          "Topic 0",
          "Topic 0",
          "Topic 0",
          "Topic 0",
          "Topic 0",
          "Topic 0",
          "Topic 0",
          "Topic 0",
          "Topic 0",
          "Topic 0",
          "Topic 0",
          "Topic 0",
          "Topic 0",
          "Topic 0",
          "Topic 0"
         ],
         "mode": "markers",
         "name": "Topic 0",
         "text": [
          "APMTH 101: Statistical Inference for Scientists and Engineers",
          "APMTH 120: Applied Linear Algebra and Big Data",
          "APMTH 203: Introduction to Disordered Systems and Stochastic Processes",
          "APMTH 217: Patterns",
          "BIOSTAT 230/BST 230: Probability I",
          "BIOSTAT 233/BST 233: Methods II",
          "CHEM 161: Statistical Thermodynamics",
          "CHEM 200/ENG-SCI 200/QSE 200: Foundations of Quantum Mechanics",
          "CHEM 246: Advanced Statistical Mechanics: Frontiers in Research",
          "ECON 1126: Quantitative Methods in Economics",
          "MATH 102: Much Ado About Everything: The Mathematics of Leonhard Euler",
          "MATH 113: Complex Analysis",
          "MATH 117: Probability and Random Processes with Economic Applications",
          "MATH 123: Algebra II: Theory of Rings and Fields",
          "MATH 130: Classical Geometry",
          "MATH 131: Topological Spaces and Fundamental Group",
          "MATH 141B: Mathematical Logic II",
          "MATH 145B: Set Theory II",
          "MATH 153/MATH 242: Mathematical Biology-Evolutionary Dynamics",
          "MATH 154: Probability Theory",
          "MATH 18B/19B: Linear Algebra, Probability, and Statistics",
          "MATH 219: Topics in Complex Analysis: From Conformal Invariants to Percolation",
          "MATH 231BR: Advanced Algebraic Topology",
          "MATH 232A/MATH 232AR: Introduction to Algebraic Geometry I",
          "MATH 232BR: Algebraic Geometry II",
          "MATH 23B: Linear Algebra and Real Analysis II",
          "MATH 23C: Mathematics for Computation, Statistics, and Data Science",
          "MATH 25B: Theoretical Linear Algebra and Real Analysis II",
          "MATH 270X: Topology and Condensed Matter Physics",
          "MATH 272X: Diffeomorphisms of Disks",
          "MATH 275: Ergodic Theory, Geometry and Dynamics",
          "MATH 275Z: Topics in Mean Field Spin Glasses",
          "MATH 281Y: Non-Kahler Calabi-Yau Manifolds",
          "MATH 284Z: Topics in stochastic analysis",
          "MATH 292Z: First steps in infinity categories",
          "MATH 55A: Studies in Algebra and Group Theory",
          "MCB 199/PHYSICS 199: Statistical Thermodynamics and Quantitative Biology",
          "PHYSICS 143A: Quantum Mechanics I",
          "PHYSICS 15B: Introductory Electromagnetism and Statistical Physics",
          "PHYSICS 264: Lie Algebras, Representations and Quantum Mechanics",
          "STAT 111: Introduction to Statistical Inference",
          "STAT 123: Applied Quantitative Finance",
          "STAT 131: Time Series & Prediction",
          "STAT 141: Introduction to Spatial Statistics",
          "STAT 171: Introduction to Stochastic Processes",
          "STAT 211: Statistical Inference I",
          "STAT 213: Statistical Inference II",
          "STAT 220: Bayesian Data Analysis"
         ],
         "type": "scatter",
         "x": [
          -0.25041956621204303,
          -0.15844876105741812,
          0.24249694220267926,
          0.11510614668345362,
          0.06987075446129601,
          -0.05680510556102637,
          -0.29442204472076156,
          -0.009618787530128773,
          -0.10809358762617369,
          -0.027323726825566035,
          -0.01493853226408271,
          -0.04153494775604962,
          -0.04385517973037819,
          -0.14947182477879653,
          -0.015024614877019575,
          0.1797329893504766,
          0.048740035506592574,
          -0.014817478953939313,
          -0.11950415936009322,
          -0.04398623526971275,
          -0.019940900288139347,
          0.25233538747055506,
          0.020497592601816602,
          0.3435516546441325,
          0.24737369313806565,
          -0.11609731017819545,
          -0.03885710732947956,
          0.008364376750498342,
          0.10663171639123138,
          0.2794233801336983,
          0.323784283340205,
          0.3098435105543132,
          0.062000740807221885,
          0.27809245802176275,
          0.34902775720728496,
          0.12463451920840295,
          0.07976245425484035,
          -0.036669087191933056,
          -0.01438415140333765,
          0.10791469748173536,
          -0.24911843774733985,
          -0.02057372654594862,
          -0.2463956674752555,
          -0.26530156807591865,
          -0.014363450560239847,
          -0.14585520562997595,
          0.07789800578556819,
          -0.04266880030397835
         ],
         "y": [
          0.2246754547639447,
          0.40615397455020724,
          0.23145620092499875,
          0.4379190716876148,
          0.5397935390194203,
          0.5241580218132202,
          0.18070919059501497,
          0.47014042487795565,
          0.4780752272570627,
          0.6412980851211979,
          0.6950577604555233,
          0.5806637568606212,
          0.5664852674126498,
          0.17999510240808564,
          0.6918368865092941,
          0.2857270307165445,
          0.5013274845730529,
          0.7008476664734893,
          0.2788959852686652,
          0.5723977785010389,
          0.4494293785589121,
          0.3238149959414212,
          0.09111317000508772,
          0.19739667689953994,
          0.33751258322753297,
          0.4700934603982983,
          0.5920052332040954,
          0.5043577590464494,
          0.5167923905413088,
          0.29120426966855995,
          0.2197414453982931,
          0.23883496493403747,
          0.5925366906331275,
          0.23965373498766826,
          0.1827992693684692,
          0.36622594607138487,
          0.44255344440231836,
          0.6060795726417102,
          0.7158396186991123,
          0.2760870733883319,
          0.29136547416645375,
          0.6836407531110749,
          0.2175407274562365,
          0.2624144349916586,
          0.716773537750771,
          0.21462525390709997,
          0.14856513873184946,
          0.5863492898689806
         ]
        },
        {
         "hovertemplate": "<b>Course Name:</b> %{text}<br><b>Topic:</b> %{meta}",
         "marker": {
          "color": "hsl(72.0, 70%, 50%)",
          "line": {
           "color": "black",
           "width": 1
          },
          "size": 10
         },
         "meta": [
          "Topic 1",
          "Topic 1",
          "Topic 1",
          "Topic 1",
          "Topic 1",
          "Topic 1",
          "Topic 1",
          "Topic 1",
          "Topic 1",
          "Topic 1",
          "Topic 1",
          "Topic 1",
          "Topic 1",
          "Topic 1",
          "Topic 1",
          "Topic 1",
          "Topic 1",
          "Topic 1",
          "Topic 1",
          "Topic 1",
          "Topic 1",
          "Topic 1",
          "Topic 1",
          "Topic 1",
          "Topic 1",
          "Topic 1",
          "Topic 1",
          "Topic 1",
          "Topic 1",
          "Topic 1",
          "Topic 1",
          "Topic 1",
          "Topic 1",
          "Topic 1",
          "Topic 1",
          "Topic 1",
          "Topic 1",
          "Topic 1",
          "Topic 1",
          "Topic 1",
          "Topic 1",
          "Topic 1",
          "Topic 1",
          "Topic 1",
          "Topic 1",
          "Topic 1",
          "Topic 1",
          "Topic 1",
          "Topic 1",
          "Topic 1",
          "Topic 1",
          "Topic 1",
          "Topic 1",
          "Topic 1",
          "Topic 1",
          "Topic 1",
          "Topic 1",
          "Topic 1",
          "Topic 1",
          "Topic 1",
          "Topic 1",
          "Topic 1",
          "Topic 1",
          "Topic 1",
          "Topic 1",
          "Topic 1",
          "Topic 1",
          "Topic 1",
          "Topic 1",
          "Topic 1",
          "Topic 1",
          "Topic 1"
         ],
         "mode": "markers",
         "name": "Topic 1",
         "text": [
          "APMTH 10: Computing for Science and Engineering",
          "APMTH 104: Complex and Fourier Analysis with Applications to Art, Science and Engineering",
          "APMTH 206: Advanced Applied Algebra",
          "APMTH 230/PHYSICS 230: Active Matter",
          "APPHY 295A/PHYSICS 295A: Introduction to Quantum Theory of Solids",
          "CHEM 166: Quantum Materials, Where Physics and Chemistry Meet",
          "FRSEMR 23P: Physics, Math and Puzzles",
          "FRSEMR 52D/FYSEMR 52D: Quantum Entanglement and the Second Quantum Revolution",
          "MATH 101: Sets, Groups and Topology",
          "MATH 110: Vector Space Methods for Differential Equations",
          "MATH 114: Analysis of Function Spaces, Measure and Integration",
          "MATH 115: Methods of Analysis",
          "MATH 118R: Dynamical Systems",
          "MATH 119: Introduction to Stochastic Calculus",
          "MATH 124: Number Theory",
          "MATH 129: Number Fields",
          "MATH 137: Algebraic Geometry",
          "MATH 155R: Combinatorics",
          "MATH 163: Derived Categories in Geometry and Algebra",
          "MATH 166R: Introduction to semi-Riemannian geometry",
          "MATH 212/MATH 212A: Advanced Real Analysis",
          "MATH 212A: Real Analysis",
          "MATH 212BR: Advanced Real Analysis",
          "MATH 213BR: Riemann Surfaces",
          "MATH 221: Commutative Algebra",
          "MATH 225: Homological Algebra",
          "MATH 229/MATH 229X: Introduction to Analytic Number Theory",
          "MATH 230A: Differential Geometry",
          "MATH 230B: Semi-Riemannian Geometry",
          "MATH 252Y: Finite Height Chromatic Homotopy Theory",
          "MATH 254R: Arithmetic Dynamics",
          "MATH 256X: Heisenberg Calculus in Quantum Topology",
          "MATH 258: L-Functions and Arithmetic Statistics",
          "MATH 259X: Moduli Spaces in Algebraic Geometry",
          "MATH 260X: Rationality Questions in Algebraic Geometry",
          "MATH 262A: Quantum theory from the geometric viewpoint I",
          "MATH 262B: Quantum theory from the geometric viewpoint II",
          "MATH 263X: Mirror Symmetry for Toric Varieties and Other GIT Quotients",
          "MATH 264X: Algebraic Cobordism",
          "MATH 265: Singularities and Hodge theory",
          "MATH 266: Motivic homotopy theory",
          "MATH 266Y: Topics in Analysis: Matrix Inequalities and Quantum Entropy",
          "MATH 268Z: Kashiwara Crystals and Quantum Integrable Systems",
          "MATH 269Z: Topics in Hodge Theory",
          "MATH 270Z: Symplectic geometry",
          "MATH 271: Free Probability, Random Matrices and Random Partitions",
          "MATH 271Z: Topics in Algebraic Geometry - Kodaira dimension and families of varieties",
          "MATH 274Y: Spectral Theory and Quantum Spin Systems",
          "MATH 274Z: Complex and Arithmetic Dynamical Systems",
          "MATH 277X: Quantum Geometry",
          "MATH 277Z: K3 surfaces",
          "MATH 278: Geometry and Algebra of Computational Complexity",
          "MATH 278Z: Tools and ideas in low-dimensional topology",
          "MATH 279Z: Cohen-Macaulay modules and vector bundles",
          "MATH 281Z: Homological Algebra",
          "MATH 282X: Topics in Invariant Descriptive Set Theory",
          "MATH 283: Instanton Floer Homology",
          "MATH 283Z: Foundations of non-abelian Chabauty",
          "MATH 288Y: Analytic Number Theory Over Function Fields",
          "MATH 288Z: Entropy",
          "MATH 289: Topics on Knots, 3 and 4-Manifolds",
          "MATH 289Y: Topics in Geometric PDEs",
          "MATH 290: Birational Geometry of Algebraic Varieties",
          "MATH 291Y: P-adic analytic groups and their cohomology",
          "MATH 293X: Topological modular forms",
          "MATH 295: Topics in Discrete Probability: Random Structures and Algorithms",
          "MATH 295Y: Arithmetic Dynamics",
          "MATH 296: D-Modules in Birational Geometry",
          "MATH 297X: Geometry and complexity theory",
          "MATH 99R: Tutorial",
          "PHYSICS 267: Higher Representations in Physics and Mathematics",
          "QSE 210B: Introduction to Quantum Information Science II"
         ],
         "type": "scatter",
         "x": [
          0.30801894097789595,
          0.37861964968199074,
          0.33707503913727777,
          0.303207008191575,
          0.44005282763648174,
          0.10752818944001857,
          0.719606531568984,
          0.21677635308592472,
          0.4112675455649806,
          0.2208692649999982,
          0.5867075687985349,
          0.4327261085751113,
          0.2880563405844697,
          0.2757464670382072,
          0.5256940045775192,
          0.21616856521619496,
          0.47659306464863394,
          0.46858002371782526,
          0.36022019554259144,
          0.3282918625989675,
          0.6127564089351396,
          0.7079648869680827,
          0.4895493783304936,
          0.6631061784475794,
          0.6785144358987352,
          0.7245633979269169,
          0.7270695860814219,
          0.7175719988905485,
          0.7259851134252183,
          0.49004645740193453,
          0.7240860721999026,
          0.5964942075028904,
          0.49627164474293245,
          0.4105855557101675,
          0.7202025715006164,
          0.3609506900659883,
          0.3395464444992813,
          0.6454380909784818,
          0.723514344523712,
          0.7205055552087636,
          0.6100139575282455,
          0.728501185940907,
          0.7267434127734603,
          0.38272391211351037,
          0.6966895519506122,
          0.3599152724341765,
          0.7225113622938739,
          0.7287826543202083,
          0.5478624415224573,
          0.37306663767881254,
          0.7204876889632631,
          0.7036140535825479,
          0.2058768587677573,
          0.7274792633053137,
          0.7248216560323116,
          0.7277098319200156,
          0.5587084454380281,
          0.47809166982387613,
          0.7193285482003997,
          0.19395079146832847,
          0.47463283733290557,
          0.7269257991060272,
          0.3672122971006406,
          0.561618751647861,
          0.07953664516278232,
          0.6120463934934408,
          0.7255213159243166,
          0.5666442446106665,
          0.7249468246877165,
          0.3172143215444922,
          0.7286726431908941,
          0.7272408874737227
         ],
         "y": [
          -0.02814877720687317,
          -0.011694614396810767,
          -0.2612975570102021,
          -0.0001972871436040795,
          0.05589321392585463,
          -0.23218699479445915,
          -0.3480724075314075,
          -0.3931422279758168,
          -0.0336266202755607,
          -0.22467778061377996,
          -0.21057614866182003,
          0.07201344620455792,
          9.72855125030846e-05,
          0.14823820657447434,
          -0.0698012433655464,
          -0.11903539993217296,
          -0.05562511416224072,
          0.017701361828770454,
          0.07624513769548004,
          -0.00794675492346723,
          -0.19127444579142056,
          -0.3410440820352232,
          -0.07513383817314022,
          -0.26142708368721285,
          -0.28301172413849535,
          -0.35102760005570716,
          -0.3525199977483413,
          -0.3468235115436336,
          -0.3518742969232278,
          -0.014920167547685593,
          -0.3507514416346118,
          -0.25235579211355225,
          -0.17599033238798392,
          0.09475014830622394,
          -0.3484127401413309,
          -0.0338384976006498,
          -0.034350900096743166,
          -0.23584988685031325,
          -0.3503869126824701,
          -0.348587443673893,
          -0.2582274915873663,
          -0.3533749038204649,
          -0.35231806626177714,
          0.08627424960177307,
          -0.32954338373476905,
          0.04616037333637398,
          -0.3497857028275796,
          -0.3535472898736801,
          -0.1219098337043087,
          -0.2613765956623962,
          -0.3485733517845314,
          -0.33421325888347947,
          -0.31597490864995453,
          -0.3527658925223485,
          -0.35117813061861725,
          -0.3528988550839516,
          -0.21679581769893244,
          0.003333777336616299,
          -0.3478921953350577,
          -0.161031422803561,
          0.007705722152091466,
          -0.35243607169685476,
          0.13972984068792296,
          -0.23574687200063604,
          -0.2703034913842715,
          -0.26444777013445225,
          -0.35160231756919824,
          -0.12321728843377353,
          -0.3512516961677396,
          -0.302186067756352,
          -0.3534798996692409,
          -0.35261943074748897
         ]
        },
        {
         "hovertemplate": "<b>Course Name:</b> %{text}<br><b>Topic:</b> %{meta}",
         "marker": {
          "color": "hsl(144.0, 70%, 50%)",
          "line": {
           "color": "black",
           "width": 1
          },
          "size": 10
         },
         "meta": [
          "Topic 2",
          "Topic 2",
          "Topic 2",
          "Topic 2",
          "Topic 2",
          "Topic 2",
          "Topic 2",
          "Topic 2",
          "Topic 2",
          "Topic 2",
          "Topic 2",
          "Topic 2",
          "Topic 2",
          "Topic 2",
          "Topic 2",
          "Topic 2",
          "Topic 2",
          "Topic 2",
          "Topic 2",
          "Topic 2",
          "Topic 2",
          "Topic 2",
          "Topic 2",
          "Topic 2",
          "Topic 2",
          "Topic 2",
          "Topic 2",
          "Topic 2",
          "Topic 2",
          "Topic 2",
          "Topic 2"
         ],
         "mode": "markers",
         "name": "Topic 2",
         "text": [
          "APMTH 108: Nonlinear Dynamical Systems",
          "APMTH 202: Physical Mathematics II",
          "APMTH 21A: Mathematical Methods in the Sciences",
          "APMTH 22B: Integrating and Approximating",
          "COMPSCI 20: Discrete Mathematics for Computer Science",
          "FYSEMR 23P: Physics, Math and Puzzles",
          "MATH 112: Introductory Real Analysis",
          "MATH 116: Real Analysis, Convexity, and Optimization",
          "MATH 121: Linear Algebra",
          "MATH 132: Differential Topology",
          "MATH 141A: Mathematical Logic I",
          "MATH 152: Discrete Mathematics",
          "MATH 161: Introduction to Formal Verification of Mathematics",
          "MATH 18/MATH 18A: Multivariable Calculus for Social Sciences",
          "MATH 19A: Modeling and Differential Equations for the Life Sciences",
          "MATH 19B: Linear Algebra, Probability, and Statistics for the Life Sciences",
          "MATH 1A: Introduction to Calculus",
          "MATH 1B: Integration, Series and Differential Equations",
          "MATH 21A: Multivariable Calculus",
          "MATH 21B: Linear Algebra and Differential Equations",
          "MATH 22A: Vector Calculus and Linear Algebra I",
          "MATH 22B: Vector Calculus and Linear Algebra II",
          "MATH 23A: Linear Algebra and Real Analysis I",
          "MATH 25A: Theoretical Linear Algebra and Real Analysis I",
          "MATH 370: Topics in Linear Algebra and Multivariable Calculus; and Their Applications",
          "MATH MA5: An In-depth Introduction to Functions and Calculus I",
          "MATH MB: Introduction to Functions and Calculus II",
          "NEUROBIO 314QC: Mathematical Tools for Neuroscience",
          "PHIL 151Z: Philosophy of Quantum Mechanics: Proseminar",
          "PHYSCI 12A: Mechanics and Statistical Physics from an Analytic, Numerical and Experimental Perspective",
          "PHYSICS 143B: Quantum Mechanics II"
         ],
         "type": "scatter",
         "x": [
          -0.21300413764780293,
          0.0970055197085016,
          -0.09568378858801986,
          0.13549217911921954,
          -0.37818815693388885,
          -0.36164549160185433,
          0.10501882741414807,
          0.057921818086902756,
          0.12070638262841205,
          -0.12360417384428901,
          -0.29212329763680084,
          0.23171799083148661,
          -0.2156930949592627,
          -0.1398626583628467,
          -0.0989230907458789,
          -0.023530004625074107,
          -0.09569742798456528,
          -0.08101025993628802,
          -0.09516706743387668,
          -0.09571415525756612,
          -0.030540429653104408,
          -0.06037298775349241,
          -0.07143573066250818,
          0.030439893829058515,
          -0.08452721770599364,
          -0.09571660020050012,
          -0.09573136223786012,
          -0.10015962194701718,
          -0.12870298951191503,
          -0.29262252885556095,
          -0.07236193911574965
         ],
         "y": [
          -0.018946946162663382,
          0.34793663955218873,
          0.32334782148507335,
          0.1463668015051421,
          -0.06696135055326567,
          -0.04768253665015715,
          0.21347263508333267,
          0.10123999945393702,
          0.2897636108297408,
          -0.014784736463043275,
          0.051363322882943006,
          0.030006258151347772,
          0.14518389675123672,
          0.2622888894237637,
          0.315137436765479,
          0.3877894307942972,
          0.32339514773824163,
          0.30742136939816894,
          0.3215196053761583,
          0.323453577084288,
          0.1877084376329265,
          0.4940492622424855,
          0.4423900708217757,
          0.23277214514259342,
          0.26605739683804625,
          0.32346118486078257,
          0.32351436673171097,
          0.08145912932381427,
          0.21424987133473863,
          0.051143601864845574,
          0.06296930595250667
         ]
        },
        {
         "hovertemplate": "<b>Course Name:</b> %{text}<br><b>Topic:</b> %{meta}",
         "marker": {
          "color": "hsl(216.0, 70%, 50%)",
          "line": {
           "color": "black",
           "width": 1
          },
          "size": 10
         },
         "meta": [
          "Topic 3",
          "Topic 3",
          "Topic 3",
          "Topic 3",
          "Topic 3",
          "Topic 3",
          "Topic 3",
          "Topic 3",
          "Topic 3",
          "Topic 3",
          "Topic 3",
          "Topic 3",
          "Topic 3",
          "Topic 3",
          "Topic 3",
          "Topic 3",
          "Topic 3",
          "Topic 3",
          "Topic 3",
          "Topic 3",
          "Topic 3",
          "Topic 3",
          "Topic 3",
          "Topic 3",
          "Topic 3",
          "Topic 3",
          "Topic 3",
          "Topic 3",
          "Topic 3",
          "Topic 3",
          "Topic 3",
          "Topic 3",
          "Topic 3",
          "Topic 3",
          "Topic 3",
          "Topic 3",
          "Topic 3",
          "Topic 3",
          "Topic 3",
          "Topic 3",
          "Topic 3",
          "Topic 3",
          "Topic 3",
          "Topic 3",
          "Topic 3",
          "Topic 3",
          "Topic 3",
          "Topic 3",
          "Topic 3",
          "Topic 3",
          "Topic 3",
          "Topic 3",
          "Topic 3",
          "Topic 3",
          "Topic 3",
          "Topic 3",
          "Topic 3",
          "Topic 3",
          "Topic 3",
          "Topic 3",
          "Topic 3",
          "Topic 3",
          "Topic 3",
          "Topic 3",
          "Topic 3",
          "Topic 3",
          "Topic 3",
          "Topic 3",
          "Topic 3",
          "Topic 3",
          "Topic 3",
          "Topic 3",
          "Topic 3",
          "Topic 3",
          "Topic 3",
          "Topic 3",
          "Topic 3",
          "Topic 3"
         ],
         "mode": "markers",
         "name": "Topic 3",
         "text": [
          "APCOMP 209A/COMPSCI 1090A/COMPSCI 109A/STAT 109A/STAT 121A: Data Science 1: Introduction to Data Science",
          "APCOMP 209B/COMPSCI 109B/STAT 109B/STAT 121B: Data Science 2: Advanced Topics in Data Science",
          "APCOMP 215: Advanced Practical Data Science",
          "APCOMP 221: Critical Thinking in Data Science",
          "APCOMP 295: Topics in Applied Computation: Advanced Practical Data Science",
          "APCOMP 297R: Computational Science and Engineering Capstone Project",
          "APCOMP 298R: Interdisciplinary Seminar in Applied Computation",
          "APCOMP 299R: Special Topics in Applied Computation",
          "APMTH 115/ENG-SCI 115: Mathematical Modeling",
          "APMTH 121/ENG-SCI 121: Introduction to Optimization: Models and Methods",
          "APMTH 122: Convex Optimization and Its Applications",
          "APMTH 158/ENG-SCI 158: Feedback Control Systems: Analysis and Design",
          "APMTH 201: Physical Mathematics I",
          "APMTH 207: Advanced Scientific Computing: Stochastic Methods for Data Analysis, Inference and Optimization",
          "APMTH 216: Inverse Problems in Science and Engineering",
          "APMTH 221: Advanced Optimization",
          "APMTH 231/ENG-SCI 201: Decision Theory",
          "APMTH 232/ENG-SCI 202: Learning, Estimation, and Control of Dynamical Systems",
          "APMTH 233/ENG-SCI 203: Interplay between Control and Learning",
          "APMTH 50: Introduction to Applied Mathematics",
          "APPHY 284/PHYSICS 262: Statistical Mechanics",
          "BIOSTAT 232/BST 232: Methods",
          "BIOSTAT 234/BST 234: Introduction to Data Structures and Algorithms",
          "BIOSTAT 241/BST 241: Statistical Inference II",
          "BIOSTAT 245/BST 245: Analysis of Multivariate and Longitudinal Data",
          "BIOSTAT 267/BST 267: Introduction to Social and Biological Networks",
          "BIOSTAT 281/BST 281: Genomic Data Manipulation",
          "BIOSTAT 282/BST 282/STAT 115/STAT 215: Introduction to Computational Biology and Bioinformatics",
          "BIOSTAT 283/BST 283: Cancer Genome Analysis",
          "BIOSTAT 290/BST 290: Advanced Computational Biology and Bioinformatics",
          "COMPSCI 282R: Machine Learning: Advances in Uncertainty Quantification, Structured Prediction, Large-Scale Methods",
          "COMPSCI 333/STAT 333: Individual Risk",
          "E-PSCI 102/ESE 102: Data Analysis and Statistical Inference in the Earth and Environmental Sciences",
          "ECON 2340: Transportation and Development: Evidence and Quantitative Models",
          "ENG-SCI 53: Quantitative Physiology as a Basis for Bioengineering",
          "FRSEMR 40P/FYSEMR 40P: Appraising and Reimagining Middle and High School Math Education",
          "FYSEMR 23I: Earth Science Goes to the Movies: Math and Physics of Natural (?) Disasters",
          "FYSEMR 52P: Mathematical Proofs from “the Book”",
          "GOV 2000/GOV 2000E: Introduction to Quantitative Methods I",
          "GOV 2003/STAT 286: Causal Inference with Applications",
          "HIST 12E: Migrant Geographies: Between Asia and the United States in the Twentieth Century",
          "MATH 156: Mathematical Foundations of Statistical Software",
          "MATH 157: Mathematics in the World",
          "MATH 168: Making Math Material",
          "MATH 223B: Algebraic Number Theory",
          "MATH 273X: Distributions of Class Groups of Global Fields",
          "MATH 287Z: Geometric and topological combinatorics",
          "MATH 333: Graduate Reading in Complex Analysis, Dynamics and Geometry",
          "MATH ESPA: Emerging Scholars: Problem Solving Exploration",
          "OEB 137: Experimental Design and Statistics for Ecology",
          "PHYSCI 12B/PHYSICS 12B: Electromagnetism and Statistical Physics from an Analytic, Numerical and Experimental Perspective",
          "PHYSICS 181: Statistical Mechanics and Thermodynamics",
          "PSY 2035: Advanced Statistical Modeling",
          "SOCIOL 1156: Statistics for Social Sciences",
          "STAT 100: Introduction to Quantitative Methods for the Social Sciences and Humanities",
          "STAT 102: Introduction to Statistics for Life Sciences",
          "STAT 104: Introduction to Quantitative Methods for Economics",
          "STAT 107: Introduction to Business and Financial Statistics",
          "STAT 108: Introduction to Statistical Computing with R",
          "STAT 109: Intro to Statistical Modelling",
          "STAT 114: Introduction to Bioinformatics and Statistical Genetics",
          "STAT 117: Data Analysis in Modern Biostatistics",
          "STAT 139: Linear Models",
          "STAT 185: Introduction to Dimension Reduction",
          "STAT 186: Statistical Methods for Evaluating Causal Effects",
          "STAT 188: Variations, Information and Privacy",
          "STAT 195: Introduction to Supervised Learning",
          "STAT 212: Probability 2",
          "STAT 216: Topics in High-Dimensional Probability Theory",
          "STAT 217: Topics in high-dimensional statistics: methods from statistical physics",
          "STAT 248: Couplings and Monte Carlo",
          "STAT 286: Causal Inference & Program Evaluation",
          "STAT 291: Random High-Dimensional Optimization: Landscapes and Algorithmic Barriers",
          "STAT 303HFA: The Art of Communicating and Teaching Statistics",
          "STAT 303HFB: The Art and Practice of Teaching Statistics",
          "STAT 317: Computational Optimal Transport",
          "STAT 98: Tutorial - Junior Year",
          "STAT 99R: Tutorial - Senior Year"
         ],
         "type": "scatter",
         "x": [
          -0.6701679668253178,
          -0.6484846671861638,
          -0.6698319591355142,
          -0.5305000470609048,
          -0.669540978972229,
          -0.6209343829144728,
          -0.6298828500816832,
          -0.5648102880789252,
          -0.5870805796341737,
          -0.5628303891131351,
          -0.4884710092137137,
          -0.2883452442273836,
          -0.3908658513254896,
          -0.4735238016370358,
          -0.33869071997048844,
          -0.3393897148717033,
          -0.45713997177495175,
          -0.265185740218734,
          -0.2569233136292626,
          -0.5120286289133477,
          -0.460476737055815,
          -0.5326280747525285,
          -0.3961575226351038,
          -0.43471701755189185,
          -0.3041068610805719,
          -0.5169680160063934,
          -0.5726195272955903,
          -0.6301293739993377,
          -0.34975021327565686,
          -0.5133159512080038,
          -0.5194465016153517,
          -0.2875491081499264,
          -0.2983265558297766,
          -0.5636421877765777,
          -0.5734729882962909,
          -0.3081737923746491,
          -0.625294061219572,
          -0.2705076018363378,
          -0.36142972736750867,
          -0.38586116595440245,
          -0.5614167759907263,
          -0.2288036503323251,
          -0.43126016550924057,
          -0.2554120657350356,
          -0.2868572651180305,
          -0.1282425422163536,
          -0.3235410629016937,
          -0.43298289057910955,
          -0.282232214167196,
          -0.36782998609397044,
          -0.3226612954533883,
          -0.30081363866551747,
          -0.44043669549313147,
          -0.6676770008994333,
          -0.3907612325224292,
          -0.6074419087426347,
          -0.5015314407963143,
          -0.49043086801126795,
          -0.6681758159535693,
          -0.43584172514069086,
          -0.45907101784239546,
          -0.6268860040790606,
          -0.47933792942771125,
          -0.4392823144913734,
          -0.3261083513377571,
          -0.3651651203012292,
          -0.519146702907017,
          -0.23162829391318604,
          -0.36681117531984664,
          -0.3041369533913366,
          -0.1471216090546169,
          -0.37689259684444476,
          -0.1829149105435794,
          -0.6482636610376835,
          -0.6689583812563743,
          -0.3770429238494546,
          -0.669150600915253,
          -0.4505269547911634
         ],
         "y": [
          -0.4706475507906041,
          -0.4412974981562417,
          -0.47035121064345464,
          -0.27765894402245156,
          -0.47008493138404467,
          -0.38582059372086136,
          -0.4650078629258293,
          -0.29203685789508754,
          -0.377267810378636,
          -0.3392199894130782,
          -0.28164816516030317,
          -0.16785796468548897,
          -0.08828019948450871,
          -0.15692125835024653,
          -0.20976116903395975,
          -0.31376299307035443,
          -0.1745931004419914,
          -0.3806724902611751,
          -0.3096047833841877,
          -0.31292753568569354,
          -0.18091780253255602,
          -0.2442661680388511,
          -0.16929352594409655,
          -0.24201601826513308,
          0.09859439039347845,
          -0.2634447115752377,
          -0.33871258460344805,
          -0.4166024262778035,
          -0.07814751715923049,
          -0.2590387428252694,
          -0.31474866065054996,
          0.010045288517479423,
          0.13109098472555056,
          -0.3246918608414248,
          -0.33468183326765905,
          -0.1339885691384732,
          -0.40942160319303467,
          -0.3006946483597681,
          -0.4347519333180453,
          -0.0027251661893765004,
          -0.3236427351789995,
          0.025799446447907704,
          -0.11594759429821526,
          -0.24771517704645973,
          -0.215997644243418,
          -0.42510720787161854,
          -0.3206139137467115,
          -0.11661262836254872,
          -0.14875626342213402,
          -0.022990620639702485,
          0.07655251410865438,
          -0.06062161104107737,
          -0.14601420093472475,
          -0.46647915176283744,
          0.020587198520760852,
          -0.38452155106852626,
          -0.16987799266959713,
          -0.22407371830195197,
          -0.4688655187860072,
          -0.10406783822761634,
          -0.18053550780887212,
          -0.3927024355994218,
          -0.12570149012265294,
          -0.15791045021485275,
          0.061701794319474056,
          -0.037544134626877265,
          -0.3430424666107463,
          -0.1664887138271901,
          -0.39671405810055205,
          -0.4379385313189332,
          -0.11251096467436345,
          0.017540398127639016,
          -0.106942138177703,
          -0.4312490822938175,
          -0.4695616356055901,
          -0.019217121277789975,
          -0.469739892503546,
          -0.08185998383149536
         ]
        },
        {
         "hovertemplate": "<b>Course Name:</b> %{text}<br><b>Topic:</b> %{meta}",
         "marker": {
          "color": "hsl(288.0, 70%, 50%)",
          "line": {
           "color": "black",
           "width": 1
          },
          "size": 10
         },
         "meta": [
          "Topic 4",
          "Topic 4",
          "Topic 4",
          "Topic 4",
          "Topic 4",
          "Topic 4",
          "Topic 4",
          "Topic 4",
          "Topic 4",
          "Topic 4",
          "Topic 4",
          "Topic 4",
          "Topic 4",
          "Topic 4",
          "Topic 4",
          "Topic 4",
          "Topic 4",
          "Topic 4",
          "Topic 4",
          "Topic 4",
          "Topic 4",
          "Topic 4",
          "Topic 4",
          "Topic 4",
          "Topic 4",
          "Topic 4",
          "Topic 4",
          "Topic 4"
         ],
         "mode": "markers",
         "name": "Topic 4",
         "text": [
          "APCOMP 227/APMTH 227: Computational Methods in the Physical Sciences",
          "APMTH 210: Algebraic Fundamentals of Representing Data",
          "APMTH 215: Mathematical Modeling for Computational Science",
          "APMTH 220: Geometric Methods for Machine Learning",
          "APMTH 226: Theory of Neural Computation",
          "BIOSTAT 244/BST 244: Analysis of Failure Time Data",
          "BIOSTAT 249/BST 249: Bayesian Methodology in Biostatistics",
          "BIOSTAT 258/BST 258: Causal Inference: Theory and Practice",
          "ECON 2142/STAT 242: Time Series",
          "GOV 2001: Quantitative Social Science Methods I",
          "HISTSCI 206R: Science, Mathematics, and Explanation: What Does it Mean to Explain Something?",
          "MATH 243: Evolutionary Dynamics",
          "PSY 1900: Introduction to Statistics for the Behavioral Sciences",
          "STAT 140: Design of Experiments",
          "STAT 143: Sports Analytics",
          "STAT 149: Generalized Linear Models",
          "STAT 160: Introduction to Survey Sampling and Estimation",
          "STAT 161: Introduction to Nonparametric Methods",
          "STAT 221: Computational Tools for Statistical Learning: Approximation, Optimization, and Monte Carlo",
          "STAT 234: Sequential Decision Making",
          "STAT 236: Statistical Learning",
          "STAT 288: Deep Statistics: AI and Earth Observations for Sustainable Development",
          "STAT 293/STAT 393/STAT 397: Design of Experimental and Non-experimental Studies",
          "STAT 315: Modern high-dimensional inference",
          "STAT 364: Scalable Statistical Inference for Big Data with Applications",
          "STAT 388R: Design and Analysis of Experiments at Scale",
          "SYSBIO 220: Analysis foundations for quantitative biologists",
          "SYSBIO 220QC: Analysis foundations for quantitative biologists (part 1)"
         ],
         "type": "scatter",
         "x": [
          0.1518713338466279,
          0.1645846098542355,
          0.03650424428658823,
          -0.16514143043028232,
          -0.08005652882561133,
          -0.09526967348629496,
          -0.0621350998959061,
          -0.10951879729518911,
          -0.07029158371848726,
          -0.09297980688392118,
          0.254138630309015,
          -0.22208117612321093,
          -0.3360245152902595,
          -0.13079373210379083,
          -0.06976636353391612,
          -0.06190051994110011,
          -0.0666234063356808,
          -0.07697812311873287,
          -0.2346560760413186,
          -0.20090053833895008,
          0.015544835502056115,
          -0.22554209645930484,
          -0.10929585680570288,
          -0.10943133763899972,
          5.64741195560416e-05,
          0.09932652560698615,
          -0.021709498731521903,
          0.020568081850066956
         ],
         "y": [
          -0.023244985834983675,
          0.07784448602807478,
          0.22190147310987812,
          -0.039640030706316436,
          -0.08120782665212514,
          0.35003850523764735,
          0.4974141165700071,
          0.2878063186329744,
          0.26828945943428845,
          0.09252820094995437,
          0.0859169480264782,
          0.07685415116797903,
          -0.016230750085288435,
          0.3460291240688389,
          0.45863456247753825,
          0.49410798291684566,
          0.4750666523262314,
          0.4302549519004092,
          0.07695679374906339,
          0.16316784864124428,
          0.17832364632390665,
          0.1308267366339394,
          0.2872592862434891,
          0.2875950981329144,
          0.20311466222512184,
          0.2058934324249747,
          0.2253714331820203,
          0.2044653860663928
         ]
        }
       ],
       "layout": {
        "height": 600,
        "showlegend": true,
        "template": {
         "data": {
          "bar": [
           {
            "error_x": {
             "color": "#2a3f5f"
            },
            "error_y": {
             "color": "#2a3f5f"
            },
            "marker": {
             "line": {
              "color": "#E5ECF6",
              "width": 0.5
             },
             "pattern": {
              "fillmode": "overlay",
              "size": 10,
              "solidity": 0.2
             }
            },
            "type": "bar"
           }
          ],
          "barpolar": [
           {
            "marker": {
             "line": {
              "color": "#E5ECF6",
              "width": 0.5
             },
             "pattern": {
              "fillmode": "overlay",
              "size": 10,
              "solidity": 0.2
             }
            },
            "type": "barpolar"
           }
          ],
          "carpet": [
           {
            "aaxis": {
             "endlinecolor": "#2a3f5f",
             "gridcolor": "white",
             "linecolor": "white",
             "minorgridcolor": "white",
             "startlinecolor": "#2a3f5f"
            },
            "baxis": {
             "endlinecolor": "#2a3f5f",
             "gridcolor": "white",
             "linecolor": "white",
             "minorgridcolor": "white",
             "startlinecolor": "#2a3f5f"
            },
            "type": "carpet"
           }
          ],
          "choropleth": [
           {
            "colorbar": {
             "outlinewidth": 0,
             "ticks": ""
            },
            "type": "choropleth"
           }
          ],
          "contour": [
           {
            "colorbar": {
             "outlinewidth": 0,
             "ticks": ""
            },
            "colorscale": [
             [
              0,
              "#0d0887"
             ],
             [
              0.1111111111111111,
              "#46039f"
             ],
             [
              0.2222222222222222,
              "#7201a8"
             ],
             [
              0.3333333333333333,
              "#9c179e"
             ],
             [
              0.4444444444444444,
              "#bd3786"
             ],
             [
              0.5555555555555556,
              "#d8576b"
             ],
             [
              0.6666666666666666,
              "#ed7953"
             ],
             [
              0.7777777777777778,
              "#fb9f3a"
             ],
             [
              0.8888888888888888,
              "#fdca26"
             ],
             [
              1,
              "#f0f921"
             ]
            ],
            "type": "contour"
           }
          ],
          "contourcarpet": [
           {
            "colorbar": {
             "outlinewidth": 0,
             "ticks": ""
            },
            "type": "contourcarpet"
           }
          ],
          "heatmap": [
           {
            "colorbar": {
             "outlinewidth": 0,
             "ticks": ""
            },
            "colorscale": [
             [
              0,
              "#0d0887"
             ],
             [
              0.1111111111111111,
              "#46039f"
             ],
             [
              0.2222222222222222,
              "#7201a8"
             ],
             [
              0.3333333333333333,
              "#9c179e"
             ],
             [
              0.4444444444444444,
              "#bd3786"
             ],
             [
              0.5555555555555556,
              "#d8576b"
             ],
             [
              0.6666666666666666,
              "#ed7953"
             ],
             [
              0.7777777777777778,
              "#fb9f3a"
             ],
             [
              0.8888888888888888,
              "#fdca26"
             ],
             [
              1,
              "#f0f921"
             ]
            ],
            "type": "heatmap"
           }
          ],
          "heatmapgl": [
           {
            "colorbar": {
             "outlinewidth": 0,
             "ticks": ""
            },
            "colorscale": [
             [
              0,
              "#0d0887"
             ],
             [
              0.1111111111111111,
              "#46039f"
             ],
             [
              0.2222222222222222,
              "#7201a8"
             ],
             [
              0.3333333333333333,
              "#9c179e"
             ],
             [
              0.4444444444444444,
              "#bd3786"
             ],
             [
              0.5555555555555556,
              "#d8576b"
             ],
             [
              0.6666666666666666,
              "#ed7953"
             ],
             [
              0.7777777777777778,
              "#fb9f3a"
             ],
             [
              0.8888888888888888,
              "#fdca26"
             ],
             [
              1,
              "#f0f921"
             ]
            ],
            "type": "heatmapgl"
           }
          ],
          "histogram": [
           {
            "marker": {
             "pattern": {
              "fillmode": "overlay",
              "size": 10,
              "solidity": 0.2
             }
            },
            "type": "histogram"
           }
          ],
          "histogram2d": [
           {
            "colorbar": {
             "outlinewidth": 0,
             "ticks": ""
            },
            "colorscale": [
             [
              0,
              "#0d0887"
             ],
             [
              0.1111111111111111,
              "#46039f"
             ],
             [
              0.2222222222222222,
              "#7201a8"
             ],
             [
              0.3333333333333333,
              "#9c179e"
             ],
             [
              0.4444444444444444,
              "#bd3786"
             ],
             [
              0.5555555555555556,
              "#d8576b"
             ],
             [
              0.6666666666666666,
              "#ed7953"
             ],
             [
              0.7777777777777778,
              "#fb9f3a"
             ],
             [
              0.8888888888888888,
              "#fdca26"
             ],
             [
              1,
              "#f0f921"
             ]
            ],
            "type": "histogram2d"
           }
          ],
          "histogram2dcontour": [
           {
            "colorbar": {
             "outlinewidth": 0,
             "ticks": ""
            },
            "colorscale": [
             [
              0,
              "#0d0887"
             ],
             [
              0.1111111111111111,
              "#46039f"
             ],
             [
              0.2222222222222222,
              "#7201a8"
             ],
             [
              0.3333333333333333,
              "#9c179e"
             ],
             [
              0.4444444444444444,
              "#bd3786"
             ],
             [
              0.5555555555555556,
              "#d8576b"
             ],
             [
              0.6666666666666666,
              "#ed7953"
             ],
             [
              0.7777777777777778,
              "#fb9f3a"
             ],
             [
              0.8888888888888888,
              "#fdca26"
             ],
             [
              1,
              "#f0f921"
             ]
            ],
            "type": "histogram2dcontour"
           }
          ],
          "mesh3d": [
           {
            "colorbar": {
             "outlinewidth": 0,
             "ticks": ""
            },
            "type": "mesh3d"
           }
          ],
          "parcoords": [
           {
            "line": {
             "colorbar": {
              "outlinewidth": 0,
              "ticks": ""
             }
            },
            "type": "parcoords"
           }
          ],
          "pie": [
           {
            "automargin": true,
            "type": "pie"
           }
          ],
          "scatter": [
           {
            "fillpattern": {
             "fillmode": "overlay",
             "size": 10,
             "solidity": 0.2
            },
            "type": "scatter"
           }
          ],
          "scatter3d": [
           {
            "line": {
             "colorbar": {
              "outlinewidth": 0,
              "ticks": ""
             }
            },
            "marker": {
             "colorbar": {
              "outlinewidth": 0,
              "ticks": ""
             }
            },
            "type": "scatter3d"
           }
          ],
          "scattercarpet": [
           {
            "marker": {
             "colorbar": {
              "outlinewidth": 0,
              "ticks": ""
             }
            },
            "type": "scattercarpet"
           }
          ],
          "scattergeo": [
           {
            "marker": {
             "colorbar": {
              "outlinewidth": 0,
              "ticks": ""
             }
            },
            "type": "scattergeo"
           }
          ],
          "scattergl": [
           {
            "marker": {
             "colorbar": {
              "outlinewidth": 0,
              "ticks": ""
             }
            },
            "type": "scattergl"
           }
          ],
          "scattermapbox": [
           {
            "marker": {
             "colorbar": {
              "outlinewidth": 0,
              "ticks": ""
             }
            },
            "type": "scattermapbox"
           }
          ],
          "scatterpolar": [
           {
            "marker": {
             "colorbar": {
              "outlinewidth": 0,
              "ticks": ""
             }
            },
            "type": "scatterpolar"
           }
          ],
          "scatterpolargl": [
           {
            "marker": {
             "colorbar": {
              "outlinewidth": 0,
              "ticks": ""
             }
            },
            "type": "scatterpolargl"
           }
          ],
          "scatterternary": [
           {
            "marker": {
             "colorbar": {
              "outlinewidth": 0,
              "ticks": ""
             }
            },
            "type": "scatterternary"
           }
          ],
          "surface": [
           {
            "colorbar": {
             "outlinewidth": 0,
             "ticks": ""
            },
            "colorscale": [
             [
              0,
              "#0d0887"
             ],
             [
              0.1111111111111111,
              "#46039f"
             ],
             [
              0.2222222222222222,
              "#7201a8"
             ],
             [
              0.3333333333333333,
              "#9c179e"
             ],
             [
              0.4444444444444444,
              "#bd3786"
             ],
             [
              0.5555555555555556,
              "#d8576b"
             ],
             [
              0.6666666666666666,
              "#ed7953"
             ],
             [
              0.7777777777777778,
              "#fb9f3a"
             ],
             [
              0.8888888888888888,
              "#fdca26"
             ],
             [
              1,
              "#f0f921"
             ]
            ],
            "type": "surface"
           }
          ],
          "table": [
           {
            "cells": {
             "fill": {
              "color": "#EBF0F8"
             },
             "line": {
              "color": "white"
             }
            },
            "header": {
             "fill": {
              "color": "#C8D4E3"
             },
             "line": {
              "color": "white"
             }
            },
            "type": "table"
           }
          ]
         },
         "layout": {
          "annotationdefaults": {
           "arrowcolor": "#2a3f5f",
           "arrowhead": 0,
           "arrowwidth": 1
          },
          "autotypenumbers": "strict",
          "coloraxis": {
           "colorbar": {
            "outlinewidth": 0,
            "ticks": ""
           }
          },
          "colorscale": {
           "diverging": [
            [
             0,
             "#8e0152"
            ],
            [
             0.1,
             "#c51b7d"
            ],
            [
             0.2,
             "#de77ae"
            ],
            [
             0.3,
             "#f1b6da"
            ],
            [
             0.4,
             "#fde0ef"
            ],
            [
             0.5,
             "#f7f7f7"
            ],
            [
             0.6,
             "#e6f5d0"
            ],
            [
             0.7,
             "#b8e186"
            ],
            [
             0.8,
             "#7fbc41"
            ],
            [
             0.9,
             "#4d9221"
            ],
            [
             1,
             "#276419"
            ]
           ],
           "sequential": [
            [
             0,
             "#0d0887"
            ],
            [
             0.1111111111111111,
             "#46039f"
            ],
            [
             0.2222222222222222,
             "#7201a8"
            ],
            [
             0.3333333333333333,
             "#9c179e"
            ],
            [
             0.4444444444444444,
             "#bd3786"
            ],
            [
             0.5555555555555556,
             "#d8576b"
            ],
            [
             0.6666666666666666,
             "#ed7953"
            ],
            [
             0.7777777777777778,
             "#fb9f3a"
            ],
            [
             0.8888888888888888,
             "#fdca26"
            ],
            [
             1,
             "#f0f921"
            ]
           ],
           "sequentialminus": [
            [
             0,
             "#0d0887"
            ],
            [
             0.1111111111111111,
             "#46039f"
            ],
            [
             0.2222222222222222,
             "#7201a8"
            ],
            [
             0.3333333333333333,
             "#9c179e"
            ],
            [
             0.4444444444444444,
             "#bd3786"
            ],
            [
             0.5555555555555556,
             "#d8576b"
            ],
            [
             0.6666666666666666,
             "#ed7953"
            ],
            [
             0.7777777777777778,
             "#fb9f3a"
            ],
            [
             0.8888888888888888,
             "#fdca26"
            ],
            [
             1,
             "#f0f921"
            ]
           ]
          },
          "colorway": [
           "#636efa",
           "#EF553B",
           "#00cc96",
           "#ab63fa",
           "#FFA15A",
           "#19d3f3",
           "#FF6692",
           "#B6E880",
           "#FF97FF",
           "#FECB52"
          ],
          "font": {
           "color": "#2a3f5f"
          },
          "geo": {
           "bgcolor": "white",
           "lakecolor": "white",
           "landcolor": "#E5ECF6",
           "showlakes": true,
           "showland": true,
           "subunitcolor": "white"
          },
          "hoverlabel": {
           "align": "left"
          },
          "hovermode": "closest",
          "mapbox": {
           "style": "light"
          },
          "paper_bgcolor": "white",
          "plot_bgcolor": "#E5ECF6",
          "polar": {
           "angularaxis": {
            "gridcolor": "white",
            "linecolor": "white",
            "ticks": ""
           },
           "bgcolor": "#E5ECF6",
           "radialaxis": {
            "gridcolor": "white",
            "linecolor": "white",
            "ticks": ""
           }
          },
          "scene": {
           "xaxis": {
            "backgroundcolor": "#E5ECF6",
            "gridcolor": "white",
            "gridwidth": 2,
            "linecolor": "white",
            "showbackground": true,
            "ticks": "",
            "zerolinecolor": "white"
           },
           "yaxis": {
            "backgroundcolor": "#E5ECF6",
            "gridcolor": "white",
            "gridwidth": 2,
            "linecolor": "white",
            "showbackground": true,
            "ticks": "",
            "zerolinecolor": "white"
           },
           "zaxis": {
            "backgroundcolor": "#E5ECF6",
            "gridcolor": "white",
            "gridwidth": 2,
            "linecolor": "white",
            "showbackground": true,
            "ticks": "",
            "zerolinecolor": "white"
           }
          },
          "shapedefaults": {
           "line": {
            "color": "#2a3f5f"
           }
          },
          "ternary": {
           "aaxis": {
            "gridcolor": "white",
            "linecolor": "white",
            "ticks": ""
           },
           "baxis": {
            "gridcolor": "white",
            "linecolor": "white",
            "ticks": ""
           },
           "bgcolor": "#E5ECF6",
           "caxis": {
            "gridcolor": "white",
            "linecolor": "white",
            "ticks": ""
           }
          },
          "title": {
           "x": 0.05
          },
          "xaxis": {
           "automargin": true,
           "gridcolor": "white",
           "linecolor": "white",
           "ticks": "",
           "title": {
            "standoff": 15
           },
           "zerolinecolor": "white",
           "zerolinewidth": 2
          },
          "yaxis": {
           "automargin": true,
           "gridcolor": "white",
           "linecolor": "white",
           "ticks": "",
           "title": {
            "standoff": 15
           },
           "zerolinecolor": "white",
           "zerolinewidth": 2
          }
         }
        },
        "title": {
         "text": "Topic Distribution of Documents (PCA-reduced)"
        },
        "width": 1000,
        "xaxis": {
         "autorange": true,
         "range": [
          -0.7615492864037311,
          0.8201639738986216
         ],
         "title": {
          "text": "Principal Component 1"
         },
         "type": "linear"
        },
        "yaxis": {
         "autorange": true,
         "range": [
          -0.5591762092386273,
          0.8053021961987942
         ],
         "title": {
          "text": "Principal Component 2"
         },
         "type": "linear"
        }
       }
      },
      "image/png": "[encoded data removed]",
      "text/html": [
       "<div>                            <div id=\"d2944c38-3813-4ea3-a297-a9b8c79e6e6b\" class=\"plotly-graph-div\" style=\"height:600px; width:1000px;\"></div>            <script type=\"text/javascript\">                require([\"plotly\"], function(Plotly) {                    window.PLOTLYENV=window.PLOTLYENV || {};                                    if (document.getElementById(\"d2944c38-3813-4ea3-a297-a9b8c79e6e6b\")) {                    Plotly.newPlot(                        \"d2944c38-3813-4ea3-a297-a9b8c79e6e6b\",                        [{\"hovertemplate\":\"\\u003cb\\u003eCourse Name:\\u003c\\u002fb\\u003e %{text}\\u003cbr\\u003e\\u003cb\\u003eTopic:\\u003c\\u002fb\\u003e %{meta}\",\"marker\":{\"color\":\"hsl(0.0, 70%, 50%)\",\"line\":{\"color\":\"black\",\"width\":1},\"size\":10},\"meta\":[\"Topic 0\",\"Topic 0\",\"Topic 0\",\"Topic 0\",\"Topic 0\",\"Topic 0\",\"Topic 0\",\"Topic 0\",\"Topic 0\",\"Topic 0\",\"Topic 0\",\"Topic 0\",\"Topic 0\",\"Topic 0\",\"Topic 0\",\"Topic 0\",\"Topic 0\",\"Topic 0\",\"Topic 0\",\"Topic 0\",\"Topic 0\",\"Topic 0\",\"Topic 0\",\"Topic 0\",\"Topic 0\",\"Topic 0\",\"Topic 0\",\"Topic 0\",\"Topic 0\",\"Topic 0\",\"Topic 0\",\"Topic 0\",\"Topic 0\",\"Topic 0\",\"Topic 0\",\"Topic 0\",\"Topic 0\",\"Topic 0\",\"Topic 0\",\"Topic 0\",\"Topic 0\",\"Topic 0\",\"Topic 0\",\"Topic 0\",\"Topic 0\",\"Topic 0\",\"Topic 0\",\"Topic 0\"],\"mode\":\"markers\",\"name\":\"Topic 0\",\"text\":[\"APMTH 101: Statistical Inference for Scientists and Engineers\",\"APMTH 120: Applied Linear Algebra and Big Data\",\"APMTH 203: Introduction to Disordered Systems and Stochastic Processes\",\"APMTH 217: Patterns\",\"BIOSTAT 230\\u002fBST 230: Probability I\",\"BIOSTAT 233\\u002fBST 233: Methods II\",\"CHEM 161: Statistical Thermodynamics\",\"CHEM 200\\u002fENG-SCI 200\\u002fQSE 200: Foundations of Quantum Mechanics\",\"CHEM 246: Advanced Statistical Mechanics: Frontiers in Research\",\"ECON 1126: Quantitative Methods in Economics\",\"MATH 102: Much Ado About Everything: The Mathematics of Leonhard Euler\",\"MATH 113: Complex Analysis\",\"MATH 117: Probability and Random Processes with Economic Applications\",\"MATH 123: Algebra II: Theory of Rings and Fields\",\"MATH 130: Classical Geometry\",\"MATH 131: Topological Spaces and Fundamental Group\",\"MATH 141B: Mathematical Logic II\",\"MATH 145B: Set Theory II\",\"MATH 153\\u002fMATH 242: Mathematical Biology-Evolutionary Dynamics\",\"MATH 154: Probability Theory\",\"MATH 18B\\u002f19B: Linear Algebra, Probability, and Statistics\",\"MATH 219: Topics in Complex Analysis: From Conformal Invariants to Percolation\",\"MATH 231BR: Advanced Algebraic Topology\",\"MATH 232A\\u002fMATH 232AR: Introduction to Algebraic Geometry I\",\"MATH 232BR: Algebraic Geometry II\",\"MATH 23B: Linear Algebra and Real Analysis II\",\"MATH 23C: Mathematics for Computation, Statistics, and Data Science\",\"MATH 25B: Theoretical Linear Algebra and Real Analysis II\",\"MATH 270X: Topology and Condensed Matter Physics\",\"MATH 272X: Diffeomorphisms of Disks\",\"MATH 275: Ergodic Theory, Geometry and Dynamics\",\"MATH 275Z: Topics in Mean Field Spin Glasses\",\"MATH 281Y: Non-Kahler Calabi-Yau Manifolds\",\"MATH 284Z: Topics in stochastic analysis\",\"MATH 292Z: First steps in infinity categories\",\"MATH 55A: Studies in Algebra and Group Theory\",\"MCB 199\\u002fPHYSICS 199: Statistical Thermodynamics and Quantitative Biology\",\"PHYSICS 143A: Quantum Mechanics I\",\"PHYSICS 15B: Introductory Electromagnetism and Statistical Physics\",\"PHYSICS 264: Lie Algebras, Representations and Quantum Mechanics\",\"STAT 111: Introduction to Statistical Inference\",\"STAT 123: Applied Quantitative Finance\",\"STAT 131: Time Series & Prediction\",\"STAT 141: Introduction to Spatial Statistics\",\"STAT 171: Introduction to Stochastic Processes\",\"STAT 211: Statistical Inference I\",\"STAT 213: Statistical Inference II\",\"STAT 220: Bayesian Data Analysis\"],\"x\":[-0.25041956621204303,-0.15844876105741812,0.24249694220267926,0.11510614668345362,0.06987075446129601,-0.05680510556102637,-0.29442204472076156,-0.009618787530128773,-0.10809358762617369,-0.027323726825566035,-0.01493853226408271,-0.04153494775604962,-0.04385517973037819,-0.14947182477879653,-0.015024614877019575,0.1797329893504766,0.048740035506592574,-0.014817478953939313,-0.11950415936009322,-0.04398623526971275,-0.019940900288139347,0.25233538747055506,0.020497592601816602,0.3435516546441325,0.24737369313806565,-0.11609731017819545,-0.03885710732947956,0.008364376750498342,0.10663171639123138,0.2794233801336983,0.323784283340205,0.3098435105543132,0.062000740807221885,0.27809245802176275,0.34902775720728496,0.12463451920840295,0.07976245425484035,-0.036669087191933056,-0.01438415140333765,0.10791469748173536,-0.24911843774733985,-0.02057372654594862,-0.2463956674752555,-0.26530156807591865,-0.014363450560239847,-0.14585520562997595,0.07789800578556819,-0.04266880030397835],\"y\":[0.2246754547639447,0.40615397455020724,0.23145620092499875,0.4379190716876148,0.5397935390194203,0.5241580218132202,0.18070919059501497,0.47014042487795565,0.4780752272570627,0.6412980851211979,0.6950577604555233,0.5806637568606212,0.5664852674126498,0.17999510240808564,0.6918368865092941,0.2857270307165445,0.5013274845730529,0.7008476664734893,0.2788959852686652,0.5723977785010389,0.4494293785589121,0.3238149959414212,0.09111317000508772,0.19739667689953994,0.33751258322753297,0.4700934603982983,0.5920052332040954,0.5043577590464494,0.5167923905413088,0.29120426966855995,0.2197414453982931,0.23883496493403747,0.5925366906331275,0.23965373498766826,0.1827992693684692,0.36622594607138487,0.44255344440231836,0.6060795726417102,0.7158396186991123,0.2760870733883319,0.29136547416645375,0.6836407531110749,0.2175407274562365,0.2624144349916586,0.716773537750771,0.21462525390709997,0.14856513873184946,0.5863492898689806],\"type\":\"scatter\"},{\"hovertemplate\":\"\\u003cb\\u003eCourse Name:\\u003c\\u002fb\\u003e %{text}\\u003cbr\\u003e\\u003cb\\u003eTopic:\\u003c\\u002fb\\u003e %{meta}\",\"marker\":{\"color\":\"hsl(72.0, 70%, 50%)\",\"line\":{\"color\":\"black\",\"width\":1},\"size\":10},\"meta\":[\"Topic 1\",\"Topic 1\",\"Topic 1\",\"Topic 1\",\"Topic 1\",\"Topic 1\",\"Topic 1\",\"Topic 1\",\"Topic 1\",\"Topic 1\",\"Topic 1\",\"Topic 1\",\"Topic 1\",\"Topic 1\",\"Topic 1\",\"Topic 1\",\"Topic 1\",\"Topic 1\",\"Topic 1\",\"Topic 1\",\"Topic 1\",\"Topic 1\",\"Topic 1\",\"Topic 1\",\"Topic 1\",\"Topic 1\",\"Topic 1\",\"Topic 1\",\"Topic 1\",\"Topic 1\",\"Topic 1\",\"Topic 1\",\"Topic 1\",\"Topic 1\",\"Topic 1\",\"Topic 1\",\"Topic 1\",\"Topic 1\",\"Topic 1\",\"Topic 1\",\"Topic 1\",\"Topic 1\",\"Topic 1\",\"Topic 1\",\"Topic 1\",\"Topic 1\",\"Topic 1\",\"Topic 1\",\"Topic 1\",\"Topic 1\",\"Topic 1\",\"Topic 1\",\"Topic 1\",\"Topic 1\",\"Topic 1\",\"Topic 1\",\"Topic 1\",\"Topic 1\",\"Topic 1\",\"Topic 1\",\"Topic 1\",\"Topic 1\",\"Topic 1\",\"Topic 1\",\"Topic 1\",\"Topic 1\",\"Topic 1\",\"Topic 1\",\"Topic 1\",\"Topic 1\",\"Topic 1\",\"Topic 1\"],\"mode\":\"markers\",\"name\":\"Topic 1\",\"text\":[\"APMTH 10: Computing for Science and Engineering\",\"APMTH 104: Complex and Fourier Analysis with Applications to Art, Science and Engineering\",\"APMTH 206: Advanced Applied Algebra\",\"APMTH 230\\u002fPHYSICS 230: Active Matter\",\"APPHY 295A\\u002fPHYSICS 295A: Introduction to Quantum Theory of Solids\",\"CHEM 166: Quantum Materials, Where Physics and Chemistry Meet\",\"FRSEMR 23P: Physics, Math and Puzzles\",\"FRSEMR 52D\\u002fFYSEMR 52D: Quantum Entanglement and the Second Quantum Revolution\",\"MATH 101: Sets, Groups and Topology\",\"MATH 110: Vector Space Methods for Differential Equations\",\"MATH 114: Analysis of Function Spaces, Measure and Integration\",\"MATH 115: Methods of Analysis\",\"MATH 118R: Dynamical Systems\",\"MATH 119: Introduction to Stochastic Calculus\",\"MATH 124: Number Theory\",\"MATH 129: Number Fields\",\"MATH 137: Algebraic Geometry\",\"MATH 155R: Combinatorics\",\"MATH 163: Derived Categories in Geometry and Algebra\",\"MATH 166R: Introduction to semi-Riemannian geometry\",\"MATH 212\\u002fMATH 212A: Advanced Real Analysis\",\"MATH 212A: Real Analysis\",\"MATH 212BR: Advanced Real Analysis\",\"MATH 213BR: Riemann Surfaces\",\"MATH 221: Commutative Algebra\",\"MATH 225: Homological Algebra\",\"MATH 229\\u002fMATH 229X: Introduction to Analytic Number Theory\",\"MATH 230A: Differential Geometry\",\"MATH 230B: Semi-Riemannian Geometry\",\"MATH 252Y: Finite Height Chromatic Homotopy Theory\",\"MATH 254R: Arithmetic Dynamics\",\"MATH 256X: Heisenberg Calculus in Quantum Topology\",\"MATH 258: L-Functions and Arithmetic Statistics\",\"MATH 259X: Moduli Spaces in Algebraic Geometry\",\"MATH 260X: Rationality Questions in Algebraic Geometry\",\"MATH 262A: Quantum theory from the geometric viewpoint I\",\"MATH 262B: Quantum theory from the geometric viewpoint II\",\"MATH 263X: Mirror Symmetry for Toric Varieties and Other GIT Quotients\",\"MATH 264X: Algebraic Cobordism\",\"MATH 265: Singularities and Hodge theory\",\"MATH 266: Motivic homotopy theory\",\"MATH 266Y: Topics in Analysis: Matrix Inequalities and Quantum Entropy\",\"MATH 268Z: Kashiwara Crystals and Quantum Integrable Systems\",\"MATH 269Z: Topics in Hodge Theory\",\"MATH 270Z: Symplectic geometry\",\"MATH 271: Free Probability, Random Matrices and Random Partitions\",\"MATH 271Z: Topics in Algebraic Geometry - Kodaira dimension and families of varieties\",\"MATH 274Y: Spectral Theory and Quantum Spin Systems\",\"MATH 274Z: Complex and Arithmetic Dynamical Systems\",\"MATH 277X: Quantum Geometry\",\"MATH 277Z: K3 surfaces\",\"MATH 278: Geometry and Algebra of Computational Complexity\",\"MATH 278Z: Tools and ideas in low-dimensional topology\",\"MATH 279Z: Cohen-Macaulay modules and vector bundles\",\"MATH 281Z: Homological Algebra\",\"MATH 282X: Topics in Invariant Descriptive Set Theory\",\"MATH 283: Instanton Floer Homology\",\"MATH 283Z: Foundations of non-abelian Chabauty\",\"MATH 288Y: Analytic Number Theory Over Function Fields\",\"MATH 288Z: Entropy\",\"MATH 289: Topics on Knots, 3 and 4-Manifolds\",\"MATH 289Y: Topics in Geometric PDEs\",\"MATH 290: Birational Geometry of Algebraic Varieties\",\"MATH 291Y: P-adic analytic groups and their cohomology\",\"MATH 293X: Topological modular forms\",\"MATH 295: Topics in Discrete Probability: Random Structures and Algorithms\",\"MATH 295Y: Arithmetic Dynamics\",\"MATH 296: D-Modules in Birational Geometry\",\"MATH 297X: Geometry and complexity theory\",\"MATH 99R: Tutorial\",\"PHYSICS 267: Higher Representations in Physics and Mathematics\",\"QSE 210B: Introduction to Quantum Information Science II\"],\"x\":[0.30801894097789595,0.37861964968199074,0.33707503913727777,0.303207008191575,0.44005282763648174,0.10752818944001857,0.719606531568984,0.21677635308592472,0.4112675455649806,0.2208692649999982,0.5867075687985349,0.4327261085751113,0.2880563405844697,0.2757464670382072,0.5256940045775192,0.21616856521619496,0.47659306464863394,0.46858002371782526,0.36022019554259144,0.3282918625989675,0.6127564089351396,0.7079648869680827,0.4895493783304936,0.6631061784475794,0.6785144358987352,0.7245633979269169,0.7270695860814219,0.7175719988905485,0.7259851134252183,0.49004645740193453,0.7240860721999026,0.5964942075028904,0.49627164474293245,0.4105855557101675,0.7202025715006164,0.3609506900659883,0.3395464444992813,0.6454380909784818,0.723514344523712,0.7205055552087636,0.6100139575282455,0.728501185940907,0.7267434127734603,0.38272391211351037,0.6966895519506122,0.3599152724341765,0.7225113622938739,0.7287826543202083,0.5478624415224573,0.37306663767881254,0.7204876889632631,0.7036140535825479,0.2058768587677573,0.7274792633053137,0.7248216560323116,0.7277098319200156,0.5587084454380281,0.47809166982387613,0.7193285482003997,0.19395079146832847,0.47463283733290557,0.7269257991060272,0.3672122971006406,0.561618751647861,0.07953664516278232,0.6120463934934408,0.7255213159243166,0.5666442446106665,0.7249468246877165,0.3172143215444922,0.7286726431908941,0.7272408874737227],\"y\":[-0.02814877720687317,-0.011694614396810767,-0.2612975570102021,-0.0001972871436040795,0.05589321392585463,-0.23218699479445915,-0.3480724075314075,-0.3931422279758168,-0.0336266202755607,-0.22467778061377996,-0.21057614866182003,0.07201344620455792,9.72855125030846e-05,0.14823820657447434,-0.0698012433655464,-0.11903539993217296,-0.05562511416224072,0.017701361828770454,0.07624513769548004,-0.00794675492346723,-0.19127444579142056,-0.3410440820352232,-0.07513383817314022,-0.26142708368721285,-0.28301172413849535,-0.35102760005570716,-0.3525199977483413,-0.3468235115436336,-0.3518742969232278,-0.014920167547685593,-0.3507514416346118,-0.25235579211355225,-0.17599033238798392,0.09475014830622394,-0.3484127401413309,-0.0338384976006498,-0.034350900096743166,-0.23584988685031325,-0.3503869126824701,-0.348587443673893,-0.2582274915873663,-0.3533749038204649,-0.35231806626177714,0.08627424960177307,-0.32954338373476905,0.04616037333637398,-0.3497857028275796,-0.3535472898736801,-0.1219098337043087,-0.2613765956623962,-0.3485733517845314,-0.33421325888347947,-0.31597490864995453,-0.3527658925223485,-0.35117813061861725,-0.3528988550839516,-0.21679581769893244,0.003333777336616299,-0.3478921953350577,-0.161031422803561,0.007705722152091466,-0.35243607169685476,0.13972984068792296,-0.23574687200063604,-0.2703034913842715,-0.26444777013445225,-0.35160231756919824,-0.12321728843377353,-0.3512516961677396,-0.302186067756352,-0.3534798996692409,-0.35261943074748897],\"type\":\"scatter\"},{\"hovertemplate\":\"\\u003cb\\u003eCourse Name:\\u003c\\u002fb\\u003e %{text}\\u003cbr\\u003e\\u003cb\\u003eTopic:\\u003c\\u002fb\\u003e %{meta}\",\"marker\":{\"color\":\"hsl(144.0, 70%, 50%)\",\"line\":{\"color\":\"black\",\"width\":1},\"size\":10},\"meta\":[\"Topic 2\",\"Topic 2\",\"Topic 2\",\"Topic 2\",\"Topic 2\",\"Topic 2\",\"Topic 2\",\"Topic 2\",\"Topic 2\",\"Topic 2\",\"Topic 2\",\"Topic 2\",\"Topic 2\",\"Topic 2\",\"Topic 2\",\"Topic 2\",\"Topic 2\",\"Topic 2\",\"Topic 2\",\"Topic 2\",\"Topic 2\",\"Topic 2\",\"Topic 2\",\"Topic 2\",\"Topic 2\",\"Topic 2\",\"Topic 2\",\"Topic 2\",\"Topic 2\",\"Topic 2\",\"Topic 2\"],\"mode\":\"markers\",\"name\":\"Topic 2\",\"text\":[\"APMTH 108: Nonlinear Dynamical Systems\",\"APMTH 202: Physical Mathematics II\",\"APMTH 21A: Mathematical Methods in the Sciences\",\"APMTH 22B: Integrating and Approximating\",\"COMPSCI 20: Discrete Mathematics for Computer Science\",\"FYSEMR 23P: Physics, Math and Puzzles\",\"MATH 112: Introductory Real Analysis\",\"MATH 116: Real Analysis, Convexity, and Optimization\",\"MATH 121: Linear Algebra\",\"MATH 132: Differential Topology\",\"MATH 141A: Mathematical Logic I\",\"MATH 152: Discrete Mathematics\",\"MATH 161: Introduction to Formal Verification of Mathematics\",\"MATH 18\\u002fMATH 18A: Multivariable Calculus for Social Sciences\",\"MATH 19A: Modeling and Differential Equations for the Life Sciences\",\"MATH 19B: Linear Algebra, Probability, and Statistics for the Life Sciences\",\"MATH 1A: Introduction to Calculus\",\"MATH 1B: Integration, Series and Differential Equations\",\"MATH 21A: Multivariable Calculus\",\"MATH 21B: Linear Algebra and Differential Equations\",\"MATH 22A: Vector Calculus and Linear Algebra I\",\"MATH 22B: Vector Calculus and Linear Algebra II\",\"MATH 23A: Linear Algebra and Real Analysis I\",\"MATH 25A: Theoretical Linear Algebra and Real Analysis I\",\"MATH 370: Topics in Linear Algebra and Multivariable Calculus; and Their Applications\",\"MATH MA5: An In-depth Introduction to Functions and Calculus I\",\"MATH MB: Introduction to Functions and Calculus II\",\"NEUROBIO 314QC: Mathematical Tools for Neuroscience\",\"PHIL 151Z: Philosophy of Quantum Mechanics: Proseminar\",\"PHYSCI 12A: Mechanics and Statistical Physics from an Analytic, Numerical and Experimental Perspective\",\"PHYSICS 143B: Quantum Mechanics II\"],\"x\":[-0.21300413764780293,0.0970055197085016,-0.09568378858801986,0.13549217911921954,-0.37818815693388885,-0.36164549160185433,0.10501882741414807,0.057921818086902756,0.12070638262841205,-0.12360417384428901,-0.29212329763680084,0.23171799083148661,-0.2156930949592627,-0.1398626583628467,-0.0989230907458789,-0.023530004625074107,-0.09569742798456528,-0.08101025993628802,-0.09516706743387668,-0.09571415525756612,-0.030540429653104408,-0.06037298775349241,-0.07143573066250818,0.030439893829058515,-0.08452721770599364,-0.09571660020050012,-0.09573136223786012,-0.10015962194701718,-0.12870298951191503,-0.29262252885556095,-0.07236193911574965],\"y\":[-0.018946946162663382,0.34793663955218873,0.32334782148507335,0.1463668015051421,-0.06696135055326567,-0.04768253665015715,0.21347263508333267,0.10123999945393702,0.2897636108297408,-0.014784736463043275,0.051363322882943006,0.030006258151347772,0.14518389675123672,0.2622888894237637,0.315137436765479,0.3877894307942972,0.32339514773824163,0.30742136939816894,0.3215196053761583,0.323453577084288,0.1877084376329265,0.4940492622424855,0.4423900708217757,0.23277214514259342,0.26605739683804625,0.32346118486078257,0.32351436673171097,0.08145912932381427,0.21424987133473863,0.051143601864845574,0.06296930595250667],\"type\":\"scatter\"},{\"hovertemplate\":\"\\u003cb\\u003eCourse Name:\\u003c\\u002fb\\u003e %{text}\\u003cbr\\u003e\\u003cb\\u003eTopic:\\u003c\\u002fb\\u003e %{meta}\",\"marker\":{\"color\":\"hsl(216.0, 70%, 50%)\",\"line\":{\"color\":\"black\",\"width\":1},\"size\":10},\"meta\":[\"Topic 3\",\"Topic 3\",\"Topic 3\",\"Topic 3\",\"Topic 3\",\"Topic 3\",\"Topic 3\",\"Topic 3\",\"Topic 3\",\"Topic 3\",\"Topic 3\",\"Topic 3\",\"Topic 3\",\"Topic 3\",\"Topic 3\",\"Topic 3\",\"Topic 3\",\"Topic 3\",\"Topic 3\",\"Topic 3\",\"Topic 3\",\"Topic 3\",\"Topic 3\",\"Topic 3\",\"Topic 3\",\"Topic 3\",\"Topic 3\",\"Topic 3\",\"Topic 3\",\"Topic 3\",\"Topic 3\",\"Topic 3\",\"Topic 3\",\"Topic 3\",\"Topic 3\",\"Topic 3\",\"Topic 3\",\"Topic 3\",\"Topic 3\",\"Topic 3\",\"Topic 3\",\"Topic 3\",\"Topic 3\",\"Topic 3\",\"Topic 3\",\"Topic 3\",\"Topic 3\",\"Topic 3\",\"Topic 3\",\"Topic 3\",\"Topic 3\",\"Topic 3\",\"Topic 3\",\"Topic 3\",\"Topic 3\",\"Topic 3\",\"Topic 3\",\"Topic 3\",\"Topic 3\",\"Topic 3\",\"Topic 3\",\"Topic 3\",\"Topic 3\",\"Topic 3\",\"Topic 3\",\"Topic 3\",\"Topic 3\",\"Topic 3\",\"Topic 3\",\"Topic 3\",\"Topic 3\",\"Topic 3\",\"Topic 3\",\"Topic 3\",\"Topic 3\",\"Topic 3\",\"Topic 3\",\"Topic 3\"],\"mode\":\"markers\",\"name\":\"Topic 3\",\"text\":[\"APCOMP 209A\\u002fCOMPSCI 1090A\\u002fCOMPSCI 109A\\u002fSTAT 109A\\u002fSTAT 121A: Data Science 1: Introduction to Data Science\",\"APCOMP 209B\\u002fCOMPSCI 109B\\u002fSTAT 109B\\u002fSTAT 121B: Data Science 2: Advanced Topics in Data Science\",\"APCOMP 215: Advanced Practical Data Science\",\"APCOMP 221: Critical Thinking in Data Science\",\"APCOMP 295: Topics in Applied Computation: Advanced Practical Data Science\",\"APCOMP 297R: Computational Science and Engineering Capstone Project\",\"APCOMP 298R: Interdisciplinary Seminar in Applied Computation\",\"APCOMP 299R: Special Topics in Applied Computation\",\"APMTH 115\\u002fENG-SCI 115: Mathematical Modeling\",\"APMTH 121\\u002fENG-SCI 121: Introduction to Optimization: Models and Methods\",\"APMTH 122: Convex Optimization and Its Applications\",\"APMTH 158\\u002fENG-SCI 158: Feedback Control Systems: Analysis and Design\",\"APMTH 201: Physical Mathematics I\",\"APMTH 207: Advanced Scientific Computing: Stochastic Methods for Data Analysis, Inference and Optimization\",\"APMTH 216: Inverse Problems in Science and Engineering\",\"APMTH 221: Advanced Optimization\",\"APMTH 231\\u002fENG-SCI 201: Decision Theory\",\"APMTH 232\\u002fENG-SCI 202: Learning, Estimation, and Control of Dynamical Systems\",\"APMTH 233\\u002fENG-SCI 203: Interplay between Control and Learning\",\"APMTH 50: Introduction to Applied Mathematics\",\"APPHY 284\\u002fPHYSICS 262: Statistical Mechanics\",\"BIOSTAT 232\\u002fBST 232: Methods\",\"BIOSTAT 234\\u002fBST 234: Introduction to Data Structures and Algorithms\",\"BIOSTAT 241\\u002fBST 241: Statistical Inference II\",\"BIOSTAT 245\\u002fBST 245: Analysis of Multivariate and Longitudinal Data\",\"BIOSTAT 267\\u002fBST 267: Introduction to Social and Biological Networks\",\"BIOSTAT 281\\u002fBST 281: Genomic Data Manipulation\",\"BIOSTAT 282\\u002fBST 282\\u002fSTAT 115\\u002fSTAT 215: Introduction to Computational Biology and Bioinformatics\",\"BIOSTAT 283\\u002fBST 283: Cancer Genome Analysis\",\"BIOSTAT 290\\u002fBST 290: Advanced Computational Biology and Bioinformatics\",\"COMPSCI 282R: Machine Learning: Advances in Uncertainty Quantification, Structured Prediction, Large-Scale Methods\",\"COMPSCI 333\\u002fSTAT 333: Individual Risk\",\"E-PSCI 102\\u002fESE 102: Data Analysis and Statistical Inference in the Earth and Environmental Sciences\",\"ECON 2340: Transportation and Development: Evidence and Quantitative Models\",\"ENG-SCI 53: Quantitative Physiology as a Basis for Bioengineering\",\"FRSEMR 40P\\u002fFYSEMR 40P: Appraising and Reimagining Middle and High School Math Education\",\"FYSEMR 23I: Earth Science Goes to the Movies: Math and Physics of Natural (?) Disasters\",\"FYSEMR 52P: Mathematical Proofs from \\u201cthe Book\\u201d\",\"GOV 2000\\u002fGOV 2000E: Introduction to Quantitative Methods I\",\"GOV 2003\\u002fSTAT 286: Causal Inference with Applications\",\"HIST 12E: Migrant Geographies: Between Asia and the United States in the Twentieth Century\",\"MATH 156: Mathematical Foundations of Statistical Software\",\"MATH 157: Mathematics in the World\",\"MATH 168: Making Math Material\",\"MATH 223B: Algebraic Number Theory\",\"MATH 273X: Distributions of Class Groups of Global Fields\",\"MATH 287Z: Geometric and topological combinatorics\",\"MATH 333: Graduate Reading in Complex Analysis, Dynamics and Geometry\",\"MATH ESPA: Emerging Scholars: Problem Solving Exploration\",\"OEB 137: Experimental Design and Statistics for Ecology\",\"PHYSCI 12B\\u002fPHYSICS 12B: Electromagnetism and Statistical Physics from an Analytic, Numerical and Experimental Perspective\",\"PHYSICS 181: Statistical Mechanics and Thermodynamics\",\"PSY 2035: Advanced Statistical Modeling\",\"SOCIOL 1156: Statistics for Social Sciences\",\"STAT 100: Introduction to Quantitative Methods for the Social Sciences and Humanities\",\"STAT 102: Introduction to Statistics for Life Sciences\",\"STAT 104: Introduction to Quantitative Methods for Economics\",\"STAT 107: Introduction to Business and Financial Statistics\",\"STAT 108: Introduction to Statistical Computing with R\",\"STAT 109: Intro to Statistical Modelling\",\"STAT 114: Introduction to Bioinformatics and Statistical Genetics\",\"STAT 117: Data Analysis in Modern Biostatistics\",\"STAT 139: Linear Models\",\"STAT 185: Introduction to Dimension Reduction\",\"STAT 186: Statistical Methods for Evaluating Causal Effects\",\"STAT 188: Variations, Information and Privacy\",\"STAT 195: Introduction to Supervised Learning\",\"STAT 212: Probability 2\",\"STAT 216: Topics in High-Dimensional Probability Theory\",\"STAT 217: Topics in high-dimensional statistics: methods from statistical physics\",\"STAT 248: Couplings and Monte Carlo\",\"STAT 286: Causal Inference & Program Evaluation\",\"STAT 291: Random High-Dimensional Optimization: Landscapes and Algorithmic Barriers\",\"STAT 303HFA: The Art of Communicating and Teaching Statistics\",\"STAT 303HFB: The Art and Practice of Teaching Statistics\",\"STAT 317: Computational Optimal Transport\",\"STAT 98: Tutorial - Junior Year\",\"STAT 99R: Tutorial - Senior Year\"],\"x\":[-0.6701679668253178,-0.6484846671861638,-0.6698319591355142,-0.5305000470609048,-0.669540978972229,-0.6209343829144728,-0.6298828500816832,-0.5648102880789252,-0.5870805796341737,-0.5628303891131351,-0.4884710092137137,-0.2883452442273836,-0.3908658513254896,-0.4735238016370358,-0.33869071997048844,-0.3393897148717033,-0.45713997177495175,-0.265185740218734,-0.2569233136292626,-0.5120286289133477,-0.460476737055815,-0.5326280747525285,-0.3961575226351038,-0.43471701755189185,-0.3041068610805719,-0.5169680160063934,-0.5726195272955903,-0.6301293739993377,-0.34975021327565686,-0.5133159512080038,-0.5194465016153517,-0.2875491081499264,-0.2983265558297766,-0.5636421877765777,-0.5734729882962909,-0.3081737923746491,-0.625294061219572,-0.2705076018363378,-0.36142972736750867,-0.38586116595440245,-0.5614167759907263,-0.2288036503323251,-0.43126016550924057,-0.2554120657350356,-0.2868572651180305,-0.1282425422163536,-0.3235410629016937,-0.43298289057910955,-0.282232214167196,-0.36782998609397044,-0.3226612954533883,-0.30081363866551747,-0.44043669549313147,-0.6676770008994333,-0.3907612325224292,-0.6074419087426347,-0.5015314407963143,-0.49043086801126795,-0.6681758159535693,-0.43584172514069086,-0.45907101784239546,-0.6268860040790606,-0.47933792942771125,-0.4392823144913734,-0.3261083513377571,-0.3651651203012292,-0.519146702907017,-0.23162829391318604,-0.36681117531984664,-0.3041369533913366,-0.1471216090546169,-0.37689259684444476,-0.1829149105435794,-0.6482636610376835,-0.6689583812563743,-0.3770429238494546,-0.669150600915253,-0.4505269547911634],\"y\":[-0.4706475507906041,-0.4412974981562417,-0.47035121064345464,-0.27765894402245156,-0.47008493138404467,-0.38582059372086136,-0.4650078629258293,-0.29203685789508754,-0.377267810378636,-0.3392199894130782,-0.28164816516030317,-0.16785796468548897,-0.08828019948450871,-0.15692125835024653,-0.20976116903395975,-0.31376299307035443,-0.1745931004419914,-0.3806724902611751,-0.3096047833841877,-0.31292753568569354,-0.18091780253255602,-0.2442661680388511,-0.16929352594409655,-0.24201601826513308,0.09859439039347845,-0.2634447115752377,-0.33871258460344805,-0.4166024262778035,-0.07814751715923049,-0.2590387428252694,-0.31474866065054996,0.010045288517479423,0.13109098472555056,-0.3246918608414248,-0.33468183326765905,-0.1339885691384732,-0.40942160319303467,-0.3006946483597681,-0.4347519333180453,-0.0027251661893765004,-0.3236427351789995,0.025799446447907704,-0.11594759429821526,-0.24771517704645973,-0.215997644243418,-0.42510720787161854,-0.3206139137467115,-0.11661262836254872,-0.14875626342213402,-0.022990620639702485,0.07655251410865438,-0.06062161104107737,-0.14601420093472475,-0.46647915176283744,0.020587198520760852,-0.38452155106852626,-0.16987799266959713,-0.22407371830195197,-0.4688655187860072,-0.10406783822761634,-0.18053550780887212,-0.3927024355994218,-0.12570149012265294,-0.15791045021485275,0.061701794319474056,-0.037544134626877265,-0.3430424666107463,-0.1664887138271901,-0.39671405810055205,-0.4379385313189332,-0.11251096467436345,0.017540398127639016,-0.106942138177703,-0.4312490822938175,-0.4695616356055901,-0.019217121277789975,-0.469739892503546,-0.08185998383149536],\"type\":\"scatter\"},{\"hovertemplate\":\"\\u003cb\\u003eCourse Name:\\u003c\\u002fb\\u003e %{text}\\u003cbr\\u003e\\u003cb\\u003eTopic:\\u003c\\u002fb\\u003e %{meta}\",\"marker\":{\"color\":\"hsl(288.0, 70%, 50%)\",\"line\":{\"color\":\"black\",\"width\":1},\"size\":10},\"meta\":[\"Topic 4\",\"Topic 4\",\"Topic 4\",\"Topic 4\",\"Topic 4\",\"Topic 4\",\"Topic 4\",\"Topic 4\",\"Topic 4\",\"Topic 4\",\"Topic 4\",\"Topic 4\",\"Topic 4\",\"Topic 4\",\"Topic 4\",\"Topic 4\",\"Topic 4\",\"Topic 4\",\"Topic 4\",\"Topic 4\",\"Topic 4\",\"Topic 4\",\"Topic 4\",\"Topic 4\",\"Topic 4\",\"Topic 4\",\"Topic 4\",\"Topic 4\"],\"mode\":\"markers\",\"name\":\"Topic 4\",\"text\":[\"APCOMP 227\\u002fAPMTH 227: Computational Methods in the Physical Sciences\",\"APMTH 210: Algebraic Fundamentals of Representing Data\",\"APMTH 215: Mathematical Modeling for Computational Science\",\"APMTH 220: Geometric Methods for Machine Learning\",\"APMTH 226: Theory of Neural Computation\",\"BIOSTAT 244\\u002fBST 244: Analysis of Failure Time Data\",\"BIOSTAT 249\\u002fBST 249: Bayesian Methodology in Biostatistics\",\"BIOSTAT 258\\u002fBST 258: Causal Inference: Theory and Practice\",\"ECON 2142\\u002fSTAT 242: Time Series\",\"GOV 2001: Quantitative Social Science Methods I\",\"HISTSCI 206R: Science, Mathematics, and Explanation: What Does it Mean to Explain Something?\",\"MATH 243: Evolutionary Dynamics\",\"PSY 1900: Introduction to Statistics for the Behavioral Sciences\",\"STAT 140: Design of Experiments\",\"STAT 143: Sports Analytics\",\"STAT 149: Generalized Linear Models\",\"STAT 160: Introduction to Survey Sampling and Estimation\",\"STAT 161: Introduction to Nonparametric Methods\",\"STAT 221: Computational Tools for Statistical Learning: Approximation, Optimization, and Monte Carlo\",\"STAT 234: Sequential Decision Making\",\"STAT 236: Statistical Learning\",\"STAT 288: Deep Statistics: AI and Earth Observations for Sustainable Development\",\"STAT 293\\u002fSTAT 393\\u002fSTAT 397: Design of Experimental and Non-experimental Studies\",\"STAT 315: Modern high-dimensional inference\",\"STAT 364: Scalable Statistical Inference for Big Data with Applications\",\"STAT 388R: Design and Analysis of Experiments at Scale\",\"SYSBIO 220: Analysis foundations for quantitative biologists\",\"SYSBIO 220QC: Analysis foundations for quantitative biologists (part 1)\"],\"x\":[0.1518713338466279,0.1645846098542355,0.03650424428658823,-0.16514143043028232,-0.08005652882561133,-0.09526967348629496,-0.0621350998959061,-0.10951879729518911,-0.07029158371848726,-0.09297980688392118,0.254138630309015,-0.22208117612321093,-0.3360245152902595,-0.13079373210379083,-0.06976636353391612,-0.06190051994110011,-0.0666234063356808,-0.07697812311873287,-0.2346560760413186,-0.20090053833895008,0.015544835502056115,-0.22554209645930484,-0.10929585680570288,-0.10943133763899972,5.64741195560416e-05,0.09932652560698615,-0.021709498731521903,0.020568081850066956],\"y\":[-0.023244985834983675,0.07784448602807478,0.22190147310987812,-0.039640030706316436,-0.08120782665212514,0.35003850523764735,0.4974141165700071,0.2878063186329744,0.26828945943428845,0.09252820094995437,0.0859169480264782,0.07685415116797903,-0.016230750085288435,0.3460291240688389,0.45863456247753825,0.49410798291684566,0.4750666523262314,0.4302549519004092,0.07695679374906339,0.16316784864124428,0.17832364632390665,0.1308267366339394,0.2872592862434891,0.2875950981329144,0.20311466222512184,0.2058934324249747,0.2253714331820203,0.2044653860663928],\"type\":\"scatter\"}],                        {\"template\":{\"data\":{\"histogram2dcontour\":[{\"type\":\"histogram2dcontour\",\"colorbar\":{\"outlinewidth\":0,\"ticks\":\"\"},\"colorscale\":[[0.0,\"#0d0887\"],[0.1111111111111111,\"#46039f\"],[0.2222222222222222,\"#7201a8\"],[0.3333333333333333,\"#9c179e\"],[0.4444444444444444,\"#bd3786\"],[0.5555555555555556,\"#d8576b\"],[0.6666666666666666,\"#ed7953\"],[0.7777777777777778,\"#fb9f3a\"],[0.8888888888888888,\"#fdca26\"],[1.0,\"#f0f921\"]]}],\"choropleth\":[{\"type\":\"choropleth\",\"colorbar\":{\"outlinewidth\":0,\"ticks\":\"\"}}],\"histogram2d\":[{\"type\":\"histogram2d\",\"colorbar\":{\"outlinewidth\":0,\"ticks\":\"\"},\"colorscale\":[[0.0,\"#0d0887\"],[0.1111111111111111,\"#46039f\"],[0.2222222222222222,\"#7201a8\"],[0.3333333333333333,\"#9c179e\"],[0.4444444444444444,\"#bd3786\"],[0.5555555555555556,\"#d8576b\"],[0.6666666666666666,\"#ed7953\"],[0.7777777777777778,\"#fb9f3a\"],[0.8888888888888888,\"#fdca26\"],[1.0,\"#f0f921\"]]}],\"heatmap\":[{\"type\":\"heatmap\",\"colorbar\":{\"outlinewidth\":0,\"ticks\":\"\"},\"colorscale\":[[0.0,\"#0d0887\"],[0.1111111111111111,\"#46039f\"],[0.2222222222222222,\"#7201a8\"],[0.3333333333333333,\"#9c179e\"],[0.4444444444444444,\"#bd3786\"],[0.5555555555555556,\"#d8576b\"],[0.6666666666666666,\"#ed7953\"],[0.7777777777777778,\"#fb9f3a\"],[0.8888888888888888,\"#fdca26\"],[1.0,\"#f0f921\"]]}],\"heatmapgl\":[{\"type\":\"heatmapgl\",\"colorbar\":{\"outlinewidth\":0,\"ticks\":\"\"},\"colorscale\":[[0.0,\"#0d0887\"],[0.1111111111111111,\"#46039f\"],[0.2222222222222222,\"#7201a8\"],[0.3333333333333333,\"#9c179e\"],[0.4444444444444444,\"#bd3786\"],[0.5555555555555556,\"#d8576b\"],[0.6666666666666666,\"#ed7953\"],[0.7777777777777778,\"#fb9f3a\"],[0.8888888888888888,\"#fdca26\"],[1.0,\"#f0f921\"]]}],\"contourcarpet\":[{\"type\":\"contourcarpet\",\"colorbar\":{\"outlinewidth\":0,\"ticks\":\"\"}}],\"contour\":[{\"type\":\"contour\",\"colorbar\":{\"outlinewidth\":0,\"ticks\":\"\"},\"colorscale\":[[0.0,\"#0d0887\"],[0.1111111111111111,\"#46039f\"],[0.2222222222222222,\"#7201a8\"],[0.3333333333333333,\"#9c179e\"],[0.4444444444444444,\"#bd3786\"],[0.5555555555555556,\"#d8576b\"],[0.6666666666666666,\"#ed7953\"],[0.7777777777777778,\"#fb9f3a\"],[0.8888888888888888,\"#fdca26\"],[1.0,\"#f0f921\"]]}],\"surface\":[{\"type\":\"surface\",\"colorbar\":{\"outlinewidth\":0,\"ticks\":\"\"},\"colorscale\":[[0.0,\"#0d0887\"],[0.1111111111111111,\"#46039f\"],[0.2222222222222222,\"#7201a8\"],[0.3333333333333333,\"#9c179e\"],[0.4444444444444444,\"#bd3786\"],[0.5555555555555556,\"#d8576b\"],[0.6666666666666666,\"#ed7953\"],[0.7777777777777778,\"#fb9f3a\"],[0.8888888888888888,\"#fdca26\"],[1.0,\"#f0f921\"]]}],\"mesh3d\":[{\"type\":\"mesh3d\",\"colorbar\":{\"outlinewidth\":0,\"ticks\":\"\"}}],\"scatter\":[{\"fillpattern\":{\"fillmode\":\"overlay\",\"size\":10,\"solidity\":0.2},\"type\":\"scatter\"}],\"parcoords\":[{\"type\":\"parcoords\",\"line\":{\"colorbar\":{\"outlinewidth\":0,\"ticks\":\"\"}}}],\"scatterpolargl\":[{\"type\":\"scatterpolargl\",\"marker\":{\"colorbar\":{\"outlinewidth\":0,\"ticks\":\"\"}}}],\"bar\":[{\"error_x\":{\"color\":\"#2a3f5f\"},\"error_y\":{\"color\":\"#2a3f5f\"},\"marker\":{\"line\":{\"color\":\"#E5ECF6\",\"width\":0.5},\"pattern\":{\"fillmode\":\"overlay\",\"size\":10,\"solidity\":0.2}},\"type\":\"bar\"}],\"scattergeo\":[{\"type\":\"scattergeo\",\"marker\":{\"colorbar\":{\"outlinewidth\":0,\"ticks\":\"\"}}}],\"scatterpolar\":[{\"type\":\"scatterpolar\",\"marker\":{\"colorbar\":{\"outlinewidth\":0,\"ticks\":\"\"}}}],\"histogram\":[{\"marker\":{\"pattern\":{\"fillmode\":\"overlay\",\"size\":10,\"solidity\":0.2}},\"type\":\"histogram\"}],\"scattergl\":[{\"type\":\"scattergl\",\"marker\":{\"colorbar\":{\"outlinewidth\":0,\"ticks\":\"\"}}}],\"scatter3d\":[{\"type\":\"scatter3d\",\"line\":{\"colorbar\":{\"outlinewidth\":0,\"ticks\":\"\"}},\"marker\":{\"colorbar\":{\"outlinewidth\":0,\"ticks\":\"\"}}}],\"scattermapbox\":[{\"type\":\"scattermapbox\",\"marker\":{\"colorbar\":{\"outlinewidth\":0,\"ticks\":\"\"}}}],\"scatterternary\":[{\"type\":\"scatterternary\",\"marker\":{\"colorbar\":{\"outlinewidth\":0,\"ticks\":\"\"}}}],\"scattercarpet\":[{\"type\":\"scattercarpet\",\"marker\":{\"colorbar\":{\"outlinewidth\":0,\"ticks\":\"\"}}}],\"carpet\":[{\"aaxis\":{\"endlinecolor\":\"#2a3f5f\",\"gridcolor\":\"white\",\"linecolor\":\"white\",\"minorgridcolor\":\"white\",\"startlinecolor\":\"#2a3f5f\"},\"baxis\":{\"endlinecolor\":\"#2a3f5f\",\"gridcolor\":\"white\",\"linecolor\":\"white\",\"minorgridcolor\":\"white\",\"startlinecolor\":\"#2a3f5f\"},\"type\":\"carpet\"}],\"table\":[{\"cells\":{\"fill\":{\"color\":\"#EBF0F8\"},\"line\":{\"color\":\"white\"}},\"header\":{\"fill\":{\"color\":\"#C8D4E3\"},\"line\":{\"color\":\"white\"}},\"type\":\"table\"}],\"barpolar\":[{\"marker\":{\"line\":{\"color\":\"#E5ECF6\",\"width\":0.5},\"pattern\":{\"fillmode\":\"overlay\",\"size\":10,\"solidity\":0.2}},\"type\":\"barpolar\"}],\"pie\":[{\"automargin\":true,\"type\":\"pie\"}]},\"layout\":{\"autotypenumbers\":\"strict\",\"colorway\":[\"#636efa\",\"#EF553B\",\"#00cc96\",\"#ab63fa\",\"#FFA15A\",\"#19d3f3\",\"#FF6692\",\"#B6E880\",\"#FF97FF\",\"#FECB52\"],\"font\":{\"color\":\"#2a3f5f\"},\"hovermode\":\"closest\",\"hoverlabel\":{\"align\":\"left\"},\"paper_bgcolor\":\"white\",\"plot_bgcolor\":\"#E5ECF6\",\"polar\":{\"bgcolor\":\"#E5ECF6\",\"angularaxis\":{\"gridcolor\":\"white\",\"linecolor\":\"white\",\"ticks\":\"\"},\"radialaxis\":{\"gridcolor\":\"white\",\"linecolor\":\"white\",\"ticks\":\"\"}},\"ternary\":{\"bgcolor\":\"#E5ECF6\",\"aaxis\":{\"gridcolor\":\"white\",\"linecolor\":\"white\",\"ticks\":\"\"},\"baxis\":{\"gridcolor\":\"white\",\"linecolor\":\"white\",\"ticks\":\"\"},\"caxis\":{\"gridcolor\":\"white\",\"linecolor\":\"white\",\"ticks\":\"\"}},\"coloraxis\":{\"colorbar\":{\"outlinewidth\":0,\"ticks\":\"\"}},\"colorscale\":{\"sequential\":[[0.0,\"#0d0887\"],[0.1111111111111111,\"#46039f\"],[0.2222222222222222,\"#7201a8\"],[0.3333333333333333,\"#9c179e\"],[0.4444444444444444,\"#bd3786\"],[0.5555555555555556,\"#d8576b\"],[0.6666666666666666,\"#ed7953\"],[0.7777777777777778,\"#fb9f3a\"],[0.8888888888888888,\"#fdca26\"],[1.0,\"#f0f921\"]],\"sequentialminus\":[[0.0,\"#0d0887\"],[0.1111111111111111,\"#46039f\"],[0.2222222222222222,\"#7201a8\"],[0.3333333333333333,\"#9c179e\"],[0.4444444444444444,\"#bd3786\"],[0.5555555555555556,\"#d8576b\"],[0.6666666666666666,\"#ed7953\"],[0.7777777777777778,\"#fb9f3a\"],[0.8888888888888888,\"#fdca26\"],[1.0,\"#f0f921\"]],\"diverging\":[[0,\"#8e0152\"],[0.1,\"#c51b7d\"],[0.2,\"#de77ae\"],[0.3,\"#f1b6da\"],[0.4,\"#fde0ef\"],[0.5,\"#f7f7f7\"],[0.6,\"#e6f5d0\"],[0.7,\"#b8e186\"],[0.8,\"#7fbc41\"],[0.9,\"#4d9221\"],[1,\"#276419\"]]},\"xaxis\":{\"gridcolor\":\"white\",\"linecolor\":\"white\",\"ticks\":\"\",\"title\":{\"standoff\":15},\"zerolinecolor\":\"white\",\"automargin\":true,\"zerolinewidth\":2},\"yaxis\":{\"gridcolor\":\"white\",\"linecolor\":\"white\",\"ticks\":\"\",\"title\":{\"standoff\":15},\"zerolinecolor\":\"white\",\"automargin\":true,\"zerolinewidth\":2},\"scene\":{\"xaxis\":{\"backgroundcolor\":\"#E5ECF6\",\"gridcolor\":\"white\",\"linecolor\":\"white\",\"showbackground\":true,\"ticks\":\"\",\"zerolinecolor\":\"white\",\"gridwidth\":2},\"yaxis\":{\"backgroundcolor\":\"#E5ECF6\",\"gridcolor\":\"white\",\"linecolor\":\"white\",\"showbackground\":true,\"ticks\":\"\",\"zerolinecolor\":\"white\",\"gridwidth\":2},\"zaxis\":{\"backgroundcolor\":\"#E5ECF6\",\"gridcolor\":\"white\",\"linecolor\":\"white\",\"showbackground\":true,\"ticks\":\"\",\"zerolinecolor\":\"white\",\"gridwidth\":2}},\"shapedefaults\":{\"line\":{\"color\":\"#2a3f5f\"}},\"annotationdefaults\":{\"arrowcolor\":\"#2a3f5f\",\"arrowhead\":0,\"arrowwidth\":1},\"geo\":{\"bgcolor\":\"white\",\"landcolor\":\"#E5ECF6\",\"subunitcolor\":\"white\",\"showland\":true,\"showlakes\":true,\"lakecolor\":\"white\"},\"title\":{\"x\":0.05},\"mapbox\":{\"style\":\"light\"}}},\"title\":{\"text\":\"Topic Distribution of Documents (PCA-reduced)\"},\"xaxis\":{\"title\":{\"text\":\"Principal Component 1\"}},\"yaxis\":{\"title\":{\"text\":\"Principal Component 2\"}},\"showlegend\":true,\"width\":1000,\"height\":600},                        {\"responsive\": true}                    ).then(function(){\n",
       "                            \n",
       "var gd = document.getElementById('d2944c38-3813-4ea3-a297-a9b8c79e6e6b');\n",
       "var x = new MutationObserver(function (mutations, observer) {{\n",
       "        var display = window.getComputedStyle(gd).display;\n",
       "        if (!display || display === 'none') {{\n",
       "            console.log([gd, 'removed!']);\n",
       "            Plotly.purge(gd);\n",
       "            observer.disconnect();\n",
       "        }}\n",
       "}});\n",
       "\n",
       "// Listen for the removal of the full notebook cells\n",
       "var notebookContainer = gd.closest('#notebook-container');\n",
       "if (notebookContainer) {{\n",
       "    x.observe(notebookContainer, {childList: true});\n",
       "}}\n",
       "\n",
       "// Listen for the clearing of the current output cell\n",
       "var outputEl = gd.closest('.output');\n",
       "if (outputEl) {{\n",
       "    x.observe(outputEl, {childList: true});\n",
       "}}\n",
       "\n",
       "                        })                };                });            </script>        </div>"
      ]
     },
     "metadata": {},
     "output_type": "display_data"
    }
   ],
   "source": [
    "import numpy as np\n",
    "import pandas as pd\n",
    "import plotly.graph_objects as go\n",
    "from sklearn.decomposition import PCA\n",
    "\n",
    "# Assuming df['Name'] and lda model are already defined\n",
    "# Step 1: Transform document-term matrix using LDA\n",
    "doc_topic_distribution = lda.transform(doc_term_matrix)  # Shape: [n_docs, n_topics]\n",
    "\n",
    "# Step 2: Determine the dominant topic for each document\n",
    "dominant_topics = np.argmax(doc_topic_distribution, axis=1)  # Majority topic for each document\n",
    "\n",
    "# Step 3: Add dominant topic to DataFrame for reference\n",
    "df['Dominant Topic'] = dominant_topics\n",
    "\n",
    "# Step 4: Reduce topic distribution to 2D using PCA for visualization\n",
    "pca = PCA(n_components=2)\n",
    "topic_distribution_2d = pca.fit_transform(doc_topic_distribution)  # Shape: [n_docs, 2]\n",
    "\n",
    "# Step 5: Define a color palette for topics\n",
    "num_topics = lda.n_components\n",
    "colors = [f\"hsl({i * 360 / num_topics}, 70%, 50%)\" for i in range(num_topics)]  # HSL for distinct colors\n",
    "\n",
    "# Step 6: Create an interactive scatter plot\n",
    "fig = go.Figure()\n",
    "\n",
    "# Add scatter plot, grouping by dominant topic for coloring\n",
    "for topic_id in range(num_topics):\n",
    "    indices = dominant_topics == topic_id\n",
    "    fig.add_trace(go.Scatter(\n",
    "        x=topic_distribution_2d[indices, 0],\n",
    "        y=topic_distribution_2d[indices, 1],\n",
    "        mode='markers',\n",
    "        name=f\"Topic {topic_id}\",\n",
    "        text=df.loc[indices, 'Name'],  # Use course names for hover text\n",
    "        hovertemplate=(\n",
    "            \"<b>Course Name:</b> %{text}<br>\" +\n",
    "            \"<b>Topic:</b> %{meta}\"  # Include topic number in hover\n",
    "        ),\n",
    "        meta=[f\"Topic {topic_id}\" for _ in range(sum(indices))],\n",
    "        marker=dict(\n",
    "            size=10,\n",
    "            color=colors[topic_id],\n",
    "            line=dict(width=1, color='black')\n",
    "        )\n",
    "    ))\n",
    "\n",
    "# Step 7: Update layout\n",
    "fig.update_layout(\n",
    "    title=\"Topic Distribution of Documents (PCA-reduced)\",\n",
    "    xaxis_title=\"Principal Component 1\",\n",
    "    yaxis_title=\"Principal Component 2\",\n",
    "    template=\"plotly\",\n",
    "    showlegend=True,\n",
    "    width=1000,  # Width of the plot (in pixels)\n",
    "    height=600   # Height of the plot (in pixels)\n",
    ")\n",
    "\n",
    "# Show the plot\n",
    "fig.show()"
   ]
  },
  {
   "cell_type": "code",
   "execution_count": 24,
   "id": "8a068a4a-39a9-468e-93a1-1091d9ca1e50",
   "metadata": {},
   "outputs": [
    {
     "data": {
      "text/plain": [
       "array(['MATH 273X: Distributions of Class Groups of Global Fields'],\n",
       "      dtype=object)"
      ]
     },
     "execution_count": 24,
     "metadata": {},
     "output_type": "execute_result"
    }
   ],
   "source": [
    "df[df['filename'].str.contains('MATH 273X')]['Name'].values"
   ]
  },
  {
   "cell_type": "code",
   "execution_count": 122,
   "id": "38edb32a-706a-4a3e-9c84-9906218a2456",
   "metadata": {},
   "outputs": [],
   "source": [
    "from bertopic import BERTopic\n",
    "from umap import UMAP\n",
    "\n",
    "from bertopic.vectorizers import ClassTfidfTransformer\n",
    "from sklearn.feature_extraction.text import CountVectorizer\n",
    "\n",
    "#vectorizer_model = CountVectorizer(stop_words=\"english\")\n",
    "#topic_model = BERTopic(vectorizer_model=vectorizer_model)"
   ]
  },
  {
   "cell_type": "code",
   "execution_count": 123,
   "id": "342de7a7-048f-4294-b011-84a8a61b2ad9",
   "metadata": {},
   "outputs": [],
   "source": [
    "ctfidf_model = ClassTfidfTransformer(reduce_frequent_words=True)\n",
    "topic_model = BERTopic(ctfidf_model=ctfidf_model, top_n_words = 100, calculate_probabilities = True)"
   ]
  },
  {
   "cell_type": "code",
   "execution_count": 124,
   "id": "c6ed7f17-137a-405d-a8bf-e93a1ffb4a79",
   "metadata": {},
   "outputs": [
    {
     "data": {
      "text/html": [
       "<div>\n",
       "<style scoped>\n",
       "    .dataframe tbody tr th:only-of-type {\n",
       "        vertical-align: middle;\n",
       "    }\n",
       "\n",
       "    .dataframe tbody tr th {\n",
       "        vertical-align: top;\n",
       "    }\n",
       "\n",
       "    .dataframe thead th {\n",
       "        text-align: right;\n",
       "    }\n",
       "</style>\n",
       "<table border=\"1\" class=\"dataframe\">\n",
       "  <thead>\n",
       "    <tr style=\"text-align: right;\">\n",
       "      <th></th>\n",
       "      <th>Topic</th>\n",
       "      <th>Count</th>\n",
       "      <th>Name</th>\n",
       "      <th>Representation</th>\n",
       "      <th>Representative_Docs</th>\n",
       "    </tr>\n",
       "  </thead>\n",
       "  <tbody>\n",
       "    <tr>\n",
       "      <th>0</th>\n",
       "      <td>-1</td>\n",
       "      <td>31</td>\n",
       "      <td>-1_the_and_to_will</td>\n",
       "      <td>[the, and, to, will, of, in, lecture, be, you,...</td>\n",
       "      <td>[STAT 114: Introduction to Bioinformatics and ...</td>\n",
       "    </tr>\n",
       "    <tr>\n",
       "      <th>1</th>\n",
       "      <td>0</td>\n",
       "      <td>160</td>\n",
       "      <td>0_and_the_to_of</td>\n",
       "      <td>[and, the, to, of, in, you, for, will, be, cou...</td>\n",
       "      <td>[Introduction to Data Science (F all 2024) CS ...</td>\n",
       "    </tr>\n",
       "    <tr>\n",
       "      <th>2</th>\n",
       "      <td>1</td>\n",
       "      <td>51</td>\n",
       "      <td>1_geometry_of_algebraic_the</td>\n",
       "      <td>[geometry, of, algebraic, the, theory, will, a...</td>\n",
       "      <td>[Recently, there has been a surge of interest ...</td>\n",
       "    </tr>\n",
       "    <tr>\n",
       "      <th>3</th>\n",
       "      <td>2</td>\n",
       "      <td>15</td>\n",
       "      <td>2_quantum_of_theory_the</td>\n",
       "      <td>[quantum, of, theory, the, physics, in, mechan...</td>\n",
       "      <td>[Math262a: Quantum theory from a geometric vie...</td>\n",
       "    </tr>\n",
       "  </tbody>\n",
       "</table>\n",
       "</div>"
      ],
      "text/plain": [
       "   Topic  Count                         Name  \\\n",
       "0     -1     31           -1_the_and_to_will   \n",
       "1      0    160              0_and_the_to_of   \n",
       "2      1     51  1_geometry_of_algebraic_the   \n",
       "3      2     15      2_quantum_of_theory_the   \n",
       "\n",
       "                                      Representation  \\\n",
       "0  [the, and, to, will, of, in, lecture, be, you,...   \n",
       "1  [and, the, to, of, in, you, for, will, be, cou...   \n",
       "2  [geometry, of, algebraic, the, theory, will, a...   \n",
       "3  [quantum, of, theory, the, physics, in, mechan...   \n",
       "\n",
       "                                 Representative_Docs  \n",
       "0  [STAT 114: Introduction to Bioinformatics and ...  \n",
       "1  [Introduction to Data Science (F all 2024) CS ...  \n",
       "2  [Recently, there has been a surge of interest ...  \n",
       "3  [Math262a: Quantum theory from a geometric vie...  "
      ]
     },
     "execution_count": 124,
     "metadata": {},
     "output_type": "execute_result"
    }
   ],
   "source": [
    "topics, probs = topic_model.fit_transform(documents)\n",
    "topic_model.get_topic_info()"
   ]
  },
  {
   "cell_type": "code",
   "execution_count": 125,
   "id": "35ebe253-68b6-4e01-96f3-2fca29c571dd",
   "metadata": {},
   "outputs": [],
   "source": [
    "embedding_model = \"sentence-transformers/all-MiniLM-L6-v2\"\n",
    "#topic_model.save(\"BERT_v1_classtfidf\", serialization=\"pytorch\", save_ctfidf=True, save_embedding_model=embedding_model)\n",
    "#topic_model2 = BERTopic.load(\"BERT_v1_classtfidf\")\n",
    "topic_model2 = topic_model"
   ]
  },
  {
   "cell_type": "code",
   "execution_count": 126,
   "id": "a26cacf7-542a-4a00-8ba5-a28c4b561b4e",
   "metadata": {},
   "outputs": [],
   "source": [
    "topic_distribution, _ = topic_model2.approximate_distribution(documents)\n",
    "pca = PCA(n_components=2)\n",
    "topic_distribution_2d = pca.fit_transform(topic_distribution)"
   ]
  },
  {
   "cell_type": "code",
   "execution_count": 127,
   "id": "1db69d51-ed19-48e9-b518-c7ef3847cbce",
   "metadata": {},
   "outputs": [
    {
     "data": {
      "application/vnd.plotly.v1+json": {
       "config": {
        "plotlyServerURL": "https://plot.ly"
       },
       "data": [
        {
         "hovertemplate": "<b>Course Name:</b> %{text}<br><b>Topic:</b> %{meta}",
         "marker": {
          "color": "hsl(0.0, 70%, 50%)",
          "line": {
           "color": "black",
           "width": 1
          },
          "size": 10
         },
         "meta": [
          "Topic 0",
          "Topic 0",
          "Topic 0",
          "Topic 0",
          "Topic 0",
          "Topic 0",
          "Topic 0",
          "Topic 0",
          "Topic 0",
          "Topic 0",
          "Topic 0",
          "Topic 0",
          "Topic 0",
          "Topic 0",
          "Topic 0",
          "Topic 0",
          "Topic 0",
          "Topic 0",
          "Topic 0",
          "Topic 0",
          "Topic 0",
          "Topic 0",
          "Topic 0",
          "Topic 0",
          "Topic 0",
          "Topic 0",
          "Topic 0",
          "Topic 0",
          "Topic 0",
          "Topic 0",
          "Topic 0",
          "Topic 0",
          "Topic 0",
          "Topic 0",
          "Topic 0",
          "Topic 0",
          "Topic 0",
          "Topic 0",
          "Topic 0",
          "Topic 0",
          "Topic 0",
          "Topic 0",
          "Topic 0",
          "Topic 0",
          "Topic 0",
          "Topic 0",
          "Topic 0",
          "Topic 0"
         ],
         "mode": "markers",
         "name": "Topic 0",
         "text": [
          "APMTH 101: Statistical Inference for Scientists and Engineers",
          "APMTH 120: Applied Linear Algebra and Big Data",
          "APMTH 203: Introduction to Disordered Systems and Stochastic Processes",
          "APMTH 217: Patterns",
          "BIOSTAT 230/BST 230: Probability I",
          "BIOSTAT 233/BST 233: Methods II",
          "CHEM 161: Statistical Thermodynamics",
          "CHEM 200/ENG-SCI 200/QSE 200: Foundations of Quantum Mechanics",
          "CHEM 246: Advanced Statistical Mechanics: Frontiers in Research",
          "ECON 1126: Quantitative Methods in Economics",
          "MATH 102: Much Ado About Everything: The Mathematics of Leonhard Euler",
          "MATH 113: Complex Analysis",
          "MATH 117: Probability and Random Processes with Economic Applications",
          "MATH 123: Algebra II: Theory of Rings and Fields",
          "MATH 130: Classical Geometry",
          "MATH 131: Topological Spaces and Fundamental Group",
          "MATH 141B: Mathematical Logic II",
          "MATH 145B: Set Theory II",
          "MATH 153/MATH 242: Mathematical Biology-Evolutionary Dynamics",
          "MATH 154: Probability Theory",
          "MATH 18B/19B: Linear Algebra, Probability, and Statistics",
          "MATH 219: Topics in Complex Analysis: From Conformal Invariants to Percolation",
          "MATH 231BR: Advanced Algebraic Topology",
          "MATH 232A/MATH 232AR: Introduction to Algebraic Geometry I",
          "MATH 232BR: Algebraic Geometry II",
          "MATH 23B: Linear Algebra and Real Analysis II",
          "MATH 23C: Mathematics for Computation, Statistics, and Data Science",
          "MATH 25B: Theoretical Linear Algebra and Real Analysis II",
          "MATH 270X: Topology and Condensed Matter Physics",
          "MATH 272X: Diffeomorphisms of Disks",
          "MATH 275: Ergodic Theory, Geometry and Dynamics",
          "MATH 275Z: Topics in Mean Field Spin Glasses",
          "MATH 281Y: Non-Kahler Calabi-Yau Manifolds",
          "MATH 284Z: Topics in stochastic analysis",
          "MATH 292Z: First steps in infinity categories",
          "MATH 55A: Studies in Algebra and Group Theory",
          "MCB 199/PHYSICS 199: Statistical Thermodynamics and Quantitative Biology",
          "PHYSICS 143A: Quantum Mechanics I",
          "PHYSICS 15B: Introductory Electromagnetism and Statistical Physics",
          "PHYSICS 264: Lie Algebras, Representations and Quantum Mechanics",
          "STAT 111: Introduction to Statistical Inference",
          "STAT 123: Applied Quantitative Finance",
          "STAT 131: Time Series & Prediction",
          "STAT 141: Introduction to Spatial Statistics",
          "STAT 171: Introduction to Stochastic Processes",
          "STAT 211: Statistical Inference I",
          "STAT 213: Statistical Inference II",
          "STAT 220: Bayesian Data Analysis"
         ],
         "type": "scatter",
         "x": [
          0.05008609600157377,
          -0.6479118990288394,
          0.1074078314670755,
          -0.09668527685730395,
          -0.09668527685730395,
          0.4298082507144782,
          -0.019933594845428913,
          -0.5214247453512805,
          -0.09668527685730395,
          -0.09668527685730395,
          -0.09668527685730395,
          -0.09668527685730395,
          -0.043430939440975216,
          0.007012280336043218,
          -0.09668527685730395,
          0.36831955629439705,
          -0.09668527685730395,
          -0.09668527685730395,
          -0.09668527685730395,
          -0.07948901970322308,
          -0.1748333150581178,
          -0.09668527685730395,
          0.7354954426952517,
          0.16237934932430148,
          -0.09668527685730395,
          -0.09668527685730395,
          -0.406891453441259,
          -0.09668527685730395,
          -0.09668527685730395,
          0.11867148583505155,
          -0.09668527685730395,
          -0.09668527685730395,
          -0.09668527685730395,
          0.027785298086432257,
          0.4104698648423093,
          -0.09668527685730395,
          -0.6479118990288394,
          -0.09668527685730395,
          0.7354954426952517,
          -0.31021694020274226,
          0.08267777097798906,
          -0.09668527685730395,
          -0.05763653557420982,
          0.046987514952708295,
          -0.09668527685730395,
          0.06958075683531924,
          0.0044913750649155015,
          0.03662346387149406
         ],
         "y": [
          0.08109289629968755,
          -0.33276856004267985,
          0.028304017894407577,
          0.4846806581682743,
          0.4846806581682743,
          -0.05498422153401729,
          -0.03193863568739281,
          -0.2716741380404907,
          0.4846806581682743,
          0.4846806581682743,
          0.4846806581682743,
          0.4846806581682743,
          -0.032072668959115765,
          -0.12982985070376873,
          0.4846806581682743,
          -0.13858238043960167,
          0.4846806581682743,
          0.4846806581682743,
          0.4846806581682743,
          -0.10222631585472215,
          -0.02172014098701604,
          0.4846806581682743,
          -0.06842072361519551,
          -0.04074480915475085,
          0.4846806581682743,
          0.4846806581682743,
          -0.010448427716547254,
          0.4846806581682743,
          0.4846806581682743,
          -0.09085048497760902,
          0.4846806581682743,
          0.4846806581682743,
          0.4846806581682743,
          -0.20365323243791897,
          -0.0508670023391266,
          0.4846806581682743,
          -0.33276856004267985,
          0.4846806581682743,
          -0.06842072361519551,
          -0.21930360357673012,
          -0.03626885745476207,
          0.4846806581682743,
          -0.0873636021680579,
          -0.06323762472298536,
          0.4846806581682743,
          -0.07243159351866199,
          -0.0969313962601739,
          -0.2019643950775817
         ]
        },
        {
         "hovertemplate": "<b>Course Name:</b> %{text}<br><b>Topic:</b> %{meta}",
         "marker": {
          "color": "hsl(72.0, 70%, 50%)",
          "line": {
           "color": "black",
           "width": 1
          },
          "size": 10
         },
         "meta": [
          "Topic 1",
          "Topic 1",
          "Topic 1",
          "Topic 1",
          "Topic 1",
          "Topic 1",
          "Topic 1",
          "Topic 1",
          "Topic 1",
          "Topic 1",
          "Topic 1",
          "Topic 1",
          "Topic 1",
          "Topic 1",
          "Topic 1",
          "Topic 1",
          "Topic 1",
          "Topic 1",
          "Topic 1",
          "Topic 1",
          "Topic 1",
          "Topic 1",
          "Topic 1",
          "Topic 1",
          "Topic 1",
          "Topic 1",
          "Topic 1",
          "Topic 1",
          "Topic 1",
          "Topic 1",
          "Topic 1",
          "Topic 1",
          "Topic 1",
          "Topic 1",
          "Topic 1",
          "Topic 1",
          "Topic 1",
          "Topic 1",
          "Topic 1",
          "Topic 1",
          "Topic 1",
          "Topic 1",
          "Topic 1",
          "Topic 1",
          "Topic 1",
          "Topic 1",
          "Topic 1",
          "Topic 1",
          "Topic 1",
          "Topic 1",
          "Topic 1",
          "Topic 1",
          "Topic 1",
          "Topic 1",
          "Topic 1",
          "Topic 1",
          "Topic 1",
          "Topic 1",
          "Topic 1",
          "Topic 1",
          "Topic 1",
          "Topic 1",
          "Topic 1",
          "Topic 1",
          "Topic 1",
          "Topic 1",
          "Topic 1",
          "Topic 1",
          "Topic 1",
          "Topic 1",
          "Topic 1",
          "Topic 1"
         ],
         "mode": "markers",
         "name": "Topic 1",
         "text": [
          "APMTH 10: Computing for Science and Engineering",
          "APMTH 104: Complex and Fourier Analysis with Applications to Art, Science and Engineering",
          "APMTH 206: Advanced Applied Algebra",
          "APMTH 230/PHYSICS 230: Active Matter",
          "APPHY 295A/PHYSICS 295A: Introduction to Quantum Theory of Solids",
          "CHEM 166: Quantum Materials, Where Physics and Chemistry Meet",
          "FRSEMR 23P: Physics, Math and Puzzles",
          "FRSEMR 52D/FYSEMR 52D: Quantum Entanglement and the Second Quantum Revolution",
          "MATH 101: Sets, Groups and Topology",
          "MATH 110: Vector Space Methods for Differential Equations",
          "MATH 114: Analysis of Function Spaces, Measure and Integration",
          "MATH 115: Methods of Analysis",
          "MATH 118R: Dynamical Systems",
          "MATH 119: Introduction to Stochastic Calculus",
          "MATH 124: Number Theory",
          "MATH 129: Number Fields",
          "MATH 137: Algebraic Geometry",
          "MATH 155R: Combinatorics",
          "MATH 163: Derived Categories in Geometry and Algebra",
          "MATH 166R: Introduction to semi-Riemannian geometry",
          "MATH 212/MATH 212A: Advanced Real Analysis",
          "MATH 212A: Real Analysis",
          "MATH 212BR: Advanced Real Analysis",
          "MATH 213BR: Riemann Surfaces",
          "MATH 221: Commutative Algebra",
          "MATH 225: Homological Algebra",
          "MATH 229/MATH 229X: Introduction to Analytic Number Theory",
          "MATH 230A: Differential Geometry",
          "MATH 230B: Semi-Riemannian Geometry",
          "MATH 252Y: Finite Height Chromatic Homotopy Theory",
          "MATH 254R: Arithmetic Dynamics",
          "MATH 256X: Heisenberg Calculus in Quantum Topology",
          "MATH 258: L-Functions and Arithmetic Statistics",
          "MATH 259X: Moduli Spaces in Algebraic Geometry",
          "MATH 260X: Rationality Questions in Algebraic Geometry",
          "MATH 262A: Quantum theory from the geometric viewpoint I",
          "MATH 262B: Quantum theory from the geometric viewpoint II",
          "MATH 263X: Mirror Symmetry for Toric Varieties and Other GIT Quotients",
          "MATH 264X: Algebraic Cobordism",
          "MATH 265: Singularities and Hodge theory",
          "MATH 266: Motivic homotopy theory",
          "MATH 266Y: Topics in Analysis: Matrix Inequalities and Quantum Entropy",
          "MATH 268Z: Kashiwara Crystals and Quantum Integrable Systems",
          "MATH 269Z: Topics in Hodge Theory",
          "MATH 270Z: Symplectic geometry",
          "MATH 271: Free Probability, Random Matrices and Random Partitions",
          "MATH 271Z: Topics in Algebraic Geometry - Kodaira dimension and families of varieties",
          "MATH 274Y: Spectral Theory and Quantum Spin Systems",
          "MATH 274Z: Complex and Arithmetic Dynamical Systems",
          "MATH 277X: Quantum Geometry",
          "MATH 277Z: K3 surfaces",
          "MATH 278: Geometry and Algebra of Computational Complexity",
          "MATH 278Z: Tools and ideas in low-dimensional topology",
          "MATH 279Z: Cohen-Macaulay modules and vector bundles",
          "MATH 281Z: Homological Algebra",
          "MATH 282X: Topics in Invariant Descriptive Set Theory",
          "MATH 283: Instanton Floer Homology",
          "MATH 283Z: Foundations of non-abelian Chabauty",
          "MATH 288Y: Analytic Number Theory Over Function Fields",
          "MATH 288Z: Entropy",
          "MATH 289: Topics on Knots, 3 and 4-Manifolds",
          "MATH 289Y: Topics in Geometric PDEs",
          "MATH 290: Birational Geometry of Algebraic Varieties",
          "MATH 291Y: P-adic analytic groups and their cohomology",
          "MATH 293X: Topological modular forms",
          "MATH 295: Topics in Discrete Probability: Random Structures and Algorithms",
          "MATH 295Y: Arithmetic Dynamics",
          "MATH 296: D-Modules in Birational Geometry",
          "MATH 297X: Geometry and complexity theory",
          "MATH 99R: Tutorial",
          "PHYSICS 267: Higher Representations in Physics and Mathematics",
          "QSE 210B: Introduction to Quantum Information Science II"
         ],
         "type": "scatter",
         "x": [
          -0.09668527685730395,
          -0.09668527685730395,
          -0.030425729052445505,
          0.09690304660904026,
          -0.43226625973351407,
          -0.5853837211383995,
          -0.09668527685730395,
          -0.360827268188854,
          0.7354954426952517,
          -0.6479118990288394,
          -0.09668527685730395,
          0.06236769270322928,
          -0.27009778656978933,
          0.027824816005356426,
          0.2703749830406326,
          0.4690998695841238,
          0.4661129305102173,
          -0.6479118990288394,
          -0.09668527685730395,
          0.34721859991306836,
          -0.01792789117185787,
          -0.09668527685730395,
          -0.11639007491998779,
          0.07136672019415773,
          0.33569181151295774,
          0.023665344683916022,
          0.7354954426952517,
          0.7354954426952517,
          0.28063863139384165,
          0.004028486500254308,
          0.19537430650732684,
          -0.3129636722160669,
          0.1536102803438743,
          0.7354954426952517,
          0.4914625498347781,
          -0.45949677992110016,
          -0.49826671692943153,
          0.1329152752147003,
          0.4386367607357912,
          0.43110072774221886,
          0.46575586775269184,
          -0.5257988712254754,
          0.11622556348701432,
          0.7354954426952517,
          0.03052869877261143,
          -0.13052900567505885,
          0.174022850140902,
          -0.3626476087478066,
          0.3470105036673684,
          -0.16685200886502768,
          0.6128511897261973,
          0.07556884113943718,
          0.16241039495558002,
          0.7354954426952517,
          0.023665344683916022,
          0.7354954426952517,
          -0.01865184367169858,
          0.36780471099341777,
          0.7354954426952517,
          0.028218811824606713,
          0.003210897536971618,
          0.029989468005152786,
          0.7354954426952517,
          0.16426534515763222,
          0.03758251105142954,
          -0.17603113932880893,
          0.7354954426952517,
          0.44907691829016255,
          0.3221365382474719,
          -0.6479118990288394,
          -0.4379995271691809,
          -0.6479118990288394
         ],
         "y": [
          0.4846806581682743,
          0.4846806581682743,
          -0.10831679246490399,
          0.02244833657739718,
          -0.23045065787358515,
          -0.32082038827680576,
          0.4846806581682743,
          -0.2779111086288729,
          -0.06842072361519551,
          -0.33276856004267985,
          0.4846806581682743,
          -0.09808240479955407,
          -0.14973173711058596,
          -0.20364568117224846,
          -0.15729807989308175,
          -0.11932481473995639,
          -0.1198955727935777,
          -0.33276856004267985,
          0.4846806581682743,
          -0.051353987608656435,
          -0.03087334955459416,
          0.4846806581682743,
          -0.07291320911791827,
          -0.07570061812468204,
          -0.10056303404097128,
          -0.2044404920795946,
          -0.06842072361519551,
          -0.06842072361519551,
          -0.15533685476856993,
          -0.10214241581257388,
          -0.07385603177416313,
          -0.19261328938494793,
          -0.045614248393707105,
          -0.06842072361519551,
          -0.11505165096332587,
          -0.24293942573241417,
          -0.26173025717135656,
          -0.04100422672326287,
          -0.12514584566268924,
          -0.1265858655013973,
          -0.11996380198723151,
          -0.28935668906568995,
          -0.09937043986578785,
          -0.06842072361519551,
          -0.0599542961952052,
          -0.05295118039320319,
          -0.130193059162708,
          -0.2256709854728644,
          -0.1426542122048243,
          -0.16875205212335626,
          -0.09185615144965377,
          -0.19452253329968885,
          -0.04053105887732729,
          -0.06842072361519551,
          -0.2044404920795946,
          -0.06842072361519551,
          -0.035043210270209846,
          -0.13868075944721847,
          -0.06842072361519551,
          -0.03309407129256159,
          -0.07401875490599102,
          -0.20323204951401877,
          -0.06842072361519551,
          -0.07479994329940243,
          -0.07328403833830877,
          -0.2425994145450126,
          -0.06842072361519551,
          -0.12315089234834554,
          -0.14740724389968798,
          -0.33276856004267985,
          -0.2771751487633732,
          -0.33276856004267985
         ]
        },
        {
         "hovertemplate": "<b>Course Name:</b> %{text}<br><b>Topic:</b> %{meta}",
         "marker": {
          "color": "hsl(144.0, 70%, 50%)",
          "line": {
           "color": "black",
           "width": 1
          },
          "size": 10
         },
         "meta": [
          "Topic 2",
          "Topic 2",
          "Topic 2",
          "Topic 2",
          "Topic 2",
          "Topic 2",
          "Topic 2",
          "Topic 2",
          "Topic 2",
          "Topic 2",
          "Topic 2",
          "Topic 2",
          "Topic 2",
          "Topic 2",
          "Topic 2",
          "Topic 2",
          "Topic 2",
          "Topic 2",
          "Topic 2",
          "Topic 2",
          "Topic 2",
          "Topic 2",
          "Topic 2",
          "Topic 2",
          "Topic 2",
          "Topic 2",
          "Topic 2",
          "Topic 2",
          "Topic 2",
          "Topic 2",
          "Topic 2"
         ],
         "mode": "markers",
         "name": "Topic 2",
         "text": [
          "APMTH 108: Nonlinear Dynamical Systems",
          "APMTH 202: Physical Mathematics II",
          "APMTH 21A: Mathematical Methods in the Sciences",
          "APMTH 22B: Integrating and Approximating",
          "COMPSCI 20: Discrete Mathematics for Computer Science",
          "FYSEMR 23P: Physics, Math and Puzzles",
          "MATH 112: Introductory Real Analysis",
          "MATH 116: Real Analysis, Convexity, and Optimization",
          "MATH 121: Linear Algebra",
          "MATH 132: Differential Topology",
          "MATH 141A: Mathematical Logic I",
          "MATH 152: Discrete Mathematics",
          "MATH 161: Introduction to Formal Verification of Mathematics",
          "MATH 18/MATH 18A: Multivariable Calculus for Social Sciences",
          "MATH 19A: Modeling and Differential Equations for the Life Sciences",
          "MATH 19B: Linear Algebra, Probability, and Statistics for the Life Sciences",
          "MATH 1A: Introduction to Calculus",
          "MATH 1B: Integration, Series and Differential Equations",
          "MATH 21A: Multivariable Calculus",
          "MATH 21B: Linear Algebra and Differential Equations",
          "MATH 22A: Vector Calculus and Linear Algebra I",
          "MATH 22B: Vector Calculus and Linear Algebra II",
          "MATH 23A: Linear Algebra and Real Analysis I",
          "MATH 25A: Theoretical Linear Algebra and Real Analysis I",
          "MATH 370: Topics in Linear Algebra and Multivariable Calculus; and Their Applications",
          "MATH MA5: An In-depth Introduction to Functions and Calculus I",
          "MATH MB: Introduction to Functions and Calculus II",
          "NEUROBIO 314QC: Mathematical Tools for Neuroscience",
          "PHIL 151Z: Philosophy of Quantum Mechanics: Proseminar",
          "PHYSCI 12A: Mechanics and Statistical Physics from an Analytic, Numerical and Experimental Perspective",
          "PHYSICS 143B: Quantum Mechanics II"
         ],
         "type": "scatter",
         "x": [
          -0.6479118990288394,
          -0.012024635214801557,
          0.04243701496329796,
          -0.0054440774612123,
          -0.11208483348180574,
          -0.06598550592774872,
          -0.40354415673224503,
          -0.03844609810486999,
          -0.07652107115003746,
          -0.11163257122881129,
          0.0034262233280661493,
          0.7354954426952517,
          -0.09668527685730395,
          -0.15826674402607327,
          -0.1632549084552602,
          -0.010008081101550718,
          -0.057636853434561694,
          -0.25683988845230754,
          -0.09668527685730395,
          -0.2981976937119009,
          -0.024495626390855993,
          -0.01224136703215646,
          -0.09668527685730395,
          0.11641482955626119,
          -0.12006990917894084,
          -0.13210147296295974,
          -0.19598274927300532,
          -0.0220494464773727,
          -0.4314627130152823,
          -0.04143007298897726,
          -0.49120091765147617
         ],
         "y": [
          -0.33276856004267985,
          -0.062231864221712355,
          -0.037566005020533956,
          -0.09966058726258745,
          -0.08251234389876462,
          -0.08418519438872886,
          -0.005972039352257292,
          -0.14264687530655976,
          -0.15203098670224569,
          -0.07100454422588992,
          -0.10980597680139484,
          -0.06842072361519551,
          0.4846806581682743,
          -0.15421392509562862,
          -0.06971028003979246,
          -0.07835340808176046,
          -0.07371730512426568,
          -0.25804072192493877,
          0.4846806581682743,
          -0.19686880460994016,
          -0.03356452641151792,
          -0.034290012664379026,
          0.4846806581682743,
          -0.09795881382277563,
          -0.09882806227322431,
          -0.20114936434741656,
          -0.11281968523392837,
          -0.05306868627902751,
          -0.24834540005149983,
          -0.058186403574893644,
          -0.256755510461736
         ]
        },
        {
         "hovertemplate": "<b>Course Name:</b> %{text}<br><b>Topic:</b> %{meta}",
         "marker": {
          "color": "hsl(216.0, 70%, 50%)",
          "line": {
           "color": "black",
           "width": 1
          },
          "size": 10
         },
         "meta": [
          "Topic 3",
          "Topic 3",
          "Topic 3",
          "Topic 3",
          "Topic 3",
          "Topic 3",
          "Topic 3",
          "Topic 3",
          "Topic 3",
          "Topic 3",
          "Topic 3",
          "Topic 3",
          "Topic 3",
          "Topic 3",
          "Topic 3",
          "Topic 3",
          "Topic 3",
          "Topic 3",
          "Topic 3",
          "Topic 3",
          "Topic 3",
          "Topic 3",
          "Topic 3",
          "Topic 3",
          "Topic 3",
          "Topic 3",
          "Topic 3",
          "Topic 3",
          "Topic 3",
          "Topic 3",
          "Topic 3",
          "Topic 3",
          "Topic 3",
          "Topic 3",
          "Topic 3",
          "Topic 3",
          "Topic 3",
          "Topic 3",
          "Topic 3",
          "Topic 3",
          "Topic 3",
          "Topic 3",
          "Topic 3",
          "Topic 3",
          "Topic 3",
          "Topic 3",
          "Topic 3",
          "Topic 3",
          "Topic 3",
          "Topic 3",
          "Topic 3",
          "Topic 3",
          "Topic 3",
          "Topic 3",
          "Topic 3",
          "Topic 3",
          "Topic 3",
          "Topic 3",
          "Topic 3",
          "Topic 3",
          "Topic 3",
          "Topic 3",
          "Topic 3",
          "Topic 3",
          "Topic 3",
          "Topic 3",
          "Topic 3",
          "Topic 3",
          "Topic 3",
          "Topic 3",
          "Topic 3",
          "Topic 3",
          "Topic 3",
          "Topic 3",
          "Topic 3",
          "Topic 3",
          "Topic 3",
          "Topic 3"
         ],
         "mode": "markers",
         "name": "Topic 3",
         "text": [
          "APCOMP 209A/COMPSCI 1090A/COMPSCI 109A/STAT 109A/STAT 121A: Data Science 1: Introduction to Data Science",
          "APCOMP 209B/COMPSCI 109B/STAT 109B/STAT 121B: Data Science 2: Advanced Topics in Data Science",
          "APCOMP 215: Advanced Practical Data Science",
          "APCOMP 221: Critical Thinking in Data Science",
          "APCOMP 295: Topics in Applied Computation: Advanced Practical Data Science",
          "APCOMP 297R: Computational Science and Engineering Capstone Project",
          "APCOMP 298R: Interdisciplinary Seminar in Applied Computation",
          "APCOMP 299R: Special Topics in Applied Computation",
          "APMTH 115/ENG-SCI 115: Mathematical Modeling",
          "APMTH 121/ENG-SCI 121: Introduction to Optimization: Models and Methods",
          "APMTH 122: Convex Optimization and Its Applications",
          "APMTH 158/ENG-SCI 158: Feedback Control Systems: Analysis and Design",
          "APMTH 201: Physical Mathematics I",
          "APMTH 207: Advanced Scientific Computing: Stochastic Methods for Data Analysis, Inference and Optimization",
          "APMTH 216: Inverse Problems in Science and Engineering",
          "APMTH 221: Advanced Optimization",
          "APMTH 231/ENG-SCI 201: Decision Theory",
          "APMTH 232/ENG-SCI 202: Learning, Estimation, and Control of Dynamical Systems",
          "APMTH 233/ENG-SCI 203: Interplay between Control and Learning",
          "APMTH 50: Introduction to Applied Mathematics",
          "APPHY 284/PHYSICS 262: Statistical Mechanics",
          "BIOSTAT 232/BST 232: Methods",
          "BIOSTAT 234/BST 234: Introduction to Data Structures and Algorithms",
          "BIOSTAT 241/BST 241: Statistical Inference II",
          "BIOSTAT 245/BST 245: Analysis of Multivariate and Longitudinal Data",
          "BIOSTAT 267/BST 267: Introduction to Social and Biological Networks",
          "BIOSTAT 281/BST 281: Genomic Data Manipulation",
          "BIOSTAT 282/BST 282/STAT 115/STAT 215: Introduction to Computational Biology and Bioinformatics",
          "BIOSTAT 283/BST 283: Cancer Genome Analysis",
          "BIOSTAT 290/BST 290: Advanced Computational Biology and Bioinformatics",
          "COMPSCI 282R: Machine Learning: Advances in Uncertainty Quantification, Structured Prediction, Large-Scale Methods",
          "COMPSCI 333/STAT 333: Individual Risk",
          "E-PSCI 102/ESE 102: Data Analysis and Statistical Inference in the Earth and Environmental Sciences",
          "ECON 2340: Transportation and Development: Evidence and Quantitative Models",
          "ENG-SCI 53: Quantitative Physiology as a Basis for Bioengineering",
          "FRSEMR 40P/FYSEMR 40P: Appraising and Reimagining Middle and High School Math Education",
          "FYSEMR 23I: Earth Science Goes to the Movies: Math and Physics of Natural (?) Disasters",
          "FYSEMR 52P: Mathematical Proofs from “the Book”",
          "GOV 2000/GOV 2000E: Introduction to Quantitative Methods I",
          "GOV 2003/STAT 286: Causal Inference with Applications",
          "HIST 12E: Migrant Geographies: Between Asia and the United States in the Twentieth Century",
          "MATH 156: Mathematical Foundations of Statistical Software",
          "MATH 157: Mathematics in the World",
          "MATH 168: Making Math Material",
          "MATH 223B: Algebraic Number Theory",
          "MATH 273X: Distributions of Class Groups of Global Fields",
          "MATH 287Z: Geometric and topological combinatorics",
          "MATH 333: Graduate Reading in Complex Analysis, Dynamics and Geometry",
          "MATH ESPA: Emerging Scholars: Problem Solving Exploration",
          "OEB 137: Experimental Design and Statistics for Ecology",
          "PHYSCI 12B/PHYSICS 12B: Electromagnetism and Statistical Physics from an Analytic, Numerical and Experimental Perspective",
          "PHYSICS 181: Statistical Mechanics and Thermodynamics",
          "PSY 2035: Advanced Statistical Modeling",
          "SOCIOL 1156: Statistics for Social Sciences",
          "STAT 100: Introduction to Quantitative Methods for the Social Sciences and Humanities",
          "STAT 102: Introduction to Statistics for Life Sciences",
          "STAT 104: Introduction to Quantitative Methods for Economics",
          "STAT 107: Introduction to Business and Financial Statistics",
          "STAT 108: Introduction to Statistical Computing with R",
          "STAT 109: Intro to Statistical Modelling",
          "STAT 114: Introduction to Bioinformatics and Statistical Genetics",
          "STAT 117: Data Analysis in Modern Biostatistics",
          "STAT 139: Linear Models",
          "STAT 185: Introduction to Dimension Reduction",
          "STAT 186: Statistical Methods for Evaluating Causal Effects",
          "STAT 188: Variations, Information and Privacy",
          "STAT 195: Introduction to Supervised Learning",
          "STAT 212: Probability 2",
          "STAT 216: Topics in High-Dimensional Probability Theory",
          "STAT 217: Topics in high-dimensional statistics: methods from statistical physics",
          "STAT 248: Couplings and Monte Carlo",
          "STAT 286: Causal Inference & Program Evaluation",
          "STAT 291: Random High-Dimensional Optimization: Landscapes and Algorithmic Barriers",
          "STAT 303HFA: The Art of Communicating and Teaching Statistics",
          "STAT 303HFB: The Art and Practice of Teaching Statistics",
          "STAT 317: Computational Optimal Transport",
          "STAT 98: Tutorial - Junior Year",
          "STAT 99R: Tutorial - Senior Year"
         ],
         "type": "scatter",
         "x": [
          -0.03961220970705261,
          0.01884382844302422,
          -0.17204705343747526,
          -0.14134889710309162,
          0.016365906003438156,
          -0.18633183557741528,
          0.048963917262352094,
          -0.03837235806766025,
          -0.16091133689807482,
          0.14921209390580079,
          -0.13908366813118825,
          -0.09668527685730395,
          0.043252069259044186,
          -0.1007819493623977,
          -0.2572483176840893,
          -0.035896152336285445,
          -0.07056349444071049,
          -0.17770820175178667,
          -0.06633975294839434,
          -0.019787385664690516,
          -0.07588716164352184,
          -0.04359835873434315,
          -0.05014657239484082,
          0.08093966866039505,
          0.169510782197242,
          -0.030685286841902193,
          0.10566132120609899,
          0.09124000724321522,
          -0.009592536690591427,
          0.05275090309250274,
          -0.1023060717892959,
          -0.015600504532566383,
          -0.09668527685730395,
          0.7354954426952517,
          -0.08837965651900123,
          -0.09668527685730395,
          -0.04596251379502145,
          0.09100283046579459,
          0.017232708589226545,
          -0.06995664682050465,
          -0.0485225996663978,
          -0.6479118990288394,
          -0.184415235616556,
          0.09265744988305956,
          0.08882212503755092,
          0.30111835768876394,
          -0.023356263060233293,
          0.15809763182869505,
          -0.48865146441255014,
          0.037154445131689924,
          -0.22195848668378237,
          -0.3446213863241672,
          -0.028567411059087725,
          -0.028957541407479945,
          0.04144596728527444,
          0.10609620815071483,
          -0.023204608448807847,
          -0.04323672166245473,
          -0.03692929804314016,
          -0.08689464684533546,
          -0.055760934659041035,
          0.12219682244950557,
          0.0570743930971475,
          -0.04934733053532135,
          -0.005800296771714226,
          0.11913875690536704,
          0.07243553114748207,
          -0.25927199708146337,
          0.12405422356474952,
          0.21786783078087543,
          -0.09668527685730395,
          0.036326380247714854,
          0.037699973179361704,
          -0.08552508790425264,
          -0.0899728702250775,
          -0.0018041327727400976,
          -0.01742981981278936,
          -0.09668527685730395
         ],
         "y": [
          -0.04767561119761975,
          -0.044211452642583936,
          -0.10629691069311491,
          -0.08616127791770423,
          -0.052383678157438905,
          -0.16405559418855417,
          -0.1996063244963297,
          -0.01751559127487511,
          -0.12864854643699797,
          -0.05484441592118618,
          -0.08077053096022001,
          0.4846806581682743,
          -0.20069777067862002,
          -0.06751579087701844,
          -0.1194690423274265,
          -0.07513867581041397,
          -0.06872084649826983,
          -0.06083522153993436,
          -0.05416398162510281,
          -0.0310688412862382,
          -0.05313743154682378,
          -0.0407242153991699,
          -0.03199318161948852,
          -0.06648911015711165,
          -0.11541503323313435,
          -0.014633706234351564,
          -0.058542161768089025,
          -0.010125712728337117,
          -0.0542841504979998,
          0.008036921462775482,
          -0.16535896423796012,
          -0.024901853265595745,
          0.4846806581682743,
          -0.06842072361519551,
          -0.1015000552632222,
          0.4846806581682743,
          -0.09623128273153492,
          -0.0351585538866975,
          -0.0669556971250767,
          -0.15165043444829956,
          -0.11762654167517193,
          -0.33276856004267985,
          -0.10738835656191904,
          -0.12041027866660346,
          -0.06900588773201416,
          -0.0948872145030213,
          -0.031617405446240726,
          -0.04115281065673299,
          -0.11978727443142775,
          -0.004458608154680923,
          -0.16045277858811471,
          -0.18480474327001542,
          -0.03537488548628841,
          -0.030156255809398284,
          -0.20104288894909145,
          -0.0809574888164676,
          -0.029732871864497232,
          -0.061151530037925075,
          -0.03153581651248755,
          -0.02566679231714787,
          -0.06113385466790256,
          -0.10655292013859431,
          -0.03314294675558638,
          -0.06904113232453767,
          -0.07392337620733401,
          -0.04034174855363991,
          -0.02334237584961175,
          -0.07231675267835347,
          -0.09423447014396644,
          -0.043975489495941,
          0.4846806581682743,
          -0.2020211631825464,
          -0.2017586907287279,
          -0.04922552883027823,
          -0.04372484268820652,
          -0.1030399555125106,
          -0.02732354650355622,
          0.4846806581682743
         ]
        },
        {
         "hovertemplate": "<b>Course Name:</b> %{text}<br><b>Topic:</b> %{meta}",
         "marker": {
          "color": "hsl(288.0, 70%, 50%)",
          "line": {
           "color": "black",
           "width": 1
          },
          "size": 10
         },
         "meta": [
          "Topic 4",
          "Topic 4",
          "Topic 4",
          "Topic 4",
          "Topic 4",
          "Topic 4",
          "Topic 4",
          "Topic 4",
          "Topic 4",
          "Topic 4",
          "Topic 4",
          "Topic 4",
          "Topic 4",
          "Topic 4",
          "Topic 4",
          "Topic 4",
          "Topic 4",
          "Topic 4",
          "Topic 4",
          "Topic 4",
          "Topic 4",
          "Topic 4",
          "Topic 4",
          "Topic 4",
          "Topic 4",
          "Topic 4",
          "Topic 4",
          "Topic 4"
         ],
         "mode": "markers",
         "name": "Topic 4",
         "text": [
          "APCOMP 227/APMTH 227: Computational Methods in the Physical Sciences",
          "APMTH 210: Algebraic Fundamentals of Representing Data",
          "APMTH 215: Mathematical Modeling for Computational Science",
          "APMTH 220: Geometric Methods for Machine Learning",
          "APMTH 226: Theory of Neural Computation",
          "BIOSTAT 244/BST 244: Analysis of Failure Time Data",
          "BIOSTAT 249/BST 249: Bayesian Methodology in Biostatistics",
          "BIOSTAT 258/BST 258: Causal Inference: Theory and Practice",
          "ECON 2142/STAT 242: Time Series",
          "GOV 2001: Quantitative Social Science Methods I",
          "HISTSCI 206R: Science, Mathematics, and Explanation: What Does it Mean to Explain Something?",
          "MATH 243: Evolutionary Dynamics",
          "PSY 1900: Introduction to Statistics for the Behavioral Sciences",
          "STAT 140: Design of Experiments",
          "STAT 143: Sports Analytics",
          "STAT 149: Generalized Linear Models",
          "STAT 160: Introduction to Survey Sampling and Estimation",
          "STAT 161: Introduction to Nonparametric Methods",
          "STAT 221: Computational Tools for Statistical Learning: Approximation, Optimization, and Monte Carlo",
          "STAT 234: Sequential Decision Making",
          "STAT 236: Statistical Learning",
          "STAT 288: Deep Statistics: AI and Earth Observations for Sustainable Development",
          "STAT 293/STAT 393/STAT 397: Design of Experimental and Non-experimental Studies",
          "STAT 315: Modern high-dimensional inference",
          "STAT 364: Scalable Statistical Inference for Big Data with Applications",
          "STAT 388R: Design and Analysis of Experiments at Scale",
          "SYSBIO 220: Analysis foundations for quantitative biologists",
          "SYSBIO 220QC: Analysis foundations for quantitative biologists (part 1)"
         ],
         "type": "scatter",
         "x": [
          -0.16208724004003958,
          0.22453956409057954,
          -0.05083607175037904,
          0.27176687530165394,
          -0.046359470599988906,
          -0.09668527685730395,
          -0.023798145850696114,
          0.05167280143658531,
          -0.05499793465291321,
          -0.09668527685730395,
          -0.07826394021876622,
          0.018891738269505087,
          -0.014265779020054353,
          0.7354954426952517,
          -0.09668527685730395,
          -0.09668527685730395,
          -0.09668527685730395,
          -0.08886889955226684,
          0.13952886326444633,
          -0.09668527685730395,
          -0.027563481326858326,
          0.0348143112527265,
          -0.02521934563081135,
          -0.09668527685730395,
          -0.09668527685730395,
          0.15868395610562513,
          -0.09668527685730395,
          -0.09668527685730395
         ],
         "y": [
          -0.17036470419075742,
          -0.043245142244419305,
          -0.10445934068396197,
          -0.04400483481872276,
          -0.10317387816298611,
          0.4846806581682743,
          -0.030543344684474883,
          -0.05221411966507916,
          -0.07746644011203026,
          0.4846806581682743,
          -0.11593606553645165,
          -0.12609759004680968,
          -0.056968053823218096,
          -0.06842072361519551,
          0.4846806581682743,
          0.4846806581682743,
          0.4846806581682743,
          -0.225944052954704,
          -0.039326813389668154,
          0.4846806581682743,
          -0.03828197407838711,
          -0.03244651790014295,
          -0.026090410309783593,
          0.4846806581682743,
          0.4846806581682743,
          -0.04435373063320269,
          0.4846806581682743,
          0.4846806581682743
         ]
        }
       ],
       "layout": {
        "height": 600,
        "showlegend": true,
        "template": {
         "data": {
          "bar": [
           {
            "error_x": {
             "color": "#2a3f5f"
            },
            "error_y": {
             "color": "#2a3f5f"
            },
            "marker": {
             "line": {
              "color": "#E5ECF6",
              "width": 0.5
             },
             "pattern": {
              "fillmode": "overlay",
              "size": 10,
              "solidity": 0.2
             }
            },
            "type": "bar"
           }
          ],
          "barpolar": [
           {
            "marker": {
             "line": {
              "color": "#E5ECF6",
              "width": 0.5
             },
             "pattern": {
              "fillmode": "overlay",
              "size": 10,
              "solidity": 0.2
             }
            },
            "type": "barpolar"
           }
          ],
          "carpet": [
           {
            "aaxis": {
             "endlinecolor": "#2a3f5f",
             "gridcolor": "white",
             "linecolor": "white",
             "minorgridcolor": "white",
             "startlinecolor": "#2a3f5f"
            },
            "baxis": {
             "endlinecolor": "#2a3f5f",
             "gridcolor": "white",
             "linecolor": "white",
             "minorgridcolor": "white",
             "startlinecolor": "#2a3f5f"
            },
            "type": "carpet"
           }
          ],
          "choropleth": [
           {
            "colorbar": {
             "outlinewidth": 0,
             "ticks": ""
            },
            "type": "choropleth"
           }
          ],
          "contour": [
           {
            "colorbar": {
             "outlinewidth": 0,
             "ticks": ""
            },
            "colorscale": [
             [
              0,
              "#0d0887"
             ],
             [
              0.1111111111111111,
              "#46039f"
             ],
             [
              0.2222222222222222,
              "#7201a8"
             ],
             [
              0.3333333333333333,
              "#9c179e"
             ],
             [
              0.4444444444444444,
              "#bd3786"
             ],
             [
              0.5555555555555556,
              "#d8576b"
             ],
             [
              0.6666666666666666,
              "#ed7953"
             ],
             [
              0.7777777777777778,
              "#fb9f3a"
             ],
             [
              0.8888888888888888,
              "#fdca26"
             ],
             [
              1,
              "#f0f921"
             ]
            ],
            "type": "contour"
           }
          ],
          "contourcarpet": [
           {
            "colorbar": {
             "outlinewidth": 0,
             "ticks": ""
            },
            "type": "contourcarpet"
           }
          ],
          "heatmap": [
           {
            "colorbar": {
             "outlinewidth": 0,
             "ticks": ""
            },
            "colorscale": [
             [
              0,
              "#0d0887"
             ],
             [
              0.1111111111111111,
              "#46039f"
             ],
             [
              0.2222222222222222,
              "#7201a8"
             ],
             [
              0.3333333333333333,
              "#9c179e"
             ],
             [
              0.4444444444444444,
              "#bd3786"
             ],
             [
              0.5555555555555556,
              "#d8576b"
             ],
             [
              0.6666666666666666,
              "#ed7953"
             ],
             [
              0.7777777777777778,
              "#fb9f3a"
             ],
             [
              0.8888888888888888,
              "#fdca26"
             ],
             [
              1,
              "#f0f921"
             ]
            ],
            "type": "heatmap"
           }
          ],
          "heatmapgl": [
           {
            "colorbar": {
             "outlinewidth": 0,
             "ticks": ""
            },
            "colorscale": [
             [
              0,
              "#0d0887"
             ],
             [
              0.1111111111111111,
              "#46039f"
             ],
             [
              0.2222222222222222,
              "#7201a8"
             ],
             [
              0.3333333333333333,
              "#9c179e"
             ],
             [
              0.4444444444444444,
              "#bd3786"
             ],
             [
              0.5555555555555556,
              "#d8576b"
             ],
             [
              0.6666666666666666,
              "#ed7953"
             ],
             [
              0.7777777777777778,
              "#fb9f3a"
             ],
             [
              0.8888888888888888,
              "#fdca26"
             ],
             [
              1,
              "#f0f921"
             ]
            ],
            "type": "heatmapgl"
           }
          ],
          "histogram": [
           {
            "marker": {
             "pattern": {
              "fillmode": "overlay",
              "size": 10,
              "solidity": 0.2
             }
            },
            "type": "histogram"
           }
          ],
          "histogram2d": [
           {
            "colorbar": {
             "outlinewidth": 0,
             "ticks": ""
            },
            "colorscale": [
             [
              0,
              "#0d0887"
             ],
             [
              0.1111111111111111,
              "#46039f"
             ],
             [
              0.2222222222222222,
              "#7201a8"
             ],
             [
              0.3333333333333333,
              "#9c179e"
             ],
             [
              0.4444444444444444,
              "#bd3786"
             ],
             [
              0.5555555555555556,
              "#d8576b"
             ],
             [
              0.6666666666666666,
              "#ed7953"
             ],
             [
              0.7777777777777778,
              "#fb9f3a"
             ],
             [
              0.8888888888888888,
              "#fdca26"
             ],
             [
              1,
              "#f0f921"
             ]
            ],
            "type": "histogram2d"
           }
          ],
          "histogram2dcontour": [
           {
            "colorbar": {
             "outlinewidth": 0,
             "ticks": ""
            },
            "colorscale": [
             [
              0,
              "#0d0887"
             ],
             [
              0.1111111111111111,
              "#46039f"
             ],
             [
              0.2222222222222222,
              "#7201a8"
             ],
             [
              0.3333333333333333,
              "#9c179e"
             ],
             [
              0.4444444444444444,
              "#bd3786"
             ],
             [
              0.5555555555555556,
              "#d8576b"
             ],
             [
              0.6666666666666666,
              "#ed7953"
             ],
             [
              0.7777777777777778,
              "#fb9f3a"
             ],
             [
              0.8888888888888888,
              "#fdca26"
             ],
             [
              1,
              "#f0f921"
             ]
            ],
            "type": "histogram2dcontour"
           }
          ],
          "mesh3d": [
           {
            "colorbar": {
             "outlinewidth": 0,
             "ticks": ""
            },
            "type": "mesh3d"
           }
          ],
          "parcoords": [
           {
            "line": {
             "colorbar": {
              "outlinewidth": 0,
              "ticks": ""
             }
            },
            "type": "parcoords"
           }
          ],
          "pie": [
           {
            "automargin": true,
            "type": "pie"
           }
          ],
          "scatter": [
           {
            "fillpattern": {
             "fillmode": "overlay",
             "size": 10,
             "solidity": 0.2
            },
            "type": "scatter"
           }
          ],
          "scatter3d": [
           {
            "line": {
             "colorbar": {
              "outlinewidth": 0,
              "ticks": ""
             }
            },
            "marker": {
             "colorbar": {
              "outlinewidth": 0,
              "ticks": ""
             }
            },
            "type": "scatter3d"
           }
          ],
          "scattercarpet": [
           {
            "marker": {
             "colorbar": {
              "outlinewidth": 0,
              "ticks": ""
             }
            },
            "type": "scattercarpet"
           }
          ],
          "scattergeo": [
           {
            "marker": {
             "colorbar": {
              "outlinewidth": 0,
              "ticks": ""
             }
            },
            "type": "scattergeo"
           }
          ],
          "scattergl": [
           {
            "marker": {
             "colorbar": {
              "outlinewidth": 0,
              "ticks": ""
             }
            },
            "type": "scattergl"
           }
          ],
          "scattermapbox": [
           {
            "marker": {
             "colorbar": {
              "outlinewidth": 0,
              "ticks": ""
             }
            },
            "type": "scattermapbox"
           }
          ],
          "scatterpolar": [
           {
            "marker": {
             "colorbar": {
              "outlinewidth": 0,
              "ticks": ""
             }
            },
            "type": "scatterpolar"
           }
          ],
          "scatterpolargl": [
           {
            "marker": {
             "colorbar": {
              "outlinewidth": 0,
              "ticks": ""
             }
            },
            "type": "scatterpolargl"
           }
          ],
          "scatterternary": [
           {
            "marker": {
             "colorbar": {
              "outlinewidth": 0,
              "ticks": ""
             }
            },
            "type": "scatterternary"
           }
          ],
          "surface": [
           {
            "colorbar": {
             "outlinewidth": 0,
             "ticks": ""
            },
            "colorscale": [
             [
              0,
              "#0d0887"
             ],
             [
              0.1111111111111111,
              "#46039f"
             ],
             [
              0.2222222222222222,
              "#7201a8"
             ],
             [
              0.3333333333333333,
              "#9c179e"
             ],
             [
              0.4444444444444444,
              "#bd3786"
             ],
             [
              0.5555555555555556,
              "#d8576b"
             ],
             [
              0.6666666666666666,
              "#ed7953"
             ],
             [
              0.7777777777777778,
              "#fb9f3a"
             ],
             [
              0.8888888888888888,
              "#fdca26"
             ],
             [
              1,
              "#f0f921"
             ]
            ],
            "type": "surface"
           }
          ],
          "table": [
           {
            "cells": {
             "fill": {
              "color": "#EBF0F8"
             },
             "line": {
              "color": "white"
             }
            },
            "header": {
             "fill": {
              "color": "#C8D4E3"
             },
             "line": {
              "color": "white"
             }
            },
            "type": "table"
           }
          ]
         },
         "layout": {
          "annotationdefaults": {
           "arrowcolor": "#2a3f5f",
           "arrowhead": 0,
           "arrowwidth": 1
          },
          "autotypenumbers": "strict",
          "coloraxis": {
           "colorbar": {
            "outlinewidth": 0,
            "ticks": ""
           }
          },
          "colorscale": {
           "diverging": [
            [
             0,
             "#8e0152"
            ],
            [
             0.1,
             "#c51b7d"
            ],
            [
             0.2,
             "#de77ae"
            ],
            [
             0.3,
             "#f1b6da"
            ],
            [
             0.4,
             "#fde0ef"
            ],
            [
             0.5,
             "#f7f7f7"
            ],
            [
             0.6,
             "#e6f5d0"
            ],
            [
             0.7,
             "#b8e186"
            ],
            [
             0.8,
             "#7fbc41"
            ],
            [
             0.9,
             "#4d9221"
            ],
            [
             1,
             "#276419"
            ]
           ],
           "sequential": [
            [
             0,
             "#0d0887"
            ],
            [
             0.1111111111111111,
             "#46039f"
            ],
            [
             0.2222222222222222,
             "#7201a8"
            ],
            [
             0.3333333333333333,
             "#9c179e"
            ],
            [
             0.4444444444444444,
             "#bd3786"
            ],
            [
             0.5555555555555556,
             "#d8576b"
            ],
            [
             0.6666666666666666,
             "#ed7953"
            ],
            [
             0.7777777777777778,
             "#fb9f3a"
            ],
            [
             0.8888888888888888,
             "#fdca26"
            ],
            [
             1,
             "#f0f921"
            ]
           ],
           "sequentialminus": [
            [
             0,
             "#0d0887"
            ],
            [
             0.1111111111111111,
             "#46039f"
            ],
            [
             0.2222222222222222,
             "#7201a8"
            ],
            [
             0.3333333333333333,
             "#9c179e"
            ],
            [
             0.4444444444444444,
             "#bd3786"
            ],
            [
             0.5555555555555556,
             "#d8576b"
            ],
            [
             0.6666666666666666,
             "#ed7953"
            ],
            [
             0.7777777777777778,
             "#fb9f3a"
            ],
            [
             0.8888888888888888,
             "#fdca26"
            ],
            [
             1,
             "#f0f921"
            ]
           ]
          },
          "colorway": [
           "#636efa",
           "#EF553B",
           "#00cc96",
           "#ab63fa",
           "#FFA15A",
           "#19d3f3",
           "#FF6692",
           "#B6E880",
           "#FF97FF",
           "#FECB52"
          ],
          "font": {
           "color": "#2a3f5f"
          },
          "geo": {
           "bgcolor": "white",
           "lakecolor": "white",
           "landcolor": "#E5ECF6",
           "showlakes": true,
           "showland": true,
           "subunitcolor": "white"
          },
          "hoverlabel": {
           "align": "left"
          },
          "hovermode": "closest",
          "mapbox": {
           "style": "light"
          },
          "paper_bgcolor": "white",
          "plot_bgcolor": "#E5ECF6",
          "polar": {
           "angularaxis": {
            "gridcolor": "white",
            "linecolor": "white",
            "ticks": ""
           },
           "bgcolor": "#E5ECF6",
           "radialaxis": {
            "gridcolor": "white",
            "linecolor": "white",
            "ticks": ""
           }
          },
          "scene": {
           "xaxis": {
            "backgroundcolor": "#E5ECF6",
            "gridcolor": "white",
            "gridwidth": 2,
            "linecolor": "white",
            "showbackground": true,
            "ticks": "",
            "zerolinecolor": "white"
           },
           "yaxis": {
            "backgroundcolor": "#E5ECF6",
            "gridcolor": "white",
            "gridwidth": 2,
            "linecolor": "white",
            "showbackground": true,
            "ticks": "",
            "zerolinecolor": "white"
           },
           "zaxis": {
            "backgroundcolor": "#E5ECF6",
            "gridcolor": "white",
            "gridwidth": 2,
            "linecolor": "white",
            "showbackground": true,
            "ticks": "",
            "zerolinecolor": "white"
           }
          },
          "shapedefaults": {
           "line": {
            "color": "#2a3f5f"
           }
          },
          "ternary": {
           "aaxis": {
            "gridcolor": "white",
            "linecolor": "white",
            "ticks": ""
           },
           "baxis": {
            "gridcolor": "white",
            "linecolor": "white",
            "ticks": ""
           },
           "bgcolor": "#E5ECF6",
           "caxis": {
            "gridcolor": "white",
            "linecolor": "white",
            "ticks": ""
           }
          },
          "title": {
           "x": 0.05
          },
          "xaxis": {
           "automargin": true,
           "gridcolor": "white",
           "linecolor": "white",
           "ticks": "",
           "title": {
            "standoff": 15
           },
           "zerolinecolor": "white",
           "zerolinewidth": 2
          },
          "yaxis": {
           "automargin": true,
           "gridcolor": "white",
           "linecolor": "white",
           "ticks": "",
           "title": {
            "standoff": 15
           },
           "zerolinecolor": "white",
           "zerolinewidth": 2
          }
         }
        },
        "title": {
         "text": "Topic Distribution of Documents (PCA-reduced)"
        },
        "width": 1000,
        "xaxis": {
         "autorange": true,
         "range": [
          -0.7382779108739864,
          0.8258614545403987
         ],
         "title": {
          "text": "Principal Component 1"
         },
         "type": "linear"
        },
        "yaxis": {
         "autorange": true,
         "range": [
          -0.39371381639356495,
          0.5456259145191594
         ],
         "title": {
          "text": "Principal Component 2"
         },
         "type": "linear"
        }
       }
      },
      "image/png": "[encoded data removed]",
      "text/html": [
       "<div>                            <div id=\"bcfa7251-fb73-4ab4-b7a0-fa5d479533e6\" class=\"plotly-graph-div\" style=\"height:600px; width:1000px;\"></div>            <script type=\"text/javascript\">                require([\"plotly\"], function(Plotly) {                    window.PLOTLYENV=window.PLOTLYENV || {};                                    if (document.getElementById(\"bcfa7251-fb73-4ab4-b7a0-fa5d479533e6\")) {                    Plotly.newPlot(                        \"bcfa7251-fb73-4ab4-b7a0-fa5d479533e6\",                        [{\"hovertemplate\":\"\\u003cb\\u003eCourse Name:\\u003c\\u002fb\\u003e %{text}\\u003cbr\\u003e\\u003cb\\u003eTopic:\\u003c\\u002fb\\u003e %{meta}\",\"marker\":{\"color\":\"hsl(0.0, 70%, 50%)\",\"line\":{\"color\":\"black\",\"width\":1},\"size\":10},\"meta\":[\"Topic 0\",\"Topic 0\",\"Topic 0\",\"Topic 0\",\"Topic 0\",\"Topic 0\",\"Topic 0\",\"Topic 0\",\"Topic 0\",\"Topic 0\",\"Topic 0\",\"Topic 0\",\"Topic 0\",\"Topic 0\",\"Topic 0\",\"Topic 0\",\"Topic 0\",\"Topic 0\",\"Topic 0\",\"Topic 0\",\"Topic 0\",\"Topic 0\",\"Topic 0\",\"Topic 0\",\"Topic 0\",\"Topic 0\",\"Topic 0\",\"Topic 0\",\"Topic 0\",\"Topic 0\",\"Topic 0\",\"Topic 0\",\"Topic 0\",\"Topic 0\",\"Topic 0\",\"Topic 0\",\"Topic 0\",\"Topic 0\",\"Topic 0\",\"Topic 0\",\"Topic 0\",\"Topic 0\",\"Topic 0\",\"Topic 0\",\"Topic 0\",\"Topic 0\",\"Topic 0\",\"Topic 0\"],\"mode\":\"markers\",\"name\":\"Topic 0\",\"text\":[\"APMTH 101: Statistical Inference for Scientists and Engineers\",\"APMTH 120: Applied Linear Algebra and Big Data\",\"APMTH 203: Introduction to Disordered Systems and Stochastic Processes\",\"APMTH 217: Patterns\",\"BIOSTAT 230\\u002fBST 230: Probability I\",\"BIOSTAT 233\\u002fBST 233: Methods II\",\"CHEM 161: Statistical Thermodynamics\",\"CHEM 200\\u002fENG-SCI 200\\u002fQSE 200: Foundations of Quantum Mechanics\",\"CHEM 246: Advanced Statistical Mechanics: Frontiers in Research\",\"ECON 1126: Quantitative Methods in Economics\",\"MATH 102: Much Ado About Everything: The Mathematics of Leonhard Euler\",\"MATH 113: Complex Analysis\",\"MATH 117: Probability and Random Processes with Economic Applications\",\"MATH 123: Algebra II: Theory of Rings and Fields\",\"MATH 130: Classical Geometry\",\"MATH 131: Topological Spaces and Fundamental Group\",\"MATH 141B: Mathematical Logic II\",\"MATH 145B: Set Theory II\",\"MATH 153\\u002fMATH 242: Mathematical Biology-Evolutionary Dynamics\",\"MATH 154: Probability Theory\",\"MATH 18B\\u002f19B: Linear Algebra, Probability, and Statistics\",\"MATH 219: Topics in Complex Analysis: From Conformal Invariants to Percolation\",\"MATH 231BR: Advanced Algebraic Topology\",\"MATH 232A\\u002fMATH 232AR: Introduction to Algebraic Geometry I\",\"MATH 232BR: Algebraic Geometry II\",\"MATH 23B: Linear Algebra and Real Analysis II\",\"MATH 23C: Mathematics for Computation, Statistics, and Data Science\",\"MATH 25B: Theoretical Linear Algebra and Real Analysis II\",\"MATH 270X: Topology and Condensed Matter Physics\",\"MATH 272X: Diffeomorphisms of Disks\",\"MATH 275: Ergodic Theory, Geometry and Dynamics\",\"MATH 275Z: Topics in Mean Field Spin Glasses\",\"MATH 281Y: Non-Kahler Calabi-Yau Manifolds\",\"MATH 284Z: Topics in stochastic analysis\",\"MATH 292Z: First steps in infinity categories\",\"MATH 55A: Studies in Algebra and Group Theory\",\"MCB 199\\u002fPHYSICS 199: Statistical Thermodynamics and Quantitative Biology\",\"PHYSICS 143A: Quantum Mechanics I\",\"PHYSICS 15B: Introductory Electromagnetism and Statistical Physics\",\"PHYSICS 264: Lie Algebras, Representations and Quantum Mechanics\",\"STAT 111: Introduction to Statistical Inference\",\"STAT 123: Applied Quantitative Finance\",\"STAT 131: Time Series & Prediction\",\"STAT 141: Introduction to Spatial Statistics\",\"STAT 171: Introduction to Stochastic Processes\",\"STAT 211: Statistical Inference I\",\"STAT 213: Statistical Inference II\",\"STAT 220: Bayesian Data Analysis\"],\"x\":[0.05008609600157377,-0.6479118990288394,0.1074078314670755,-0.09668527685730395,-0.09668527685730395,0.4298082507144782,-0.019933594845428913,-0.5214247453512805,-0.09668527685730395,-0.09668527685730395,-0.09668527685730395,-0.09668527685730395,-0.043430939440975216,0.007012280336043218,-0.09668527685730395,0.36831955629439705,-0.09668527685730395,-0.09668527685730395,-0.09668527685730395,-0.07948901970322308,-0.1748333150581178,-0.09668527685730395,0.7354954426952517,0.16237934932430148,-0.09668527685730395,-0.09668527685730395,-0.406891453441259,-0.09668527685730395,-0.09668527685730395,0.11867148583505155,-0.09668527685730395,-0.09668527685730395,-0.09668527685730395,0.027785298086432257,0.4104698648423093,-0.09668527685730395,-0.6479118990288394,-0.09668527685730395,0.7354954426952517,-0.31021694020274226,0.08267777097798906,-0.09668527685730395,-0.05763653557420982,0.046987514952708295,-0.09668527685730395,0.06958075683531924,0.0044913750649155015,0.03662346387149406],\"y\":[0.08109289629968755,-0.33276856004267985,0.028304017894407577,0.4846806581682743,0.4846806581682743,-0.05498422153401729,-0.03193863568739281,-0.2716741380404907,0.4846806581682743,0.4846806581682743,0.4846806581682743,0.4846806581682743,-0.032072668959115765,-0.12982985070376873,0.4846806581682743,-0.13858238043960167,0.4846806581682743,0.4846806581682743,0.4846806581682743,-0.10222631585472215,-0.02172014098701604,0.4846806581682743,-0.06842072361519551,-0.04074480915475085,0.4846806581682743,0.4846806581682743,-0.010448427716547254,0.4846806581682743,0.4846806581682743,-0.09085048497760902,0.4846806581682743,0.4846806581682743,0.4846806581682743,-0.20365323243791897,-0.0508670023391266,0.4846806581682743,-0.33276856004267985,0.4846806581682743,-0.06842072361519551,-0.21930360357673012,-0.03626885745476207,0.4846806581682743,-0.0873636021680579,-0.06323762472298536,0.4846806581682743,-0.07243159351866199,-0.0969313962601739,-0.2019643950775817],\"type\":\"scatter\"},{\"hovertemplate\":\"\\u003cb\\u003eCourse Name:\\u003c\\u002fb\\u003e %{text}\\u003cbr\\u003e\\u003cb\\u003eTopic:\\u003c\\u002fb\\u003e %{meta}\",\"marker\":{\"color\":\"hsl(72.0, 70%, 50%)\",\"line\":{\"color\":\"black\",\"width\":1},\"size\":10},\"meta\":[\"Topic 1\",\"Topic 1\",\"Topic 1\",\"Topic 1\",\"Topic 1\",\"Topic 1\",\"Topic 1\",\"Topic 1\",\"Topic 1\",\"Topic 1\",\"Topic 1\",\"Topic 1\",\"Topic 1\",\"Topic 1\",\"Topic 1\",\"Topic 1\",\"Topic 1\",\"Topic 1\",\"Topic 1\",\"Topic 1\",\"Topic 1\",\"Topic 1\",\"Topic 1\",\"Topic 1\",\"Topic 1\",\"Topic 1\",\"Topic 1\",\"Topic 1\",\"Topic 1\",\"Topic 1\",\"Topic 1\",\"Topic 1\",\"Topic 1\",\"Topic 1\",\"Topic 1\",\"Topic 1\",\"Topic 1\",\"Topic 1\",\"Topic 1\",\"Topic 1\",\"Topic 1\",\"Topic 1\",\"Topic 1\",\"Topic 1\",\"Topic 1\",\"Topic 1\",\"Topic 1\",\"Topic 1\",\"Topic 1\",\"Topic 1\",\"Topic 1\",\"Topic 1\",\"Topic 1\",\"Topic 1\",\"Topic 1\",\"Topic 1\",\"Topic 1\",\"Topic 1\",\"Topic 1\",\"Topic 1\",\"Topic 1\",\"Topic 1\",\"Topic 1\",\"Topic 1\",\"Topic 1\",\"Topic 1\",\"Topic 1\",\"Topic 1\",\"Topic 1\",\"Topic 1\",\"Topic 1\",\"Topic 1\"],\"mode\":\"markers\",\"name\":\"Topic 1\",\"text\":[\"APMTH 10: Computing for Science and Engineering\",\"APMTH 104: Complex and Fourier Analysis with Applications to Art, Science and Engineering\",\"APMTH 206: Advanced Applied Algebra\",\"APMTH 230\\u002fPHYSICS 230: Active Matter\",\"APPHY 295A\\u002fPHYSICS 295A: Introduction to Quantum Theory of Solids\",\"CHEM 166: Quantum Materials, Where Physics and Chemistry Meet\",\"FRSEMR 23P: Physics, Math and Puzzles\",\"FRSEMR 52D\\u002fFYSEMR 52D: Quantum Entanglement and the Second Quantum Revolution\",\"MATH 101: Sets, Groups and Topology\",\"MATH 110: Vector Space Methods for Differential Equations\",\"MATH 114: Analysis of Function Spaces, Measure and Integration\",\"MATH 115: Methods of Analysis\",\"MATH 118R: Dynamical Systems\",\"MATH 119: Introduction to Stochastic Calculus\",\"MATH 124: Number Theory\",\"MATH 129: Number Fields\",\"MATH 137: Algebraic Geometry\",\"MATH 155R: Combinatorics\",\"MATH 163: Derived Categories in Geometry and Algebra\",\"MATH 166R: Introduction to semi-Riemannian geometry\",\"MATH 212\\u002fMATH 212A: Advanced Real Analysis\",\"MATH 212A: Real Analysis\",\"MATH 212BR: Advanced Real Analysis\",\"MATH 213BR: Riemann Surfaces\",\"MATH 221: Commutative Algebra\",\"MATH 225: Homological Algebra\",\"MATH 229\\u002fMATH 229X: Introduction to Analytic Number Theory\",\"MATH 230A: Differential Geometry\",\"MATH 230B: Semi-Riemannian Geometry\",\"MATH 252Y: Finite Height Chromatic Homotopy Theory\",\"MATH 254R: Arithmetic Dynamics\",\"MATH 256X: Heisenberg Calculus in Quantum Topology\",\"MATH 258: L-Functions and Arithmetic Statistics\",\"MATH 259X: Moduli Spaces in Algebraic Geometry\",\"MATH 260X: Rationality Questions in Algebraic Geometry\",\"MATH 262A: Quantum theory from the geometric viewpoint I\",\"MATH 262B: Quantum theory from the geometric viewpoint II\",\"MATH 263X: Mirror Symmetry for Toric Varieties and Other GIT Quotients\",\"MATH 264X: Algebraic Cobordism\",\"MATH 265: Singularities and Hodge theory\",\"MATH 266: Motivic homotopy theory\",\"MATH 266Y: Topics in Analysis: Matrix Inequalities and Quantum Entropy\",\"MATH 268Z: Kashiwara Crystals and Quantum Integrable Systems\",\"MATH 269Z: Topics in Hodge Theory\",\"MATH 270Z: Symplectic geometry\",\"MATH 271: Free Probability, Random Matrices and Random Partitions\",\"MATH 271Z: Topics in Algebraic Geometry - Kodaira dimension and families of varieties\",\"MATH 274Y: Spectral Theory and Quantum Spin Systems\",\"MATH 274Z: Complex and Arithmetic Dynamical Systems\",\"MATH 277X: Quantum Geometry\",\"MATH 277Z: K3 surfaces\",\"MATH 278: Geometry and Algebra of Computational Complexity\",\"MATH 278Z: Tools and ideas in low-dimensional topology\",\"MATH 279Z: Cohen-Macaulay modules and vector bundles\",\"MATH 281Z: Homological Algebra\",\"MATH 282X: Topics in Invariant Descriptive Set Theory\",\"MATH 283: Instanton Floer Homology\",\"MATH 283Z: Foundations of non-abelian Chabauty\",\"MATH 288Y: Analytic Number Theory Over Function Fields\",\"MATH 288Z: Entropy\",\"MATH 289: Topics on Knots, 3 and 4-Manifolds\",\"MATH 289Y: Topics in Geometric PDEs\",\"MATH 290: Birational Geometry of Algebraic Varieties\",\"MATH 291Y: P-adic analytic groups and their cohomology\",\"MATH 293X: Topological modular forms\",\"MATH 295: Topics in Discrete Probability: Random Structures and Algorithms\",\"MATH 295Y: Arithmetic Dynamics\",\"MATH 296: D-Modules in Birational Geometry\",\"MATH 297X: Geometry and complexity theory\",\"MATH 99R: Tutorial\",\"PHYSICS 267: Higher Representations in Physics and Mathematics\",\"QSE 210B: Introduction to Quantum Information Science II\"],\"x\":[-0.09668527685730395,-0.09668527685730395,-0.030425729052445505,0.09690304660904026,-0.43226625973351407,-0.5853837211383995,-0.09668527685730395,-0.360827268188854,0.7354954426952517,-0.6479118990288394,-0.09668527685730395,0.06236769270322928,-0.27009778656978933,0.027824816005356426,0.2703749830406326,0.4690998695841238,0.4661129305102173,-0.6479118990288394,-0.09668527685730395,0.34721859991306836,-0.01792789117185787,-0.09668527685730395,-0.11639007491998779,0.07136672019415773,0.33569181151295774,0.023665344683916022,0.7354954426952517,0.7354954426952517,0.28063863139384165,0.004028486500254308,0.19537430650732684,-0.3129636722160669,0.1536102803438743,0.7354954426952517,0.4914625498347781,-0.45949677992110016,-0.49826671692943153,0.1329152752147003,0.4386367607357912,0.43110072774221886,0.46575586775269184,-0.5257988712254754,0.11622556348701432,0.7354954426952517,0.03052869877261143,-0.13052900567505885,0.174022850140902,-0.3626476087478066,0.3470105036673684,-0.16685200886502768,0.6128511897261973,0.07556884113943718,0.16241039495558002,0.7354954426952517,0.023665344683916022,0.7354954426952517,-0.01865184367169858,0.36780471099341777,0.7354954426952517,0.028218811824606713,0.003210897536971618,0.029989468005152786,0.7354954426952517,0.16426534515763222,0.03758251105142954,-0.17603113932880893,0.7354954426952517,0.44907691829016255,0.3221365382474719,-0.6479118990288394,-0.4379995271691809,-0.6479118990288394],\"y\":[0.4846806581682743,0.4846806581682743,-0.10831679246490399,0.02244833657739718,-0.23045065787358515,-0.32082038827680576,0.4846806581682743,-0.2779111086288729,-0.06842072361519551,-0.33276856004267985,0.4846806581682743,-0.09808240479955407,-0.14973173711058596,-0.20364568117224846,-0.15729807989308175,-0.11932481473995639,-0.1198955727935777,-0.33276856004267985,0.4846806581682743,-0.051353987608656435,-0.03087334955459416,0.4846806581682743,-0.07291320911791827,-0.07570061812468204,-0.10056303404097128,-0.2044404920795946,-0.06842072361519551,-0.06842072361519551,-0.15533685476856993,-0.10214241581257388,-0.07385603177416313,-0.19261328938494793,-0.045614248393707105,-0.06842072361519551,-0.11505165096332587,-0.24293942573241417,-0.26173025717135656,-0.04100422672326287,-0.12514584566268924,-0.1265858655013973,-0.11996380198723151,-0.28935668906568995,-0.09937043986578785,-0.06842072361519551,-0.0599542961952052,-0.05295118039320319,-0.130193059162708,-0.2256709854728644,-0.1426542122048243,-0.16875205212335626,-0.09185615144965377,-0.19452253329968885,-0.04053105887732729,-0.06842072361519551,-0.2044404920795946,-0.06842072361519551,-0.035043210270209846,-0.13868075944721847,-0.06842072361519551,-0.03309407129256159,-0.07401875490599102,-0.20323204951401877,-0.06842072361519551,-0.07479994329940243,-0.07328403833830877,-0.2425994145450126,-0.06842072361519551,-0.12315089234834554,-0.14740724389968798,-0.33276856004267985,-0.2771751487633732,-0.33276856004267985],\"type\":\"scatter\"},{\"hovertemplate\":\"\\u003cb\\u003eCourse Name:\\u003c\\u002fb\\u003e %{text}\\u003cbr\\u003e\\u003cb\\u003eTopic:\\u003c\\u002fb\\u003e %{meta}\",\"marker\":{\"color\":\"hsl(144.0, 70%, 50%)\",\"line\":{\"color\":\"black\",\"width\":1},\"size\":10},\"meta\":[\"Topic 2\",\"Topic 2\",\"Topic 2\",\"Topic 2\",\"Topic 2\",\"Topic 2\",\"Topic 2\",\"Topic 2\",\"Topic 2\",\"Topic 2\",\"Topic 2\",\"Topic 2\",\"Topic 2\",\"Topic 2\",\"Topic 2\",\"Topic 2\",\"Topic 2\",\"Topic 2\",\"Topic 2\",\"Topic 2\",\"Topic 2\",\"Topic 2\",\"Topic 2\",\"Topic 2\",\"Topic 2\",\"Topic 2\",\"Topic 2\",\"Topic 2\",\"Topic 2\",\"Topic 2\",\"Topic 2\"],\"mode\":\"markers\",\"name\":\"Topic 2\",\"text\":[\"APMTH 108: Nonlinear Dynamical Systems\",\"APMTH 202: Physical Mathematics II\",\"APMTH 21A: Mathematical Methods in the Sciences\",\"APMTH 22B: Integrating and Approximating\",\"COMPSCI 20: Discrete Mathematics for Computer Science\",\"FYSEMR 23P: Physics, Math and Puzzles\",\"MATH 112: Introductory Real Analysis\",\"MATH 116: Real Analysis, Convexity, and Optimization\",\"MATH 121: Linear Algebra\",\"MATH 132: Differential Topology\",\"MATH 141A: Mathematical Logic I\",\"MATH 152: Discrete Mathematics\",\"MATH 161: Introduction to Formal Verification of Mathematics\",\"MATH 18\\u002fMATH 18A: Multivariable Calculus for Social Sciences\",\"MATH 19A: Modeling and Differential Equations for the Life Sciences\",\"MATH 19B: Linear Algebra, Probability, and Statistics for the Life Sciences\",\"MATH 1A: Introduction to Calculus\",\"MATH 1B: Integration, Series and Differential Equations\",\"MATH 21A: Multivariable Calculus\",\"MATH 21B: Linear Algebra and Differential Equations\",\"MATH 22A: Vector Calculus and Linear Algebra I\",\"MATH 22B: Vector Calculus and Linear Algebra II\",\"MATH 23A: Linear Algebra and Real Analysis I\",\"MATH 25A: Theoretical Linear Algebra and Real Analysis I\",\"MATH 370: Topics in Linear Algebra and Multivariable Calculus; and Their Applications\",\"MATH MA5: An In-depth Introduction to Functions and Calculus I\",\"MATH MB: Introduction to Functions and Calculus II\",\"NEUROBIO 314QC: Mathematical Tools for Neuroscience\",\"PHIL 151Z: Philosophy of Quantum Mechanics: Proseminar\",\"PHYSCI 12A: Mechanics and Statistical Physics from an Analytic, Numerical and Experimental Perspective\",\"PHYSICS 143B: Quantum Mechanics II\"],\"x\":[-0.6479118990288394,-0.012024635214801557,0.04243701496329796,-0.0054440774612123,-0.11208483348180574,-0.06598550592774872,-0.40354415673224503,-0.03844609810486999,-0.07652107115003746,-0.11163257122881129,0.0034262233280661493,0.7354954426952517,-0.09668527685730395,-0.15826674402607327,-0.1632549084552602,-0.010008081101550718,-0.057636853434561694,-0.25683988845230754,-0.09668527685730395,-0.2981976937119009,-0.024495626390855993,-0.01224136703215646,-0.09668527685730395,0.11641482955626119,-0.12006990917894084,-0.13210147296295974,-0.19598274927300532,-0.0220494464773727,-0.4314627130152823,-0.04143007298897726,-0.49120091765147617],\"y\":[-0.33276856004267985,-0.062231864221712355,-0.037566005020533956,-0.09966058726258745,-0.08251234389876462,-0.08418519438872886,-0.005972039352257292,-0.14264687530655976,-0.15203098670224569,-0.07100454422588992,-0.10980597680139484,-0.06842072361519551,0.4846806581682743,-0.15421392509562862,-0.06971028003979246,-0.07835340808176046,-0.07371730512426568,-0.25804072192493877,0.4846806581682743,-0.19686880460994016,-0.03356452641151792,-0.034290012664379026,0.4846806581682743,-0.09795881382277563,-0.09882806227322431,-0.20114936434741656,-0.11281968523392837,-0.05306868627902751,-0.24834540005149983,-0.058186403574893644,-0.256755510461736],\"type\":\"scatter\"},{\"hovertemplate\":\"\\u003cb\\u003eCourse Name:\\u003c\\u002fb\\u003e %{text}\\u003cbr\\u003e\\u003cb\\u003eTopic:\\u003c\\u002fb\\u003e %{meta}\",\"marker\":{\"color\":\"hsl(216.0, 70%, 50%)\",\"line\":{\"color\":\"black\",\"width\":1},\"size\":10},\"meta\":[\"Topic 3\",\"Topic 3\",\"Topic 3\",\"Topic 3\",\"Topic 3\",\"Topic 3\",\"Topic 3\",\"Topic 3\",\"Topic 3\",\"Topic 3\",\"Topic 3\",\"Topic 3\",\"Topic 3\",\"Topic 3\",\"Topic 3\",\"Topic 3\",\"Topic 3\",\"Topic 3\",\"Topic 3\",\"Topic 3\",\"Topic 3\",\"Topic 3\",\"Topic 3\",\"Topic 3\",\"Topic 3\",\"Topic 3\",\"Topic 3\",\"Topic 3\",\"Topic 3\",\"Topic 3\",\"Topic 3\",\"Topic 3\",\"Topic 3\",\"Topic 3\",\"Topic 3\",\"Topic 3\",\"Topic 3\",\"Topic 3\",\"Topic 3\",\"Topic 3\",\"Topic 3\",\"Topic 3\",\"Topic 3\",\"Topic 3\",\"Topic 3\",\"Topic 3\",\"Topic 3\",\"Topic 3\",\"Topic 3\",\"Topic 3\",\"Topic 3\",\"Topic 3\",\"Topic 3\",\"Topic 3\",\"Topic 3\",\"Topic 3\",\"Topic 3\",\"Topic 3\",\"Topic 3\",\"Topic 3\",\"Topic 3\",\"Topic 3\",\"Topic 3\",\"Topic 3\",\"Topic 3\",\"Topic 3\",\"Topic 3\",\"Topic 3\",\"Topic 3\",\"Topic 3\",\"Topic 3\",\"Topic 3\",\"Topic 3\",\"Topic 3\",\"Topic 3\",\"Topic 3\",\"Topic 3\",\"Topic 3\"],\"mode\":\"markers\",\"name\":\"Topic 3\",\"text\":[\"APCOMP 209A\\u002fCOMPSCI 1090A\\u002fCOMPSCI 109A\\u002fSTAT 109A\\u002fSTAT 121A: Data Science 1: Introduction to Data Science\",\"APCOMP 209B\\u002fCOMPSCI 109B\\u002fSTAT 109B\\u002fSTAT 121B: Data Science 2: Advanced Topics in Data Science\",\"APCOMP 215: Advanced Practical Data Science\",\"APCOMP 221: Critical Thinking in Data Science\",\"APCOMP 295: Topics in Applied Computation: Advanced Practical Data Science\",\"APCOMP 297R: Computational Science and Engineering Capstone Project\",\"APCOMP 298R: Interdisciplinary Seminar in Applied Computation\",\"APCOMP 299R: Special Topics in Applied Computation\",\"APMTH 115\\u002fENG-SCI 115: Mathematical Modeling\",\"APMTH 121\\u002fENG-SCI 121: Introduction to Optimization: Models and Methods\",\"APMTH 122: Convex Optimization and Its Applications\",\"APMTH 158\\u002fENG-SCI 158: Feedback Control Systems: Analysis and Design\",\"APMTH 201: Physical Mathematics I\",\"APMTH 207: Advanced Scientific Computing: Stochastic Methods for Data Analysis, Inference and Optimization\",\"APMTH 216: Inverse Problems in Science and Engineering\",\"APMTH 221: Advanced Optimization\",\"APMTH 231\\u002fENG-SCI 201: Decision Theory\",\"APMTH 232\\u002fENG-SCI 202: Learning, Estimation, and Control of Dynamical Systems\",\"APMTH 233\\u002fENG-SCI 203: Interplay between Control and Learning\",\"APMTH 50: Introduction to Applied Mathematics\",\"APPHY 284\\u002fPHYSICS 262: Statistical Mechanics\",\"BIOSTAT 232\\u002fBST 232: Methods\",\"BIOSTAT 234\\u002fBST 234: Introduction to Data Structures and Algorithms\",\"BIOSTAT 241\\u002fBST 241: Statistical Inference II\",\"BIOSTAT 245\\u002fBST 245: Analysis of Multivariate and Longitudinal Data\",\"BIOSTAT 267\\u002fBST 267: Introduction to Social and Biological Networks\",\"BIOSTAT 281\\u002fBST 281: Genomic Data Manipulation\",\"BIOSTAT 282\\u002fBST 282\\u002fSTAT 115\\u002fSTAT 215: Introduction to Computational Biology and Bioinformatics\",\"BIOSTAT 283\\u002fBST 283: Cancer Genome Analysis\",\"BIOSTAT 290\\u002fBST 290: Advanced Computational Biology and Bioinformatics\",\"COMPSCI 282R: Machine Learning: Advances in Uncertainty Quantification, Structured Prediction, Large-Scale Methods\",\"COMPSCI 333\\u002fSTAT 333: Individual Risk\",\"E-PSCI 102\\u002fESE 102: Data Analysis and Statistical Inference in the Earth and Environmental Sciences\",\"ECON 2340: Transportation and Development: Evidence and Quantitative Models\",\"ENG-SCI 53: Quantitative Physiology as a Basis for Bioengineering\",\"FRSEMR 40P\\u002fFYSEMR 40P: Appraising and Reimagining Middle and High School Math Education\",\"FYSEMR 23I: Earth Science Goes to the Movies: Math and Physics of Natural (?) Disasters\",\"FYSEMR 52P: Mathematical Proofs from \\u201cthe Book\\u201d\",\"GOV 2000\\u002fGOV 2000E: Introduction to Quantitative Methods I\",\"GOV 2003\\u002fSTAT 286: Causal Inference with Applications\",\"HIST 12E: Migrant Geographies: Between Asia and the United States in the Twentieth Century\",\"MATH 156: Mathematical Foundations of Statistical Software\",\"MATH 157: Mathematics in the World\",\"MATH 168: Making Math Material\",\"MATH 223B: Algebraic Number Theory\",\"MATH 273X: Distributions of Class Groups of Global Fields\",\"MATH 287Z: Geometric and topological combinatorics\",\"MATH 333: Graduate Reading in Complex Analysis, Dynamics and Geometry\",\"MATH ESPA: Emerging Scholars: Problem Solving Exploration\",\"OEB 137: Experimental Design and Statistics for Ecology\",\"PHYSCI 12B\\u002fPHYSICS 12B: Electromagnetism and Statistical Physics from an Analytic, Numerical and Experimental Perspective\",\"PHYSICS 181: Statistical Mechanics and Thermodynamics\",\"PSY 2035: Advanced Statistical Modeling\",\"SOCIOL 1156: Statistics for Social Sciences\",\"STAT 100: Introduction to Quantitative Methods for the Social Sciences and Humanities\",\"STAT 102: Introduction to Statistics for Life Sciences\",\"STAT 104: Introduction to Quantitative Methods for Economics\",\"STAT 107: Introduction to Business and Financial Statistics\",\"STAT 108: Introduction to Statistical Computing with R\",\"STAT 109: Intro to Statistical Modelling\",\"STAT 114: Introduction to Bioinformatics and Statistical Genetics\",\"STAT 117: Data Analysis in Modern Biostatistics\",\"STAT 139: Linear Models\",\"STAT 185: Introduction to Dimension Reduction\",\"STAT 186: Statistical Methods for Evaluating Causal Effects\",\"STAT 188: Variations, Information and Privacy\",\"STAT 195: Introduction to Supervised Learning\",\"STAT 212: Probability 2\",\"STAT 216: Topics in High-Dimensional Probability Theory\",\"STAT 217: Topics in high-dimensional statistics: methods from statistical physics\",\"STAT 248: Couplings and Monte Carlo\",\"STAT 286: Causal Inference & Program Evaluation\",\"STAT 291: Random High-Dimensional Optimization: Landscapes and Algorithmic Barriers\",\"STAT 303HFA: The Art of Communicating and Teaching Statistics\",\"STAT 303HFB: The Art and Practice of Teaching Statistics\",\"STAT 317: Computational Optimal Transport\",\"STAT 98: Tutorial - Junior Year\",\"STAT 99R: Tutorial - Senior Year\"],\"x\":[-0.03961220970705261,0.01884382844302422,-0.17204705343747526,-0.14134889710309162,0.016365906003438156,-0.18633183557741528,0.048963917262352094,-0.03837235806766025,-0.16091133689807482,0.14921209390580079,-0.13908366813118825,-0.09668527685730395,0.043252069259044186,-0.1007819493623977,-0.2572483176840893,-0.035896152336285445,-0.07056349444071049,-0.17770820175178667,-0.06633975294839434,-0.019787385664690516,-0.07588716164352184,-0.04359835873434315,-0.05014657239484082,0.08093966866039505,0.169510782197242,-0.030685286841902193,0.10566132120609899,0.09124000724321522,-0.009592536690591427,0.05275090309250274,-0.1023060717892959,-0.015600504532566383,-0.09668527685730395,0.7354954426952517,-0.08837965651900123,-0.09668527685730395,-0.04596251379502145,0.09100283046579459,0.017232708589226545,-0.06995664682050465,-0.0485225996663978,-0.6479118990288394,-0.184415235616556,0.09265744988305956,0.08882212503755092,0.30111835768876394,-0.023356263060233293,0.15809763182869505,-0.48865146441255014,0.037154445131689924,-0.22195848668378237,-0.3446213863241672,-0.028567411059087725,-0.028957541407479945,0.04144596728527444,0.10609620815071483,-0.023204608448807847,-0.04323672166245473,-0.03692929804314016,-0.08689464684533546,-0.055760934659041035,0.12219682244950557,0.0570743930971475,-0.04934733053532135,-0.005800296771714226,0.11913875690536704,0.07243553114748207,-0.25927199708146337,0.12405422356474952,0.21786783078087543,-0.09668527685730395,0.036326380247714854,0.037699973179361704,-0.08552508790425264,-0.0899728702250775,-0.0018041327727400976,-0.01742981981278936,-0.09668527685730395],\"y\":[-0.04767561119761975,-0.044211452642583936,-0.10629691069311491,-0.08616127791770423,-0.052383678157438905,-0.16405559418855417,-0.1996063244963297,-0.01751559127487511,-0.12864854643699797,-0.05484441592118618,-0.08077053096022001,0.4846806581682743,-0.20069777067862002,-0.06751579087701844,-0.1194690423274265,-0.07513867581041397,-0.06872084649826983,-0.06083522153993436,-0.05416398162510281,-0.0310688412862382,-0.05313743154682378,-0.0407242153991699,-0.03199318161948852,-0.06648911015711165,-0.11541503323313435,-0.014633706234351564,-0.058542161768089025,-0.010125712728337117,-0.0542841504979998,0.008036921462775482,-0.16535896423796012,-0.024901853265595745,0.4846806581682743,-0.06842072361519551,-0.1015000552632222,0.4846806581682743,-0.09623128273153492,-0.0351585538866975,-0.0669556971250767,-0.15165043444829956,-0.11762654167517193,-0.33276856004267985,-0.10738835656191904,-0.12041027866660346,-0.06900588773201416,-0.0948872145030213,-0.031617405446240726,-0.04115281065673299,-0.11978727443142775,-0.004458608154680923,-0.16045277858811471,-0.18480474327001542,-0.03537488548628841,-0.030156255809398284,-0.20104288894909145,-0.0809574888164676,-0.029732871864497232,-0.061151530037925075,-0.03153581651248755,-0.02566679231714787,-0.06113385466790256,-0.10655292013859431,-0.03314294675558638,-0.06904113232453767,-0.07392337620733401,-0.04034174855363991,-0.02334237584961175,-0.07231675267835347,-0.09423447014396644,-0.043975489495941,0.4846806581682743,-0.2020211631825464,-0.2017586907287279,-0.04922552883027823,-0.04372484268820652,-0.1030399555125106,-0.02732354650355622,0.4846806581682743],\"type\":\"scatter\"},{\"hovertemplate\":\"\\u003cb\\u003eCourse Name:\\u003c\\u002fb\\u003e %{text}\\u003cbr\\u003e\\u003cb\\u003eTopic:\\u003c\\u002fb\\u003e %{meta}\",\"marker\":{\"color\":\"hsl(288.0, 70%, 50%)\",\"line\":{\"color\":\"black\",\"width\":1},\"size\":10},\"meta\":[\"Topic 4\",\"Topic 4\",\"Topic 4\",\"Topic 4\",\"Topic 4\",\"Topic 4\",\"Topic 4\",\"Topic 4\",\"Topic 4\",\"Topic 4\",\"Topic 4\",\"Topic 4\",\"Topic 4\",\"Topic 4\",\"Topic 4\",\"Topic 4\",\"Topic 4\",\"Topic 4\",\"Topic 4\",\"Topic 4\",\"Topic 4\",\"Topic 4\",\"Topic 4\",\"Topic 4\",\"Topic 4\",\"Topic 4\",\"Topic 4\",\"Topic 4\"],\"mode\":\"markers\",\"name\":\"Topic 4\",\"text\":[\"APCOMP 227\\u002fAPMTH 227: Computational Methods in the Physical Sciences\",\"APMTH 210: Algebraic Fundamentals of Representing Data\",\"APMTH 215: Mathematical Modeling for Computational Science\",\"APMTH 220: Geometric Methods for Machine Learning\",\"APMTH 226: Theory of Neural Computation\",\"BIOSTAT 244\\u002fBST 244: Analysis of Failure Time Data\",\"BIOSTAT 249\\u002fBST 249: Bayesian Methodology in Biostatistics\",\"BIOSTAT 258\\u002fBST 258: Causal Inference: Theory and Practice\",\"ECON 2142\\u002fSTAT 242: Time Series\",\"GOV 2001: Quantitative Social Science Methods I\",\"HISTSCI 206R: Science, Mathematics, and Explanation: What Does it Mean to Explain Something?\",\"MATH 243: Evolutionary Dynamics\",\"PSY 1900: Introduction to Statistics for the Behavioral Sciences\",\"STAT 140: Design of Experiments\",\"STAT 143: Sports Analytics\",\"STAT 149: Generalized Linear Models\",\"STAT 160: Introduction to Survey Sampling and Estimation\",\"STAT 161: Introduction to Nonparametric Methods\",\"STAT 221: Computational Tools for Statistical Learning: Approximation, Optimization, and Monte Carlo\",\"STAT 234: Sequential Decision Making\",\"STAT 236: Statistical Learning\",\"STAT 288: Deep Statistics: AI and Earth Observations for Sustainable Development\",\"STAT 293\\u002fSTAT 393\\u002fSTAT 397: Design of Experimental and Non-experimental Studies\",\"STAT 315: Modern high-dimensional inference\",\"STAT 364: Scalable Statistical Inference for Big Data with Applications\",\"STAT 388R: Design and Analysis of Experiments at Scale\",\"SYSBIO 220: Analysis foundations for quantitative biologists\",\"SYSBIO 220QC: Analysis foundations for quantitative biologists (part 1)\"],\"x\":[-0.16208724004003958,0.22453956409057954,-0.05083607175037904,0.27176687530165394,-0.046359470599988906,-0.09668527685730395,-0.023798145850696114,0.05167280143658531,-0.05499793465291321,-0.09668527685730395,-0.07826394021876622,0.018891738269505087,-0.014265779020054353,0.7354954426952517,-0.09668527685730395,-0.09668527685730395,-0.09668527685730395,-0.08886889955226684,0.13952886326444633,-0.09668527685730395,-0.027563481326858326,0.0348143112527265,-0.02521934563081135,-0.09668527685730395,-0.09668527685730395,0.15868395610562513,-0.09668527685730395,-0.09668527685730395],\"y\":[-0.17036470419075742,-0.043245142244419305,-0.10445934068396197,-0.04400483481872276,-0.10317387816298611,0.4846806581682743,-0.030543344684474883,-0.05221411966507916,-0.07746644011203026,0.4846806581682743,-0.11593606553645165,-0.12609759004680968,-0.056968053823218096,-0.06842072361519551,0.4846806581682743,0.4846806581682743,0.4846806581682743,-0.225944052954704,-0.039326813389668154,0.4846806581682743,-0.03828197407838711,-0.03244651790014295,-0.026090410309783593,0.4846806581682743,0.4846806581682743,-0.04435373063320269,0.4846806581682743,0.4846806581682743],\"type\":\"scatter\"}],                        {\"template\":{\"data\":{\"histogram2dcontour\":[{\"type\":\"histogram2dcontour\",\"colorbar\":{\"outlinewidth\":0,\"ticks\":\"\"},\"colorscale\":[[0.0,\"#0d0887\"],[0.1111111111111111,\"#46039f\"],[0.2222222222222222,\"#7201a8\"],[0.3333333333333333,\"#9c179e\"],[0.4444444444444444,\"#bd3786\"],[0.5555555555555556,\"#d8576b\"],[0.6666666666666666,\"#ed7953\"],[0.7777777777777778,\"#fb9f3a\"],[0.8888888888888888,\"#fdca26\"],[1.0,\"#f0f921\"]]}],\"choropleth\":[{\"type\":\"choropleth\",\"colorbar\":{\"outlinewidth\":0,\"ticks\":\"\"}}],\"histogram2d\":[{\"type\":\"histogram2d\",\"colorbar\":{\"outlinewidth\":0,\"ticks\":\"\"},\"colorscale\":[[0.0,\"#0d0887\"],[0.1111111111111111,\"#46039f\"],[0.2222222222222222,\"#7201a8\"],[0.3333333333333333,\"#9c179e\"],[0.4444444444444444,\"#bd3786\"],[0.5555555555555556,\"#d8576b\"],[0.6666666666666666,\"#ed7953\"],[0.7777777777777778,\"#fb9f3a\"],[0.8888888888888888,\"#fdca26\"],[1.0,\"#f0f921\"]]}],\"heatmap\":[{\"type\":\"heatmap\",\"colorbar\":{\"outlinewidth\":0,\"ticks\":\"\"},\"colorscale\":[[0.0,\"#0d0887\"],[0.1111111111111111,\"#46039f\"],[0.2222222222222222,\"#7201a8\"],[0.3333333333333333,\"#9c179e\"],[0.4444444444444444,\"#bd3786\"],[0.5555555555555556,\"#d8576b\"],[0.6666666666666666,\"#ed7953\"],[0.7777777777777778,\"#fb9f3a\"],[0.8888888888888888,\"#fdca26\"],[1.0,\"#f0f921\"]]}],\"heatmapgl\":[{\"type\":\"heatmapgl\",\"colorbar\":{\"outlinewidth\":0,\"ticks\":\"\"},\"colorscale\":[[0.0,\"#0d0887\"],[0.1111111111111111,\"#46039f\"],[0.2222222222222222,\"#7201a8\"],[0.3333333333333333,\"#9c179e\"],[0.4444444444444444,\"#bd3786\"],[0.5555555555555556,\"#d8576b\"],[0.6666666666666666,\"#ed7953\"],[0.7777777777777778,\"#fb9f3a\"],[0.8888888888888888,\"#fdca26\"],[1.0,\"#f0f921\"]]}],\"contourcarpet\":[{\"type\":\"contourcarpet\",\"colorbar\":{\"outlinewidth\":0,\"ticks\":\"\"}}],\"contour\":[{\"type\":\"contour\",\"colorbar\":{\"outlinewidth\":0,\"ticks\":\"\"},\"colorscale\":[[0.0,\"#0d0887\"],[0.1111111111111111,\"#46039f\"],[0.2222222222222222,\"#7201a8\"],[0.3333333333333333,\"#9c179e\"],[0.4444444444444444,\"#bd3786\"],[0.5555555555555556,\"#d8576b\"],[0.6666666666666666,\"#ed7953\"],[0.7777777777777778,\"#fb9f3a\"],[0.8888888888888888,\"#fdca26\"],[1.0,\"#f0f921\"]]}],\"surface\":[{\"type\":\"surface\",\"colorbar\":{\"outlinewidth\":0,\"ticks\":\"\"},\"colorscale\":[[0.0,\"#0d0887\"],[0.1111111111111111,\"#46039f\"],[0.2222222222222222,\"#7201a8\"],[0.3333333333333333,\"#9c179e\"],[0.4444444444444444,\"#bd3786\"],[0.5555555555555556,\"#d8576b\"],[0.6666666666666666,\"#ed7953\"],[0.7777777777777778,\"#fb9f3a\"],[0.8888888888888888,\"#fdca26\"],[1.0,\"#f0f921\"]]}],\"mesh3d\":[{\"type\":\"mesh3d\",\"colorbar\":{\"outlinewidth\":0,\"ticks\":\"\"}}],\"scatter\":[{\"fillpattern\":{\"fillmode\":\"overlay\",\"size\":10,\"solidity\":0.2},\"type\":\"scatter\"}],\"parcoords\":[{\"type\":\"parcoords\",\"line\":{\"colorbar\":{\"outlinewidth\":0,\"ticks\":\"\"}}}],\"scatterpolargl\":[{\"type\":\"scatterpolargl\",\"marker\":{\"colorbar\":{\"outlinewidth\":0,\"ticks\":\"\"}}}],\"bar\":[{\"error_x\":{\"color\":\"#2a3f5f\"},\"error_y\":{\"color\":\"#2a3f5f\"},\"marker\":{\"line\":{\"color\":\"#E5ECF6\",\"width\":0.5},\"pattern\":{\"fillmode\":\"overlay\",\"size\":10,\"solidity\":0.2}},\"type\":\"bar\"}],\"scattergeo\":[{\"type\":\"scattergeo\",\"marker\":{\"colorbar\":{\"outlinewidth\":0,\"ticks\":\"\"}}}],\"scatterpolar\":[{\"type\":\"scatterpolar\",\"marker\":{\"colorbar\":{\"outlinewidth\":0,\"ticks\":\"\"}}}],\"histogram\":[{\"marker\":{\"pattern\":{\"fillmode\":\"overlay\",\"size\":10,\"solidity\":0.2}},\"type\":\"histogram\"}],\"scattergl\":[{\"type\":\"scattergl\",\"marker\":{\"colorbar\":{\"outlinewidth\":0,\"ticks\":\"\"}}}],\"scatter3d\":[{\"type\":\"scatter3d\",\"line\":{\"colorbar\":{\"outlinewidth\":0,\"ticks\":\"\"}},\"marker\":{\"colorbar\":{\"outlinewidth\":0,\"ticks\":\"\"}}}],\"scattermapbox\":[{\"type\":\"scattermapbox\",\"marker\":{\"colorbar\":{\"outlinewidth\":0,\"ticks\":\"\"}}}],\"scatterternary\":[{\"type\":\"scatterternary\",\"marker\":{\"colorbar\":{\"outlinewidth\":0,\"ticks\":\"\"}}}],\"scattercarpet\":[{\"type\":\"scattercarpet\",\"marker\":{\"colorbar\":{\"outlinewidth\":0,\"ticks\":\"\"}}}],\"carpet\":[{\"aaxis\":{\"endlinecolor\":\"#2a3f5f\",\"gridcolor\":\"white\",\"linecolor\":\"white\",\"minorgridcolor\":\"white\",\"startlinecolor\":\"#2a3f5f\"},\"baxis\":{\"endlinecolor\":\"#2a3f5f\",\"gridcolor\":\"white\",\"linecolor\":\"white\",\"minorgridcolor\":\"white\",\"startlinecolor\":\"#2a3f5f\"},\"type\":\"carpet\"}],\"table\":[{\"cells\":{\"fill\":{\"color\":\"#EBF0F8\"},\"line\":{\"color\":\"white\"}},\"header\":{\"fill\":{\"color\":\"#C8D4E3\"},\"line\":{\"color\":\"white\"}},\"type\":\"table\"}],\"barpolar\":[{\"marker\":{\"line\":{\"color\":\"#E5ECF6\",\"width\":0.5},\"pattern\":{\"fillmode\":\"overlay\",\"size\":10,\"solidity\":0.2}},\"type\":\"barpolar\"}],\"pie\":[{\"automargin\":true,\"type\":\"pie\"}]},\"layout\":{\"autotypenumbers\":\"strict\",\"colorway\":[\"#636efa\",\"#EF553B\",\"#00cc96\",\"#ab63fa\",\"#FFA15A\",\"#19d3f3\",\"#FF6692\",\"#B6E880\",\"#FF97FF\",\"#FECB52\"],\"font\":{\"color\":\"#2a3f5f\"},\"hovermode\":\"closest\",\"hoverlabel\":{\"align\":\"left\"},\"paper_bgcolor\":\"white\",\"plot_bgcolor\":\"#E5ECF6\",\"polar\":{\"bgcolor\":\"#E5ECF6\",\"angularaxis\":{\"gridcolor\":\"white\",\"linecolor\":\"white\",\"ticks\":\"\"},\"radialaxis\":{\"gridcolor\":\"white\",\"linecolor\":\"white\",\"ticks\":\"\"}},\"ternary\":{\"bgcolor\":\"#E5ECF6\",\"aaxis\":{\"gridcolor\":\"white\",\"linecolor\":\"white\",\"ticks\":\"\"},\"baxis\":{\"gridcolor\":\"white\",\"linecolor\":\"white\",\"ticks\":\"\"},\"caxis\":{\"gridcolor\":\"white\",\"linecolor\":\"white\",\"ticks\":\"\"}},\"coloraxis\":{\"colorbar\":{\"outlinewidth\":0,\"ticks\":\"\"}},\"colorscale\":{\"sequential\":[[0.0,\"#0d0887\"],[0.1111111111111111,\"#46039f\"],[0.2222222222222222,\"#7201a8\"],[0.3333333333333333,\"#9c179e\"],[0.4444444444444444,\"#bd3786\"],[0.5555555555555556,\"#d8576b\"],[0.6666666666666666,\"#ed7953\"],[0.7777777777777778,\"#fb9f3a\"],[0.8888888888888888,\"#fdca26\"],[1.0,\"#f0f921\"]],\"sequentialminus\":[[0.0,\"#0d0887\"],[0.1111111111111111,\"#46039f\"],[0.2222222222222222,\"#7201a8\"],[0.3333333333333333,\"#9c179e\"],[0.4444444444444444,\"#bd3786\"],[0.5555555555555556,\"#d8576b\"],[0.6666666666666666,\"#ed7953\"],[0.7777777777777778,\"#fb9f3a\"],[0.8888888888888888,\"#fdca26\"],[1.0,\"#f0f921\"]],\"diverging\":[[0,\"#8e0152\"],[0.1,\"#c51b7d\"],[0.2,\"#de77ae\"],[0.3,\"#f1b6da\"],[0.4,\"#fde0ef\"],[0.5,\"#f7f7f7\"],[0.6,\"#e6f5d0\"],[0.7,\"#b8e186\"],[0.8,\"#7fbc41\"],[0.9,\"#4d9221\"],[1,\"#276419\"]]},\"xaxis\":{\"gridcolor\":\"white\",\"linecolor\":\"white\",\"ticks\":\"\",\"title\":{\"standoff\":15},\"zerolinecolor\":\"white\",\"automargin\":true,\"zerolinewidth\":2},\"yaxis\":{\"gridcolor\":\"white\",\"linecolor\":\"white\",\"ticks\":\"\",\"title\":{\"standoff\":15},\"zerolinecolor\":\"white\",\"automargin\":true,\"zerolinewidth\":2},\"scene\":{\"xaxis\":{\"backgroundcolor\":\"#E5ECF6\",\"gridcolor\":\"white\",\"linecolor\":\"white\",\"showbackground\":true,\"ticks\":\"\",\"zerolinecolor\":\"white\",\"gridwidth\":2},\"yaxis\":{\"backgroundcolor\":\"#E5ECF6\",\"gridcolor\":\"white\",\"linecolor\":\"white\",\"showbackground\":true,\"ticks\":\"\",\"zerolinecolor\":\"white\",\"gridwidth\":2},\"zaxis\":{\"backgroundcolor\":\"#E5ECF6\",\"gridcolor\":\"white\",\"linecolor\":\"white\",\"showbackground\":true,\"ticks\":\"\",\"zerolinecolor\":\"white\",\"gridwidth\":2}},\"shapedefaults\":{\"line\":{\"color\":\"#2a3f5f\"}},\"annotationdefaults\":{\"arrowcolor\":\"#2a3f5f\",\"arrowhead\":0,\"arrowwidth\":1},\"geo\":{\"bgcolor\":\"white\",\"landcolor\":\"#E5ECF6\",\"subunitcolor\":\"white\",\"showland\":true,\"showlakes\":true,\"lakecolor\":\"white\"},\"title\":{\"x\":0.05},\"mapbox\":{\"style\":\"light\"}}},\"title\":{\"text\":\"Topic Distribution of Documents (PCA-reduced)\"},\"xaxis\":{\"title\":{\"text\":\"Principal Component 1\"}},\"yaxis\":{\"title\":{\"text\":\"Principal Component 2\"}},\"showlegend\":true,\"width\":1000,\"height\":600},                        {\"responsive\": true}                    ).then(function(){\n",
       "                            \n",
       "var gd = document.getElementById('bcfa7251-fb73-4ab4-b7a0-fa5d479533e6');\n",
       "var x = new MutationObserver(function (mutations, observer) {{\n",
       "        var display = window.getComputedStyle(gd).display;\n",
       "        if (!display || display === 'none') {{\n",
       "            console.log([gd, 'removed!']);\n",
       "            Plotly.purge(gd);\n",
       "            observer.disconnect();\n",
       "        }}\n",
       "}});\n",
       "\n",
       "// Listen for the removal of the full notebook cells\n",
       "var notebookContainer = gd.closest('#notebook-container');\n",
       "if (notebookContainer) {{\n",
       "    x.observe(notebookContainer, {childList: true});\n",
       "}}\n",
       "\n",
       "// Listen for the clearing of the current output cell\n",
       "var outputEl = gd.closest('.output');\n",
       "if (outputEl) {{\n",
       "    x.observe(outputEl, {childList: true});\n",
       "}}\n",
       "\n",
       "                        })                };                });            </script>        </div>"
      ]
     },
     "metadata": {},
     "output_type": "display_data"
    }
   ],
   "source": [
    "# Step 6: Create an interactive scatter plot\n",
    "fig = go.Figure()\n",
    "\n",
    "# Add scatter plot, grouping by dominant topic for coloring\n",
    "for topic_id in range(num_topics):\n",
    "    indices = dominant_topics == topic_id\n",
    "    fig.add_trace(go.Scatter(\n",
    "        x=topic_distribution_2d[indices, 0],\n",
    "        y=topic_distribution_2d[indices, 1],\n",
    "        mode='markers',\n",
    "        name=f\"Topic {topic_id}\",\n",
    "        text=df.loc[indices, 'Name'],  # Use course names for hover text\n",
    "        hovertemplate=(\n",
    "            \"<b>Course Name:</b> %{text}<br>\" +\n",
    "            \"<b>Topic:</b> %{meta}\"  # Include topic number in hover\n",
    "        ),\n",
    "        meta=[f\"Topic {topic_id}\" for _ in range(sum(indices))],\n",
    "        marker=dict(\n",
    "            size=10,\n",
    "            color=colors[topic_id],\n",
    "            line=dict(width=1, color='black')\n",
    "        )\n",
    "    ))\n",
    "\n",
    "# Step 7: Update layout\n",
    "fig.update_layout(\n",
    "    title=\"Topic Distribution of Documents (PCA-reduced)\",\n",
    "    xaxis_title=\"Principal Component 1\",\n",
    "    yaxis_title=\"Principal Component 2\",\n",
    "    template=\"plotly\",\n",
    "    showlegend=True,\n",
    "    width=1000,  # Width of the plot (in pixels)\n",
    "    height=600   # Height of the plot (in pixels)\n",
    ")\n",
    "\n",
    "# Show the plot\n",
    "fig.show()"
   ]
  },
  {
   "cell_type": "code",
   "execution_count": 128,
   "id": "90903fe2-07b4-4500-81a5-69b89fe354e2",
   "metadata": {},
   "outputs": [
    {
     "data": {
      "text/plain": [
       "{-1: ['lecture', 'are'],\n",
       " 0: ['your', 'with'],\n",
       " 1: ['geometry', 'algebraic', 'topology', 'groups'],\n",
       " 2: ['quantum', 'physics', 'mechanics']}"
      ]
     },
     "execution_count": 128,
     "metadata": {},
     "output_type": "execute_result"
    }
   ],
   "source": [
    "def find_unique_anchor_words_bertopic(model, top_n=100):\n",
    "    \"\"\"\n",
    "    Extract unique anchor words for each topic in a BERTopic model.\n",
    "\n",
    "    Parameters:\n",
    "        model: BERTopic object\n",
    "            A trained BERTopic model.\n",
    "        top_n: int\n",
    "            Number of top words to consider per topic.\n",
    "\n",
    "    Returns:\n",
    "        dict: A dictionary where keys are topic IDs and values are lists of unique anchor words.\n",
    "    \"\"\"\n",
    "    topics = model.get_topics()\n",
    "    word_to_topic = {}\n",
    "\n",
    "    # Map each word to the list of topics it appears in\n",
    "    for topic_id, terms in topics.items():\n",
    "        for term, _ in terms[:top_n]:\n",
    "            if term not in word_to_topic:\n",
    "                word_to_topic[term] = set()\n",
    "            word_to_topic[term].add(topic_id)\n",
    "\n",
    "    # Filter words that belong to only one topic\n",
    "    anchor_words = {topic_id: [] for topic_id in topics.keys()}\n",
    "    for word, topic_ids in word_to_topic.items():\n",
    "        if len(topic_ids) == 1:  # The word is unique to one topic\n",
    "            unique_topic = list(topic_ids)[0]\n",
    "            anchor_words[unique_topic].append(word)\n",
    "\n",
    "    return anchor_words\n",
    "find_unique_anchor_words_bertopic(topic_model2 , top_n=15)"
   ]
  },
  {
   "cell_type": "code",
   "execution_count": null,
   "id": "35563cc8-0af3-4ee7-993b-5f25c937cfbf",
   "metadata": {},
   "outputs": [],
   "source": []
  },
  {
   "cell_type": "code",
   "execution_count": 97,
   "id": "191d258b-6145-4c37-a67e-aa9e4601ab10",
   "metadata": {},
   "outputs": [
    {
     "name": "stdout",
     "output_type": "stream",
     "text": [
      "['STAT 123: Applied Quantitative Finance']\n",
      "[\"Thank you for taking Stat 123 2022, Quantitative Finance. Thank you for a great semester. With best wishes for the future, Cheers Stephen Administrative Course Logistics Syllabus Textbook FAQ Course Materials Homework Homework Solutions Sample Midterm Exams Midterm Solutions Final Exam Review Materials Final Review Sections Schedule Team Member Time Location Raj Bhuptani Saturday , April 30, 2pm-4pm Science Center 705 Carolyn Ge Monday, May 2 11am-1pm Science Center 222 Rachel Li Thursday, 4/28, 9-11am Science Center 309A Victor Li Tuesday, May 3 2-4PM Science Center 309A Ramiz Razzak Saturday 4/30, 3-5PM Science Center 316 Peter Shim Thursday, April 28 1-3 PM Science Center 316 RunLin Wang Wednesday, May 4, 1-3 PM Science Center 222 Iris Xu Thursday, May 5, 10 AM - 12 PM Science Center 705 Xin Zeng Friday, April 29, 1 - 3PM Science Center 222 Sections and Teaching Team Office Hours Team Member Time Location Raj Bhuptani Section Sunday 4-5pm, OH 5-6pm (4/24 change) Zoom (passcode 123) Carolyn Ge Section Monday 3:00-4:00PM, OH Monday 4:00-5:00PM Science Center 112 Rachel Li Section Friday 1:30-2:30PM, OH Friday 2:30-3:30pm Science Center 316 Victor Li Section Tuesday 6:00-7:00PM, OH Tuesday 7:00-8:00PM Science Center 706 Ramiz Razzak Section Friday 3:30 - 4:30 PM, OH Friday 4:30 PM - 5:30 PM Science Center 112 Peter Shim Section Tuesday 3:30-4:30PM, OH Tuesday 4:30-5:30PM Science Center 316.12 RunLin Wang Section Thursday 4:30-5:30pm, OH Thursday 5:30-6:30pm Science Center 316 Iris Xu Section Wednesday 4-5pm , OH Thursday 10:45-11:45am on Zoom. Boylston G02 Xin Zeng Section Monday 10-11am, OH Monday 11am-noon Science Center 705 Extras Divertive Reading From Vienna 1938 to 9/11 Stat 123 Song (courtesy of Stephen Kent '14) \"]\n"
     ]
    }
   ],
   "source": [
    "print(df[df['filename'].str.contains('STAT 123')]['Name'].values)\n",
    "print(df[df['filename'].str.contains('STAT 123')]['cleaned_text'].values)"
   ]
  },
  {
   "cell_type": "code",
   "execution_count": null,
   "id": "f64a9e3f-1d66-4f9d-8b6e-a644748b24e7",
   "metadata": {},
   "outputs": [],
   "source": []
  }
 ],
 "metadata": {
  "kernelspec": {
   "display_name": "Python 3 (ipykernel)",
   "language": "python",
   "name": "python3"
  },
  "language_info": {
   "codemirror_mode": {
    "name": "ipython",
    "version": 3
   },
   "file_extension": ".py",
   "mimetype": "text/x-python",
   "name": "python",
   "nbconvert_exporter": "python",
   "pygments_lexer": "ipython3",
   "version": "3.12.4"
  }
 },
 "nbformat": 4,
 "nbformat_minor": 5
}
