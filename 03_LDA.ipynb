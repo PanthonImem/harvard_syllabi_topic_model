{
 "cells": [
  {
   "cell_type": "code",
   "execution_count": 74,
   "id": "ac7e052f-f149-4a22-962a-84d7937afe30",
   "metadata": {},
   "outputs": [
    {
     "name": "stderr",
     "output_type": "stream",
     "text": [
      "[nltk_data] Downloading package stopwords to\n",
      "[nltk_data]     /Users/mafuangimemkamon/nltk_data...\n",
      "[nltk_data]   Package stopwords is already up-to-date!\n",
      "[nltk_data] Downloading package punkt to\n",
      "[nltk_data]     /Users/mafuangimemkamon/nltk_data...\n",
      "[nltk_data]   Package punkt is already up-to-date!\n",
      "[nltk_data] Downloading package wordnet to\n",
      "[nltk_data]     /Users/mafuangimemkamon/nltk_data...\n",
      "[nltk_data]   Package wordnet is already up-to-date!\n"
     ]
    },
    {
     "data": {
      "text/plain": [
       "True"
      ]
     },
     "execution_count": 74,
     "metadata": {},
     "output_type": "execute_result"
    }
   ],
   "source": [
    "import pandas as pd\n",
    "import numpy as np\n",
    "import matplotlib.pyplot as plt\n",
    "import nltk\n",
    "from nltk.corpus import stopwords\n",
    "from nltk.tokenize import word_tokenize\n",
    "from nltk.stem import WordNetLemmatizer\n",
    "from sklearn.feature_extraction.text import CountVectorizer\n",
    "from sklearn.decomposition import LatentDirichletAllocation, PCA\n",
    "from sklearn.preprocessing import StandardScaler\n",
    "\n",
    "# Download NLTK resources if not already downloaded\n",
    "nltk.download('stopwords')\n",
    "nltk.download('punkt')\n",
    "nltk.download('wordnet')"
   ]
  },
  {
   "cell_type": "code",
   "execution_count": 75,
   "id": "8f838abd-1b77-4db3-87d2-d230d2eea01f",
   "metadata": {},
   "outputs": [
    {
     "data": {
      "text/html": [
       "<div>\n",
       "<style scoped>\n",
       "    .dataframe tbody tr th:only-of-type {\n",
       "        vertical-align: middle;\n",
       "    }\n",
       "\n",
       "    .dataframe tbody tr th {\n",
       "        vertical-align: top;\n",
       "    }\n",
       "\n",
       "    .dataframe thead th {\n",
       "        text-align: right;\n",
       "    }\n",
       "</style>\n",
       "<table border=\"1\" class=\"dataframe\">\n",
       "  <thead>\n",
       "    <tr style=\"text-align: right;\">\n",
       "      <th></th>\n",
       "      <th>filename</th>\n",
       "      <th>course department</th>\n",
       "      <th>course name</th>\n",
       "      <th>Name</th>\n",
       "      <th>text</th>\n",
       "      <th>cleaned_text</th>\n",
       "    </tr>\n",
       "  </thead>\n",
       "  <tbody>\n",
       "    <tr>\n",
       "      <th>7</th>\n",
       "      <td>STAT 123 - 2022 Spring (126048).pdf</td>\n",
       "      <td>STAT</td>\n",
       "      <td>STAT 123</td>\n",
       "      <td>STAT 123: Applied Quantitative Finance</td>\n",
       "      <td>Thank\\tyou\\tfor\\ttaking\\tStat\\t123\\t2022,\\tQua...</td>\n",
       "      <td>Thank you for taking Stat 123 2022, Quantitati...</td>\n",
       "    </tr>\n",
       "    <tr>\n",
       "      <th>9</th>\n",
       "      <td>STAT 364 - 2022 Spring (214539).pdf</td>\n",
       "      <td>STAT</td>\n",
       "      <td>STAT 364</td>\n",
       "      <td>STAT 364: Scalable Statistical Inference for B...</td>\n",
       "      <td>Stat364 : Scalable Statistical Inference for B...</td>\n",
       "      <td>Stat364 : Scalable Statistical Inference for B...</td>\n",
       "    </tr>\n",
       "    <tr>\n",
       "      <th>13</th>\n",
       "      <td>STAT 216 - 2024 Fall (218350).pdf</td>\n",
       "      <td>STAT</td>\n",
       "      <td>STAT 216</td>\n",
       "      <td>STAT 216: Topics in High-Dimensional Probabili...</td>\n",
       "      <td>Course\\tgoals:\\nSuccessful\\tstudents:\\n1.\\twil...</td>\n",
       "      <td>Course goals: Successful students: 1. will be ...</td>\n",
       "    </tr>\n",
       "    <tr>\n",
       "      <th>14</th>\n",
       "      <td>BIOSTAT 281_BST 281 - 2024 Spring (190119).pdf</td>\n",
       "      <td>BIOSTAT</td>\n",
       "      <td>BIOSTAT 281</td>\n",
       "      <td>BIOSTAT 281/BST 281: Genomic Data Manipulation</td>\n",
       "      <td>\\n1 \\n  \\nBST 281: Genomic Data Manipulation ...</td>\n",
       "      <td>1 BST 281: Genomic Data Manipulation (Spring ...</td>\n",
       "    </tr>\n",
       "    <tr>\n",
       "      <th>18</th>\n",
       "      <td>STAT 114 - 2024 Spring (224023).pdf</td>\n",
       "      <td>STAT</td>\n",
       "      <td>STAT 114</td>\n",
       "      <td>STAT 114: Introduction to Bioinformatics and S...</td>\n",
       "      <td>STAT 114: Introduction to Bioinformatics and S...</td>\n",
       "      <td>STAT 114: Introduction to Bioinformatics and S...</td>\n",
       "    </tr>\n",
       "    <tr>\n",
       "      <th>19</th>\n",
       "      <td>BIOSTAT 232_BST 232 - 2024 Fall (190049).pdf</td>\n",
       "      <td>BIOSTAT</td>\n",
       "      <td>BIOSTAT 232</td>\n",
       "      <td>BIOSTAT 232/BST 232: Methods</td>\n",
       "      <td>SYLLABUS FOR BIOSTAT/BST 232: METHODS Harvard ...</td>\n",
       "      <td>SYLLABUS FOR BIOSTAT/BST 232: METHODS Harvard ...</td>\n",
       "    </tr>\n",
       "    <tr>\n",
       "      <th>24</th>\n",
       "      <td>BIOSTAT 258_BST 258 - 2024 Spring (223906).pdf</td>\n",
       "      <td>BIOSTAT</td>\n",
       "      <td>BIOSTAT 258</td>\n",
       "      <td>BIOSTAT 258/BST 258: Causal Inference: Theory ...</td>\n",
       "      <td>Biostatistics 258 Spring 2024 Syllabus\\nCausal...</td>\n",
       "      <td>Biostatistics 258 Spring 2024 Syllabus Causal ...</td>\n",
       "    </tr>\n",
       "    <tr>\n",
       "      <th>32</th>\n",
       "      <td>STAT 149 - 2024 Spring (118974).pdf</td>\n",
       "      <td>STAT</td>\n",
       "      <td>STAT 149</td>\n",
       "      <td>STAT 149: Generalized Linear Models</td>\n",
       "      <td>Course\\tdescription\\n:\\t\\t\\nSequel\\tto\\tStatis...</td>\n",
       "      <td>Course description : Sequel to Statistics 139,...</td>\n",
       "    </tr>\n",
       "    <tr>\n",
       "      <th>35</th>\n",
       "      <td>BIOSTAT 230 - 2020 Fall (119844).pdf</td>\n",
       "      <td>BIOSTAT</td>\n",
       "      <td>BIOSTAT 230</td>\n",
       "      <td>BIOSTAT 230/BST 230: Probability I</td>\n",
       "      <td>1 Syllabus  \\n31 August  2020 \\nBIO230- Biosta...</td>\n",
       "      <td>1 Syllabus 31 August 2020 BIO230- Biostat230 P...</td>\n",
       "    </tr>\n",
       "    <tr>\n",
       "      <th>38</th>\n",
       "      <td>STAT 185 - 2024 Fall (213478) (1).pdf</td>\n",
       "      <td>STAT</td>\n",
       "      <td>STAT 185</td>\n",
       "      <td>STAT 185: Introduction to Dimension Reduction</td>\n",
       "      <td>Statistics 185: Introduction to Unsupervised L...</td>\n",
       "      <td>Statistics 185: Introduction to Unsupervised L...</td>\n",
       "    </tr>\n",
       "    <tr>\n",
       "      <th>41</th>\n",
       "      <td>STAT 213 - 2020 Spring (159802).pdf</td>\n",
       "      <td>STAT</td>\n",
       "      <td>STAT 213</td>\n",
       "      <td>STAT 213: Statistical Inference II</td>\n",
       "      <td>STAT 213: Statistical Inference 2\\nNatesh Pill...</td>\n",
       "      <td>STAT 213: Statistical Inference 2 Natesh Pilla...</td>\n",
       "    </tr>\n",
       "    <tr>\n",
       "      <th>50</th>\n",
       "      <td>STAT 104 - 2024 Fall (114027).pdf</td>\n",
       "      <td>STAT</td>\n",
       "      <td>STAT 104</td>\n",
       "      <td>STAT 104: Introduction to Quantitative Methods...</td>\n",
       "      <td>Statistics 104 Syllabus Fall 2024        Instr...</td>\n",
       "      <td>Statistics 104 Syllabus Fall 2024 Instructor: ...</td>\n",
       "    </tr>\n",
       "    <tr>\n",
       "      <th>52</th>\n",
       "      <td>STAT 303HFB - 2024 Spring (160674) (1).pdf</td>\n",
       "      <td>STAT</td>\n",
       "      <td>STAT 303HFB</td>\n",
       "      <td>STAT 303HFB: The Art and Practice of Teaching ...</td>\n",
       "      <td>Statistics\\t303\\t\\tThe\\tArt\\tof\\tCommunicating...</td>\n",
       "      <td>Statistics 303 The Art of Communicating and Te...</td>\n",
       "    </tr>\n",
       "    <tr>\n",
       "      <th>61</th>\n",
       "      <td>STAT 220 - 2024 Spring (118016).pdf</td>\n",
       "      <td>STAT</td>\n",
       "      <td>STAT 220</td>\n",
       "      <td>STAT 220: Bayesian Data Analysis</td>\n",
       "      <td>Late\\tHW\\tand\\tFinal\\tProject\\tPolicy:\\t\\nEver...</td>\n",
       "      <td>Late HW and Final Project Policy: Everyone is ...</td>\n",
       "    </tr>\n",
       "    <tr>\n",
       "      <th>68</th>\n",
       "      <td>STAT 248 - 2021 Spring (217522).pdf</td>\n",
       "      <td>STAT</td>\n",
       "      <td>STAT 248</td>\n",
       "      <td>STAT 248: Couplings and Monte Carlo</td>\n",
       "      <td>WELCOME!\\nInstructor\\n:\\n\\t\\nPierre\\tE.\\tJacob...</td>\n",
       "      <td>WELCOME! Instructor : Pierre E. Jacob (pjacob@...</td>\n",
       "    </tr>\n",
       "    <tr>\n",
       "      <th>71</th>\n",
       "      <td>STAT 141 - 2023 Spring (217516).pdf</td>\n",
       "      <td>STAT</td>\n",
       "      <td>STAT 141</td>\n",
       "      <td>STAT 141: Introduction to Spatial Statistics</td>\n",
       "      <td>Statistics 141: Spatial Statistics, Spring 202...</td>\n",
       "      <td>Statistics 141: Spatial Statistics, Spring 202...</td>\n",
       "    </tr>\n",
       "    <tr>\n",
       "      <th>77</th>\n",
       "      <td>STAT 236 - 2019 Spring (211175).pdf</td>\n",
       "      <td>STAT</td>\n",
       "      <td>STAT 236</td>\n",
       "      <td>STAT 236: Statistical Learning</td>\n",
       "      <td>Syllabus for STAT 236 Statistical Learning\\nSp...</td>\n",
       "      <td>Syllabus for STAT 236 Statistical Learning Spr...</td>\n",
       "    </tr>\n",
       "    <tr>\n",
       "      <th>87</th>\n",
       "      <td>STAT 303HFA - 2019 Fall (121311).pdf</td>\n",
       "      <td>STAT</td>\n",
       "      <td>STAT 303HFA</td>\n",
       "      <td>STAT 303HFA: The Art of Communicating and Teac...</td>\n",
       "      <td>Statistics 303hf  \\nThe Art and Practice of Te...</td>\n",
       "      <td>Statistics 303hf The Art and Practice of Teach...</td>\n",
       "    </tr>\n",
       "    <tr>\n",
       "      <th>89</th>\n",
       "      <td>STAT 221 - 2023 Fall (115077) (1).pdf</td>\n",
       "      <td>STAT</td>\n",
       "      <td>STAT 221</td>\n",
       "      <td>STAT 221: Computational Tools for Statistical ...</td>\n",
       "      <td>Fall 2023\\nSTAT 221: Computational Tools for S...</td>\n",
       "      <td>Fall 2023 STAT 221: Computational Tools for St...</td>\n",
       "    </tr>\n",
       "    <tr>\n",
       "      <th>96</th>\n",
       "      <td>BIOSTAT 249_BST 249 - 2024 Fall (190064) (1).pdf</td>\n",
       "      <td>BIOSTAT</td>\n",
       "      <td>BIOSTAT 249</td>\n",
       "      <td>BIOSTAT 249/BST 249: Bayesian Methodology in B...</td>\n",
       "      <td>Bayesian Statistics 249 TUE &amp; THU 2:00 pm - 3:...</td>\n",
       "      <td>Bayesian Statistics 249 TUE &amp; THU 2:00 pm - 3:...</td>\n",
       "    </tr>\n",
       "    <tr>\n",
       "      <th>103</th>\n",
       "      <td>STAT 143 - 2024 Spring (217523).pdf</td>\n",
       "      <td>STAT</td>\n",
       "      <td>STAT 143</td>\n",
       "      <td>STAT 143: Sports Analytics</td>\n",
       "      <td>Course\\tdescription\\n:\\t\\t\\nIntroduction\\tto\\t...</td>\n",
       "      <td>Course description : Introduction to statistic...</td>\n",
       "    </tr>\n",
       "    <tr>\n",
       "      <th>104</th>\n",
       "      <td>STAT 161 - 2019 Fall (212953).pdf</td>\n",
       "      <td>STAT</td>\n",
       "      <td>STAT 161</td>\n",
       "      <td>STAT 161: Introduction to Nonparametric Methods</td>\n",
       "      <td>STAT 161 Introduction to Nonparametric Methods...</td>\n",
       "      <td>STAT 161 Introduction to Nonparametric Methods...</td>\n",
       "    </tr>\n",
       "    <tr>\n",
       "      <th>109</th>\n",
       "      <td>STAT 131 - 2022 Spring (117131).pdf</td>\n",
       "      <td>STAT</td>\n",
       "      <td>STAT 131</td>\n",
       "      <td>STAT 131: Time Series &amp; Prediction</td>\n",
       "      <td>Term\\n:\\tSpring\\t2022\\nCourse\\tInstructor\\n:\\t...</td>\n",
       "      <td>Term : Spring 2022 Course Instructor : Tracy K...</td>\n",
       "    </tr>\n",
       "    <tr>\n",
       "      <th>116</th>\n",
       "      <td>STAT 317 - 2017 Spring (111463).pdf</td>\n",
       "      <td>STAT</td>\n",
       "      <td>STAT 317</td>\n",
       "      <td>STAT 317: Computational Optimal Transport</td>\n",
       "      <td>CS282R: Topics in Machine Learning / Stat 317\\...</td>\n",
       "      <td>CS282R: Topics in Machine Learning / Stat 317 ...</td>\n",
       "    </tr>\n",
       "    <tr>\n",
       "      <th>119</th>\n",
       "      <td>STAT 160_STAT 260 - 2019 Fall (126393).pdf</td>\n",
       "      <td>STAT</td>\n",
       "      <td>STAT 160</td>\n",
       "      <td>STAT 160: Introduction to Survey Sampling and ...</td>\n",
       "      <td>Methods\\tfor\\tdesign\\tand\\tanalysis\\tof\\tsampl...</td>\n",
       "      <td>Methods for design and analysis of sample surv...</td>\n",
       "    </tr>\n",
       "    <tr>\n",
       "      <th>121</th>\n",
       "      <td>STAT 140 - 2020 Spring (116364).pdf</td>\n",
       "      <td>STAT</td>\n",
       "      <td>STAT 140</td>\n",
       "      <td>STAT 140: Design of Experiments</td>\n",
       "      <td>Stat 140: D ESIGN OF EXPERIMENTS  \\nDepartment...</td>\n",
       "      <td>Stat 140: D ESIGN OF EXPERIMENTS Department of...</td>\n",
       "    </tr>\n",
       "    <tr>\n",
       "      <th>129</th>\n",
       "      <td>STAT 139 - 2021 Fall (110751) (1).pdf</td>\n",
       "      <td>STAT</td>\n",
       "      <td>STAT 139</td>\n",
       "      <td>STAT 139: Linear Models</td>\n",
       "      <td>Statistics 139 Syllabus Fall 2021         Inst...</td>\n",
       "      <td>Statistics 139 Syllabus Fall 2021 Instructor: ...</td>\n",
       "    </tr>\n",
       "    <tr>\n",
       "      <th>133</th>\n",
       "      <td>STAT 293_STAT 393_STAT 397 - 2023 Spring (2146...</td>\n",
       "      <td>STAT</td>\n",
       "      <td>STAT 293</td>\n",
       "      <td>STAT 293/STAT 393/STAT 397: Design of Experime...</td>\n",
       "      <td>Tentative Course Syllabus\\nStat 293/393 - Desi...</td>\n",
       "      <td>Tentative Course Syllabus Stat 293/393 - Desig...</td>\n",
       "    </tr>\n",
       "    <tr>\n",
       "      <th>135</th>\n",
       "      <td>STAT 212 - 2024 Spring (156452) (1).pdf</td>\n",
       "      <td>STAT</td>\n",
       "      <td>STAT 212</td>\n",
       "      <td>STAT 212: Probability 2</td>\n",
       "      <td>Stat 212 Probability II, Spring 2024\\nSTAT212 ...</td>\n",
       "      <td>Stat 212 Probability II, Spring 2024 STAT212 S...</td>\n",
       "    </tr>\n",
       "    <tr>\n",
       "      <th>139</th>\n",
       "      <td>BIOSTAT 233_BST 233 - 2018 Spring (190050).pdf</td>\n",
       "      <td>BIOSTAT</td>\n",
       "      <td>BIOSTAT 233</td>\n",
       "      <td>BIOSTAT 233/BST 233: Methods II</td>\n",
       "      <td>BST 233: Methods II\\nHarvard School of Public ...</td>\n",
       "      <td>BST 233: Methods II Harvard School of Public H...</td>\n",
       "    </tr>\n",
       "    <tr>\n",
       "      <th>141</th>\n",
       "      <td>BIOSTAT 244_BST 244 - 2024 Spring (190059).pdf</td>\n",
       "      <td>BIOSTAT</td>\n",
       "      <td>BIOSTAT 244</td>\n",
       "      <td>BIOSTAT 244/BST 244: Analysis of Failure Time ...</td>\n",
       "      <td>BIO244: Analysis of Failure Time Data Course I...</td>\n",
       "      <td>BIO244: Analysis of Failure Time Data Course I...</td>\n",
       "    </tr>\n",
       "    <tr>\n",
       "      <th>142</th>\n",
       "      <td>STAT 102 - 2024 Spring (110094).pdf</td>\n",
       "      <td>STAT</td>\n",
       "      <td>STAT 102</td>\n",
       "      <td>STAT 102: Introduction to Statistics for Life ...</td>\n",
       "      <td>STAT 102: Introduction to Statistics for Life ...</td>\n",
       "      <td>STAT 102: Introduction to Statistics for Life ...</td>\n",
       "    </tr>\n",
       "    <tr>\n",
       "      <th>145</th>\n",
       "      <td>STAT 171 - 2024 Spring (113721) (1).pdf</td>\n",
       "      <td>STAT</td>\n",
       "      <td>STAT 171</td>\n",
       "      <td>STAT 171: Introduction to Stochastic Processes</td>\n",
       "      <td>Statistics 171: Stochastic Processes, Spring 2...</td>\n",
       "      <td>Statistics 171: Stochastic Processes, Spring 2...</td>\n",
       "    </tr>\n",
       "    <tr>\n",
       "      <th>148</th>\n",
       "      <td>BIOSTAT 234_BST 234 - 2024 Spring (160641).pdf</td>\n",
       "      <td>BIOSTAT</td>\n",
       "      <td>BIOSTAT 234</td>\n",
       "      <td>BIOSTAT 234/BST 234: Introduction to Data Stru...</td>\n",
       "      <td>BST234 Introduction to Data Structures and Alg...</td>\n",
       "      <td>BST234 Introduction to Data Structures and Alg...</td>\n",
       "    </tr>\n",
       "    <tr>\n",
       "      <th>149</th>\n",
       "      <td>STAT 111 - 2017 Spring (111036).pdf</td>\n",
       "      <td>STAT</td>\n",
       "      <td>STAT 111</td>\n",
       "      <td>STAT 111: Introduction to Statistical Inference</td>\n",
       "      <td>Statistics 111 Syllabus Spring 2017         In...</td>\n",
       "      <td>Statistics 111 Syllabus Spring 2017 Instructor...</td>\n",
       "    </tr>\n",
       "    <tr>\n",
       "      <th>152</th>\n",
       "      <td>STAT 195 - 2020 Fall (207703).pdf</td>\n",
       "      <td>STAT</td>\n",
       "      <td>STAT 195</td>\n",
       "      <td>STAT 195: Introduction to Supervised Learning</td>\n",
       "      <td>STAT 195: Statistical Machine Learning, Fall 2...</td>\n",
       "      <td>STAT 195: Statistical Machine Learning, Fall 2...</td>\n",
       "    </tr>\n",
       "    <tr>\n",
       "      <th>154</th>\n",
       "      <td>BIOSTAT 282_BST 282_STAT 115_STAT 215 - 2024 S...</td>\n",
       "      <td>BIOSTAT</td>\n",
       "      <td>BIOSTAT 282</td>\n",
       "      <td>BIOSTAT 282/BST 282/STAT 115/STAT 215: Introdu...</td>\n",
       "      <td>BST282, Introduction to Bioinformatics and Com...</td>\n",
       "      <td>BST282, Introduction to Bioinformatics and Com...</td>\n",
       "    </tr>\n",
       "    <tr>\n",
       "      <th>160</th>\n",
       "      <td>STAT 234 - 2024 Spring (205213).pdf</td>\n",
       "      <td>STAT</td>\n",
       "      <td>STAT 234</td>\n",
       "      <td>STAT 234: Sequential Decision Making</td>\n",
       "      <td>Our\\tclasses\\tare\\tin\\tperson.\\t\\nThe\\tsyllabu...</td>\n",
       "      <td>Our classes are in person. The syllabus can be...</td>\n",
       "    </tr>\n",
       "    <tr>\n",
       "      <th>162</th>\n",
       "      <td>STAT 117 - 2024 Spring (203104).pdf</td>\n",
       "      <td>STAT</td>\n",
       "      <td>STAT 117</td>\n",
       "      <td>STAT 117: Data Analysis in Modern Biostatistics</td>\n",
       "      <td>Harvard University, Statistics 117\\nData Analy...</td>\n",
       "      <td>Harvard University, Statistics 117 Data Analys...</td>\n",
       "    </tr>\n",
       "    <tr>\n",
       "      <th>170</th>\n",
       "      <td>STAT 388R - 2017 Spring (204453).pdf</td>\n",
       "      <td>STAT</td>\n",
       "      <td>STAT 388R</td>\n",
       "      <td>STAT 388R: Design and Analysis of Experiments ...</td>\n",
       "      <td>STAT\\t388R\\nHarvard\\tCollege/Graduate\\tSchool\\...</td>\n",
       "      <td>STAT 388R Harvard College/Graduate School of A...</td>\n",
       "    </tr>\n",
       "    <tr>\n",
       "      <th>171</th>\n",
       "      <td>BIOSTAT 241_BST 241 - 2024 Spring (190066) (1)...</td>\n",
       "      <td>BIOSTAT</td>\n",
       "      <td>BIOSTAT 241</td>\n",
       "      <td>BIOSTAT 241/BST 241: Statistical Inference II</td>\n",
       "      <td>BST 241/ BIOSTAT 241: Inference II\\n Spring 2...</td>\n",
       "      <td>BST 241/ BIOSTAT 241: Inference II Spring 202...</td>\n",
       "    </tr>\n",
       "    <tr>\n",
       "      <th>173</th>\n",
       "      <td>STAT 211 - 2024 Fall (111130).pdf</td>\n",
       "      <td>STAT</td>\n",
       "      <td>STAT 211</td>\n",
       "      <td>STAT 211: Statistical Inference I</td>\n",
       "      <td>STAT 211: Statistical Inference I, Fall 2024\\n...</td>\n",
       "      <td>STAT 211: Statistical Inference I, Fall 2024 I...</td>\n",
       "    </tr>\n",
       "    <tr>\n",
       "      <th>175</th>\n",
       "      <td>BIOSTAT 283_BST 283 - 2018 Spring (203516).pdf</td>\n",
       "      <td>BIOSTAT</td>\n",
       "      <td>BIOSTAT 283</td>\n",
       "      <td>BIOSTAT 283/BST 283: Cancer Genome Analysis</td>\n",
       "      <td>BST 283 Cancer Genome Analysis  \\nHarvard T. H...</td>\n",
       "      <td>BST 283 Cancer Genome Analysis Harvard T. H. C...</td>\n",
       "    </tr>\n",
       "    <tr>\n",
       "      <th>176</th>\n",
       "      <td>STAT 291 - 2024 Spring (222772).pdf</td>\n",
       "      <td>STAT</td>\n",
       "      <td>STAT 291</td>\n",
       "      <td>STAT 291: Random High-Dimensional Optimization...</td>\n",
       "      <td>Random High-Dimensional Optimization:\\nLandsca...</td>\n",
       "      <td>Random High-Dimensional Optimization: Landscap...</td>\n",
       "    </tr>\n",
       "    <tr>\n",
       "      <th>179</th>\n",
       "      <td>BIOSTAT 267_BST 267 - 2024 Fall 2 (190132).pdf</td>\n",
       "      <td>BIOSTAT</td>\n",
       "      <td>BIOSTAT 267</td>\n",
       "      <td>BIOSTAT 267/BST 267: Introduction to Social an...</td>\n",
       "      <td>Sample Template\\n[Course Number &amp; Title]\\n [Co...</td>\n",
       "      <td>Sample Template [Course Number &amp; Title] [Cours...</td>\n",
       "    </tr>\n",
       "    <tr>\n",
       "      <th>184</th>\n",
       "      <td>STAT 186 - 2017 Spring (110022).pdf</td>\n",
       "      <td>STAT</td>\n",
       "      <td>STAT 186</td>\n",
       "      <td>STAT 186: Statistical Methods for Evaluating C...</td>\n",
       "      <td>STAT 186\\nStatistical Methods for Evaluating C...</td>\n",
       "      <td>STAT 186 Statistical Methods for Evaluating Ca...</td>\n",
       "    </tr>\n",
       "    <tr>\n",
       "      <th>193</th>\n",
       "      <td>STAT 188 - 2024 Fall (222723).pdf</td>\n",
       "      <td>STAT</td>\n",
       "      <td>STAT 188</td>\n",
       "      <td>STAT 188: Variations, Information and Privacy</td>\n",
       "      <td>STAT 188: Variations, Information and Privacy\\...</td>\n",
       "      <td>STAT 188: Variations, Information and Privacy ...</td>\n",
       "    </tr>\n",
       "    <tr>\n",
       "      <th>206</th>\n",
       "      <td>STAT 107 - 2016 Fall (127043).pdf</td>\n",
       "      <td>STAT</td>\n",
       "      <td>STAT 107</td>\n",
       "      <td>STAT 107: Introduction to Business and Financi...</td>\n",
       "      <td>1Stat 107: Introduction to Business and Finan...</td>\n",
       "      <td>1Stat 107: Introduction to Business and Finan...</td>\n",
       "    </tr>\n",
       "    <tr>\n",
       "      <th>207</th>\n",
       "      <td>STAT 108 - 2024 Fall (221621).pdf</td>\n",
       "      <td>STAT</td>\n",
       "      <td>STAT 108</td>\n",
       "      <td>STAT 108: Introduction to Statistical Computin...</td>\n",
       "      <td>Course\\tgoals:\\nStat\\t108\\tfocuses\\ton\\tthe\\tf...</td>\n",
       "      <td>Course goals: Stat 108 focuses on the followin...</td>\n",
       "    </tr>\n",
       "    <tr>\n",
       "      <th>210</th>\n",
       "      <td>STAT 217 - 2024 Spring (221646) (1).pdf</td>\n",
       "      <td>STAT</td>\n",
       "      <td>STAT 217</td>\n",
       "      <td>STAT 217: Topics in high-dimensional statistic...</td>\n",
       "      <td>Course\\tgoals:\\nSuccessful\\tstudents\\t(i)\\twil...</td>\n",
       "      <td>Course goals: Successful students (i) will be ...</td>\n",
       "    </tr>\n",
       "    <tr>\n",
       "      <th>222</th>\n",
       "      <td>STAT 98 - 2024 Spring (127768).pdf</td>\n",
       "      <td>STAT</td>\n",
       "      <td>STAT 98</td>\n",
       "      <td>STAT 98: Tutorial - Junior Year</td>\n",
       "      <td>Statistics 98: Junior Tutorial\\nSpring 2024 Sy...</td>\n",
       "      <td>Statistics 98: Junior Tutorial Spring 2024 Syl...</td>\n",
       "    </tr>\n",
       "    <tr>\n",
       "      <th>241</th>\n",
       "      <td>STAT 288 - 2024 Spring (219700).pdf</td>\n",
       "      <td>STAT</td>\n",
       "      <td>STAT 288</td>\n",
       "      <td>STAT 288: Deep Statistics: AI and Earth Observ...</td>\n",
       "      <td>STAT 288 Deep Statistics: AI and Earth\\nObserv...</td>\n",
       "      <td>STAT 288 Deep Statistics: AI and Earth Observa...</td>\n",
       "    </tr>\n",
       "    <tr>\n",
       "      <th>243</th>\n",
       "      <td>STAT 99R - 2024 Fall (159964).pdf</td>\n",
       "      <td>STAT</td>\n",
       "      <td>STAT 99R</td>\n",
       "      <td>STAT 99R: Tutorial - Senior Year</td>\n",
       "      <td>Full\\tguidance\\ton\\tthe\\tStatistics\\trequireme...</td>\n",
       "      <td>Full guidance on the Statistics requirements f...</td>\n",
       "    </tr>\n",
       "    <tr>\n",
       "      <th>252</th>\n",
       "      <td>STAT 286 - 2017 Fall (156925).pdf</td>\n",
       "      <td>STAT</td>\n",
       "      <td>STAT 286</td>\n",
       "      <td>STAT 286: Causal Inference &amp; Program Evaluation</td>\n",
       "      <td>A\\tTENTATIVE\\tLIST\\tOF\\tTOPICS\\tAND\\tRELATED\\t...</td>\n",
       "      <td>A TENTATIVE LIST OF TOPICS AND RELATED PAPERS ...</td>\n",
       "    </tr>\n",
       "    <tr>\n",
       "      <th>256</th>\n",
       "      <td>STAT 100 - 2017 Fall (113431).pdf</td>\n",
       "      <td>STAT</td>\n",
       "      <td>STAT 100</td>\n",
       "      <td>STAT 100: Introduction to Quantitative Methods...</td>\n",
       "      <td>Harvard University                           S...</td>\n",
       "      <td>Harvard University Statistics 100 Fall 2017 1S...</td>\n",
       "    </tr>\n",
       "    <tr>\n",
       "      <th>279</th>\n",
       "      <td>BIOSTAT 290_BST 290 - 2017 Fall (126948).pdf</td>\n",
       "      <td>BIOSTAT</td>\n",
       "      <td>BIOSTAT 290</td>\n",
       "      <td>BIOSTAT 290/BST 290: Advanced Computational Bi...</td>\n",
       "      <td>Advanced Computational Biology &amp; Bioinformatic...</td>\n",
       "      <td>Advanced Computational Biology &amp; Bioinformatic...</td>\n",
       "    </tr>\n",
       "    <tr>\n",
       "      <th>305</th>\n",
       "      <td>STAT 109 - 2020 Spring (205028) (1).pdf</td>\n",
       "      <td>STAT</td>\n",
       "      <td>STAT 109</td>\n",
       "      <td>STAT 109: Intro to Statistical Modelling</td>\n",
       "      <td>1 \\n Statistics 109 Syllabus  \\nSpring  2020 \\...</td>\n",
       "      <td>1 Statistics 109 Syllabus Spring 2020 Tentativ...</td>\n",
       "    </tr>\n",
       "    <tr>\n",
       "      <th>318</th>\n",
       "      <td>BIOSTAT 245_BST 245 - 2024 Fall (190060).pdf</td>\n",
       "      <td>BIOSTAT</td>\n",
       "      <td>BIOSTAT 245</td>\n",
       "      <td>BIOSTAT 245/BST 245: Analysis of Multivariate ...</td>\n",
       "      <td>BST / BIST 245: Analysis of Multivariate and L...</td>\n",
       "      <td>BST / BIST 245: Analysis of Multivariate and L...</td>\n",
       "    </tr>\n",
       "    <tr>\n",
       "      <th>327</th>\n",
       "      <td>STAT 315 - 2018 Spring (156490).pdf</td>\n",
       "      <td>STAT</td>\n",
       "      <td>STAT 315</td>\n",
       "      <td>STAT 315: Modern high-dimensional inference</td>\n",
       "      <td>Spring 2018 Syllabus for Stat 315: Modern\\nHig...</td>\n",
       "      <td>Spring 2018 Syllabus for Stat 315: Modern High...</td>\n",
       "    </tr>\n",
       "  </tbody>\n",
       "</table>\n",
       "</div>"
      ],
      "text/plain": [
       "                                              filename course department  \\\n",
       "7                  STAT 123 - 2022 Spring (126048).pdf              STAT   \n",
       "9                  STAT 364 - 2022 Spring (214539).pdf              STAT   \n",
       "13                   STAT 216 - 2024 Fall (218350).pdf              STAT   \n",
       "14      BIOSTAT 281_BST 281 - 2024 Spring (190119).pdf           BIOSTAT   \n",
       "18                 STAT 114 - 2024 Spring (224023).pdf              STAT   \n",
       "19        BIOSTAT 232_BST 232 - 2024 Fall (190049).pdf           BIOSTAT   \n",
       "24      BIOSTAT 258_BST 258 - 2024 Spring (223906).pdf           BIOSTAT   \n",
       "32                 STAT 149 - 2024 Spring (118974).pdf              STAT   \n",
       "35                BIOSTAT 230 - 2020 Fall (119844).pdf           BIOSTAT   \n",
       "38               STAT 185 - 2024 Fall (213478) (1).pdf              STAT   \n",
       "41                 STAT 213 - 2020 Spring (159802).pdf              STAT   \n",
       "50                   STAT 104 - 2024 Fall (114027).pdf              STAT   \n",
       "52          STAT 303HFB - 2024 Spring (160674) (1).pdf              STAT   \n",
       "61                 STAT 220 - 2024 Spring (118016).pdf              STAT   \n",
       "68                 STAT 248 - 2021 Spring (217522).pdf              STAT   \n",
       "71                 STAT 141 - 2023 Spring (217516).pdf              STAT   \n",
       "77                 STAT 236 - 2019 Spring (211175).pdf              STAT   \n",
       "87                STAT 303HFA - 2019 Fall (121311).pdf              STAT   \n",
       "89               STAT 221 - 2023 Fall (115077) (1).pdf              STAT   \n",
       "96    BIOSTAT 249_BST 249 - 2024 Fall (190064) (1).pdf           BIOSTAT   \n",
       "103                STAT 143 - 2024 Spring (217523).pdf              STAT   \n",
       "104                  STAT 161 - 2019 Fall (212953).pdf              STAT   \n",
       "109                STAT 131 - 2022 Spring (117131).pdf              STAT   \n",
       "116                STAT 317 - 2017 Spring (111463).pdf              STAT   \n",
       "119         STAT 160_STAT 260 - 2019 Fall (126393).pdf              STAT   \n",
       "121                STAT 140 - 2020 Spring (116364).pdf              STAT   \n",
       "129              STAT 139 - 2021 Fall (110751) (1).pdf              STAT   \n",
       "133  STAT 293_STAT 393_STAT 397 - 2023 Spring (2146...              STAT   \n",
       "135            STAT 212 - 2024 Spring (156452) (1).pdf              STAT   \n",
       "139     BIOSTAT 233_BST 233 - 2018 Spring (190050).pdf           BIOSTAT   \n",
       "141     BIOSTAT 244_BST 244 - 2024 Spring (190059).pdf           BIOSTAT   \n",
       "142                STAT 102 - 2024 Spring (110094).pdf              STAT   \n",
       "145            STAT 171 - 2024 Spring (113721) (1).pdf              STAT   \n",
       "148     BIOSTAT 234_BST 234 - 2024 Spring (160641).pdf           BIOSTAT   \n",
       "149                STAT 111 - 2017 Spring (111036).pdf              STAT   \n",
       "152                  STAT 195 - 2020 Fall (207703).pdf              STAT   \n",
       "154  BIOSTAT 282_BST 282_STAT 115_STAT 215 - 2024 S...           BIOSTAT   \n",
       "160                STAT 234 - 2024 Spring (205213).pdf              STAT   \n",
       "162                STAT 117 - 2024 Spring (203104).pdf              STAT   \n",
       "170               STAT 388R - 2017 Spring (204453).pdf              STAT   \n",
       "171  BIOSTAT 241_BST 241 - 2024 Spring (190066) (1)...           BIOSTAT   \n",
       "173                  STAT 211 - 2024 Fall (111130).pdf              STAT   \n",
       "175     BIOSTAT 283_BST 283 - 2018 Spring (203516).pdf           BIOSTAT   \n",
       "176                STAT 291 - 2024 Spring (222772).pdf              STAT   \n",
       "179     BIOSTAT 267_BST 267 - 2024 Fall 2 (190132).pdf           BIOSTAT   \n",
       "184                STAT 186 - 2017 Spring (110022).pdf              STAT   \n",
       "193                  STAT 188 - 2024 Fall (222723).pdf              STAT   \n",
       "206                  STAT 107 - 2016 Fall (127043).pdf              STAT   \n",
       "207                  STAT 108 - 2024 Fall (221621).pdf              STAT   \n",
       "210            STAT 217 - 2024 Spring (221646) (1).pdf              STAT   \n",
       "222                 STAT 98 - 2024 Spring (127768).pdf              STAT   \n",
       "241                STAT 288 - 2024 Spring (219700).pdf              STAT   \n",
       "243                  STAT 99R - 2024 Fall (159964).pdf              STAT   \n",
       "252                  STAT 286 - 2017 Fall (156925).pdf              STAT   \n",
       "256                  STAT 100 - 2017 Fall (113431).pdf              STAT   \n",
       "279       BIOSTAT 290_BST 290 - 2017 Fall (126948).pdf           BIOSTAT   \n",
       "305            STAT 109 - 2020 Spring (205028) (1).pdf              STAT   \n",
       "318       BIOSTAT 245_BST 245 - 2024 Fall (190060).pdf           BIOSTAT   \n",
       "327                STAT 315 - 2018 Spring (156490).pdf              STAT   \n",
       "\n",
       "     course name                                               Name  \\\n",
       "7       STAT 123             STAT 123: Applied Quantitative Finance   \n",
       "9       STAT 364  STAT 364: Scalable Statistical Inference for B...   \n",
       "13      STAT 216  STAT 216: Topics in High-Dimensional Probabili...   \n",
       "14   BIOSTAT 281     BIOSTAT 281/BST 281: Genomic Data Manipulation   \n",
       "18      STAT 114  STAT 114: Introduction to Bioinformatics and S...   \n",
       "19   BIOSTAT 232                       BIOSTAT 232/BST 232: Methods   \n",
       "24   BIOSTAT 258  BIOSTAT 258/BST 258: Causal Inference: Theory ...   \n",
       "32      STAT 149                STAT 149: Generalized Linear Models   \n",
       "35   BIOSTAT 230                 BIOSTAT 230/BST 230: Probability I   \n",
       "38      STAT 185      STAT 185: Introduction to Dimension Reduction   \n",
       "41      STAT 213                 STAT 213: Statistical Inference II   \n",
       "50      STAT 104  STAT 104: Introduction to Quantitative Methods...   \n",
       "52   STAT 303HFB  STAT 303HFB: The Art and Practice of Teaching ...   \n",
       "61      STAT 220                   STAT 220: Bayesian Data Analysis   \n",
       "68      STAT 248                STAT 248: Couplings and Monte Carlo   \n",
       "71      STAT 141       STAT 141: Introduction to Spatial Statistics   \n",
       "77      STAT 236                     STAT 236: Statistical Learning   \n",
       "87   STAT 303HFA  STAT 303HFA: The Art of Communicating and Teac...   \n",
       "89      STAT 221  STAT 221: Computational Tools for Statistical ...   \n",
       "96   BIOSTAT 249  BIOSTAT 249/BST 249: Bayesian Methodology in B...   \n",
       "103     STAT 143                         STAT 143: Sports Analytics   \n",
       "104     STAT 161    STAT 161: Introduction to Nonparametric Methods   \n",
       "109     STAT 131                 STAT 131: Time Series & Prediction   \n",
       "116     STAT 317          STAT 317: Computational Optimal Transport   \n",
       "119     STAT 160  STAT 160: Introduction to Survey Sampling and ...   \n",
       "121     STAT 140                    STAT 140: Design of Experiments   \n",
       "129     STAT 139                            STAT 139: Linear Models   \n",
       "133     STAT 293  STAT 293/STAT 393/STAT 397: Design of Experime...   \n",
       "135     STAT 212                            STAT 212: Probability 2   \n",
       "139  BIOSTAT 233                    BIOSTAT 233/BST 233: Methods II   \n",
       "141  BIOSTAT 244  BIOSTAT 244/BST 244: Analysis of Failure Time ...   \n",
       "142     STAT 102  STAT 102: Introduction to Statistics for Life ...   \n",
       "145     STAT 171     STAT 171: Introduction to Stochastic Processes   \n",
       "148  BIOSTAT 234  BIOSTAT 234/BST 234: Introduction to Data Stru...   \n",
       "149     STAT 111    STAT 111: Introduction to Statistical Inference   \n",
       "152     STAT 195      STAT 195: Introduction to Supervised Learning   \n",
       "154  BIOSTAT 282  BIOSTAT 282/BST 282/STAT 115/STAT 215: Introdu...   \n",
       "160     STAT 234               STAT 234: Sequential Decision Making   \n",
       "162     STAT 117    STAT 117: Data Analysis in Modern Biostatistics   \n",
       "170    STAT 388R  STAT 388R: Design and Analysis of Experiments ...   \n",
       "171  BIOSTAT 241      BIOSTAT 241/BST 241: Statistical Inference II   \n",
       "173     STAT 211                  STAT 211: Statistical Inference I   \n",
       "175  BIOSTAT 283        BIOSTAT 283/BST 283: Cancer Genome Analysis   \n",
       "176     STAT 291  STAT 291: Random High-Dimensional Optimization...   \n",
       "179  BIOSTAT 267  BIOSTAT 267/BST 267: Introduction to Social an...   \n",
       "184     STAT 186  STAT 186: Statistical Methods for Evaluating C...   \n",
       "193     STAT 188      STAT 188: Variations, Information and Privacy   \n",
       "206     STAT 107  STAT 107: Introduction to Business and Financi...   \n",
       "207     STAT 108  STAT 108: Introduction to Statistical Computin...   \n",
       "210     STAT 217  STAT 217: Topics in high-dimensional statistic...   \n",
       "222      STAT 98                    STAT 98: Tutorial - Junior Year   \n",
       "241     STAT 288  STAT 288: Deep Statistics: AI and Earth Observ...   \n",
       "243     STAT 99R                   STAT 99R: Tutorial - Senior Year   \n",
       "252     STAT 286    STAT 286: Causal Inference & Program Evaluation   \n",
       "256     STAT 100  STAT 100: Introduction to Quantitative Methods...   \n",
       "279  BIOSTAT 290  BIOSTAT 290/BST 290: Advanced Computational Bi...   \n",
       "305     STAT 109           STAT 109: Intro to Statistical Modelling   \n",
       "318  BIOSTAT 245  BIOSTAT 245/BST 245: Analysis of Multivariate ...   \n",
       "327     STAT 315        STAT 315: Modern high-dimensional inference   \n",
       "\n",
       "                                                  text  \\\n",
       "7    Thank\\tyou\\tfor\\ttaking\\tStat\\t123\\t2022,\\tQua...   \n",
       "9    Stat364 : Scalable Statistical Inference for B...   \n",
       "13   Course\\tgoals:\\nSuccessful\\tstudents:\\n1.\\twil...   \n",
       "14    \\n1 \\n  \\nBST 281: Genomic Data Manipulation ...   \n",
       "18   STAT 114: Introduction to Bioinformatics and S...   \n",
       "19   SYLLABUS FOR BIOSTAT/BST 232: METHODS Harvard ...   \n",
       "24   Biostatistics 258 Spring 2024 Syllabus\\nCausal...   \n",
       "32   Course\\tdescription\\n:\\t\\t\\nSequel\\tto\\tStatis...   \n",
       "35   1 Syllabus  \\n31 August  2020 \\nBIO230- Biosta...   \n",
       "38   Statistics 185: Introduction to Unsupervised L...   \n",
       "41   STAT 213: Statistical Inference 2\\nNatesh Pill...   \n",
       "50   Statistics 104 Syllabus Fall 2024        Instr...   \n",
       "52   Statistics\\t303\\t\\tThe\\tArt\\tof\\tCommunicating...   \n",
       "61   Late\\tHW\\tand\\tFinal\\tProject\\tPolicy:\\t\\nEver...   \n",
       "68   WELCOME!\\nInstructor\\n:\\n\\t\\nPierre\\tE.\\tJacob...   \n",
       "71   Statistics 141: Spatial Statistics, Spring 202...   \n",
       "77   Syllabus for STAT 236 Statistical Learning\\nSp...   \n",
       "87   Statistics 303hf  \\nThe Art and Practice of Te...   \n",
       "89   Fall 2023\\nSTAT 221: Computational Tools for S...   \n",
       "96   Bayesian Statistics 249 TUE & THU 2:00 pm - 3:...   \n",
       "103  Course\\tdescription\\n:\\t\\t\\nIntroduction\\tto\\t...   \n",
       "104  STAT 161 Introduction to Nonparametric Methods...   \n",
       "109  Term\\n:\\tSpring\\t2022\\nCourse\\tInstructor\\n:\\t...   \n",
       "116  CS282R: Topics in Machine Learning / Stat 317\\...   \n",
       "119  Methods\\tfor\\tdesign\\tand\\tanalysis\\tof\\tsampl...   \n",
       "121  Stat 140: D ESIGN OF EXPERIMENTS  \\nDepartment...   \n",
       "129  Statistics 139 Syllabus Fall 2021         Inst...   \n",
       "133  Tentative Course Syllabus\\nStat 293/393 - Desi...   \n",
       "135  Stat 212 Probability II, Spring 2024\\nSTAT212 ...   \n",
       "139  BST 233: Methods II\\nHarvard School of Public ...   \n",
       "141  BIO244: Analysis of Failure Time Data Course I...   \n",
       "142  STAT 102: Introduction to Statistics for Life ...   \n",
       "145  Statistics 171: Stochastic Processes, Spring 2...   \n",
       "148  BST234 Introduction to Data Structures and Alg...   \n",
       "149  Statistics 111 Syllabus Spring 2017         In...   \n",
       "152  STAT 195: Statistical Machine Learning, Fall 2...   \n",
       "154  BST282, Introduction to Bioinformatics and Com...   \n",
       "160  Our\\tclasses\\tare\\tin\\tperson.\\t\\nThe\\tsyllabu...   \n",
       "162  Harvard University, Statistics 117\\nData Analy...   \n",
       "170  STAT\\t388R\\nHarvard\\tCollege/Graduate\\tSchool\\...   \n",
       "171   BST 241/ BIOSTAT 241: Inference II\\n Spring 2...   \n",
       "173  STAT 211: Statistical Inference I, Fall 2024\\n...   \n",
       "175  BST 283 Cancer Genome Analysis  \\nHarvard T. H...   \n",
       "176  Random High-Dimensional Optimization:\\nLandsca...   \n",
       "179  Sample Template\\n[Course Number & Title]\\n [Co...   \n",
       "184  STAT 186\\nStatistical Methods for Evaluating C...   \n",
       "193  STAT 188: Variations, Information and Privacy\\...   \n",
       "206   1Stat 107: Introduction to Business and Finan...   \n",
       "207  Course\\tgoals:\\nStat\\t108\\tfocuses\\ton\\tthe\\tf...   \n",
       "210  Course\\tgoals:\\nSuccessful\\tstudents\\t(i)\\twil...   \n",
       "222  Statistics 98: Junior Tutorial\\nSpring 2024 Sy...   \n",
       "241  STAT 288 Deep Statistics: AI and Earth\\nObserv...   \n",
       "243  Full\\tguidance\\ton\\tthe\\tStatistics\\trequireme...   \n",
       "252  A\\tTENTATIVE\\tLIST\\tOF\\tTOPICS\\tAND\\tRELATED\\t...   \n",
       "256  Harvard University                           S...   \n",
       "279  Advanced Computational Biology & Bioinformatic...   \n",
       "305  1 \\n Statistics 109 Syllabus  \\nSpring  2020 \\...   \n",
       "318  BST / BIST 245: Analysis of Multivariate and L...   \n",
       "327  Spring 2018 Syllabus for Stat 315: Modern\\nHig...   \n",
       "\n",
       "                                          cleaned_text  \n",
       "7    Thank you for taking Stat 123 2022, Quantitati...  \n",
       "9    Stat364 : Scalable Statistical Inference for B...  \n",
       "13   Course goals: Successful students: 1. will be ...  \n",
       "14    1 BST 281: Genomic Data Manipulation (Spring ...  \n",
       "18   STAT 114: Introduction to Bioinformatics and S...  \n",
       "19   SYLLABUS FOR BIOSTAT/BST 232: METHODS Harvard ...  \n",
       "24   Biostatistics 258 Spring 2024 Syllabus Causal ...  \n",
       "32   Course description : Sequel to Statistics 139,...  \n",
       "35   1 Syllabus 31 August 2020 BIO230- Biostat230 P...  \n",
       "38   Statistics 185: Introduction to Unsupervised L...  \n",
       "41   STAT 213: Statistical Inference 2 Natesh Pilla...  \n",
       "50   Statistics 104 Syllabus Fall 2024 Instructor: ...  \n",
       "52   Statistics 303 The Art of Communicating and Te...  \n",
       "61   Late HW and Final Project Policy: Everyone is ...  \n",
       "68   WELCOME! Instructor : Pierre E. Jacob (pjacob@...  \n",
       "71   Statistics 141: Spatial Statistics, Spring 202...  \n",
       "77   Syllabus for STAT 236 Statistical Learning Spr...  \n",
       "87   Statistics 303hf The Art and Practice of Teach...  \n",
       "89   Fall 2023 STAT 221: Computational Tools for St...  \n",
       "96   Bayesian Statistics 249 TUE & THU 2:00 pm - 3:...  \n",
       "103  Course description : Introduction to statistic...  \n",
       "104  STAT 161 Introduction to Nonparametric Methods...  \n",
       "109  Term : Spring 2022 Course Instructor : Tracy K...  \n",
       "116  CS282R: Topics in Machine Learning / Stat 317 ...  \n",
       "119  Methods for design and analysis of sample surv...  \n",
       "121  Stat 140: D ESIGN OF EXPERIMENTS Department of...  \n",
       "129  Statistics 139 Syllabus Fall 2021 Instructor: ...  \n",
       "133  Tentative Course Syllabus Stat 293/393 - Desig...  \n",
       "135  Stat 212 Probability II, Spring 2024 STAT212 S...  \n",
       "139  BST 233: Methods II Harvard School of Public H...  \n",
       "141  BIO244: Analysis of Failure Time Data Course I...  \n",
       "142  STAT 102: Introduction to Statistics for Life ...  \n",
       "145  Statistics 171: Stochastic Processes, Spring 2...  \n",
       "148  BST234 Introduction to Data Structures and Alg...  \n",
       "149  Statistics 111 Syllabus Spring 2017 Instructor...  \n",
       "152  STAT 195: Statistical Machine Learning, Fall 2...  \n",
       "154  BST282, Introduction to Bioinformatics and Com...  \n",
       "160  Our classes are in person. The syllabus can be...  \n",
       "162  Harvard University, Statistics 117 Data Analys...  \n",
       "170  STAT 388R Harvard College/Graduate School of A...  \n",
       "171   BST 241/ BIOSTAT 241: Inference II Spring 202...  \n",
       "173  STAT 211: Statistical Inference I, Fall 2024 I...  \n",
       "175  BST 283 Cancer Genome Analysis Harvard T. H. C...  \n",
       "176  Random High-Dimensional Optimization: Landscap...  \n",
       "179  Sample Template [Course Number & Title] [Cours...  \n",
       "184  STAT 186 Statistical Methods for Evaluating Ca...  \n",
       "193  STAT 188: Variations, Information and Privacy ...  \n",
       "206   1Stat 107: Introduction to Business and Finan...  \n",
       "207  Course goals: Stat 108 focuses on the followin...  \n",
       "210  Course goals: Successful students (i) will be ...  \n",
       "222  Statistics 98: Junior Tutorial Spring 2024 Syl...  \n",
       "241  STAT 288 Deep Statistics: AI and Earth Observa...  \n",
       "243  Full guidance on the Statistics requirements f...  \n",
       "252  A TENTATIVE LIST OF TOPICS AND RELATED PAPERS ...  \n",
       "256  Harvard University Statistics 100 Fall 2017 1S...  \n",
       "279  Advanced Computational Biology & Bioinformatic...  \n",
       "305  1 Statistics 109 Syllabus Spring 2020 Tentativ...  \n",
       "318  BST / BIST 245: Analysis of Multivariate and L...  \n",
       "327  Spring 2018 Syllabus for Stat 315: Modern High...  "
      ]
     },
     "execution_count": 75,
     "metadata": {},
     "output_type": "execute_result"
    }
   ],
   "source": [
    "df = pd.read_csv('processed_data/computation_courses.csv').drop_duplicates('course name')\n",
    "#df = df[df['filename'].str.contains('STAT')|df['text'].str.lower().str.contains('statistics')]\n",
    "df = df[df['course name'].str.contains('STAT')]\n",
    "df\n"
   ]
  },
  {
   "cell_type": "code",
   "execution_count": 76,
   "id": "8c3f333e-a623-4b3b-8c9c-fd2d0ecdfcd7",
   "metadata": {},
   "outputs": [],
   "source": [
    "documents = df['cleaned_text'].values"
   ]
  },
  {
   "cell_type": "code",
   "execution_count": 105,
   "id": "16cc4dee-9b31-4f75-b397-06f99d9db048",
   "metadata": {},
   "outputs": [
    {
     "name": "stdout",
     "output_type": "stream",
     "text": [
      "2 0.548 379.0\n",
      "3 0.587 372.5\n",
      "4 0.534 369.5\n",
      "5 0.506 375.2\n",
      "6 0.497 369.3\n",
      "7 0.492 368.3\n",
      "8 0.474 368.0\n",
      "9 0.465 372.4\n"
     ]
    }
   ],
   "source": [
    "\n",
    "ls = []\n",
    "vectorizer = CountVectorizer(\n",
    "    max_df=0.9,\n",
    "    min_df=10,\n",
    "    stop_words='english',\n",
    "    token_pattern=r'(?u)\\b[A-Za-z]+\\b'  # Only keep words with alphabetic characters\n",
    ")\n",
    "doc_term_matrix = vectorizer.fit_transform(documents)\n",
    "    \n",
    "for num_topics in np.arange(2,10):\n",
    "    N = 20\n",
    "    # Vectorize text\n",
    "    \n",
    "    # Fit LDA\n",
    "    lda = LatentDirichletAllocation(n_components=num_topics, random_state=42)\n",
    "    lda.fit(doc_term_matrix)\n",
    "    \n",
    "    topic_word_distributions = lda.components_ / lda.components_.sum(axis=1)[:, np.newaxis]\n",
    "    \n",
    "    top_words = np.argsort(topic_word_distributions, axis=1)[:, -N:]\n",
    "    vocabulary = np.array(vectorizer.get_feature_names_out())\n",
    "    topic_top_words = vocabulary[top_words]\n",
    "    \n",
    "    from sklearn.metrics.pairwise import cosine_similarity\n",
    "    \n",
    "    # Example: Cosine similarity between word distributions\n",
    "    def coherence_score(topic_words, doc_term_matrix):\n",
    "        scores = []\n",
    "        for words in topic_words:\n",
    "            word_indices = [vectorizer.vocabulary_[w] for w in words if w in vectorizer.vocabulary_]\n",
    "            sub_matrix = doc_term_matrix[:, word_indices].toarray()\n",
    "            similarities = cosine_similarity(sub_matrix.T)\n",
    "            upper_tri_indices = np.triu_indices_from(similarities, k=1)\n",
    "            scores.append(similarities[upper_tri_indices].mean())\n",
    "        return np.mean(scores)\n",
    "    \n",
    "    coherence = coherence_score(topic_top_words, doc_term_matrix)\n",
    "    ls.append(coherence)\n",
    "    print(num_topics, np.round(coherence,3), np.round(lda.perplexity(doc_term_matrix),1))\n"
   ]
  },
  {
   "cell_type": "code",
   "execution_count": 106,
   "id": "294f44c8-f0b5-40f0-af59-7f3f85b7bf77",
   "metadata": {},
   "outputs": [
    {
     "name": "stdout",
     "output_type": "stream",
     "text": [
      "Topic 1:  ['journal', 's', 'et', 'al', 'learning', 'e', 'j', 'statistical', 'inference', 'data']\n",
      "Topic 2:  ['teaching', 'problem', 'harvard', 'assignments', 'stat', 'final', 'r', 'statistics', 'students', 'class']\n",
      "Topic 3:  ['final', 'work', 'methods', 's', 'data', 'class', 'harvard', 'homework', 'lecture', 'students']\n"
     ]
    }
   ],
   "source": [
    "lda = LatentDirichletAllocation(n_components=3, random_state=42)\n",
    "lda.fit(doc_term_matrix)\n",
    "\n",
    "# Display the topics\n",
    "feature_names = vectorizer.get_feature_names_out()\n",
    "for idx, topic in enumerate(lda.components_):\n",
    "    print(f\"Topic {idx + 1}: \", [feature_names[i] for i in topic.argsort()[-10:]])"
   ]
  },
  {
   "cell_type": "code",
   "execution_count": 107,
   "id": "84d7fc89-0a10-40e2-92be-0a147dc379b6",
   "metadata": {},
   "outputs": [],
   "source": [
    "\n",
    "# Step 3: Get topic distribution for each document\n",
    "topic_distribution = lda.transform(doc_term_matrix)\n",
    "\n",
    "# Step 4: Perform PCA to reduce to 2D for visualization\n",
    "pca = PCA(n_components=2)\n",
    "topic_distribution_2d = pca.fit_transform(topic_distribution)"
   ]
  },
  {
   "cell_type": "code",
   "execution_count": 108,
   "id": "bc7fc7fe-3940-4b6c-9fc5-1b75b3a18ae6",
   "metadata": {},
   "outputs": [
    {
     "data": {
      "application/vnd.plotly.v1+json": {
       "config": {
        "plotlyServerURL": "https://plot.ly"
       },
       "data": [
        {
         "marker": {
          "color": "blue",
          "size": 10
         },
         "mode": "markers+text",
         "text": [
          "STAT 123 ",
          "STAT 364 ",
          "STAT 216 ",
          "BIOSTAT 281_BST 281 ",
          "STAT 114 ",
          "BIOSTAT 232_BST 232 ",
          "BIOSTAT 258_BST 258 ",
          "STAT 149 ",
          "BIOSTAT 230 ",
          "STAT 185 ",
          "STAT 213 ",
          "STAT 104 ",
          "STAT 303HFB ",
          "STAT 220 ",
          "STAT 248 ",
          "STAT 141 ",
          "STAT 236 ",
          "STAT 303HFA ",
          "STAT 221 ",
          "BIOSTAT 249_BST 249 ",
          "STAT 143 ",
          "STAT 161 ",
          "STAT 131 ",
          "STAT 317 ",
          "STAT 160_STAT 260 ",
          "STAT 140 ",
          "STAT 139 ",
          "STAT 293_STAT 393_STAT 397 ",
          "STAT 212 ",
          "BIOSTAT 233_BST 233 ",
          "BIOSTAT 244_BST 244 ",
          "STAT 102 ",
          "STAT 171 ",
          "BIOSTAT 234_BST 234 ",
          "STAT 111 ",
          "STAT 195 ",
          "BIOSTAT 282_BST 282_STAT 115_STAT 215 ",
          "STAT 234 ",
          "STAT 117 ",
          "STAT 388R ",
          "BIOSTAT 241_BST 241 ",
          "STAT 211 ",
          "BIOSTAT 283_BST 283 ",
          "STAT 291 ",
          "BIOSTAT 267_BST 267 ",
          "STAT 186 ",
          "STAT 188 ",
          "STAT 107 ",
          "STAT 108 ",
          "STAT 217 ",
          "STAT 98 ",
          "STAT 288 ",
          "STAT 99R ",
          "STAT 286 ",
          "STAT 100 ",
          "BIOSTAT 290_BST 290 ",
          "STAT 109 ",
          "BIOSTAT 245_BST 245 ",
          "STAT 315 "
         ],
         "textposition": "top center",
         "type": "scatter",
         "x": [
          0.7146164696576071,
          -0.2747701701787712,
          -0.18665419119776985,
          -0.26274923420229596,
          0.34102525755268476,
          -0.670084392598784,
          -0.18690134128788155,
          -0.6537948419243799,
          -0.483819838992815,
          0.7197961831364003,
          0.5731206294627537,
          0.5561860939668793,
          0.5288993934268826,
          -0.6691526709452036,
          -0.11525465053771988,
          0.7202177549814037,
          -0.1420057316007397,
          0.5085496914827865,
          0.05399641797631987,
          -0.5009900714093989,
          -0.5174491082563359,
          0.12445659197886953,
          0.06178816441768448,
          0.18360097566044348,
          -0.10499716290222723,
          0.11379066179346552,
          0.3645645219352032,
          -0.18623666370246564,
          0.1875988133890127,
          -0.5799531019970724,
          -0.31717310581193925,
          0.3614418785328601,
          0.719579686370503,
          -0.6702624607309103,
          0.45287544284151515,
          0.46803335385343653,
          -0.6624222514828295,
          -0.39390042551788895,
          0.07912515136402093,
          -0.11423256128268781,
          -0.6696928389934732,
          0.04728809739869244,
          -0.16353902262802394,
          0.46842255484058304,
          -0.5936977614833683,
          0.3831455908026344,
          0.08983718060569067,
          -0.09767706595860018,
          0.014243270942387143,
          -0.14429250989047934,
          0.4607203365480897,
          -0.1000298872423311,
          0.7007498312339564,
          0.6054306067204067,
          0.06714625662982238,
          -0.1995004436566499,
          -0.20936852861423597,
          -0.6129836358041816,
          -0.18666118867153067
         ],
         "y": [
          -0.15026371420145226,
          0.6740776857010261,
          -0.30785184677475536,
          -0.037382599658269976,
          -0.16167793663102856,
          -0.39741094160996554,
          0.9302090674139422,
          -0.3830535711028206,
          -0.27036284761033635,
          -0.1522062137385567,
          -0.14950316945652148,
          -0.18067187100797108,
          -0.060940509333434506,
          -0.3966250614017523,
          -0.2983032438655483,
          -0.15230901720239093,
          0.6964652277612786,
          -0.0011679270911777971,
          -0.03067683370785536,
          -0.1778800988901519,
          -0.014481043144345894,
          0.5513437356211364,
          -0.1182205859758673,
          0.17785596477068075,
          0.055958473808762996,
          0.5697260428892,
          -0.21460285941810867,
          0.9263608852737988,
          -0.24429553811891727,
          -0.1546071415266869,
          0.5654025425475019,
          -0.13608577094968505,
          -0.15199697548774682,
          -0.3975387282416535,
          -0.1989308217187546,
          -0.08878530707095583,
          -0.39592387409048424,
          0.3352791724374652,
          -0.26516130586314046,
          0.8372401335618977,
          -0.39704504826632575,
          -0.15282794531691235,
          -0.126398306732412,
          -0.1946447561606092,
          -0.18744292506046442,
          0.16338446288660954,
          0.40894644788614454,
          -0.2867005428677292,
          -0.2748614458680227,
          -0.30199457377822025,
          -0.15626101069871468,
          0.7808736511954534,
          -0.14594178797885748,
          -0.02190755698214527,
          -0.26759568392071686,
          0.06900373546919834,
          -0.2234526295578761,
          -0.24502970849467282,
          0.9288940473499158
         ]
        }
       ],
       "layout": {
        "height": 600,
        "showlegend": false,
        "template": {
         "data": {
          "bar": [
           {
            "error_x": {
             "color": "#2a3f5f"
            },
            "error_y": {
             "color": "#2a3f5f"
            },
            "marker": {
             "line": {
              "color": "#E5ECF6",
              "width": 0.5
             },
             "pattern": {
              "fillmode": "overlay",
              "size": 10,
              "solidity": 0.2
             }
            },
            "type": "bar"
           }
          ],
          "barpolar": [
           {
            "marker": {
             "line": {
              "color": "#E5ECF6",
              "width": 0.5
             },
             "pattern": {
              "fillmode": "overlay",
              "size": 10,
              "solidity": 0.2
             }
            },
            "type": "barpolar"
           }
          ],
          "carpet": [
           {
            "aaxis": {
             "endlinecolor": "#2a3f5f",
             "gridcolor": "white",
             "linecolor": "white",
             "minorgridcolor": "white",
             "startlinecolor": "#2a3f5f"
            },
            "baxis": {
             "endlinecolor": "#2a3f5f",
             "gridcolor": "white",
             "linecolor": "white",
             "minorgridcolor": "white",
             "startlinecolor": "#2a3f5f"
            },
            "type": "carpet"
           }
          ],
          "choropleth": [
           {
            "colorbar": {
             "outlinewidth": 0,
             "ticks": ""
            },
            "type": "choropleth"
           }
          ],
          "contour": [
           {
            "colorbar": {
             "outlinewidth": 0,
             "ticks": ""
            },
            "colorscale": [
             [
              0,
              "#0d0887"
             ],
             [
              0.1111111111111111,
              "#46039f"
             ],
             [
              0.2222222222222222,
              "#7201a8"
             ],
             [
              0.3333333333333333,
              "#9c179e"
             ],
             [
              0.4444444444444444,
              "#bd3786"
             ],
             [
              0.5555555555555556,
              "#d8576b"
             ],
             [
              0.6666666666666666,
              "#ed7953"
             ],
             [
              0.7777777777777778,
              "#fb9f3a"
             ],
             [
              0.8888888888888888,
              "#fdca26"
             ],
             [
              1,
              "#f0f921"
             ]
            ],
            "type": "contour"
           }
          ],
          "contourcarpet": [
           {
            "colorbar": {
             "outlinewidth": 0,
             "ticks": ""
            },
            "type": "contourcarpet"
           }
          ],
          "heatmap": [
           {
            "colorbar": {
             "outlinewidth": 0,
             "ticks": ""
            },
            "colorscale": [
             [
              0,
              "#0d0887"
             ],
             [
              0.1111111111111111,
              "#46039f"
             ],
             [
              0.2222222222222222,
              "#7201a8"
             ],
             [
              0.3333333333333333,
              "#9c179e"
             ],
             [
              0.4444444444444444,
              "#bd3786"
             ],
             [
              0.5555555555555556,
              "#d8576b"
             ],
             [
              0.6666666666666666,
              "#ed7953"
             ],
             [
              0.7777777777777778,
              "#fb9f3a"
             ],
             [
              0.8888888888888888,
              "#fdca26"
             ],
             [
              1,
              "#f0f921"
             ]
            ],
            "type": "heatmap"
           }
          ],
          "heatmapgl": [
           {
            "colorbar": {
             "outlinewidth": 0,
             "ticks": ""
            },
            "colorscale": [
             [
              0,
              "#0d0887"
             ],
             [
              0.1111111111111111,
              "#46039f"
             ],
             [
              0.2222222222222222,
              "#7201a8"
             ],
             [
              0.3333333333333333,
              "#9c179e"
             ],
             [
              0.4444444444444444,
              "#bd3786"
             ],
             [
              0.5555555555555556,
              "#d8576b"
             ],
             [
              0.6666666666666666,
              "#ed7953"
             ],
             [
              0.7777777777777778,
              "#fb9f3a"
             ],
             [
              0.8888888888888888,
              "#fdca26"
             ],
             [
              1,
              "#f0f921"
             ]
            ],
            "type": "heatmapgl"
           }
          ],
          "histogram": [
           {
            "marker": {
             "pattern": {
              "fillmode": "overlay",
              "size": 10,
              "solidity": 0.2
             }
            },
            "type": "histogram"
           }
          ],
          "histogram2d": [
           {
            "colorbar": {
             "outlinewidth": 0,
             "ticks": ""
            },
            "colorscale": [
             [
              0,
              "#0d0887"
             ],
             [
              0.1111111111111111,
              "#46039f"
             ],
             [
              0.2222222222222222,
              "#7201a8"
             ],
             [
              0.3333333333333333,
              "#9c179e"
             ],
             [
              0.4444444444444444,
              "#bd3786"
             ],
             [
              0.5555555555555556,
              "#d8576b"
             ],
             [
              0.6666666666666666,
              "#ed7953"
             ],
             [
              0.7777777777777778,
              "#fb9f3a"
             ],
             [
              0.8888888888888888,
              "#fdca26"
             ],
             [
              1,
              "#f0f921"
             ]
            ],
            "type": "histogram2d"
           }
          ],
          "histogram2dcontour": [
           {
            "colorbar": {
             "outlinewidth": 0,
             "ticks": ""
            },
            "colorscale": [
             [
              0,
              "#0d0887"
             ],
             [
              0.1111111111111111,
              "#46039f"
             ],
             [
              0.2222222222222222,
              "#7201a8"
             ],
             [
              0.3333333333333333,
              "#9c179e"
             ],
             [
              0.4444444444444444,
              "#bd3786"
             ],
             [
              0.5555555555555556,
              "#d8576b"
             ],
             [
              0.6666666666666666,
              "#ed7953"
             ],
             [
              0.7777777777777778,
              "#fb9f3a"
             ],
             [
              0.8888888888888888,
              "#fdca26"
             ],
             [
              1,
              "#f0f921"
             ]
            ],
            "type": "histogram2dcontour"
           }
          ],
          "mesh3d": [
           {
            "colorbar": {
             "outlinewidth": 0,
             "ticks": ""
            },
            "type": "mesh3d"
           }
          ],
          "parcoords": [
           {
            "line": {
             "colorbar": {
              "outlinewidth": 0,
              "ticks": ""
             }
            },
            "type": "parcoords"
           }
          ],
          "pie": [
           {
            "automargin": true,
            "type": "pie"
           }
          ],
          "scatter": [
           {
            "fillpattern": {
             "fillmode": "overlay",
             "size": 10,
             "solidity": 0.2
            },
            "type": "scatter"
           }
          ],
          "scatter3d": [
           {
            "line": {
             "colorbar": {
              "outlinewidth": 0,
              "ticks": ""
             }
            },
            "marker": {
             "colorbar": {
              "outlinewidth": 0,
              "ticks": ""
             }
            },
            "type": "scatter3d"
           }
          ],
          "scattercarpet": [
           {
            "marker": {
             "colorbar": {
              "outlinewidth": 0,
              "ticks": ""
             }
            },
            "type": "scattercarpet"
           }
          ],
          "scattergeo": [
           {
            "marker": {
             "colorbar": {
              "outlinewidth": 0,
              "ticks": ""
             }
            },
            "type": "scattergeo"
           }
          ],
          "scattergl": [
           {
            "marker": {
             "colorbar": {
              "outlinewidth": 0,
              "ticks": ""
             }
            },
            "type": "scattergl"
           }
          ],
          "scattermapbox": [
           {
            "marker": {
             "colorbar": {
              "outlinewidth": 0,
              "ticks": ""
             }
            },
            "type": "scattermapbox"
           }
          ],
          "scatterpolar": [
           {
            "marker": {
             "colorbar": {
              "outlinewidth": 0,
              "ticks": ""
             }
            },
            "type": "scatterpolar"
           }
          ],
          "scatterpolargl": [
           {
            "marker": {
             "colorbar": {
              "outlinewidth": 0,
              "ticks": ""
             }
            },
            "type": "scatterpolargl"
           }
          ],
          "scatterternary": [
           {
            "marker": {
             "colorbar": {
              "outlinewidth": 0,
              "ticks": ""
             }
            },
            "type": "scatterternary"
           }
          ],
          "surface": [
           {
            "colorbar": {
             "outlinewidth": 0,
             "ticks": ""
            },
            "colorscale": [
             [
              0,
              "#0d0887"
             ],
             [
              0.1111111111111111,
              "#46039f"
             ],
             [
              0.2222222222222222,
              "#7201a8"
             ],
             [
              0.3333333333333333,
              "#9c179e"
             ],
             [
              0.4444444444444444,
              "#bd3786"
             ],
             [
              0.5555555555555556,
              "#d8576b"
             ],
             [
              0.6666666666666666,
              "#ed7953"
             ],
             [
              0.7777777777777778,
              "#fb9f3a"
             ],
             [
              0.8888888888888888,
              "#fdca26"
             ],
             [
              1,
              "#f0f921"
             ]
            ],
            "type": "surface"
           }
          ],
          "table": [
           {
            "cells": {
             "fill": {
              "color": "#EBF0F8"
             },
             "line": {
              "color": "white"
             }
            },
            "header": {
             "fill": {
              "color": "#C8D4E3"
             },
             "line": {
              "color": "white"
             }
            },
            "type": "table"
           }
          ]
         },
         "layout": {
          "annotationdefaults": {
           "arrowcolor": "#2a3f5f",
           "arrowhead": 0,
           "arrowwidth": 1
          },
          "autotypenumbers": "strict",
          "coloraxis": {
           "colorbar": {
            "outlinewidth": 0,
            "ticks": ""
           }
          },
          "colorscale": {
           "diverging": [
            [
             0,
             "#8e0152"
            ],
            [
             0.1,
             "#c51b7d"
            ],
            [
             0.2,
             "#de77ae"
            ],
            [
             0.3,
             "#f1b6da"
            ],
            [
             0.4,
             "#fde0ef"
            ],
            [
             0.5,
             "#f7f7f7"
            ],
            [
             0.6,
             "#e6f5d0"
            ],
            [
             0.7,
             "#b8e186"
            ],
            [
             0.8,
             "#7fbc41"
            ],
            [
             0.9,
             "#4d9221"
            ],
            [
             1,
             "#276419"
            ]
           ],
           "sequential": [
            [
             0,
             "#0d0887"
            ],
            [
             0.1111111111111111,
             "#46039f"
            ],
            [
             0.2222222222222222,
             "#7201a8"
            ],
            [
             0.3333333333333333,
             "#9c179e"
            ],
            [
             0.4444444444444444,
             "#bd3786"
            ],
            [
             0.5555555555555556,
             "#d8576b"
            ],
            [
             0.6666666666666666,
             "#ed7953"
            ],
            [
             0.7777777777777778,
             "#fb9f3a"
            ],
            [
             0.8888888888888888,
             "#fdca26"
            ],
            [
             1,
             "#f0f921"
            ]
           ],
           "sequentialminus": [
            [
             0,
             "#0d0887"
            ],
            [
             0.1111111111111111,
             "#46039f"
            ],
            [
             0.2222222222222222,
             "#7201a8"
            ],
            [
             0.3333333333333333,
             "#9c179e"
            ],
            [
             0.4444444444444444,
             "#bd3786"
            ],
            [
             0.5555555555555556,
             "#d8576b"
            ],
            [
             0.6666666666666666,
             "#ed7953"
            ],
            [
             0.7777777777777778,
             "#fb9f3a"
            ],
            [
             0.8888888888888888,
             "#fdca26"
            ],
            [
             1,
             "#f0f921"
            ]
           ]
          },
          "colorway": [
           "#636efa",
           "#EF553B",
           "#00cc96",
           "#ab63fa",
           "#FFA15A",
           "#19d3f3",
           "#FF6692",
           "#B6E880",
           "#FF97FF",
           "#FECB52"
          ],
          "font": {
           "color": "#2a3f5f"
          },
          "geo": {
           "bgcolor": "white",
           "lakecolor": "white",
           "landcolor": "#E5ECF6",
           "showlakes": true,
           "showland": true,
           "subunitcolor": "white"
          },
          "hoverlabel": {
           "align": "left"
          },
          "hovermode": "closest",
          "mapbox": {
           "style": "light"
          },
          "paper_bgcolor": "white",
          "plot_bgcolor": "#E5ECF6",
          "polar": {
           "angularaxis": {
            "gridcolor": "white",
            "linecolor": "white",
            "ticks": ""
           },
           "bgcolor": "#E5ECF6",
           "radialaxis": {
            "gridcolor": "white",
            "linecolor": "white",
            "ticks": ""
           }
          },
          "scene": {
           "xaxis": {
            "backgroundcolor": "#E5ECF6",
            "gridcolor": "white",
            "gridwidth": 2,
            "linecolor": "white",
            "showbackground": true,
            "ticks": "",
            "zerolinecolor": "white"
           },
           "yaxis": {
            "backgroundcolor": "#E5ECF6",
            "gridcolor": "white",
            "gridwidth": 2,
            "linecolor": "white",
            "showbackground": true,
            "ticks": "",
            "zerolinecolor": "white"
           },
           "zaxis": {
            "backgroundcolor": "#E5ECF6",
            "gridcolor": "white",
            "gridwidth": 2,
            "linecolor": "white",
            "showbackground": true,
            "ticks": "",
            "zerolinecolor": "white"
           }
          },
          "shapedefaults": {
           "line": {
            "color": "#2a3f5f"
           }
          },
          "ternary": {
           "aaxis": {
            "gridcolor": "white",
            "linecolor": "white",
            "ticks": ""
           },
           "baxis": {
            "gridcolor": "white",
            "linecolor": "white",
            "ticks": ""
           },
           "bgcolor": "#E5ECF6",
           "caxis": {
            "gridcolor": "white",
            "linecolor": "white",
            "ticks": ""
           }
          },
          "title": {
           "x": 0.05
          },
          "xaxis": {
           "automargin": true,
           "gridcolor": "white",
           "linecolor": "white",
           "ticks": "",
           "title": {
            "standoff": 15
           },
           "zerolinecolor": "white",
           "zerolinewidth": 2
          },
          "yaxis": {
           "automargin": true,
           "gridcolor": "white",
           "linecolor": "white",
           "ticks": "",
           "title": {
            "standoff": 15
           },
           "zerolinecolor": "white",
           "zerolinewidth": 2
          }
         }
        },
        "title": {
         "text": "Topic Distribution of Documents (PCA-reduced)"
        },
        "width": 1000,
        "xaxis": {
         "autorange": true,
         "range": [
          -0.7604987356577686,
          0.810454029908262
         ],
         "title": {
          "text": "Principal Component 1"
         },
         "type": "linear"
        },
        "yaxis": {
         "autorange": true,
         "range": [
          -0.49652950096837023,
          1.029199840140659
         ],
         "title": {
          "text": "Principal Component 2"
         },
         "type": "linear"
        }
       }
      },
      "image/png": "[encoded data removed]",
      "text/html": [
       "<div>                            <div id=\"0d64eb39-6dc7-41cf-8a3f-3b1c2756cfdb\" class=\"plotly-graph-div\" style=\"height:600px; width:1000px;\"></div>            <script type=\"text/javascript\">                require([\"plotly\"], function(Plotly) {                    window.PLOTLYENV=window.PLOTLYENV || {};                                    if (document.getElementById(\"0d64eb39-6dc7-41cf-8a3f-3b1c2756cfdb\")) {                    Plotly.newPlot(                        \"0d64eb39-6dc7-41cf-8a3f-3b1c2756cfdb\",                        [{\"marker\":{\"color\":\"blue\",\"size\":10},\"mode\":\"markers+text\",\"text\":[\"STAT 123 \",\"STAT 364 \",\"STAT 216 \",\"BIOSTAT 281_BST 281 \",\"STAT 114 \",\"BIOSTAT 232_BST 232 \",\"BIOSTAT 258_BST 258 \",\"STAT 149 \",\"BIOSTAT 230 \",\"STAT 185 \",\"STAT 213 \",\"STAT 104 \",\"STAT 303HFB \",\"STAT 220 \",\"STAT 248 \",\"STAT 141 \",\"STAT 236 \",\"STAT 303HFA \",\"STAT 221 \",\"BIOSTAT 249_BST 249 \",\"STAT 143 \",\"STAT 161 \",\"STAT 131 \",\"STAT 317 \",\"STAT 160_STAT 260 \",\"STAT 140 \",\"STAT 139 \",\"STAT 293_STAT 393_STAT 397 \",\"STAT 212 \",\"BIOSTAT 233_BST 233 \",\"BIOSTAT 244_BST 244 \",\"STAT 102 \",\"STAT 171 \",\"BIOSTAT 234_BST 234 \",\"STAT 111 \",\"STAT 195 \",\"BIOSTAT 282_BST 282_STAT 115_STAT 215 \",\"STAT 234 \",\"STAT 117 \",\"STAT 388R \",\"BIOSTAT 241_BST 241 \",\"STAT 211 \",\"BIOSTAT 283_BST 283 \",\"STAT 291 \",\"BIOSTAT 267_BST 267 \",\"STAT 186 \",\"STAT 188 \",\"STAT 107 \",\"STAT 108 \",\"STAT 217 \",\"STAT 98 \",\"STAT 288 \",\"STAT 99R \",\"STAT 286 \",\"STAT 100 \",\"BIOSTAT 290_BST 290 \",\"STAT 109 \",\"BIOSTAT 245_BST 245 \",\"STAT 315 \"],\"textposition\":\"top center\",\"x\":[0.7146164696576071,-0.2747701701787712,-0.18665419119776985,-0.26274923420229596,0.34102525755268476,-0.670084392598784,-0.18690134128788155,-0.6537948419243799,-0.483819838992815,0.7197961831364003,0.5731206294627537,0.5561860939668793,0.5288993934268826,-0.6691526709452036,-0.11525465053771988,0.7202177549814037,-0.1420057316007397,0.5085496914827865,0.05399641797631987,-0.5009900714093989,-0.5174491082563359,0.12445659197886953,0.06178816441768448,0.18360097566044348,-0.10499716290222723,0.11379066179346552,0.3645645219352032,-0.18623666370246564,0.1875988133890127,-0.5799531019970724,-0.31717310581193925,0.3614418785328601,0.719579686370503,-0.6702624607309103,0.45287544284151515,0.46803335385343653,-0.6624222514828295,-0.39390042551788895,0.07912515136402093,-0.11423256128268781,-0.6696928389934732,0.04728809739869244,-0.16353902262802394,0.46842255484058304,-0.5936977614833683,0.3831455908026344,0.08983718060569067,-0.09767706595860018,0.014243270942387143,-0.14429250989047934,0.4607203365480897,-0.1000298872423311,0.7007498312339564,0.6054306067204067,0.06714625662982238,-0.1995004436566499,-0.20936852861423597,-0.6129836358041816,-0.18666118867153067],\"y\":[-0.15026371420145226,0.6740776857010261,-0.30785184677475536,-0.037382599658269976,-0.16167793663102856,-0.39741094160996554,0.9302090674139422,-0.3830535711028206,-0.27036284761033635,-0.1522062137385567,-0.14950316945652148,-0.18067187100797108,-0.060940509333434506,-0.3966250614017523,-0.2983032438655483,-0.15230901720239093,0.6964652277612786,-0.0011679270911777971,-0.03067683370785536,-0.1778800988901519,-0.014481043144345894,0.5513437356211364,-0.1182205859758673,0.17785596477068075,0.055958473808762996,0.5697260428892,-0.21460285941810867,0.9263608852737988,-0.24429553811891727,-0.1546071415266869,0.5654025425475019,-0.13608577094968505,-0.15199697548774682,-0.3975387282416535,-0.1989308217187546,-0.08878530707095583,-0.39592387409048424,0.3352791724374652,-0.26516130586314046,0.8372401335618977,-0.39704504826632575,-0.15282794531691235,-0.126398306732412,-0.1946447561606092,-0.18744292506046442,0.16338446288660954,0.40894644788614454,-0.2867005428677292,-0.2748614458680227,-0.30199457377822025,-0.15626101069871468,0.7808736511954534,-0.14594178797885748,-0.02190755698214527,-0.26759568392071686,0.06900373546919834,-0.2234526295578761,-0.24502970849467282,0.9288940473499158],\"type\":\"scatter\"}],                        {\"template\":{\"data\":{\"histogram2dcontour\":[{\"type\":\"histogram2dcontour\",\"colorbar\":{\"outlinewidth\":0,\"ticks\":\"\"},\"colorscale\":[[0.0,\"#0d0887\"],[0.1111111111111111,\"#46039f\"],[0.2222222222222222,\"#7201a8\"],[0.3333333333333333,\"#9c179e\"],[0.4444444444444444,\"#bd3786\"],[0.5555555555555556,\"#d8576b\"],[0.6666666666666666,\"#ed7953\"],[0.7777777777777778,\"#fb9f3a\"],[0.8888888888888888,\"#fdca26\"],[1.0,\"#f0f921\"]]}],\"choropleth\":[{\"type\":\"choropleth\",\"colorbar\":{\"outlinewidth\":0,\"ticks\":\"\"}}],\"histogram2d\":[{\"type\":\"histogram2d\",\"colorbar\":{\"outlinewidth\":0,\"ticks\":\"\"},\"colorscale\":[[0.0,\"#0d0887\"],[0.1111111111111111,\"#46039f\"],[0.2222222222222222,\"#7201a8\"],[0.3333333333333333,\"#9c179e\"],[0.4444444444444444,\"#bd3786\"],[0.5555555555555556,\"#d8576b\"],[0.6666666666666666,\"#ed7953\"],[0.7777777777777778,\"#fb9f3a\"],[0.8888888888888888,\"#fdca26\"],[1.0,\"#f0f921\"]]}],\"heatmap\":[{\"type\":\"heatmap\",\"colorbar\":{\"outlinewidth\":0,\"ticks\":\"\"},\"colorscale\":[[0.0,\"#0d0887\"],[0.1111111111111111,\"#46039f\"],[0.2222222222222222,\"#7201a8\"],[0.3333333333333333,\"#9c179e\"],[0.4444444444444444,\"#bd3786\"],[0.5555555555555556,\"#d8576b\"],[0.6666666666666666,\"#ed7953\"],[0.7777777777777778,\"#fb9f3a\"],[0.8888888888888888,\"#fdca26\"],[1.0,\"#f0f921\"]]}],\"heatmapgl\":[{\"type\":\"heatmapgl\",\"colorbar\":{\"outlinewidth\":0,\"ticks\":\"\"},\"colorscale\":[[0.0,\"#0d0887\"],[0.1111111111111111,\"#46039f\"],[0.2222222222222222,\"#7201a8\"],[0.3333333333333333,\"#9c179e\"],[0.4444444444444444,\"#bd3786\"],[0.5555555555555556,\"#d8576b\"],[0.6666666666666666,\"#ed7953\"],[0.7777777777777778,\"#fb9f3a\"],[0.8888888888888888,\"#fdca26\"],[1.0,\"#f0f921\"]]}],\"contourcarpet\":[{\"type\":\"contourcarpet\",\"colorbar\":{\"outlinewidth\":0,\"ticks\":\"\"}}],\"contour\":[{\"type\":\"contour\",\"colorbar\":{\"outlinewidth\":0,\"ticks\":\"\"},\"colorscale\":[[0.0,\"#0d0887\"],[0.1111111111111111,\"#46039f\"],[0.2222222222222222,\"#7201a8\"],[0.3333333333333333,\"#9c179e\"],[0.4444444444444444,\"#bd3786\"],[0.5555555555555556,\"#d8576b\"],[0.6666666666666666,\"#ed7953\"],[0.7777777777777778,\"#fb9f3a\"],[0.8888888888888888,\"#fdca26\"],[1.0,\"#f0f921\"]]}],\"surface\":[{\"type\":\"surface\",\"colorbar\":{\"outlinewidth\":0,\"ticks\":\"\"},\"colorscale\":[[0.0,\"#0d0887\"],[0.1111111111111111,\"#46039f\"],[0.2222222222222222,\"#7201a8\"],[0.3333333333333333,\"#9c179e\"],[0.4444444444444444,\"#bd3786\"],[0.5555555555555556,\"#d8576b\"],[0.6666666666666666,\"#ed7953\"],[0.7777777777777778,\"#fb9f3a\"],[0.8888888888888888,\"#fdca26\"],[1.0,\"#f0f921\"]]}],\"mesh3d\":[{\"type\":\"mesh3d\",\"colorbar\":{\"outlinewidth\":0,\"ticks\":\"\"}}],\"scatter\":[{\"fillpattern\":{\"fillmode\":\"overlay\",\"size\":10,\"solidity\":0.2},\"type\":\"scatter\"}],\"parcoords\":[{\"type\":\"parcoords\",\"line\":{\"colorbar\":{\"outlinewidth\":0,\"ticks\":\"\"}}}],\"scatterpolargl\":[{\"type\":\"scatterpolargl\",\"marker\":{\"colorbar\":{\"outlinewidth\":0,\"ticks\":\"\"}}}],\"bar\":[{\"error_x\":{\"color\":\"#2a3f5f\"},\"error_y\":{\"color\":\"#2a3f5f\"},\"marker\":{\"line\":{\"color\":\"#E5ECF6\",\"width\":0.5},\"pattern\":{\"fillmode\":\"overlay\",\"size\":10,\"solidity\":0.2}},\"type\":\"bar\"}],\"scattergeo\":[{\"type\":\"scattergeo\",\"marker\":{\"colorbar\":{\"outlinewidth\":0,\"ticks\":\"\"}}}],\"scatterpolar\":[{\"type\":\"scatterpolar\",\"marker\":{\"colorbar\":{\"outlinewidth\":0,\"ticks\":\"\"}}}],\"histogram\":[{\"marker\":{\"pattern\":{\"fillmode\":\"overlay\",\"size\":10,\"solidity\":0.2}},\"type\":\"histogram\"}],\"scattergl\":[{\"type\":\"scattergl\",\"marker\":{\"colorbar\":{\"outlinewidth\":0,\"ticks\":\"\"}}}],\"scatter3d\":[{\"type\":\"scatter3d\",\"line\":{\"colorbar\":{\"outlinewidth\":0,\"ticks\":\"\"}},\"marker\":{\"colorbar\":{\"outlinewidth\":0,\"ticks\":\"\"}}}],\"scattermapbox\":[{\"type\":\"scattermapbox\",\"marker\":{\"colorbar\":{\"outlinewidth\":0,\"ticks\":\"\"}}}],\"scatterternary\":[{\"type\":\"scatterternary\",\"marker\":{\"colorbar\":{\"outlinewidth\":0,\"ticks\":\"\"}}}],\"scattercarpet\":[{\"type\":\"scattercarpet\",\"marker\":{\"colorbar\":{\"outlinewidth\":0,\"ticks\":\"\"}}}],\"carpet\":[{\"aaxis\":{\"endlinecolor\":\"#2a3f5f\",\"gridcolor\":\"white\",\"linecolor\":\"white\",\"minorgridcolor\":\"white\",\"startlinecolor\":\"#2a3f5f\"},\"baxis\":{\"endlinecolor\":\"#2a3f5f\",\"gridcolor\":\"white\",\"linecolor\":\"white\",\"minorgridcolor\":\"white\",\"startlinecolor\":\"#2a3f5f\"},\"type\":\"carpet\"}],\"table\":[{\"cells\":{\"fill\":{\"color\":\"#EBF0F8\"},\"line\":{\"color\":\"white\"}},\"header\":{\"fill\":{\"color\":\"#C8D4E3\"},\"line\":{\"color\":\"white\"}},\"type\":\"table\"}],\"barpolar\":[{\"marker\":{\"line\":{\"color\":\"#E5ECF6\",\"width\":0.5},\"pattern\":{\"fillmode\":\"overlay\",\"size\":10,\"solidity\":0.2}},\"type\":\"barpolar\"}],\"pie\":[{\"automargin\":true,\"type\":\"pie\"}]},\"layout\":{\"autotypenumbers\":\"strict\",\"colorway\":[\"#636efa\",\"#EF553B\",\"#00cc96\",\"#ab63fa\",\"#FFA15A\",\"#19d3f3\",\"#FF6692\",\"#B6E880\",\"#FF97FF\",\"#FECB52\"],\"font\":{\"color\":\"#2a3f5f\"},\"hovermode\":\"closest\",\"hoverlabel\":{\"align\":\"left\"},\"paper_bgcolor\":\"white\",\"plot_bgcolor\":\"#E5ECF6\",\"polar\":{\"bgcolor\":\"#E5ECF6\",\"angularaxis\":{\"gridcolor\":\"white\",\"linecolor\":\"white\",\"ticks\":\"\"},\"radialaxis\":{\"gridcolor\":\"white\",\"linecolor\":\"white\",\"ticks\":\"\"}},\"ternary\":{\"bgcolor\":\"#E5ECF6\",\"aaxis\":{\"gridcolor\":\"white\",\"linecolor\":\"white\",\"ticks\":\"\"},\"baxis\":{\"gridcolor\":\"white\",\"linecolor\":\"white\",\"ticks\":\"\"},\"caxis\":{\"gridcolor\":\"white\",\"linecolor\":\"white\",\"ticks\":\"\"}},\"coloraxis\":{\"colorbar\":{\"outlinewidth\":0,\"ticks\":\"\"}},\"colorscale\":{\"sequential\":[[0.0,\"#0d0887\"],[0.1111111111111111,\"#46039f\"],[0.2222222222222222,\"#7201a8\"],[0.3333333333333333,\"#9c179e\"],[0.4444444444444444,\"#bd3786\"],[0.5555555555555556,\"#d8576b\"],[0.6666666666666666,\"#ed7953\"],[0.7777777777777778,\"#fb9f3a\"],[0.8888888888888888,\"#fdca26\"],[1.0,\"#f0f921\"]],\"sequentialminus\":[[0.0,\"#0d0887\"],[0.1111111111111111,\"#46039f\"],[0.2222222222222222,\"#7201a8\"],[0.3333333333333333,\"#9c179e\"],[0.4444444444444444,\"#bd3786\"],[0.5555555555555556,\"#d8576b\"],[0.6666666666666666,\"#ed7953\"],[0.7777777777777778,\"#fb9f3a\"],[0.8888888888888888,\"#fdca26\"],[1.0,\"#f0f921\"]],\"diverging\":[[0,\"#8e0152\"],[0.1,\"#c51b7d\"],[0.2,\"#de77ae\"],[0.3,\"#f1b6da\"],[0.4,\"#fde0ef\"],[0.5,\"#f7f7f7\"],[0.6,\"#e6f5d0\"],[0.7,\"#b8e186\"],[0.8,\"#7fbc41\"],[0.9,\"#4d9221\"],[1,\"#276419\"]]},\"xaxis\":{\"gridcolor\":\"white\",\"linecolor\":\"white\",\"ticks\":\"\",\"title\":{\"standoff\":15},\"zerolinecolor\":\"white\",\"automargin\":true,\"zerolinewidth\":2},\"yaxis\":{\"gridcolor\":\"white\",\"linecolor\":\"white\",\"ticks\":\"\",\"title\":{\"standoff\":15},\"zerolinecolor\":\"white\",\"automargin\":true,\"zerolinewidth\":2},\"scene\":{\"xaxis\":{\"backgroundcolor\":\"#E5ECF6\",\"gridcolor\":\"white\",\"linecolor\":\"white\",\"showbackground\":true,\"ticks\":\"\",\"zerolinecolor\":\"white\",\"gridwidth\":2},\"yaxis\":{\"backgroundcolor\":\"#E5ECF6\",\"gridcolor\":\"white\",\"linecolor\":\"white\",\"showbackground\":true,\"ticks\":\"\",\"zerolinecolor\":\"white\",\"gridwidth\":2},\"zaxis\":{\"backgroundcolor\":\"#E5ECF6\",\"gridcolor\":\"white\",\"linecolor\":\"white\",\"showbackground\":true,\"ticks\":\"\",\"zerolinecolor\":\"white\",\"gridwidth\":2}},\"shapedefaults\":{\"line\":{\"color\":\"#2a3f5f\"}},\"annotationdefaults\":{\"arrowcolor\":\"#2a3f5f\",\"arrowhead\":0,\"arrowwidth\":1},\"geo\":{\"bgcolor\":\"white\",\"landcolor\":\"#E5ECF6\",\"subunitcolor\":\"white\",\"showland\":true,\"showlakes\":true,\"lakecolor\":\"white\"},\"title\":{\"x\":0.05},\"mapbox\":{\"style\":\"light\"}}},\"title\":{\"text\":\"Topic Distribution of Documents (PCA-reduced)\"},\"xaxis\":{\"title\":{\"text\":\"Principal Component 1\"}},\"yaxis\":{\"title\":{\"text\":\"Principal Component 2\"}},\"showlegend\":false,\"width\":1000,\"height\":600},                        {\"responsive\": true}                    ).then(function(){\n",
       "                            \n",
       "var gd = document.getElementById('0d64eb39-6dc7-41cf-8a3f-3b1c2756cfdb');\n",
       "var x = new MutationObserver(function (mutations, observer) {{\n",
       "        var display = window.getComputedStyle(gd).display;\n",
       "        if (!display || display === 'none') {{\n",
       "            console.log([gd, 'removed!']);\n",
       "            Plotly.purge(gd);\n",
       "            observer.disconnect();\n",
       "        }}\n",
       "}});\n",
       "\n",
       "// Listen for the removal of the full notebook cells\n",
       "var notebookContainer = gd.closest('#notebook-container');\n",
       "if (notebookContainer) {{\n",
       "    x.observe(notebookContainer, {childList: true});\n",
       "}}\n",
       "\n",
       "// Listen for the clearing of the current output cell\n",
       "var outputEl = gd.closest('.output');\n",
       "if (outputEl) {{\n",
       "    x.observe(outputEl, {childList: true});\n",
       "}}\n",
       "\n",
       "                        })                };                });            </script>        </div>"
      ]
     },
     "metadata": {},
     "output_type": "display_data"
    }
   ],
   "source": [
    "import plotly.graph_objects as go\n",
    "\n",
    "# Step 5: Create interactive scatter plot using Plotly\n",
    "fig = go.Figure()\n",
    "\n",
    "# Add scatter plot\n",
    "fig.add_trace(go.Scatter(\n",
    "    x=topic_distribution_2d[:, 0], \n",
    "    y=topic_distribution_2d[:, 1],\n",
    "    mode='markers+text',\n",
    "    text=df['filename'].str.split('-').str[0],\n",
    "    textposition='top center',\n",
    "    marker=dict(size=10, color='blue')\n",
    "))\n",
    "\n",
    "# Title and labels\n",
    "fig.update_layout(\n",
    "    title=\"Topic Distribution of Documents (PCA-reduced)\",\n",
    "    xaxis_title=\"Principal Component 1\",\n",
    "    yaxis_title=\"Principal Component 2\",\n",
    "    template=\"plotly\",\n",
    "    showlegend=False,\n",
    "    width=1000,  # Width of the plot (in pixels)\n",
    "    height=600   # Height of the plot (in pixels)\n",
    ")\n",
    "\n",
    "# Show plot\n",
    "fig.show()\n"
   ]
  },
  {
   "cell_type": "code",
   "execution_count": 57,
   "id": "8a068a4a-39a9-468e-93a1-1091d9ca1e50",
   "metadata": {},
   "outputs": [
    {
     "name": "stdout",
     "output_type": "stream",
     "text": [
      "1754.4624531467302\n",
      "Topic 1:  ['final', 'project', 'assignment', 'learning', 'research', 'problem', 'class', 'student', 'data', 'course']\n",
      "Topic 2:  ['et', 'journal', 'statistical', 'february', 'pm', 'variable', 'pset', 'friday', 'inference', 'process']\n",
      "Topic 3:  ['also', 'topic', 'science', 'section', 'center', 'statistic', 'class', 'student', 'teaching', 'course']\n",
      "Topic 4:  ['assignment', 'method', 'model', 'data', 'exam', 'homework', 'class', 'lecture', 'student', 'course']\n",
      "Topic 5:  ['laan', 'statistical', 'van', 'et', 'der', 'al', 'effect', 'inference', 'doi', 'causal']\n"
     ]
    }
   ],
   "source": [
    "# Preprocess the data\n",
    "stop_words = set(stopwords.words('english'))\n",
    "lemmatizer = WordNetLemmatizer()\n",
    "\n",
    "def preprocess(text):\n",
    "    tokens = word_tokenize(text.lower())  # Tokenize and lowercase\n",
    "    tokens = [lemmatizer.lemmatize(token) for token in tokens if token.isalpha()]  # Lemmatize and remove non-alphabetic tokens\n",
    "    tokens = [token for token in tokens if token not in stop_words]  # Remove stop words\n",
    "    return ' '.join(tokens)  # Join tokens back into a single string\n",
    "\n",
    "# Preprocess each document\n",
    "processed_docs = [preprocess(doc) for doc in documents]\n",
    "\n",
    "# Convert documents to a matrix of token counts\n",
    "vectorizer = CountVectorizer()\n",
    "X = vectorizer.fit_transform(processed_docs)\n",
    "\n",
    "# Train the LDA model\n",
    "num_topics = 5\n",
    "lda_model = LatentDirichletAllocation(n_components=num_topics, random_state=42, max_iter=100)\n",
    "lda_model.fit(X)\n",
    "print(lda_model.perplexity(X))\n",
    "\n",
    "# Display the topics\n",
    "feature_names = vectorizer.get_feature_names_out()\n",
    "for idx, topic in enumerate(lda_model.components_):\n",
    "    print(f\"Topic {idx + 1}: \", [feature_names[i] for i in topic.argsort()[-10:]])"
   ]
  },
  {
   "cell_type": "code",
   "execution_count": 58,
   "id": "38edb32a-706a-4a3e-9c84-9906218a2456",
   "metadata": {},
   "outputs": [],
   "source": [
    "\n",
    "# Step 3: Get topic distribution for each document\n",
    "topic_distribution = lda_model.transform(X)\n",
    "\n",
    "# Step 4: Perform PCA to reduce to 2D for visualization\n",
    "pca = PCA(n_components=2)\n",
    "topic_distribution_2d = pca.fit_transform(topic_distribution)"
   ]
  },
  {
   "cell_type": "code",
   "execution_count": 59,
   "id": "342de7a7-048f-4294-b011-84a8a61b2ad9",
   "metadata": {},
   "outputs": [
    {
     "data": {
      "application/vnd.plotly.v1+json": {
       "config": {
        "plotlyServerURL": "https://plot.ly"
       },
       "data": [
        {
         "marker": {
          "color": "blue",
          "size": 10
         },
         "mode": "markers+text",
         "text": [
          "STAT 123 ",
          "STAT 364 ",
          "STAT 216 ",
          "BIOSTAT 281_BST 281 ",
          "STAT 114 ",
          "BIOSTAT 232_BST 232 ",
          "BIOSTAT 258_BST 258 ",
          "STAT 149 ",
          "BIOSTAT 230 ",
          "STAT 185 ",
          "STAT 213 ",
          "STAT 104 ",
          "STAT 303HFB ",
          "STAT 220 ",
          "STAT 248 ",
          "STAT 141 ",
          "STAT 236 ",
          "STAT 303HFA ",
          "STAT 221 ",
          "BIOSTAT 249_BST 249 ",
          "STAT 143 ",
          "STAT 161 ",
          "STAT 131 ",
          "STAT 317 ",
          "STAT 160_STAT 260 ",
          "STAT 140 ",
          "STAT 139 ",
          "STAT 293_STAT 393_STAT 397 ",
          "STAT 212 ",
          "BIOSTAT 233_BST 233 ",
          "BIOSTAT 244_BST 244 ",
          "STAT 102 ",
          "STAT 171 ",
          "BIOSTAT 234_BST 234 ",
          "STAT 111 ",
          "STAT 195 ",
          "BIOSTAT 282_BST 282_STAT 115_STAT 215 ",
          "STAT 234 ",
          "STAT 117 ",
          "STAT 388R ",
          "BIOSTAT 241_BST 241 ",
          "STAT 211 ",
          "BIOSTAT 283_BST 283 ",
          "STAT 291 ",
          "BIOSTAT 267_BST 267 ",
          "STAT 186 ",
          "STAT 188 ",
          "STAT 107 ",
          "STAT 108 ",
          "STAT 217 ",
          "STAT 98 ",
          "STAT 288 ",
          "STAT 99R ",
          "STAT 286 ",
          "STAT 100 ",
          "BIOSTAT 290_BST 290 ",
          "STAT 109 ",
          "BIOSTAT 245_BST 245 ",
          "STAT 315 "
         ],
         "textposition": "top center",
         "type": "scatter",
         "x": [
          0.19116727808600573,
          0.3169919192789907,
          -0.570231872894946,
          0.8366962261880795,
          0.8366168482492282,
          -0.5746183545583763,
          0.15371779540600256,
          -0.25645890733947563,
          -0.3130204093434902,
          -0.06078762339006615,
          -0.5730618600173284,
          -0.5736278862375402,
          0.19132048363062276,
          -0.5739980164426903,
          -0.5736404845473236,
          0.10585644379926243,
          -0.5733149362180945,
          0.1913713916385408,
          0.14671885319229075,
          -0.5703735016297145,
          0.7608935466339458,
          -0.5700259345950849,
          -0.5736151865634391,
          0.26109694585720417,
          -0.27078995119339855,
          -0.5028813179478223,
          -0.5736776283860946,
          -0.3542840212378346,
          -0.01738034445512631,
          -0.5726754447810221,
          -0.5727593516829093,
          0.692947925317749,
          -0.2443810826555268,
          -0.5746685760954474,
          -0.5146008744956693,
          0.2546851321049703,
          0.6704192238046578,
          0.8315928795107053,
          0.3408552364300152,
          -0.40191046108032785,
          -0.5743220465280457,
          -0.3609857610864087,
          0.8357314023318224,
          -0.572365100634078,
          0.8367014754489956,
          0.10997648969212373,
          0.7311561816555585,
          0.8364473683489233,
          0.8348751760582406,
          -0.16209423538902704,
          0.835780086286339,
          0.8368629371799305,
          0.19089925833140353,
          0.19123092588268636,
          -0.5745708828710161,
          0.8355977426554041,
          -0.5744158079489451,
          -0.05452661912256258,
          -0.028142691630867436
         ],
         "y": [
          1.056852982309733,
          -0.1669148335167414,
          -0.12306694936576147,
          -0.1945360310341572,
          -0.19448395675840952,
          -0.12544056062871248,
          0.30349283730034576,
          0.35995277186102315,
          0.028660127489888013,
          0.05890563853142743,
          -0.12459574244750712,
          -0.12490416978095838,
          1.0594390542665113,
          -0.12510247101044691,
          -0.12491140428549725,
          -0.07061122945765601,
          -0.12473626039266889,
          1.0603561690043737,
          -0.1599492365755031,
          -0.12314616589404644,
          -0.1397395809186753,
          -0.12294536113078033,
          -0.12489692121926076,
          -0.1660421391768074,
          -0.13569728883766355,
          -0.08323400268635246,
          -0.12493057011615376,
          0.004248185698873659,
          -0.056082076769299646,
          -0.12438970222148592,
          -0.12443618386296235,
          -0.18752241019734905,
          0.06918309299738587,
          -0.12546803900642534,
          -0.09010312473144257,
          -0.16558360754367457,
          -0.18630831212342708,
          -0.19113857549799357,
          -0.169972805096913,
          -0.023879904646574482,
          -0.1252804639666439,
          0.20445067136216777,
          -0.19389321337101945,
          -0.12421701730761506,
          -0.1945397756552986,
          -0.11649933137421299,
          -0.11759540699727494,
          -0.1943707715768571,
          -0.19332103759736852,
          -0.14400587405245827,
          -0.1939200842425177,
          -0.19464693568746938,
          1.0515833914523738,
          1.0578167306223765,
          -0.12541460614349037,
          -0.19380273662993674,
          -0.125330578739618,
          -0.14999060604167902,
          0.19665640341829138
         ]
        }
       ],
       "layout": {
        "height": 600,
        "showlegend": false,
        "template": {
         "data": {
          "bar": [
           {
            "error_x": {
             "color": "#2a3f5f"
            },
            "error_y": {
             "color": "#2a3f5f"
            },
            "marker": {
             "line": {
              "color": "#E5ECF6",
              "width": 0.5
             },
             "pattern": {
              "fillmode": "overlay",
              "size": 10,
              "solidity": 0.2
             }
            },
            "type": "bar"
           }
          ],
          "barpolar": [
           {
            "marker": {
             "line": {
              "color": "#E5ECF6",
              "width": 0.5
             },
             "pattern": {
              "fillmode": "overlay",
              "size": 10,
              "solidity": 0.2
             }
            },
            "type": "barpolar"
           }
          ],
          "carpet": [
           {
            "aaxis": {
             "endlinecolor": "#2a3f5f",
             "gridcolor": "white",
             "linecolor": "white",
             "minorgridcolor": "white",
             "startlinecolor": "#2a3f5f"
            },
            "baxis": {
             "endlinecolor": "#2a3f5f",
             "gridcolor": "white",
             "linecolor": "white",
             "minorgridcolor": "white",
             "startlinecolor": "#2a3f5f"
            },
            "type": "carpet"
           }
          ],
          "choropleth": [
           {
            "colorbar": {
             "outlinewidth": 0,
             "ticks": ""
            },
            "type": "choropleth"
           }
          ],
          "contour": [
           {
            "colorbar": {
             "outlinewidth": 0,
             "ticks": ""
            },
            "colorscale": [
             [
              0,
              "#0d0887"
             ],
             [
              0.1111111111111111,
              "#46039f"
             ],
             [
              0.2222222222222222,
              "#7201a8"
             ],
             [
              0.3333333333333333,
              "#9c179e"
             ],
             [
              0.4444444444444444,
              "#bd3786"
             ],
             [
              0.5555555555555556,
              "#d8576b"
             ],
             [
              0.6666666666666666,
              "#ed7953"
             ],
             [
              0.7777777777777778,
              "#fb9f3a"
             ],
             [
              0.8888888888888888,
              "#fdca26"
             ],
             [
              1,
              "#f0f921"
             ]
            ],
            "type": "contour"
           }
          ],
          "contourcarpet": [
           {
            "colorbar": {
             "outlinewidth": 0,
             "ticks": ""
            },
            "type": "contourcarpet"
           }
          ],
          "heatmap": [
           {
            "colorbar": {
             "outlinewidth": 0,
             "ticks": ""
            },
            "colorscale": [
             [
              0,
              "#0d0887"
             ],
             [
              0.1111111111111111,
              "#46039f"
             ],
             [
              0.2222222222222222,
              "#7201a8"
             ],
             [
              0.3333333333333333,
              "#9c179e"
             ],
             [
              0.4444444444444444,
              "#bd3786"
             ],
             [
              0.5555555555555556,
              "#d8576b"
             ],
             [
              0.6666666666666666,
              "#ed7953"
             ],
             [
              0.7777777777777778,
              "#fb9f3a"
             ],
             [
              0.8888888888888888,
              "#fdca26"
             ],
             [
              1,
              "#f0f921"
             ]
            ],
            "type": "heatmap"
           }
          ],
          "heatmapgl": [
           {
            "colorbar": {
             "outlinewidth": 0,
             "ticks": ""
            },
            "colorscale": [
             [
              0,
              "#0d0887"
             ],
             [
              0.1111111111111111,
              "#46039f"
             ],
             [
              0.2222222222222222,
              "#7201a8"
             ],
             [
              0.3333333333333333,
              "#9c179e"
             ],
             [
              0.4444444444444444,
              "#bd3786"
             ],
             [
              0.5555555555555556,
              "#d8576b"
             ],
             [
              0.6666666666666666,
              "#ed7953"
             ],
             [
              0.7777777777777778,
              "#fb9f3a"
             ],
             [
              0.8888888888888888,
              "#fdca26"
             ],
             [
              1,
              "#f0f921"
             ]
            ],
            "type": "heatmapgl"
           }
          ],
          "histogram": [
           {
            "marker": {
             "pattern": {
              "fillmode": "overlay",
              "size": 10,
              "solidity": 0.2
             }
            },
            "type": "histogram"
           }
          ],
          "histogram2d": [
           {
            "colorbar": {
             "outlinewidth": 0,
             "ticks": ""
            },
            "colorscale": [
             [
              0,
              "#0d0887"
             ],
             [
              0.1111111111111111,
              "#46039f"
             ],
             [
              0.2222222222222222,
              "#7201a8"
             ],
             [
              0.3333333333333333,
              "#9c179e"
             ],
             [
              0.4444444444444444,
              "#bd3786"
             ],
             [
              0.5555555555555556,
              "#d8576b"
             ],
             [
              0.6666666666666666,
              "#ed7953"
             ],
             [
              0.7777777777777778,
              "#fb9f3a"
             ],
             [
              0.8888888888888888,
              "#fdca26"
             ],
             [
              1,
              "#f0f921"
             ]
            ],
            "type": "histogram2d"
           }
          ],
          "histogram2dcontour": [
           {
            "colorbar": {
             "outlinewidth": 0,
             "ticks": ""
            },
            "colorscale": [
             [
              0,
              "#0d0887"
             ],
             [
              0.1111111111111111,
              "#46039f"
             ],
             [
              0.2222222222222222,
              "#7201a8"
             ],
             [
              0.3333333333333333,
              "#9c179e"
             ],
             [
              0.4444444444444444,
              "#bd3786"
             ],
             [
              0.5555555555555556,
              "#d8576b"
             ],
             [
              0.6666666666666666,
              "#ed7953"
             ],
             [
              0.7777777777777778,
              "#fb9f3a"
             ],
             [
              0.8888888888888888,
              "#fdca26"
             ],
             [
              1,
              "#f0f921"
             ]
            ],
            "type": "histogram2dcontour"
           }
          ],
          "mesh3d": [
           {
            "colorbar": {
             "outlinewidth": 0,
             "ticks": ""
            },
            "type": "mesh3d"
           }
          ],
          "parcoords": [
           {
            "line": {
             "colorbar": {
              "outlinewidth": 0,
              "ticks": ""
             }
            },
            "type": "parcoords"
           }
          ],
          "pie": [
           {
            "automargin": true,
            "type": "pie"
           }
          ],
          "scatter": [
           {
            "fillpattern": {
             "fillmode": "overlay",
             "size": 10,
             "solidity": 0.2
            },
            "type": "scatter"
           }
          ],
          "scatter3d": [
           {
            "line": {
             "colorbar": {
              "outlinewidth": 0,
              "ticks": ""
             }
            },
            "marker": {
             "colorbar": {
              "outlinewidth": 0,
              "ticks": ""
             }
            },
            "type": "scatter3d"
           }
          ],
          "scattercarpet": [
           {
            "marker": {
             "colorbar": {
              "outlinewidth": 0,
              "ticks": ""
             }
            },
            "type": "scattercarpet"
           }
          ],
          "scattergeo": [
           {
            "marker": {
             "colorbar": {
              "outlinewidth": 0,
              "ticks": ""
             }
            },
            "type": "scattergeo"
           }
          ],
          "scattergl": [
           {
            "marker": {
             "colorbar": {
              "outlinewidth": 0,
              "ticks": ""
             }
            },
            "type": "scattergl"
           }
          ],
          "scattermapbox": [
           {
            "marker": {
             "colorbar": {
              "outlinewidth": 0,
              "ticks": ""
             }
            },
            "type": "scattermapbox"
           }
          ],
          "scatterpolar": [
           {
            "marker": {
             "colorbar": {
              "outlinewidth": 0,
              "ticks": ""
             }
            },
            "type": "scatterpolar"
           }
          ],
          "scatterpolargl": [
           {
            "marker": {
             "colorbar": {
              "outlinewidth": 0,
              "ticks": ""
             }
            },
            "type": "scatterpolargl"
           }
          ],
          "scatterternary": [
           {
            "marker": {
             "colorbar": {
              "outlinewidth": 0,
              "ticks": ""
             }
            },
            "type": "scatterternary"
           }
          ],
          "surface": [
           {
            "colorbar": {
             "outlinewidth": 0,
             "ticks": ""
            },
            "colorscale": [
             [
              0,
              "#0d0887"
             ],
             [
              0.1111111111111111,
              "#46039f"
             ],
             [
              0.2222222222222222,
              "#7201a8"
             ],
             [
              0.3333333333333333,
              "#9c179e"
             ],
             [
              0.4444444444444444,
              "#bd3786"
             ],
             [
              0.5555555555555556,
              "#d8576b"
             ],
             [
              0.6666666666666666,
              "#ed7953"
             ],
             [
              0.7777777777777778,
              "#fb9f3a"
             ],
             [
              0.8888888888888888,
              "#fdca26"
             ],
             [
              1,
              "#f0f921"
             ]
            ],
            "type": "surface"
           }
          ],
          "table": [
           {
            "cells": {
             "fill": {
              "color": "#EBF0F8"
             },
             "line": {
              "color": "white"
             }
            },
            "header": {
             "fill": {
              "color": "#C8D4E3"
             },
             "line": {
              "color": "white"
             }
            },
            "type": "table"
           }
          ]
         },
         "layout": {
          "annotationdefaults": {
           "arrowcolor": "#2a3f5f",
           "arrowhead": 0,
           "arrowwidth": 1
          },
          "autotypenumbers": "strict",
          "coloraxis": {
           "colorbar": {
            "outlinewidth": 0,
            "ticks": ""
           }
          },
          "colorscale": {
           "diverging": [
            [
             0,
             "#8e0152"
            ],
            [
             0.1,
             "#c51b7d"
            ],
            [
             0.2,
             "#de77ae"
            ],
            [
             0.3,
             "#f1b6da"
            ],
            [
             0.4,
             "#fde0ef"
            ],
            [
             0.5,
             "#f7f7f7"
            ],
            [
             0.6,
             "#e6f5d0"
            ],
            [
             0.7,
             "#b8e186"
            ],
            [
             0.8,
             "#7fbc41"
            ],
            [
             0.9,
             "#4d9221"
            ],
            [
             1,
             "#276419"
            ]
           ],
           "sequential": [
            [
             0,
             "#0d0887"
            ],
            [
             0.1111111111111111,
             "#46039f"
            ],
            [
             0.2222222222222222,
             "#7201a8"
            ],
            [
             0.3333333333333333,
             "#9c179e"
            ],
            [
             0.4444444444444444,
             "#bd3786"
            ],
            [
             0.5555555555555556,
             "#d8576b"
            ],
            [
             0.6666666666666666,
             "#ed7953"
            ],
            [
             0.7777777777777778,
             "#fb9f3a"
            ],
            [
             0.8888888888888888,
             "#fdca26"
            ],
            [
             1,
             "#f0f921"
            ]
           ],
           "sequentialminus": [
            [
             0,
             "#0d0887"
            ],
            [
             0.1111111111111111,
             "#46039f"
            ],
            [
             0.2222222222222222,
             "#7201a8"
            ],
            [
             0.3333333333333333,
             "#9c179e"
            ],
            [
             0.4444444444444444,
             "#bd3786"
            ],
            [
             0.5555555555555556,
             "#d8576b"
            ],
            [
             0.6666666666666666,
             "#ed7953"
            ],
            [
             0.7777777777777778,
             "#fb9f3a"
            ],
            [
             0.8888888888888888,
             "#fdca26"
            ],
            [
             1,
             "#f0f921"
            ]
           ]
          },
          "colorway": [
           "#636efa",
           "#EF553B",
           "#00cc96",
           "#ab63fa",
           "#FFA15A",
           "#19d3f3",
           "#FF6692",
           "#B6E880",
           "#FF97FF",
           "#FECB52"
          ],
          "font": {
           "color": "#2a3f5f"
          },
          "geo": {
           "bgcolor": "white",
           "lakecolor": "white",
           "landcolor": "#E5ECF6",
           "showlakes": true,
           "showland": true,
           "subunitcolor": "white"
          },
          "hoverlabel": {
           "align": "left"
          },
          "hovermode": "closest",
          "mapbox": {
           "style": "light"
          },
          "paper_bgcolor": "white",
          "plot_bgcolor": "#E5ECF6",
          "polar": {
           "angularaxis": {
            "gridcolor": "white",
            "linecolor": "white",
            "ticks": ""
           },
           "bgcolor": "#E5ECF6",
           "radialaxis": {
            "gridcolor": "white",
            "linecolor": "white",
            "ticks": ""
           }
          },
          "scene": {
           "xaxis": {
            "backgroundcolor": "#E5ECF6",
            "gridcolor": "white",
            "gridwidth": 2,
            "linecolor": "white",
            "showbackground": true,
            "ticks": "",
            "zerolinecolor": "white"
           },
           "yaxis": {
            "backgroundcolor": "#E5ECF6",
            "gridcolor": "white",
            "gridwidth": 2,
            "linecolor": "white",
            "showbackground": true,
            "ticks": "",
            "zerolinecolor": "white"
           },
           "zaxis": {
            "backgroundcolor": "#E5ECF6",
            "gridcolor": "white",
            "gridwidth": 2,
            "linecolor": "white",
            "showbackground": true,
            "ticks": "",
            "zerolinecolor": "white"
           }
          },
          "shapedefaults": {
           "line": {
            "color": "#2a3f5f"
           }
          },
          "ternary": {
           "aaxis": {
            "gridcolor": "white",
            "linecolor": "white",
            "ticks": ""
           },
           "baxis": {
            "gridcolor": "white",
            "linecolor": "white",
            "ticks": ""
           },
           "bgcolor": "#E5ECF6",
           "caxis": {
            "gridcolor": "white",
            "linecolor": "white",
            "ticks": ""
           }
          },
          "title": {
           "x": 0.05
          },
          "xaxis": {
           "automargin": true,
           "gridcolor": "white",
           "linecolor": "white",
           "ticks": "",
           "title": {
            "standoff": 15
           },
           "zerolinecolor": "white",
           "zerolinewidth": 2
          },
          "yaxis": {
           "automargin": true,
           "gridcolor": "white",
           "linecolor": "white",
           "ticks": "",
           "title": {
            "standoff": 15
           },
           "zerolinecolor": "white",
           "zerolinewidth": 2
          }
         }
        },
        "title": {
         "text": "Topic Distribution of Documents (PCA-reduced)"
        },
        "width": 1000,
        "xaxis": {
         "autorange": true,
         "range": [
          -0.6662709910457325,
          0.9284653521302156
         ],
         "title": {
          "text": "Principal Component 1"
         },
         "type": "linear"
        },
        "yaxis": {
         "autorange": true,
         "range": [
          -0.288214198622771,
          1.1539234319396752
         ],
         "title": {
          "text": "Principal Component 2"
         },
         "type": "linear"
        }
       }
      },
      "image/png": "[encoded data removed]",
      "text/html": [
       "<div>                            <div id=\"967e6bb0-bf9b-4be4-9f73-4b09bbfefba0\" class=\"plotly-graph-div\" style=\"height:600px; width:1000px;\"></div>            <script type=\"text/javascript\">                require([\"plotly\"], function(Plotly) {                    window.PLOTLYENV=window.PLOTLYENV || {};                                    if (document.getElementById(\"967e6bb0-bf9b-4be4-9f73-4b09bbfefba0\")) {                    Plotly.newPlot(                        \"967e6bb0-bf9b-4be4-9f73-4b09bbfefba0\",                        [{\"marker\":{\"color\":\"blue\",\"size\":10},\"mode\":\"markers+text\",\"text\":[\"STAT 123 \",\"STAT 364 \",\"STAT 216 \",\"BIOSTAT 281_BST 281 \",\"STAT 114 \",\"BIOSTAT 232_BST 232 \",\"BIOSTAT 258_BST 258 \",\"STAT 149 \",\"BIOSTAT 230 \",\"STAT 185 \",\"STAT 213 \",\"STAT 104 \",\"STAT 303HFB \",\"STAT 220 \",\"STAT 248 \",\"STAT 141 \",\"STAT 236 \",\"STAT 303HFA \",\"STAT 221 \",\"BIOSTAT 249_BST 249 \",\"STAT 143 \",\"STAT 161 \",\"STAT 131 \",\"STAT 317 \",\"STAT 160_STAT 260 \",\"STAT 140 \",\"STAT 139 \",\"STAT 293_STAT 393_STAT 397 \",\"STAT 212 \",\"BIOSTAT 233_BST 233 \",\"BIOSTAT 244_BST 244 \",\"STAT 102 \",\"STAT 171 \",\"BIOSTAT 234_BST 234 \",\"STAT 111 \",\"STAT 195 \",\"BIOSTAT 282_BST 282_STAT 115_STAT 215 \",\"STAT 234 \",\"STAT 117 \",\"STAT 388R \",\"BIOSTAT 241_BST 241 \",\"STAT 211 \",\"BIOSTAT 283_BST 283 \",\"STAT 291 \",\"BIOSTAT 267_BST 267 \",\"STAT 186 \",\"STAT 188 \",\"STAT 107 \",\"STAT 108 \",\"STAT 217 \",\"STAT 98 \",\"STAT 288 \",\"STAT 99R \",\"STAT 286 \",\"STAT 100 \",\"BIOSTAT 290_BST 290 \",\"STAT 109 \",\"BIOSTAT 245_BST 245 \",\"STAT 315 \"],\"textposition\":\"top center\",\"x\":[0.19116727808600573,0.3169919192789907,-0.570231872894946,0.8366962261880795,0.8366168482492282,-0.5746183545583763,0.15371779540600256,-0.25645890733947563,-0.3130204093434902,-0.06078762339006615,-0.5730618600173284,-0.5736278862375402,0.19132048363062276,-0.5739980164426903,-0.5736404845473236,0.10585644379926243,-0.5733149362180945,0.1913713916385408,0.14671885319229075,-0.5703735016297145,0.7608935466339458,-0.5700259345950849,-0.5736151865634391,0.26109694585720417,-0.27078995119339855,-0.5028813179478223,-0.5736776283860946,-0.3542840212378346,-0.01738034445512631,-0.5726754447810221,-0.5727593516829093,0.692947925317749,-0.2443810826555268,-0.5746685760954474,-0.5146008744956693,0.2546851321049703,0.6704192238046578,0.8315928795107053,0.3408552364300152,-0.40191046108032785,-0.5743220465280457,-0.3609857610864087,0.8357314023318224,-0.572365100634078,0.8367014754489956,0.10997648969212373,0.7311561816555585,0.8364473683489233,0.8348751760582406,-0.16209423538902704,0.835780086286339,0.8368629371799305,0.19089925833140353,0.19123092588268636,-0.5745708828710161,0.8355977426554041,-0.5744158079489451,-0.05452661912256258,-0.028142691630867436],\"y\":[1.056852982309733,-0.1669148335167414,-0.12306694936576147,-0.1945360310341572,-0.19448395675840952,-0.12544056062871248,0.30349283730034576,0.35995277186102315,0.028660127489888013,0.05890563853142743,-0.12459574244750712,-0.12490416978095838,1.0594390542665113,-0.12510247101044691,-0.12491140428549725,-0.07061122945765601,-0.12473626039266889,1.0603561690043737,-0.1599492365755031,-0.12314616589404644,-0.1397395809186753,-0.12294536113078033,-0.12489692121926076,-0.1660421391768074,-0.13569728883766355,-0.08323400268635246,-0.12493057011615376,0.004248185698873659,-0.056082076769299646,-0.12438970222148592,-0.12443618386296235,-0.18752241019734905,0.06918309299738587,-0.12546803900642534,-0.09010312473144257,-0.16558360754367457,-0.18630831212342708,-0.19113857549799357,-0.169972805096913,-0.023879904646574482,-0.1252804639666439,0.20445067136216777,-0.19389321337101945,-0.12421701730761506,-0.1945397756552986,-0.11649933137421299,-0.11759540699727494,-0.1943707715768571,-0.19332103759736852,-0.14400587405245827,-0.1939200842425177,-0.19464693568746938,1.0515833914523738,1.0578167306223765,-0.12541460614349037,-0.19380273662993674,-0.125330578739618,-0.14999060604167902,0.19665640341829138],\"type\":\"scatter\"}],                        {\"template\":{\"data\":{\"histogram2dcontour\":[{\"type\":\"histogram2dcontour\",\"colorbar\":{\"outlinewidth\":0,\"ticks\":\"\"},\"colorscale\":[[0.0,\"#0d0887\"],[0.1111111111111111,\"#46039f\"],[0.2222222222222222,\"#7201a8\"],[0.3333333333333333,\"#9c179e\"],[0.4444444444444444,\"#bd3786\"],[0.5555555555555556,\"#d8576b\"],[0.6666666666666666,\"#ed7953\"],[0.7777777777777778,\"#fb9f3a\"],[0.8888888888888888,\"#fdca26\"],[1.0,\"#f0f921\"]]}],\"choropleth\":[{\"type\":\"choropleth\",\"colorbar\":{\"outlinewidth\":0,\"ticks\":\"\"}}],\"histogram2d\":[{\"type\":\"histogram2d\",\"colorbar\":{\"outlinewidth\":0,\"ticks\":\"\"},\"colorscale\":[[0.0,\"#0d0887\"],[0.1111111111111111,\"#46039f\"],[0.2222222222222222,\"#7201a8\"],[0.3333333333333333,\"#9c179e\"],[0.4444444444444444,\"#bd3786\"],[0.5555555555555556,\"#d8576b\"],[0.6666666666666666,\"#ed7953\"],[0.7777777777777778,\"#fb9f3a\"],[0.8888888888888888,\"#fdca26\"],[1.0,\"#f0f921\"]]}],\"heatmap\":[{\"type\":\"heatmap\",\"colorbar\":{\"outlinewidth\":0,\"ticks\":\"\"},\"colorscale\":[[0.0,\"#0d0887\"],[0.1111111111111111,\"#46039f\"],[0.2222222222222222,\"#7201a8\"],[0.3333333333333333,\"#9c179e\"],[0.4444444444444444,\"#bd3786\"],[0.5555555555555556,\"#d8576b\"],[0.6666666666666666,\"#ed7953\"],[0.7777777777777778,\"#fb9f3a\"],[0.8888888888888888,\"#fdca26\"],[1.0,\"#f0f921\"]]}],\"heatmapgl\":[{\"type\":\"heatmapgl\",\"colorbar\":{\"outlinewidth\":0,\"ticks\":\"\"},\"colorscale\":[[0.0,\"#0d0887\"],[0.1111111111111111,\"#46039f\"],[0.2222222222222222,\"#7201a8\"],[0.3333333333333333,\"#9c179e\"],[0.4444444444444444,\"#bd3786\"],[0.5555555555555556,\"#d8576b\"],[0.6666666666666666,\"#ed7953\"],[0.7777777777777778,\"#fb9f3a\"],[0.8888888888888888,\"#fdca26\"],[1.0,\"#f0f921\"]]}],\"contourcarpet\":[{\"type\":\"contourcarpet\",\"colorbar\":{\"outlinewidth\":0,\"ticks\":\"\"}}],\"contour\":[{\"type\":\"contour\",\"colorbar\":{\"outlinewidth\":0,\"ticks\":\"\"},\"colorscale\":[[0.0,\"#0d0887\"],[0.1111111111111111,\"#46039f\"],[0.2222222222222222,\"#7201a8\"],[0.3333333333333333,\"#9c179e\"],[0.4444444444444444,\"#bd3786\"],[0.5555555555555556,\"#d8576b\"],[0.6666666666666666,\"#ed7953\"],[0.7777777777777778,\"#fb9f3a\"],[0.8888888888888888,\"#fdca26\"],[1.0,\"#f0f921\"]]}],\"surface\":[{\"type\":\"surface\",\"colorbar\":{\"outlinewidth\":0,\"ticks\":\"\"},\"colorscale\":[[0.0,\"#0d0887\"],[0.1111111111111111,\"#46039f\"],[0.2222222222222222,\"#7201a8\"],[0.3333333333333333,\"#9c179e\"],[0.4444444444444444,\"#bd3786\"],[0.5555555555555556,\"#d8576b\"],[0.6666666666666666,\"#ed7953\"],[0.7777777777777778,\"#fb9f3a\"],[0.8888888888888888,\"#fdca26\"],[1.0,\"#f0f921\"]]}],\"mesh3d\":[{\"type\":\"mesh3d\",\"colorbar\":{\"outlinewidth\":0,\"ticks\":\"\"}}],\"scatter\":[{\"fillpattern\":{\"fillmode\":\"overlay\",\"size\":10,\"solidity\":0.2},\"type\":\"scatter\"}],\"parcoords\":[{\"type\":\"parcoords\",\"line\":{\"colorbar\":{\"outlinewidth\":0,\"ticks\":\"\"}}}],\"scatterpolargl\":[{\"type\":\"scatterpolargl\",\"marker\":{\"colorbar\":{\"outlinewidth\":0,\"ticks\":\"\"}}}],\"bar\":[{\"error_x\":{\"color\":\"#2a3f5f\"},\"error_y\":{\"color\":\"#2a3f5f\"},\"marker\":{\"line\":{\"color\":\"#E5ECF6\",\"width\":0.5},\"pattern\":{\"fillmode\":\"overlay\",\"size\":10,\"solidity\":0.2}},\"type\":\"bar\"}],\"scattergeo\":[{\"type\":\"scattergeo\",\"marker\":{\"colorbar\":{\"outlinewidth\":0,\"ticks\":\"\"}}}],\"scatterpolar\":[{\"type\":\"scatterpolar\",\"marker\":{\"colorbar\":{\"outlinewidth\":0,\"ticks\":\"\"}}}],\"histogram\":[{\"marker\":{\"pattern\":{\"fillmode\":\"overlay\",\"size\":10,\"solidity\":0.2}},\"type\":\"histogram\"}],\"scattergl\":[{\"type\":\"scattergl\",\"marker\":{\"colorbar\":{\"outlinewidth\":0,\"ticks\":\"\"}}}],\"scatter3d\":[{\"type\":\"scatter3d\",\"line\":{\"colorbar\":{\"outlinewidth\":0,\"ticks\":\"\"}},\"marker\":{\"colorbar\":{\"outlinewidth\":0,\"ticks\":\"\"}}}],\"scattermapbox\":[{\"type\":\"scattermapbox\",\"marker\":{\"colorbar\":{\"outlinewidth\":0,\"ticks\":\"\"}}}],\"scatterternary\":[{\"type\":\"scatterternary\",\"marker\":{\"colorbar\":{\"outlinewidth\":0,\"ticks\":\"\"}}}],\"scattercarpet\":[{\"type\":\"scattercarpet\",\"marker\":{\"colorbar\":{\"outlinewidth\":0,\"ticks\":\"\"}}}],\"carpet\":[{\"aaxis\":{\"endlinecolor\":\"#2a3f5f\",\"gridcolor\":\"white\",\"linecolor\":\"white\",\"minorgridcolor\":\"white\",\"startlinecolor\":\"#2a3f5f\"},\"baxis\":{\"endlinecolor\":\"#2a3f5f\",\"gridcolor\":\"white\",\"linecolor\":\"white\",\"minorgridcolor\":\"white\",\"startlinecolor\":\"#2a3f5f\"},\"type\":\"carpet\"}],\"table\":[{\"cells\":{\"fill\":{\"color\":\"#EBF0F8\"},\"line\":{\"color\":\"white\"}},\"header\":{\"fill\":{\"color\":\"#C8D4E3\"},\"line\":{\"color\":\"white\"}},\"type\":\"table\"}],\"barpolar\":[{\"marker\":{\"line\":{\"color\":\"#E5ECF6\",\"width\":0.5},\"pattern\":{\"fillmode\":\"overlay\",\"size\":10,\"solidity\":0.2}},\"type\":\"barpolar\"}],\"pie\":[{\"automargin\":true,\"type\":\"pie\"}]},\"layout\":{\"autotypenumbers\":\"strict\",\"colorway\":[\"#636efa\",\"#EF553B\",\"#00cc96\",\"#ab63fa\",\"#FFA15A\",\"#19d3f3\",\"#FF6692\",\"#B6E880\",\"#FF97FF\",\"#FECB52\"],\"font\":{\"color\":\"#2a3f5f\"},\"hovermode\":\"closest\",\"hoverlabel\":{\"align\":\"left\"},\"paper_bgcolor\":\"white\",\"plot_bgcolor\":\"#E5ECF6\",\"polar\":{\"bgcolor\":\"#E5ECF6\",\"angularaxis\":{\"gridcolor\":\"white\",\"linecolor\":\"white\",\"ticks\":\"\"},\"radialaxis\":{\"gridcolor\":\"white\",\"linecolor\":\"white\",\"ticks\":\"\"}},\"ternary\":{\"bgcolor\":\"#E5ECF6\",\"aaxis\":{\"gridcolor\":\"white\",\"linecolor\":\"white\",\"ticks\":\"\"},\"baxis\":{\"gridcolor\":\"white\",\"linecolor\":\"white\",\"ticks\":\"\"},\"caxis\":{\"gridcolor\":\"white\",\"linecolor\":\"white\",\"ticks\":\"\"}},\"coloraxis\":{\"colorbar\":{\"outlinewidth\":0,\"ticks\":\"\"}},\"colorscale\":{\"sequential\":[[0.0,\"#0d0887\"],[0.1111111111111111,\"#46039f\"],[0.2222222222222222,\"#7201a8\"],[0.3333333333333333,\"#9c179e\"],[0.4444444444444444,\"#bd3786\"],[0.5555555555555556,\"#d8576b\"],[0.6666666666666666,\"#ed7953\"],[0.7777777777777778,\"#fb9f3a\"],[0.8888888888888888,\"#fdca26\"],[1.0,\"#f0f921\"]],\"sequentialminus\":[[0.0,\"#0d0887\"],[0.1111111111111111,\"#46039f\"],[0.2222222222222222,\"#7201a8\"],[0.3333333333333333,\"#9c179e\"],[0.4444444444444444,\"#bd3786\"],[0.5555555555555556,\"#d8576b\"],[0.6666666666666666,\"#ed7953\"],[0.7777777777777778,\"#fb9f3a\"],[0.8888888888888888,\"#fdca26\"],[1.0,\"#f0f921\"]],\"diverging\":[[0,\"#8e0152\"],[0.1,\"#c51b7d\"],[0.2,\"#de77ae\"],[0.3,\"#f1b6da\"],[0.4,\"#fde0ef\"],[0.5,\"#f7f7f7\"],[0.6,\"#e6f5d0\"],[0.7,\"#b8e186\"],[0.8,\"#7fbc41\"],[0.9,\"#4d9221\"],[1,\"#276419\"]]},\"xaxis\":{\"gridcolor\":\"white\",\"linecolor\":\"white\",\"ticks\":\"\",\"title\":{\"standoff\":15},\"zerolinecolor\":\"white\",\"automargin\":true,\"zerolinewidth\":2},\"yaxis\":{\"gridcolor\":\"white\",\"linecolor\":\"white\",\"ticks\":\"\",\"title\":{\"standoff\":15},\"zerolinecolor\":\"white\",\"automargin\":true,\"zerolinewidth\":2},\"scene\":{\"xaxis\":{\"backgroundcolor\":\"#E5ECF6\",\"gridcolor\":\"white\",\"linecolor\":\"white\",\"showbackground\":true,\"ticks\":\"\",\"zerolinecolor\":\"white\",\"gridwidth\":2},\"yaxis\":{\"backgroundcolor\":\"#E5ECF6\",\"gridcolor\":\"white\",\"linecolor\":\"white\",\"showbackground\":true,\"ticks\":\"\",\"zerolinecolor\":\"white\",\"gridwidth\":2},\"zaxis\":{\"backgroundcolor\":\"#E5ECF6\",\"gridcolor\":\"white\",\"linecolor\":\"white\",\"showbackground\":true,\"ticks\":\"\",\"zerolinecolor\":\"white\",\"gridwidth\":2}},\"shapedefaults\":{\"line\":{\"color\":\"#2a3f5f\"}},\"annotationdefaults\":{\"arrowcolor\":\"#2a3f5f\",\"arrowhead\":0,\"arrowwidth\":1},\"geo\":{\"bgcolor\":\"white\",\"landcolor\":\"#E5ECF6\",\"subunitcolor\":\"white\",\"showland\":true,\"showlakes\":true,\"lakecolor\":\"white\"},\"title\":{\"x\":0.05},\"mapbox\":{\"style\":\"light\"}}},\"title\":{\"text\":\"Topic Distribution of Documents (PCA-reduced)\"},\"xaxis\":{\"title\":{\"text\":\"Principal Component 1\"}},\"yaxis\":{\"title\":{\"text\":\"Principal Component 2\"}},\"showlegend\":false,\"width\":1000,\"height\":600},                        {\"responsive\": true}                    ).then(function(){\n",
       "                            \n",
       "var gd = document.getElementById('967e6bb0-bf9b-4be4-9f73-4b09bbfefba0');\n",
       "var x = new MutationObserver(function (mutations, observer) {{\n",
       "        var display = window.getComputedStyle(gd).display;\n",
       "        if (!display || display === 'none') {{\n",
       "            console.log([gd, 'removed!']);\n",
       "            Plotly.purge(gd);\n",
       "            observer.disconnect();\n",
       "        }}\n",
       "}});\n",
       "\n",
       "// Listen for the removal of the full notebook cells\n",
       "var notebookContainer = gd.closest('#notebook-container');\n",
       "if (notebookContainer) {{\n",
       "    x.observe(notebookContainer, {childList: true});\n",
       "}}\n",
       "\n",
       "// Listen for the clearing of the current output cell\n",
       "var outputEl = gd.closest('.output');\n",
       "if (outputEl) {{\n",
       "    x.observe(outputEl, {childList: true});\n",
       "}}\n",
       "\n",
       "                        })                };                });            </script>        </div>"
      ]
     },
     "metadata": {},
     "output_type": "display_data"
    }
   ],
   "source": [
    "import plotly.graph_objects as go\n",
    "\n",
    "# Step 5: Create interactive scatter plot using Plotly\n",
    "fig = go.Figure()\n",
    "\n",
    "# Add scatter plot\n",
    "fig.add_trace(go.Scatter(\n",
    "    x=topic_distribution_2d[:, 0], \n",
    "    y=topic_distribution_2d[:, 1],\n",
    "    mode='markers+text',\n",
    "    text=df['filename'].str.split('-').str[0],\n",
    "    textposition='top center',\n",
    "    marker=dict(size=10, color='blue')\n",
    "))\n",
    "\n",
    "# Title and labels\n",
    "fig.update_layout(\n",
    "    title=\"Topic Distribution of Documents (PCA-reduced)\",\n",
    "    xaxis_title=\"Principal Component 1\",\n",
    "    yaxis_title=\"Principal Component 2\",\n",
    "    template=\"plotly\",\n",
    "    showlegend=False,\n",
    "    width=1000,  # Width of the plot (in pixels)\n",
    "    height=600   # Height of the plot (in pixels)\n",
    ")\n",
    "\n",
    "# Show plot\n",
    "fig.show()\n"
   ]
  },
  {
   "cell_type": "code",
   "execution_count": 111,
   "id": "35ebe253-68b6-4e01-96f3-2fca29c571dd",
   "metadata": {},
   "outputs": [
    {
     "data": {
      "text/plain": [
       "array(['STAT 161: Introduction to Nonparametric Methods'], dtype=object)"
      ]
     },
     "execution_count": 111,
     "metadata": {},
     "output_type": "execute_result"
    }
   ],
   "source": [
    "df[df['filename'].str.contains('STAT 161')]['Name'].values"
   ]
  },
  {
   "cell_type": "code",
   "execution_count": null,
   "id": "a26cacf7-542a-4a00-8ba5-a28c4b561b4e",
   "metadata": {},
   "outputs": [],
   "source": []
  }
 ],
 "metadata": {
  "kernelspec": {
   "display_name": "Python 3 (ipykernel)",
   "language": "python",
   "name": "python3"
  },
  "language_info": {
   "codemirror_mode": {
    "name": "ipython",
    "version": 3
   },
   "file_extension": ".py",
   "mimetype": "text/x-python",
   "name": "python",
   "nbconvert_exporter": "python",
   "pygments_lexer": "ipython3",
   "version": "3.12.4"
  }
 },
 "nbformat": 4,
 "nbformat_minor": 5
}
