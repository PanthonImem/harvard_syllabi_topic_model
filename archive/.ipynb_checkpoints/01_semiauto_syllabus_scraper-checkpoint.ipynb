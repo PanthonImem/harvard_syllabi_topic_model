{
 "cells": [
  {
   "cell_type": "code",
   "execution_count": 1,
   "id": "d4890d73-b591-4106-b2e4-0083deef9577",
   "metadata": {},
   "outputs": [],
   "source": [
    "from selenium import webdriver\n",
    "from selenium.webdriver.common.by import By\n",
    "from selenium.webdriver.support.wait import WebDriverWait\n",
    "from selenium.webdriver.support import expected_conditions as EC\n",
    "import time\n",
    "import re\n",
    "import os\n",
    "from bs4 import BeautifulSoup"
   ]
  },
  {
   "cell_type": "code",
   "execution_count": 2,
   "id": "eed4b616-5420-47f5-8a0c-8f620eb418d8",
   "metadata": {},
   "outputs": [],
   "source": [
    "DEPARTMENT_KEYWORD = 'STAT'"
   ]
  },
  {
   "cell_type": "code",
   "execution_count": 3,
   "id": "c3f8d049-bb15-45e2-9847-b18e434ae6ab",
   "metadata": {},
   "outputs": [
    {
     "data": {
      "text/plain": [
       "'/Users/mafuangimemkamon/Documents/GitHub/harvard_syllabi_topic_model/data/'"
      ]
     },
     "execution_count": 3,
     "metadata": {},
     "output_type": "execute_result"
    }
   ],
   "source": [
    "data_directory = os.getcwd()+'/data/'\n",
    "data_directory"
   ]
  },
  {
   "cell_type": "code",
   "execution_count": 4,
   "id": "13cff2b8-a93d-4842-9828-f52bdc702236",
   "metadata": {},
   "outputs": [],
   "source": [
    "chromeOptions = webdriver.ChromeOptions()\n",
    "prefs = {\"download.default_directory\" : data_directory}\n",
    "chromeOptions.add_experimental_option(\"prefs\",prefs)"
   ]
  },
  {
   "cell_type": "code",
   "execution_count": 5,
   "id": "c28896b0-afd2-4606-b884-5a251debb089",
   "metadata": {},
   "outputs": [],
   "source": [
    "driver = webdriver.Chrome(options=chromeOptions)\n",
    "driver.get(\"https://syllabus.harvard.edu/search/courses/?q={}\".format(DEPARTMENT_KEYWORD))"
   ]
  },
  {
   "cell_type": "code",
   "execution_count": 6,
   "id": "c74fc195-4169-4eef-b18c-5f8f53d88fcb",
   "metadata": {},
   "outputs": [],
   "source": [
    "def count_results(driver):\n",
    "    result_text = page_html = driver.page_source\n",
    "    match = re.search(r\"Loaded (\\d+) results\", result_text)\n",
    "    if match:\n",
    "        number_of_results = int(match.group(1))\n",
    "        return number_of_results\n",
    "    else:\n",
    "        return 0"
   ]
  },
  {
   "cell_type": "code",
   "execution_count": 7,
   "id": "f7a0f786-bda5-4b95-8344-9ebb738cb6b3",
   "metadata": {},
   "outputs": [],
   "source": [
    "# Click expand more button until can't click anymore\n",
    "num = 0\n",
    "new_num = count_results(driver)\n",
    "while new_num > num:\n",
    "    time.sleep(0.5)\n",
    "    try:\n",
    "        button = driver.find_element(\"css selector\", \"button.css-jrdf8z-view--inlineBlock-baseButton\")\n",
    "        button.click()\n",
    "    except:\n",
    "        pass\n",
    "    time.sleep(1)\n",
    "    num = new_num\n",
    "    new_num = count_results(driver)\n",
    "    print(new_num, num, end='\\r')"
   ]
  },
  {
   "cell_type": "code",
   "execution_count": 8,
   "id": "5a9a687d-8518-4848-9ad6-fd1859a5f167",
   "metadata": {},
   "outputs": [
    {
     "name": "stdout",
     "output_type": "stream",
     "text": [
      "0\n"
     ]
    }
   ],
   "source": [
    "html = driver.page_source\n",
    "soup = BeautifulSoup(html, 'html.parser')\n",
    "names = [i.text for i in soup.select('.css-32gbjx-text')][1:]\n",
    "ids = [i.get('id') for i in soup.find_all('tr')][1:]\n",
    "assert len(names) == len(ids)\n",
    "print(len(names))"
   ]
  },
  {
   "cell_type": "code",
   "execution_count": 9,
   "id": "4f5ad52e-43c9-47b9-899b-81e49b0f5c91",
   "metadata": {},
   "outputs": [],
   "source": [
    "for i,id in enumerate(ids):\n",
    "    print(names[i])\n",
    "    url = \"https://syllabus.harvard.edu/search/courses/?c={}&q={}\".format(id, DEPARTMENT_KEYWORD)\n",
    "    driver.get(url)\n",
    "    time.sleep(1.5)\n",
    "    try:\n",
    "        download_button = driver.find_element(\"css selector\", \"button#download-btn\")\n",
    "        download_button.click()\n",
    "    except:\n",
    "        pass\n",
    "    time.sleep(1.5)\n",
    "driver.quit()"
   ]
  },
  {
   "cell_type": "code",
   "execution_count": null,
   "id": "e9ccf90f-1a3a-4017-971d-e35d5fc41e87",
   "metadata": {},
   "outputs": [],
   "source": []
  },
  {
   "cell_type": "code",
   "execution_count": null,
   "id": "0dcf914b-6448-40e3-a97d-481a6f4adeee",
   "metadata": {},
   "outputs": [],
   "source": []
  },
  {
   "cell_type": "code",
   "execution_count": null,
   "id": "17ca1a0e-7003-4721-990c-443979a40192",
   "metadata": {},
   "outputs": [],
   "source": []
  },
  {
   "cell_type": "code",
   "execution_count": null,
   "id": "59c23fab-9735-4446-ba03-4fabeb975719",
   "metadata": {},
   "outputs": [],
   "source": []
  },
  {
   "cell_type": "code",
   "execution_count": null,
   "id": "a52fd193-830c-4e1e-8ef4-f9b5ae302b07",
   "metadata": {},
   "outputs": [],
   "source": []
  },
  {
   "cell_type": "code",
   "execution_count": null,
   "id": "805d678b-707d-46dd-a054-c8e01544dd46",
   "metadata": {},
   "outputs": [],
   "source": []
  },
  {
   "cell_type": "code",
   "execution_count": null,
   "id": "bfe61d39-59cd-43c9-a77c-98d734fb1c47",
   "metadata": {},
   "outputs": [],
   "source": []
  },
  {
   "cell_type": "code",
   "execution_count": null,
   "id": "37867935-3ef5-40ae-80b2-6ab2ba89d30e",
   "metadata": {},
   "outputs": [],
   "source": []
  },
  {
   "cell_type": "code",
   "execution_count": null,
   "id": "ee550607-e372-478d-ab8c-746bafe704e0",
   "metadata": {},
   "outputs": [],
   "source": []
  }
 ],
 "metadata": {
  "kernelspec": {
   "display_name": "Python 3 (ipykernel)",
   "language": "python",
   "name": "python3"
  },
  "language_info": {
   "codemirror_mode": {
    "name": "ipython",
    "version": 3
   },
   "file_extension": ".py",
   "mimetype": "text/x-python",
   "name": "python",
   "nbconvert_exporter": "python",
   "pygments_lexer": "ipython3",
   "version": "3.12.4"
  }
 },
 "nbformat": 4,
 "nbformat_minor": 5
}
