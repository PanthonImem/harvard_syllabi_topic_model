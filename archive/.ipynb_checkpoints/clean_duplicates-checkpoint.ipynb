{
 "cells": [
  {
   "cell_type": "code",
   "execution_count": null,
   "id": "2f801847-7898-4f4f-8aea-1f0fce33dca1",
   "metadata": {},
   "outputs": [
    {
     "name": "stdout",
     "output_type": "stream",
     "text": [
      "Removed duplicate: all_syllabi/APCOMP 209B_COMPSCI 109B_STAT 109B_STAT 121B - 2024 Spring (203547).pdf\n",
      "Removed duplicate: all_syllabi/PHYSICS 201 - 2023 Spring (161201) (1).pdf\n",
      "Removed duplicate: all_syllabi/APCOMP 209A_COMPSCI 1090A_COMPSCI 109A_STAT 109A_STAT 121A - 2024 Fall (203101) (1).pdf\n",
      "Removed duplicate: all_syllabi/APCOMP 295 - 2020 Fall (215121).pdf\n",
      "Removed duplicate: all_syllabi/APCOMP 227_APMTH 227 - 2019 Fall (207546) (1).pdf\n"
     ]
    }
   ],
   "source": [
    "import os\n",
    "import hashlib\n",
    "\n",
    "def hash_file(filepath):\n",
    "    \"\"\"Generate SHA-256 hash for the file content.\"\"\"\n",
    "    hasher = hashlib.sha256()\n",
    "    with open(filepath, 'rb') as f:\n",
    "        for chunk in iter(lambda: f.read(4096), b\"\"):\n",
    "            hasher.update(chunk)\n",
    "    return hasher.hexdigest()\n",
    "\n",
    "def remove_duplicate_pdfs(directory):\n",
    "    \"\"\"Remove duplicate PDF files in the specified directory.\"\"\"\n",
    "    seen_hashes = {}\n",
    "    removed_files = []\n",
    "\n",
    "    for root, _, files in os.walk(directory):\n",
    "        for file in files:\n",
    "            if file.lower().endswith('.pdf'):  # Only consider PDF files\n",
    "                filepath = os.path.join(root, file)\n",
    "                file_hash = hash_file(filepath)\n",
    "\n",
    "                if file_hash in seen_hashes:\n",
    "                    # If duplicate is found, remove the file\n",
    "                    os.remove(filepath)\n",
    "                    removed_files.append(filepath)\n",
    "                    print(f\"Removed duplicate: {filepath}\")\n",
    "                else:\n",
    "                    # Otherwise, store the hash\n",
    "                    seen_hashes[file_hash] = filepath\n",
    "\n",
    "    if not removed_files:\n",
    "        print(\"No duplicates found.\")\n",
    "    else:\n",
    "        print(f\"Removed {len(removed_files)} duplicate files.\")\n",
    "\n",
    "# Usage:\n",
    "directory = \"all_syllabi/\"\n",
    "remove_duplicate_pdfs(directory)\n"
   ]
  },
  {
   "cell_type": "code",
   "execution_count": null,
   "id": "c6803324-0007-44bc-b5a8-e7a9d5984a76",
   "metadata": {},
   "outputs": [],
   "source": []
  }
 ],
 "metadata": {
  "kernelspec": {
   "display_name": "Python 3 (ipykernel)",
   "language": "python",
   "name": "python3"
  },
  "language_info": {
   "codemirror_mode": {
    "name": "ipython",
    "version": 3
   },
   "file_extension": ".py",
   "mimetype": "text/x-python",
   "name": "python",
   "nbconvert_exporter": "python",
   "pygments_lexer": "ipython3",
   "version": "3.12.4"
  }
 },
 "nbformat": 4,
 "nbformat_minor": 5
}
